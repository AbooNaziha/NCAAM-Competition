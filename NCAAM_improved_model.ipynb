{
 "metadata": {
  "language_info": {
   "codemirror_mode": {
    "name": "ipython",
    "version": 3
   },
   "file_extension": ".py",
   "mimetype": "text/x-python",
   "name": "python",
   "nbconvert_exporter": "python",
   "pygments_lexer": "ipython3",
   "version": "3.7.7-final"
  },
  "orig_nbformat": 2,
  "kernelspec": {
   "name": "python3",
   "display_name": "Python 3.7.7 64-bit ('tf': conda)",
   "metadata": {
    "interpreter": {
     "hash": "1b4bd66619e1f63a2810c0f91c748d47860e139f5a175a9a480ebd9d4456bd5e"
    }
   }
  }
 },
 "nbformat": 4,
 "nbformat_minor": 2,
 "cells": [
  {
   "cell_type": "code",
   "execution_count": 24,
   "metadata": {},
   "outputs": [],
   "source": [
    "import os\n",
    "import re\n",
    "import sklearn\n",
    "import numpy as np \n",
    "import pandas as pd\n",
    "import seaborn as sns\n",
    "import matplotlib.pyplot as plt\n",
    "\n",
    "from collections import Counter\n",
    "from sklearn.metrics import *\n",
    "from sklearn.linear_model import *\n",
    "from sklearn.model_selection import *\n",
    "\n",
    "pd.set_option('display.max_columns', None)"
   ]
  },
  {
   "cell_type": "code",
   "execution_count": 25,
   "metadata": {},
   "outputs": [
    {
     "output_type": "stream",
     "name": "stdout",
     "text": [
      "Cities.csv\nConferences.csv\nMConferenceTourneyGames.csv\nMGameCities.csv\nMMasseyOrdinals.csv\nMNCAATourneyCompactResults.csv\nMNCAATourneyDetailedResults.csv\nMNCAATourneySeedRoundSlots.csv\nMNCAATourneySeeds.csv\nMNCAATourneySlots.csv\nMRegularSeasonCompactResults.csv\nMRegularSeasonDetailedResults.csv\nMSampleSubmissionStage1.csv\nMSeasons.csv\nMSecondaryTourneyCompactResults.csv\nMSecondaryTourneyTeams.csv\nMTeamCoaches.csv\nMTeamConferences.csv\nMTeams.csv\nMTeamSpellings.csv\n"
     ]
    }
   ],
   "source": [
    "DATA_PATH_M = 'C:/Users/FLUXNATURE/Desktop/New Kaggle world/NCAAM/'\n",
    "\n",
    "for filename in os.listdir(DATA_PATH_M):\n",
    "    print(filename)"
   ]
  },
  {
   "cell_type": "code",
   "execution_count": 26,
   "metadata": {},
   "outputs": [],
   "source": [
    "season_df = pd.read_csv(DATA_PATH_M +'MRegularSeasonCompactResults.csv')\n",
    "tourney_df = pd.read_csv(DATA_PATH_M +'MNCAATourneyCompactResults.csv')\n",
    "ordinals_df = pd.read_csv(DATA_PATH_M +'MMasseyOrdinals.csv').rename(columns={'RankingDayNum':'DayNum'})"
   ]
  },
  {
   "cell_type": "code",
   "execution_count": 27,
   "metadata": {},
   "outputs": [
    {
     "output_type": "execute_result",
     "data": {
      "text/plain": [
       "   Season  DayNum  WTeamID  WScore  LTeamID  LScore WLoc  NumOT\n",
       "0    1985      20     1228      81     1328      64    N      0\n",
       "1    1985      25     1106      77     1354      70    H      0\n",
       "2    1985      25     1112      63     1223      56    H      0"
      ],
      "text/html": "<div>\n<style scoped>\n    .dataframe tbody tr th:only-of-type {\n        vertical-align: middle;\n    }\n\n    .dataframe tbody tr th {\n        vertical-align: top;\n    }\n\n    .dataframe thead th {\n        text-align: right;\n    }\n</style>\n<table border=\"1\" class=\"dataframe\">\n  <thead>\n    <tr style=\"text-align: right;\">\n      <th></th>\n      <th>Season</th>\n      <th>DayNum</th>\n      <th>WTeamID</th>\n      <th>WScore</th>\n      <th>LTeamID</th>\n      <th>LScore</th>\n      <th>WLoc</th>\n      <th>NumOT</th>\n    </tr>\n  </thead>\n  <tbody>\n    <tr>\n      <th>0</th>\n      <td>1985</td>\n      <td>20</td>\n      <td>1228</td>\n      <td>81</td>\n      <td>1328</td>\n      <td>64</td>\n      <td>N</td>\n      <td>0</td>\n    </tr>\n    <tr>\n      <th>1</th>\n      <td>1985</td>\n      <td>25</td>\n      <td>1106</td>\n      <td>77</td>\n      <td>1354</td>\n      <td>70</td>\n      <td>H</td>\n      <td>0</td>\n    </tr>\n    <tr>\n      <th>2</th>\n      <td>1985</td>\n      <td>25</td>\n      <td>1112</td>\n      <td>63</td>\n      <td>1223</td>\n      <td>56</td>\n      <td>H</td>\n      <td>0</td>\n    </tr>\n  </tbody>\n</table>\n</div>"
     },
     "metadata": {},
     "execution_count": 27
    }
   ],
   "source": [
    "season_df.head(3)"
   ]
  },
  {
   "cell_type": "code",
   "execution_count": 28,
   "metadata": {},
   "outputs": [
    {
     "output_type": "execute_result",
     "data": {
      "text/plain": [
       "   Season  DayNum  WTeamID  WScore  LTeamID  LScore WLoc  NumOT\n",
       "0    1985     136     1116      63     1234      54    N      0\n",
       "1    1985     136     1120      59     1345      58    N      0\n",
       "2    1985     136     1207      68     1250      43    N      0"
      ],
      "text/html": "<div>\n<style scoped>\n    .dataframe tbody tr th:only-of-type {\n        vertical-align: middle;\n    }\n\n    .dataframe tbody tr th {\n        vertical-align: top;\n    }\n\n    .dataframe thead th {\n        text-align: right;\n    }\n</style>\n<table border=\"1\" class=\"dataframe\">\n  <thead>\n    <tr style=\"text-align: right;\">\n      <th></th>\n      <th>Season</th>\n      <th>DayNum</th>\n      <th>WTeamID</th>\n      <th>WScore</th>\n      <th>LTeamID</th>\n      <th>LScore</th>\n      <th>WLoc</th>\n      <th>NumOT</th>\n    </tr>\n  </thead>\n  <tbody>\n    <tr>\n      <th>0</th>\n      <td>1985</td>\n      <td>136</td>\n      <td>1116</td>\n      <td>63</td>\n      <td>1234</td>\n      <td>54</td>\n      <td>N</td>\n      <td>0</td>\n    </tr>\n    <tr>\n      <th>1</th>\n      <td>1985</td>\n      <td>136</td>\n      <td>1120</td>\n      <td>59</td>\n      <td>1345</td>\n      <td>58</td>\n      <td>N</td>\n      <td>0</td>\n    </tr>\n    <tr>\n      <th>2</th>\n      <td>1985</td>\n      <td>136</td>\n      <td>1207</td>\n      <td>68</td>\n      <td>1250</td>\n      <td>43</td>\n      <td>N</td>\n      <td>0</td>\n    </tr>\n  </tbody>\n</table>\n</div>"
     },
     "metadata": {},
     "execution_count": 28
    }
   ],
   "source": [
    "tourney_df.head(3)"
   ]
  },
  {
   "cell_type": "code",
   "execution_count": 29,
   "metadata": {},
   "outputs": [],
   "source": [
    "ordinals_df.head(3)"
   ]
  },
  {
   "cell_type": "code",
   "execution_count": 30,
   "metadata": {},
   "outputs": [],
   "source": [
    "# Get the last available data from each system previous to the tournament\n",
    "ordinals_df = ordinals_df.groupby(['SystemName','Season','TeamID']).last().reset_index()"
   ]
  },
  {
   "cell_type": "code",
   "execution_count": 31,
   "metadata": {},
   "outputs": [
    {
     "output_type": "execute_result",
     "data": {
      "text/plain": [
       "   Season  DayNum_x  WTeamID  WScore  LTeamID  LScore WLoc  NumOT SystemName  \\\n",
       "0    2003       134     1421      92     1411      84    N      1        ARG   \n",
       "1    2003       134     1421      92     1411      84    N      1        BIH   \n",
       "2    2003       134     1421      92     1411      84    N      1        BOB   \n",
       "\n",
       "   TeamID  DayNum_y  OrdinalRank  \n",
       "0    1421       133          255  \n",
       "1    1421       133          247  \n",
       "2    1421       133          236  "
      ],
      "text/html": "<div>\n<style scoped>\n    .dataframe tbody tr th:only-of-type {\n        vertical-align: middle;\n    }\n\n    .dataframe tbody tr th {\n        vertical-align: top;\n    }\n\n    .dataframe thead th {\n        text-align: right;\n    }\n</style>\n<table border=\"1\" class=\"dataframe\">\n  <thead>\n    <tr style=\"text-align: right;\">\n      <th></th>\n      <th>Season</th>\n      <th>DayNum_x</th>\n      <th>WTeamID</th>\n      <th>WScore</th>\n      <th>LTeamID</th>\n      <th>LScore</th>\n      <th>WLoc</th>\n      <th>NumOT</th>\n      <th>SystemName</th>\n      <th>TeamID</th>\n      <th>DayNum_y</th>\n      <th>OrdinalRank</th>\n    </tr>\n  </thead>\n  <tbody>\n    <tr>\n      <th>0</th>\n      <td>2003</td>\n      <td>134</td>\n      <td>1421</td>\n      <td>92</td>\n      <td>1411</td>\n      <td>84</td>\n      <td>N</td>\n      <td>1</td>\n      <td>ARG</td>\n      <td>1421</td>\n      <td>133</td>\n      <td>255</td>\n    </tr>\n    <tr>\n      <th>1</th>\n      <td>2003</td>\n      <td>134</td>\n      <td>1421</td>\n      <td>92</td>\n      <td>1411</td>\n      <td>84</td>\n      <td>N</td>\n      <td>1</td>\n      <td>BIH</td>\n      <td>1421</td>\n      <td>133</td>\n      <td>247</td>\n    </tr>\n    <tr>\n      <th>2</th>\n      <td>2003</td>\n      <td>134</td>\n      <td>1421</td>\n      <td>92</td>\n      <td>1411</td>\n      <td>84</td>\n      <td>N</td>\n      <td>1</td>\n      <td>BOB</td>\n      <td>1421</td>\n      <td>133</td>\n      <td>236</td>\n    </tr>\n  </tbody>\n</table>\n</div>"
     },
     "metadata": {},
     "execution_count": 31
    }
   ],
   "source": [
    "# Add winner's ordinals\n",
    "games_df = tourney_df.merge(ordinals_df,left_on=['Season','WTeamID'],\n",
    "                          right_on=['Season','TeamID'])"
   ]
  },
  {
   "cell_type": "code",
   "execution_count": 32,
   "metadata": {},
   "outputs": [],
   "source": [
    "games_df.head(3)"
   ]
  },
  {
   "cell_type": "code",
   "execution_count": 33,
   "metadata": {},
   "outputs": [
    {
     "output_type": "execute_result",
     "data": {
      "text/plain": [
       "   Season  DayNum_x  WTeamID  WScore  LTeamID  LScore WLoc  NumOT SystemName  \\\n",
       "0    2003       134     1421      92     1411      84    N      1        ARG   \n",
       "1    2003       134     1421      92     1411      84    N      1        BIH   \n",
       "2    2003       134     1421      92     1411      84    N      1        BOB   \n",
       "\n",
       "   TeamIDW  DayNum_y  OrdinalRankW  TeamIDL  DayNum  OrdinalRankL  \n",
       "0     1421       133           255     1411     133           230  \n",
       "1     1421       133           247     1411     133           234  \n",
       "2     1421       133           236     1411     133           239  "
      ],
      "text/html": "<div>\n<style scoped>\n    .dataframe tbody tr th:only-of-type {\n        vertical-align: middle;\n    }\n\n    .dataframe tbody tr th {\n        vertical-align: top;\n    }\n\n    .dataframe thead th {\n        text-align: right;\n    }\n</style>\n<table border=\"1\" class=\"dataframe\">\n  <thead>\n    <tr style=\"text-align: right;\">\n      <th></th>\n      <th>Season</th>\n      <th>DayNum_x</th>\n      <th>WTeamID</th>\n      <th>WScore</th>\n      <th>LTeamID</th>\n      <th>LScore</th>\n      <th>WLoc</th>\n      <th>NumOT</th>\n      <th>SystemName</th>\n      <th>TeamIDW</th>\n      <th>DayNum_y</th>\n      <th>OrdinalRankW</th>\n      <th>TeamIDL</th>\n      <th>DayNum</th>\n      <th>OrdinalRankL</th>\n    </tr>\n  </thead>\n  <tbody>\n    <tr>\n      <th>0</th>\n      <td>2003</td>\n      <td>134</td>\n      <td>1421</td>\n      <td>92</td>\n      <td>1411</td>\n      <td>84</td>\n      <td>N</td>\n      <td>1</td>\n      <td>ARG</td>\n      <td>1421</td>\n      <td>133</td>\n      <td>255</td>\n      <td>1411</td>\n      <td>133</td>\n      <td>230</td>\n    </tr>\n    <tr>\n      <th>1</th>\n      <td>2003</td>\n      <td>134</td>\n      <td>1421</td>\n      <td>92</td>\n      <td>1411</td>\n      <td>84</td>\n      <td>N</td>\n      <td>1</td>\n      <td>BIH</td>\n      <td>1421</td>\n      <td>133</td>\n      <td>247</td>\n      <td>1411</td>\n      <td>133</td>\n      <td>234</td>\n    </tr>\n    <tr>\n      <th>2</th>\n      <td>2003</td>\n      <td>134</td>\n      <td>1421</td>\n      <td>92</td>\n      <td>1411</td>\n      <td>84</td>\n      <td>N</td>\n      <td>1</td>\n      <td>BOB</td>\n      <td>1421</td>\n      <td>133</td>\n      <td>236</td>\n      <td>1411</td>\n      <td>133</td>\n      <td>239</td>\n    </tr>\n  </tbody>\n</table>\n</div>"
     },
     "metadata": {},
     "execution_count": 33
    }
   ],
   "source": [
    "# Then add losser's ordinals\n",
    "games_df = games_df.merge(ordinals_df,left_on=['Season','LTeamID','SystemName'],\n",
    "                          right_on=['Season','TeamID','SystemName'],\n",
    "                          suffixes = ['W','L'])"
   ]
  },
  {
   "cell_type": "code",
   "execution_count": 34,
   "metadata": {},
   "outputs": [],
   "source": [
    "games_df.head(3)"
   ]
  },
  {
   "cell_type": "code",
   "execution_count": 35,
   "metadata": {},
   "outputs": [
    {
     "output_type": "execute_result",
     "data": {
      "text/plain": [
       "   Season  DayNum_x  WTeamID  WScore  LTeamID  LScore WLoc  NumOT SystemName  \\\n",
       "0    2003       134     1421      92     1411      84    N      1        ARG   \n",
       "1    2003       134     1421      92     1411      84    N      1        BIH   \n",
       "2    2003       134     1421      92     1411      84    N      1        BOB   \n",
       "\n",
       "   DayNum_y  OrdinalRankW  DayNum  OrdinalRankL  prediction  \n",
       "0       133           255     133           230           0  \n",
       "1       133           247     133           234           0  \n",
       "2       133           236     133           239           1  "
      ],
      "text/html": "<div>\n<style scoped>\n    .dataframe tbody tr th:only-of-type {\n        vertical-align: middle;\n    }\n\n    .dataframe tbody tr th {\n        vertical-align: top;\n    }\n\n    .dataframe thead th {\n        text-align: right;\n    }\n</style>\n<table border=\"1\" class=\"dataframe\">\n  <thead>\n    <tr style=\"text-align: right;\">\n      <th></th>\n      <th>Season</th>\n      <th>DayNum_x</th>\n      <th>WTeamID</th>\n      <th>WScore</th>\n      <th>LTeamID</th>\n      <th>LScore</th>\n      <th>WLoc</th>\n      <th>NumOT</th>\n      <th>SystemName</th>\n      <th>DayNum_y</th>\n      <th>OrdinalRankW</th>\n      <th>DayNum</th>\n      <th>OrdinalRankL</th>\n      <th>prediction</th>\n    </tr>\n  </thead>\n  <tbody>\n    <tr>\n      <th>0</th>\n      <td>2003</td>\n      <td>134</td>\n      <td>1421</td>\n      <td>92</td>\n      <td>1411</td>\n      <td>84</td>\n      <td>N</td>\n      <td>1</td>\n      <td>ARG</td>\n      <td>133</td>\n      <td>255</td>\n      <td>133</td>\n      <td>230</td>\n      <td>0</td>\n    </tr>\n    <tr>\n      <th>1</th>\n      <td>2003</td>\n      <td>134</td>\n      <td>1421</td>\n      <td>92</td>\n      <td>1411</td>\n      <td>84</td>\n      <td>N</td>\n      <td>1</td>\n      <td>BIH</td>\n      <td>133</td>\n      <td>247</td>\n      <td>133</td>\n      <td>234</td>\n      <td>0</td>\n    </tr>\n    <tr>\n      <th>2</th>\n      <td>2003</td>\n      <td>134</td>\n      <td>1421</td>\n      <td>92</td>\n      <td>1411</td>\n      <td>84</td>\n      <td>N</td>\n      <td>1</td>\n      <td>BOB</td>\n      <td>133</td>\n      <td>236</td>\n      <td>133</td>\n      <td>239</td>\n      <td>1</td>\n    </tr>\n  </tbody>\n</table>\n</div>"
     },
     "metadata": {},
     "execution_count": 35
    }
   ],
   "source": [
    "## Add column with 1 if result is correct\n",
    "games_df = games_df.drop(labels=['TeamIDW','TeamIDL'],axis=1)\n",
    "games_df['prediction'] = (games_df.OrdinalRankW<games_df.OrdinalRankL).astype(int)\n",
    "results_by_system = games_df.groupby('SystemName').agg({'prediction':('mean','count')})"
   ]
  },
  {
   "cell_type": "code",
   "execution_count": 36,
   "metadata": {},
   "outputs": [],
   "source": [
    "games_df.head(3)"
   ]
  },
  {
   "cell_type": "code",
   "execution_count": 37,
   "metadata": {},
   "outputs": [
    {
     "output_type": "execute_result",
     "data": {
      "text/plain": [
       "   Season  DayNum_x  WTeamID  WScore  LTeamID  LScore WLoc  NumOT SystemName  \\\n",
       "0    2003       134     1421      92     1411      84    N      1        ARG   \n",
       "1    2003       134     1421      92     1411      84    N      1        BIH   \n",
       "2    2003       134     1421      92     1411      84    N      1        BOB   \n",
       "\n",
       "   DayNum_y  OrdinalRankW  DayNum  OrdinalRankL  prediction    Wrating  \\\n",
       "0       133           255     133           230           0  66.228381   \n",
       "1       133           247     133           234           0  66.719012   \n",
       "2       133           236     133           239           1  67.400487   \n",
       "\n",
       "     Lrating      prob  \n",
       "0  67.775784  0.440894  \n",
       "1  67.525294  0.469097  \n",
       "2  67.213808  0.507164  "
      ],
      "text/html": "<div>\n<style scoped>\n    .dataframe tbody tr th:only-of-type {\n        vertical-align: middle;\n    }\n\n    .dataframe tbody tr th {\n        vertical-align: top;\n    }\n\n    .dataframe thead th {\n        text-align: right;\n    }\n</style>\n<table border=\"1\" class=\"dataframe\">\n  <thead>\n    <tr style=\"text-align: right;\">\n      <th></th>\n      <th>Season</th>\n      <th>DayNum_x</th>\n      <th>WTeamID</th>\n      <th>WScore</th>\n      <th>LTeamID</th>\n      <th>LScore</th>\n      <th>WLoc</th>\n      <th>NumOT</th>\n      <th>SystemName</th>\n      <th>DayNum_y</th>\n      <th>OrdinalRankW</th>\n      <th>DayNum</th>\n      <th>OrdinalRankL</th>\n      <th>prediction</th>\n      <th>Wrating</th>\n      <th>Lrating</th>\n      <th>prob</th>\n    </tr>\n  </thead>\n  <tbody>\n    <tr>\n      <th>0</th>\n      <td>2003</td>\n      <td>134</td>\n      <td>1421</td>\n      <td>92</td>\n      <td>1411</td>\n      <td>84</td>\n      <td>N</td>\n      <td>1</td>\n      <td>ARG</td>\n      <td>133</td>\n      <td>255</td>\n      <td>133</td>\n      <td>230</td>\n      <td>0</td>\n      <td>66.228381</td>\n      <td>67.775784</td>\n      <td>0.440894</td>\n    </tr>\n    <tr>\n      <th>1</th>\n      <td>2003</td>\n      <td>134</td>\n      <td>1421</td>\n      <td>92</td>\n      <td>1411</td>\n      <td>84</td>\n      <td>N</td>\n      <td>1</td>\n      <td>BIH</td>\n      <td>133</td>\n      <td>247</td>\n      <td>133</td>\n      <td>234</td>\n      <td>0</td>\n      <td>66.719012</td>\n      <td>67.525294</td>\n      <td>0.469097</td>\n    </tr>\n    <tr>\n      <th>2</th>\n      <td>2003</td>\n      <td>134</td>\n      <td>1421</td>\n      <td>92</td>\n      <td>1411</td>\n      <td>84</td>\n      <td>N</td>\n      <td>1</td>\n      <td>BOB</td>\n      <td>133</td>\n      <td>236</td>\n      <td>133</td>\n      <td>239</td>\n      <td>1</td>\n      <td>67.400487</td>\n      <td>67.213808</td>\n      <td>0.507164</td>\n    </tr>\n  </tbody>\n</table>\n</div>"
     },
     "metadata": {},
     "execution_count": 37
    }
   ],
   "source": [
    "games_df['Wrating'] = 100-4*np.log(games_df['OrdinalRankW']+1)-games_df['OrdinalRankW']/22\n",
    "games_df['Lrating'] = 100-4*np.log(games_df['OrdinalRankL']+1)-games_df['OrdinalRankL']/22\n",
    "games_df['prob'] = 1/(1+10**((games_df['Lrating']-games_df['Wrating'])/15))\n",
    "loss_results = games_df[games_df.Season>=2015].groupby('SystemName')['prob'].agg([('loss',lambda p: -np.mean(np.log(p))),('count','count')])"
   ]
  },
  {
   "cell_type": "code",
   "execution_count": 38,
   "metadata": {},
   "outputs": [],
   "source": [
    "games_df.head(3)"
   ]
  },
  {
   "cell_type": "code",
   "execution_count": 39,
   "metadata": {},
   "outputs": [],
   "source": [
    "ref_system = 'POM'\n",
    "ordinals_df['Rating']= 100-4*np.log(ordinals_df['OrdinalRank']+1)-ordinals_df['OrdinalRank']/22\n",
    "ordinals_df = ordinals_df[ordinals_df.SystemName==ref_system]"
   ]
  },
  {
   "cell_type": "code",
   "execution_count": null,
   "metadata": {},
   "outputs": [],
   "source": [
    "# Get submission file\n",
    "sub_df = pd.read_csv(DATA_PATH_M +'MSampleSubmissionStage1.csv')\n",
    "sub_df['Season'] = sub_df['ID'].map(lambda x: int(x.split('_')[0]))\n",
    "sub_df['Team1'] = sub_df['ID'].map(lambda x: int(x.split('_')[1]))\n",
    "sub_df['Team2'] = sub_df['ID'].map(lambda x: int(x.split('_')[2]))\n",
    "sub_df = sub_df.merge(ordinals_df[['Season','TeamID','Rating']], how='left', left_on = ['Season','Team1'], right_on = ['Season','TeamID'])\n",
    "sub_df = sub_df.merge(ordinals_df[['Season','TeamID','Rating']], how='left', left_on = ['Season','Team2'], right_on = ['Season','TeamID'], suffixes=['W','L'])\n",
    "sub_df['Pred'] = 1/(1+10**((sub_df['RatingL']-sub_df['RatingW'])/15))\n",
    "sub_df[['ID', 'Pred']].to_csv('submission_Ismail_model_AbooNaziha.csv', index=False, float_format='%.4g')"
   ]
  }
 ]
}