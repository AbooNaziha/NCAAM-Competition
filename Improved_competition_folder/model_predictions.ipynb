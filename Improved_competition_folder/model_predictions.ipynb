{
 "metadata": {
  "language_info": {
   "codemirror_mode": {
    "name": "ipython",
    "version": 3
   },
   "file_extension": ".py",
   "mimetype": "text/x-python",
   "name": "python",
   "nbconvert_exporter": "python",
   "pygments_lexer": "ipython3",
   "version": "3.7.7-final"
  },
  "orig_nbformat": 2,
  "kernelspec": {
   "name": "python3",
   "display_name": "Python 3.7.7 64-bit ('tf': conda)",
   "metadata": {
    "interpreter": {
     "hash": "1b4bd66619e1f63a2810c0f91c748d47860e139f5a175a9a480ebd9d4456bd5e"
    }
   }
  }
 },
 "nbformat": 4,
 "nbformat_minor": 2,
 "cells": [
  {
   "cell_type": "code",
   "execution_count": 1,
   "metadata": {},
   "outputs": [],
   "source": [
    "import numpy as np\n",
    "import pandas as pd\n",
    "\n",
    "import matplotlib.pyplot as plt\n",
    "import seaborn as sns\n",
    "%matplotlib inline\n",
    "\n",
    "from collections import Counter\n",
    "\n",
    "from sklearn.neural_network import MLPClassifier\n",
    "from sklearn.preprocessing import StandardScaler\n",
    "from sklearn.ensemble import RandomForestClassifier\n",
    "from sklearn.ensemble import VotingClassifier\n",
    "from sklearn.linear_model import LogisticRegression\n",
    "from sklearn.model_selection import GridSearchCV, cross_val_score, StratifiedKFold, learning_curve, train_test_split\n",
    "from sklearn.metrics import brier_score_loss\n",
    "\n",
    "import xgboost as xgb\n",
    "from xgboost import XGBClassifier\n",
    "\n",
    "pd.set_option('display.max_columns', None)"
   ]
  },
  {
   "source": [
    "LOAD MODEL DATA SETS "
   ],
   "cell_type": "markdown",
   "metadata": {}
  },
  {
   "cell_type": "code",
   "execution_count": 2,
   "metadata": {},
   "outputs": [],
   "source": [
    "all_games_df = pd.read_csv('all_games_df.csv')"
   ]
  },
  {
   "cell_type": "code",
   "execution_count": 3,
   "metadata": {},
   "outputs": [],
   "source": [
    "test_combos_df = pd.read_csv('test_combos_df_2015.csv')\n",
    "test_combos_df = test_combos_df.sort_values(by=['ID']).reset_index(drop=True)"
   ]
  },
  {
   "cell_type": "code",
   "execution_count": 4,
   "metadata": {},
   "outputs": [
    {
     "output_type": "execute_result",
     "data": {
      "text/plain": [
       "   Season              ID  HTeamID  RTeamID  HSeed  RSeed  is_tourney  \\\n",
       "0    2015  2015_1107_1112   1112.0   1107.0    2.0   14.0           1   \n",
       "1    2015  2015_1107_1116   1116.0   1107.0    5.0   14.0           1   \n",
       "2    2015  2015_1107_1124   1124.0   1107.0    3.0   14.0           1   \n",
       "\n",
       "   Hwins_top25  HPointMargin       HFG      HFG3  Rwins_top25  RPointMargin  \\\n",
       "0            3     17.823529  0.486694  0.358874            0       5.28125   \n",
       "1            1      7.882353  0.448082  0.347178            0       5.28125   \n",
       "2            7      8.812500  0.435875  0.379881            0       5.28125   \n",
       "\n",
       "       RFG      RFG3  HRankPOM  RRankPOM      home Hconf  Hadjem  Hadjo  \\\n",
       "0  0.44403  0.358773         2       132   arizona   P12   32.36  119.9   \n",
       "1  0.44403  0.358773        29       132  arkansas   SEC   16.44  114.7   \n",
       "2  0.44403  0.358773        15       132    baylor   B12   22.14  116.6   \n",
       "\n",
       "   Hadjd  Hluck    road Rconf  Radjem  Radjo  Radjd  Rluck  Htourny20plus  \\\n",
       "0   87.5 -0.033  albany    AE    3.29  107.2  103.9  0.054              1   \n",
       "1   98.3  0.045  albany    AE    3.29  107.2  103.9  0.054              0   \n",
       "2   94.5 -0.035  albany    AE    3.29  107.2  103.9  0.054              0   \n",
       "\n",
       "   Rtourny20plus  HBig4Conf  RBig4Conf  \n",
       "0              0          0          0  \n",
       "1              0          1          0  \n",
       "2              0          1          0  "
      ],
      "text/html": "<div>\n<style scoped>\n    .dataframe tbody tr th:only-of-type {\n        vertical-align: middle;\n    }\n\n    .dataframe tbody tr th {\n        vertical-align: top;\n    }\n\n    .dataframe thead th {\n        text-align: right;\n    }\n</style>\n<table border=\"1\" class=\"dataframe\">\n  <thead>\n    <tr style=\"text-align: right;\">\n      <th></th>\n      <th>Season</th>\n      <th>ID</th>\n      <th>HTeamID</th>\n      <th>RTeamID</th>\n      <th>HSeed</th>\n      <th>RSeed</th>\n      <th>is_tourney</th>\n      <th>Hwins_top25</th>\n      <th>HPointMargin</th>\n      <th>HFG</th>\n      <th>HFG3</th>\n      <th>Rwins_top25</th>\n      <th>RPointMargin</th>\n      <th>RFG</th>\n      <th>RFG3</th>\n      <th>HRankPOM</th>\n      <th>RRankPOM</th>\n      <th>home</th>\n      <th>Hconf</th>\n      <th>Hadjem</th>\n      <th>Hadjo</th>\n      <th>Hadjd</th>\n      <th>Hluck</th>\n      <th>road</th>\n      <th>Rconf</th>\n      <th>Radjem</th>\n      <th>Radjo</th>\n      <th>Radjd</th>\n      <th>Rluck</th>\n      <th>Htourny20plus</th>\n      <th>Rtourny20plus</th>\n      <th>HBig4Conf</th>\n      <th>RBig4Conf</th>\n    </tr>\n  </thead>\n  <tbody>\n    <tr>\n      <th>0</th>\n      <td>2015</td>\n      <td>2015_1107_1112</td>\n      <td>1112.0</td>\n      <td>1107.0</td>\n      <td>2.0</td>\n      <td>14.0</td>\n      <td>1</td>\n      <td>3</td>\n      <td>17.823529</td>\n      <td>0.486694</td>\n      <td>0.358874</td>\n      <td>0</td>\n      <td>5.28125</td>\n      <td>0.44403</td>\n      <td>0.358773</td>\n      <td>2</td>\n      <td>132</td>\n      <td>arizona</td>\n      <td>P12</td>\n      <td>32.36</td>\n      <td>119.9</td>\n      <td>87.5</td>\n      <td>-0.033</td>\n      <td>albany</td>\n      <td>AE</td>\n      <td>3.29</td>\n      <td>107.2</td>\n      <td>103.9</td>\n      <td>0.054</td>\n      <td>1</td>\n      <td>0</td>\n      <td>0</td>\n      <td>0</td>\n    </tr>\n    <tr>\n      <th>1</th>\n      <td>2015</td>\n      <td>2015_1107_1116</td>\n      <td>1116.0</td>\n      <td>1107.0</td>\n      <td>5.0</td>\n      <td>14.0</td>\n      <td>1</td>\n      <td>1</td>\n      <td>7.882353</td>\n      <td>0.448082</td>\n      <td>0.347178</td>\n      <td>0</td>\n      <td>5.28125</td>\n      <td>0.44403</td>\n      <td>0.358773</td>\n      <td>29</td>\n      <td>132</td>\n      <td>arkansas</td>\n      <td>SEC</td>\n      <td>16.44</td>\n      <td>114.7</td>\n      <td>98.3</td>\n      <td>0.045</td>\n      <td>albany</td>\n      <td>AE</td>\n      <td>3.29</td>\n      <td>107.2</td>\n      <td>103.9</td>\n      <td>0.054</td>\n      <td>0</td>\n      <td>0</td>\n      <td>1</td>\n      <td>0</td>\n    </tr>\n    <tr>\n      <th>2</th>\n      <td>2015</td>\n      <td>2015_1107_1124</td>\n      <td>1124.0</td>\n      <td>1107.0</td>\n      <td>3.0</td>\n      <td>14.0</td>\n      <td>1</td>\n      <td>7</td>\n      <td>8.812500</td>\n      <td>0.435875</td>\n      <td>0.379881</td>\n      <td>0</td>\n      <td>5.28125</td>\n      <td>0.44403</td>\n      <td>0.358773</td>\n      <td>15</td>\n      <td>132</td>\n      <td>baylor</td>\n      <td>B12</td>\n      <td>22.14</td>\n      <td>116.6</td>\n      <td>94.5</td>\n      <td>-0.035</td>\n      <td>albany</td>\n      <td>AE</td>\n      <td>3.29</td>\n      <td>107.2</td>\n      <td>103.9</td>\n      <td>0.054</td>\n      <td>0</td>\n      <td>0</td>\n      <td>1</td>\n      <td>0</td>\n    </tr>\n  </tbody>\n</table>\n</div>"
     },
     "metadata": {},
     "execution_count": 4
    }
   ],
   "source": [
    "test_combos_df.head(3)"
   ]
  },
  {
   "cell_type": "code",
   "execution_count": 5,
   "metadata": {},
   "outputs": [
    {
     "output_type": "execute_result",
     "data": {
      "text/plain": [
       "       Season              ID  HTeamID  RTeamID  HSeed  RSeed  is_tourney  \\\n",
       "11385    2019  2019_1449_1459   1459.0   1449.0    7.0    9.0           1   \n",
       "11386    2019  2019_1449_1463   1449.0   1463.0    9.0   14.0           1   \n",
       "11387    2019  2019_1458_1459   1458.0   1459.0    5.0    7.0           1   \n",
       "11388    2019  2019_1458_1463   1458.0   1463.0    5.0   14.0           1   \n",
       "11389    2019  2019_1459_1463   1459.0   1463.0    7.0   14.0           1   \n",
       "\n",
       "       Hwins_top25  HPointMargin       HFG      HFG3  Rwins_top25  \\\n",
       "11385            0     13.666667  0.487256  0.416669            0   \n",
       "11386            0      5.441176  0.455797  0.344894            0   \n",
       "11387            2      7.636364  0.453714  0.362185            0   \n",
       "11388            2      7.636364  0.453714  0.362185            0   \n",
       "11389            0     13.666667  0.487256  0.416669            0   \n",
       "\n",
       "       RPointMargin       RFG      RFG3  HRankPOM  RRankPOM        home Hconf  \\\n",
       "11385      5.441176  0.455797  0.344894        19        51     wofford    SC   \n",
       "11386      7.178571  0.496652  0.371237        51        82  washington   P12   \n",
       "11387     13.666667  0.487256  0.416669        12        19   wisconsin   B10   \n",
       "11388      7.178571  0.496652  0.371237        12        82   wisconsin   B10   \n",
       "11389      7.178571  0.496652  0.371237        19        82     wofford    SC   \n",
       "\n",
       "       Hadjem  Hadjo  Hadjd  Hluck        road Rconf  Radjem  Radjo  Radjd  \\\n",
       "11385   20.71  118.4   97.6  0.060  washington   P12   13.37  107.0   93.6   \n",
       "11386   13.37  107.0   93.6  0.078        yale   Ivy    8.59  111.7  103.1   \n",
       "11387   23.68  110.8   87.1 -0.026     wofford    SC   20.71  118.4   97.6   \n",
       "11388   23.68  110.8   87.1 -0.026        yale   Ivy    8.59  111.7  103.1   \n",
       "11389   20.71  118.4   97.6  0.060        yale   Ivy    8.59  111.7  103.1   \n",
       "\n",
       "       Rluck  Htourny20plus  Rtourny20plus  HBig4Conf  RBig4Conf  \n",
       "11385  0.078              0              0          0          0  \n",
       "11386  0.057              0              0          0          0  \n",
       "11387  0.060              1              0          1          0  \n",
       "11388  0.057              1              0          1          0  \n",
       "11389  0.057              0              0          0          0  "
      ],
      "text/html": "<div>\n<style scoped>\n    .dataframe tbody tr th:only-of-type {\n        vertical-align: middle;\n    }\n\n    .dataframe tbody tr th {\n        vertical-align: top;\n    }\n\n    .dataframe thead th {\n        text-align: right;\n    }\n</style>\n<table border=\"1\" class=\"dataframe\">\n  <thead>\n    <tr style=\"text-align: right;\">\n      <th></th>\n      <th>Season</th>\n      <th>ID</th>\n      <th>HTeamID</th>\n      <th>RTeamID</th>\n      <th>HSeed</th>\n      <th>RSeed</th>\n      <th>is_tourney</th>\n      <th>Hwins_top25</th>\n      <th>HPointMargin</th>\n      <th>HFG</th>\n      <th>HFG3</th>\n      <th>Rwins_top25</th>\n      <th>RPointMargin</th>\n      <th>RFG</th>\n      <th>RFG3</th>\n      <th>HRankPOM</th>\n      <th>RRankPOM</th>\n      <th>home</th>\n      <th>Hconf</th>\n      <th>Hadjem</th>\n      <th>Hadjo</th>\n      <th>Hadjd</th>\n      <th>Hluck</th>\n      <th>road</th>\n      <th>Rconf</th>\n      <th>Radjem</th>\n      <th>Radjo</th>\n      <th>Radjd</th>\n      <th>Rluck</th>\n      <th>Htourny20plus</th>\n      <th>Rtourny20plus</th>\n      <th>HBig4Conf</th>\n      <th>RBig4Conf</th>\n    </tr>\n  </thead>\n  <tbody>\n    <tr>\n      <th>11385</th>\n      <td>2019</td>\n      <td>2019_1449_1459</td>\n      <td>1459.0</td>\n      <td>1449.0</td>\n      <td>7.0</td>\n      <td>9.0</td>\n      <td>1</td>\n      <td>0</td>\n      <td>13.666667</td>\n      <td>0.487256</td>\n      <td>0.416669</td>\n      <td>0</td>\n      <td>5.441176</td>\n      <td>0.455797</td>\n      <td>0.344894</td>\n      <td>19</td>\n      <td>51</td>\n      <td>wofford</td>\n      <td>SC</td>\n      <td>20.71</td>\n      <td>118.4</td>\n      <td>97.6</td>\n      <td>0.060</td>\n      <td>washington</td>\n      <td>P12</td>\n      <td>13.37</td>\n      <td>107.0</td>\n      <td>93.6</td>\n      <td>0.078</td>\n      <td>0</td>\n      <td>0</td>\n      <td>0</td>\n      <td>0</td>\n    </tr>\n    <tr>\n      <th>11386</th>\n      <td>2019</td>\n      <td>2019_1449_1463</td>\n      <td>1449.0</td>\n      <td>1463.0</td>\n      <td>9.0</td>\n      <td>14.0</td>\n      <td>1</td>\n      <td>0</td>\n      <td>5.441176</td>\n      <td>0.455797</td>\n      <td>0.344894</td>\n      <td>0</td>\n      <td>7.178571</td>\n      <td>0.496652</td>\n      <td>0.371237</td>\n      <td>51</td>\n      <td>82</td>\n      <td>washington</td>\n      <td>P12</td>\n      <td>13.37</td>\n      <td>107.0</td>\n      <td>93.6</td>\n      <td>0.078</td>\n      <td>yale</td>\n      <td>Ivy</td>\n      <td>8.59</td>\n      <td>111.7</td>\n      <td>103.1</td>\n      <td>0.057</td>\n      <td>0</td>\n      <td>0</td>\n      <td>0</td>\n      <td>0</td>\n    </tr>\n    <tr>\n      <th>11387</th>\n      <td>2019</td>\n      <td>2019_1458_1459</td>\n      <td>1458.0</td>\n      <td>1459.0</td>\n      <td>5.0</td>\n      <td>7.0</td>\n      <td>1</td>\n      <td>2</td>\n      <td>7.636364</td>\n      <td>0.453714</td>\n      <td>0.362185</td>\n      <td>0</td>\n      <td>13.666667</td>\n      <td>0.487256</td>\n      <td>0.416669</td>\n      <td>12</td>\n      <td>19</td>\n      <td>wisconsin</td>\n      <td>B10</td>\n      <td>23.68</td>\n      <td>110.8</td>\n      <td>87.1</td>\n      <td>-0.026</td>\n      <td>wofford</td>\n      <td>SC</td>\n      <td>20.71</td>\n      <td>118.4</td>\n      <td>97.6</td>\n      <td>0.060</td>\n      <td>1</td>\n      <td>0</td>\n      <td>1</td>\n      <td>0</td>\n    </tr>\n    <tr>\n      <th>11388</th>\n      <td>2019</td>\n      <td>2019_1458_1463</td>\n      <td>1458.0</td>\n      <td>1463.0</td>\n      <td>5.0</td>\n      <td>14.0</td>\n      <td>1</td>\n      <td>2</td>\n      <td>7.636364</td>\n      <td>0.453714</td>\n      <td>0.362185</td>\n      <td>0</td>\n      <td>7.178571</td>\n      <td>0.496652</td>\n      <td>0.371237</td>\n      <td>12</td>\n      <td>82</td>\n      <td>wisconsin</td>\n      <td>B10</td>\n      <td>23.68</td>\n      <td>110.8</td>\n      <td>87.1</td>\n      <td>-0.026</td>\n      <td>yale</td>\n      <td>Ivy</td>\n      <td>8.59</td>\n      <td>111.7</td>\n      <td>103.1</td>\n      <td>0.057</td>\n      <td>1</td>\n      <td>0</td>\n      <td>1</td>\n      <td>0</td>\n    </tr>\n    <tr>\n      <th>11389</th>\n      <td>2019</td>\n      <td>2019_1459_1463</td>\n      <td>1459.0</td>\n      <td>1463.0</td>\n      <td>7.0</td>\n      <td>14.0</td>\n      <td>1</td>\n      <td>0</td>\n      <td>13.666667</td>\n      <td>0.487256</td>\n      <td>0.416669</td>\n      <td>0</td>\n      <td>7.178571</td>\n      <td>0.496652</td>\n      <td>0.371237</td>\n      <td>19</td>\n      <td>82</td>\n      <td>wofford</td>\n      <td>SC</td>\n      <td>20.71</td>\n      <td>118.4</td>\n      <td>97.6</td>\n      <td>0.060</td>\n      <td>yale</td>\n      <td>Ivy</td>\n      <td>8.59</td>\n      <td>111.7</td>\n      <td>103.1</td>\n      <td>0.057</td>\n      <td>0</td>\n      <td>0</td>\n      <td>0</td>\n      <td>0</td>\n    </tr>\n  </tbody>\n</table>\n</div>"
     },
     "metadata": {},
     "execution_count": 5
    }
   ],
   "source": [
    "test_combos_df.tail()"
   ]
  },
  {
   "cell_type": "code",
   "execution_count": 6,
   "metadata": {},
   "outputs": [],
   "source": [
    "ind_var_selected = [\n",
    "'is_tourney', \n",
    "'HRankPOM',\n",
    "'RRankPOM',\n",
    "'line',\n",
    "'Hwins_top25',\n",
    "'Rwins_top25',\n",
    "'HPointMargin',\n",
    "'RPointMargin',\n",
    "'HFG',\n",
    "'RFG',\n",
    "'HFG3',\n",
    "'RFG3',\n",
    "'Hadjem',\n",
    "'Hadjo',\n",
    "'Hadjd',\n",
    "'Hluck',\n",
    "'Radjem',\n",
    "'Radjo',\n",
    "'Radjd',\n",
    "'Rluck',\n",
    "'Htourny20plus',\n",
    "'Rtourny20plus',\n",
    "'HBig4Conf',\n",
    "'RBig4Conf', \n",
    "'HSeed',\n",
    "'RSeed'\n",
    "]"
   ]
  },
  {
   "source": [
    "Note: test is 2019 predictions but our \"test\" holdout set is referred to as \"valid\""
   ],
   "cell_type": "markdown",
   "metadata": {}
  },
  {
   "cell_type": "code",
   "execution_count": 7,
   "metadata": {},
   "outputs": [],
   "source": [
    "#prediction set 2019\n",
    "test_ids = test_combos_df['ID'].reset_index(drop=True)\n",
    "X_test = test_combos_df[['is_tourney','HRankPOM','RRankPOM','Hwins_top25','Rwins_top25','HPointMargin','RPointMargin','HFG','RFG','HFG3','RFG3','Hadjem','Hadjo','Hadjd','Hluck','Radjem','Radjo','Radjd','Rluck','Htourny20plus','Rtourny20plus','HBig4Conf','RBig4Conf','HSeed','RSeed']].reset_index(drop=True)"
   ]
  },
  {
   "cell_type": "code",
   "execution_count": 8,
   "metadata": {},
   "outputs": [],
   "source": [
    "#Predict the last two years as a test set (2017, 2018):\n",
    "temp_df = all_games_df[all_games_df['Season']>2014]\n",
    "temp_df = temp_df[temp_df['is_tourney']==1]\n",
    "X_valid = temp_df[ind_var_selected].reset_index(drop=True)\n",
    "y_valid = temp_df['Hwin'].reset_index(drop=True)\n",
    "\n",
    "#Train on everything else:\n",
    "temp_df1 = all_games_df[all_games_df['Season']>2014]\n",
    "temp_df1 = temp_df1[temp_df1['is_tourney']==0]\n",
    "temp_df2 = all_games_df[all_games_df['Season']<2015]\n",
    "combined_temp_df = temp_df1.append(temp_df2)\n",
    "\n",
    "X_train = combined_temp_df[ind_var_selected].reset_index(drop=True)\n",
    "y_train = combined_temp_df['Hwin'].reset_index(drop=True)\n",
    "\n",
    "#For final predictions:\n",
    "X_train_orig = all_games_df[ind_var_selected].reset_index(drop=True)\n",
    "y_train_orig = all_games_df['Hwin'].reset_index(drop=True)"
   ]
  },
  {
   "cell_type": "code",
   "execution_count": 9,
   "metadata": {},
   "outputs": [],
   "source": [
    "#Create second holdout set to double-check not overfit and check model stability (season 2016)\n",
    "temp_df16 = all_games_df[all_games_df['Season']==2014]\n",
    "temp_df16 = temp_df16[temp_df16['is_tourney']==1]\n",
    "X_valid16 = temp_df16[ind_var_selected].reset_index(drop=True)\n",
    "y_valid16 = temp_df16['Hwin'].reset_index(drop=True)\n",
    "\n",
    "temp_df1_16 = all_games_df[all_games_df['Season']==2014]\n",
    "temp_df1_16 = temp_df1_16[temp_df1_16['is_tourney']==0]\n",
    "temp_df2_16 = all_games_df[all_games_df['Season']!=2014]\n",
    "combined_temp_df_16 = temp_df1_16.append(temp_df2_16)\n",
    "\n",
    "X_train16 = combined_temp_df_16[ind_var_selected].reset_index(drop=True)\n",
    "y_train16 = combined_temp_df_16['Hwin'].reset_index(drop=True)"
   ]
  },
  {
   "cell_type": "code",
   "execution_count": 10,
   "metadata": {},
   "outputs": [],
   "source": [
    "X_test = X_test.astype(\"float64\")\n",
    "\n",
    "X_train_orig = X_train_orig.astype(\"float64\")\n",
    "y_train_orig = y_train_orig.astype(\"float64\")\n",
    "\n",
    "X_train = X_train.astype(\"float64\")\n",
    "X_valid = X_valid.astype(\"float64\")\n",
    "y_train = y_train.astype(\"float64\")\n",
    "y_valid = y_valid.astype(\"float64\")\n",
    "\n",
    "X_train16 = X_train16.astype(\"float64\")\n",
    "X_valid16 = X_valid16.astype(\"float64\")\n",
    "y_train16 = y_train16.astype(\"float64\")\n",
    "y_valid16 = y_valid16.astype(\"float64\")"
   ]
  },
  {
   "source": [
    "Scoring rules and benchmarks"
   ],
   "cell_type": "markdown",
   "metadata": {}
  },
  {
   "cell_type": "code",
   "execution_count": 11,
   "metadata": {},
   "outputs": [],
   "source": [
    "def LogLoss(predictions, realizations):\n",
    "    predictions_use = predictions.clip(0)\n",
    "    realizations_use = realizations.clip(0)\n",
    "    LogLoss = -np.mean( (realizations_use * np.log(predictions_use)) + \n",
    "                        (1 - realizations_use) * np.log(1 - predictions_use) )\n",
    "    return LogLoss"
   ]
  },
  {
   "source": [
    "If the model doesn't beat assuming 50% it is poor"
   ],
   "cell_type": "markdown",
   "metadata": {}
  },
  {
   "cell_type": "code",
   "execution_count": 12,
   "metadata": {},
   "outputs": [],
   "source": [
    "bench_5050 = np.repeat(0.5, len(y_valid))"
   ]
  },
  {
   "cell_type": "code",
   "execution_count": 13,
   "metadata": {},
   "outputs": [
    {
     "output_type": "execute_result",
     "data": {
      "text/plain": [
       "0.6931471805599454"
      ]
     },
     "metadata": {},
     "execution_count": 13
    }
   ],
   "source": [
    "LogLoss(bench_5050, y_valid)"
   ]
  },
  {
   "source": [
    "How does this compare to Lopez and Matthews (2014 winners)?"
   ],
   "cell_type": "markdown",
   "metadata": {}
  },
  {
   "cell_type": "code",
   "execution_count": 14,
   "metadata": {},
   "outputs": [],
   "source": [
    "Z1 = LogisticRegression(C = 1e9, random_state=23)\n",
    "Z1.fit(X_train[['line']], y_train)\n",
    "Z1_pred = pd.DataFrame(Z1.predict_proba(X_valid[['line']]))[1]"
   ]
  },
  {
   "cell_type": "code",
   "execution_count": 15,
   "metadata": {},
   "outputs": [
    {
     "output_type": "execute_result",
     "data": {
      "text/plain": [
       "0.5147809352780559"
      ]
     },
     "metadata": {},
     "execution_count": 15
    }
   ],
   "source": [
    "LogLoss(Z1_pred, y_valid)"
   ]
  },
  {
   "cell_type": "code",
   "execution_count": 16,
   "metadata": {},
   "outputs": [],
   "source": [
    "Z2 = LogisticRegression(C = 1e9, random_state=23)\n",
    "Z2.fit(X_train[['Hadjo','Hadjd','Radjo','Radjd']], y_train)\n",
    "Z2_pred = pd.DataFrame(Z2.predict_proba(X_valid[['Hadjo','Hadjd','Radjo','Radjd']]))[1]"
   ]
  },
  {
   "cell_type": "code",
   "execution_count": 17,
   "metadata": {},
   "outputs": [
    {
     "output_type": "execute_result",
     "data": {
      "text/plain": [
       "0.5076109247353747"
      ]
     },
     "metadata": {},
     "execution_count": 17
    }
   ],
   "source": [
    "LogLoss(Z2_pred, y_valid)"
   ]
  },
  {
   "cell_type": "code",
   "execution_count": 18,
   "metadata": {},
   "outputs": [],
   "source": [
    "Z1 = LogisticRegression(C = 1e9, random_state=23)\n",
    "Z1.fit(X_train16[['line']], y_train16)\n",
    "Z1_pred = pd.DataFrame(Z1.predict_proba(X_valid16[['line']]))[1]"
   ]
  },
  {
   "cell_type": "code",
   "execution_count": 19,
   "metadata": {},
   "outputs": [
    {
     "output_type": "execute_result",
     "data": {
      "text/plain": [
       "0.5774326196491999"
      ]
     },
     "metadata": {},
     "execution_count": 19
    }
   ],
   "source": [
    "LogLoss(Z1_pred, y_valid16)"
   ]
  },
  {
   "cell_type": "code",
   "execution_count": 20,
   "metadata": {},
   "outputs": [],
   "source": [
    "Z2 = LogisticRegression(C = 1e9, random_state=23)\n",
    "Z2.fit(X_train16[['Hadjo','Hadjd','Radjo','Radjd']], y_train16)\n",
    "Z2_pred = pd.DataFrame(Z2.predict_proba(X_valid16[['Hadjo','Hadjd','Radjo','Radjd']]))[1]"
   ]
  },
  {
   "cell_type": "code",
   "execution_count": 21,
   "metadata": {},
   "outputs": [
    {
     "output_type": "execute_result",
     "data": {
      "text/plain": [
       "0.6035953956457044"
      ]
     },
     "metadata": {},
     "execution_count": 21
    }
   ],
   "source": [
    "LogLoss(Z2_pred, y_valid16)"
   ]
  },
  {
   "source": [
    "Fit a neural network (with and without line)\n",
    "\n",
    "Normalize data (using z-scores) before neural network"
   ],
   "cell_type": "markdown",
   "metadata": {}
  },
  {
   "cell_type": "code",
   "execution_count": 22,
   "metadata": {},
   "outputs": [],
   "source": [
    "scaler = StandardScaler()\n",
    "scaler.fit(X_train)  # Fit only to the training data\n",
    "scaled_X_train = pd.DataFrame(scaler.transform(X_train), index=X_train.index, columns=X_train.columns)\n",
    "scaled_X_valid = pd.DataFrame(scaler.transform(X_valid), index=X_valid.index, columns=X_valid.columns)"
   ]
  },
  {
   "cell_type": "code",
   "execution_count": 23,
   "metadata": {},
   "outputs": [],
   "source": [
    "scaler = StandardScaler()\n",
    "scaler.fit(X_train16)  # Fit only to the training data\n",
    "scaled_X_train16 = pd.DataFrame(scaler.transform(X_train16), index=X_train16.index, columns=X_train16.columns)\n",
    "scaled_X_valid16 = pd.DataFrame(scaler.transform(X_valid16), index=X_valid16.index, columns=X_valid16.columns)"
   ]
  },
  {
   "cell_type": "code",
   "execution_count": 24,
   "metadata": {},
   "outputs": [],
   "source": [
    "#drop line from training since we won't use in predictions, need these to be same number of columns.\n",
    "X_train_orig = X_train_orig.drop(['line'], axis=1)"
   ]
  },
  {
   "cell_type": "code",
   "execution_count": 25,
   "metadata": {},
   "outputs": [],
   "source": [
    "scaler = StandardScaler()\n",
    "scaler.fit(X_train_orig)  # Fit to all training data\n",
    "\n",
    "scaled_X_train_orig = pd.DataFrame(scaler.transform(X_train_orig), index=X_train_orig.index, columns=X_train_orig.columns)\n",
    "scaled_X_test = pd.DataFrame(scaler.transform(X_test), index=X_test.index, columns=X_test.columns)"
   ]
  },
  {
   "source": [
    "With line (note: we won't have line in the rounds after the first, but we could use this for the first round only like Lopez and Matthews did)"
   ],
   "cell_type": "markdown",
   "metadata": {}
  },
  {
   "cell_type": "code",
   "execution_count": 26,
   "metadata": {},
   "outputs": [],
   "source": [
    "#Note: I tried logistic activation and different combinations of hidden layers/nodes\n",
    "#Hyperparameters below minimized the log loss in the holdout set\n",
    "#I also submited a prediction with 10 nodes in the first layer, but this is the submission that placed 4th (w/ 8 in 1st)\n",
    "nn = MLPClassifier(activation='relu', hidden_layer_sizes=(8,5,3),random_state=201, max_iter=1000)\n",
    "nn.fit(scaled_X_train,y_train)\n",
    "nn_pred = pd.DataFrame(nn.predict_proba(scaled_X_valid))[1]"
   ]
  },
  {
   "cell_type": "code",
   "execution_count": 27,
   "metadata": {},
   "outputs": [
    {
     "output_type": "execute_result",
     "data": {
      "text/plain": [
       "0.46603372977141155"
      ]
     },
     "metadata": {},
     "execution_count": 27
    }
   ],
   "source": [
    "LogLoss(nn_pred, y_valid)"
   ]
  },
  {
   "cell_type": "code",
   "execution_count": 28,
   "metadata": {},
   "outputs": [
    {
     "output_type": "execute_result",
     "data": {
      "text/plain": [
       "0.4602824912322495"
      ]
     },
     "metadata": {},
     "execution_count": 28
    }
   ],
   "source": [
    "#try second holdout (does worse, but still better than baseline of 54)\n",
    "nn.fit(scaled_X_train16,y_train16)\n",
    "nn_pred16 = pd.DataFrame(nn.predict_proba(scaled_X_valid16))[1]\n",
    "LogLoss(nn_pred16, y_valid16)"
   ]
  },
  {
   "source": [
    "without a line"
   ],
   "cell_type": "markdown",
   "metadata": {}
  },
  {
   "cell_type": "code",
   "execution_count": 29,
   "metadata": {},
   "outputs": [],
   "source": [
    "#Note: I tried logistic activation and different combinations of hidden layers/nodes\n",
    "#Hyperparameters below minimized the log loss in the holdout set\n",
    "ind_var_selected_no_line = ['is_tourney', 'Hwins_top25','Rwins_top25','HPointMargin','RPointMargin','HFG','RFG','HFG3','RFG3','HRankPOM','RRankPOM','Hadjem','Hadjo','Hadjd','Hluck','Radjem','Radjo','Radjd','Rluck','Htourny20plus','Rtourny20plus','HBig4Conf','RBig4Conf', 'HSeed','RSeed']\n",
    "nn = MLPClassifier(activation='relu', hidden_layer_sizes=(7,5,3),random_state=201, max_iter=1000)\n",
    "nn.fit(scaled_X_train[ind_var_selected_no_line],y_train)\n",
    "nn_pred_no_line = pd.DataFrame(nn.predict_proba(scaled_X_valid[ind_var_selected_no_line]))[1]"
   ]
  },
  {
   "cell_type": "code",
   "execution_count": 30,
   "metadata": {},
   "outputs": [
    {
     "output_type": "execute_result",
     "data": {
      "text/plain": [
       "0.4595893961317594"
      ]
     },
     "metadata": {},
     "execution_count": 30
    }
   ],
   "source": [
    "LogLoss(nn_pred_no_line, y_valid)"
   ]
  },
  {
   "cell_type": "code",
   "execution_count": 31,
   "metadata": {},
   "outputs": [
    {
     "output_type": "execute_result",
     "data": {
      "text/plain": [
       "0.4181262806776416"
      ]
     },
     "metadata": {},
     "execution_count": 31
    }
   ],
   "source": [
    "#try second holdout (does better)\n",
    "nn.fit(scaled_X_train16[ind_var_selected_no_line],y_train16)\n",
    "nn_pred_no_line16 = pd.DataFrame(nn.predict_proba(scaled_X_valid16[ind_var_selected_no_line]))[1]\n",
    "LogLoss(nn_pred_no_line16, y_valid16)"
   ]
  },
  {
   "source": [
    "Try avg of line and no line:"
   ],
   "cell_type": "markdown",
   "metadata": {}
  },
  {
   "cell_type": "code",
   "execution_count": 32,
   "metadata": {},
   "outputs": [
    {
     "output_type": "execute_result",
     "data": {
      "text/plain": [
       "0.45046813028574095"
      ]
     },
     "metadata": {},
     "execution_count": 32
    }
   ],
   "source": [
    "avg = (nn_pred_no_line+nn_pred)/2\n",
    "LogLoss(avg, y_valid)"
   ]
  },
  {
   "cell_type": "code",
   "execution_count": 33,
   "metadata": {},
   "outputs": [
    {
     "output_type": "execute_result",
     "data": {
      "text/plain": [
       "0.4341655394338781"
      ]
     },
     "metadata": {},
     "execution_count": 33
    }
   ],
   "source": [
    "avg16 = (nn_pred_no_line16+nn_pred16)/2\n",
    "LogLoss(avg16, y_valid16)"
   ]
  },
  {
   "source": [
    "Create test predictions"
   ],
   "cell_type": "markdown",
   "metadata": {}
  },
  {
   "cell_type": "code",
   "execution_count": 34,
   "metadata": {},
   "outputs": [],
   "source": [
    "#different submissions: differ by first layer of nueral net\n",
    "ind_var_selected_no_line = ['is_tourney', 'Hwins_top25','Rwins_top25','HPointMargin','RPointMargin','HFG','RFG','HFG3','RFG3','HRankPOM','RRankPOM','Hadjem','Hadjo','Hadjd','Hluck','Radjem','Radjo','Radjd','Rluck','Htourny20plus','Rtourny20plus','HBig4Conf','RBig4Conf', 'HSeed','RSeed']\n",
    "\n",
    "#train model on all data (previously held out some tournaments for a test set)\n",
    "nn = MLPClassifier(activation='relu', hidden_layer_sizes=(7,5,3),random_state=201, max_iter=1000)\n",
    "nn.fit(scaled_X_train_orig[ind_var_selected_no_line],y_train_orig)\n",
    "second_rd_submission_all = pd.DataFrame(nn.predict_proba(scaled_X_test[ind_var_selected_no_line]))"
   ]
  },
  {
   "cell_type": "code",
   "execution_count": 35,
   "metadata": {},
   "outputs": [],
   "source": [
    "#Note: I'm predicting home (lower seed) win probability. Need to convert to be consistent with output file (lower team ID)\n",
    "second_rd_submission = pd.merge(test_combos_df, second_rd_submission_all, left_index=True, right_index=True)"
   ]
  },
  {
   "cell_type": "code",
   "execution_count": 36,
   "metadata": {},
   "outputs": [],
   "source": [
    "second_rd_submission.loc[second_rd_submission['HTeamID']<second_rd_submission['RTeamID'], 'pred'] = second_rd_submission[1]\n",
    "second_rd_submission.loc[second_rd_submission['HTeamID']>second_rd_submission['RTeamID'], 'pred'] = second_rd_submission[0]"
   ]
  },
  {
   "cell_type": "code",
   "execution_count": 37,
   "metadata": {},
   "outputs": [],
   "source": [
    "second_rd_submission.to_csv('Ismail_second_rd_submission_all.csv', index=False)"
   ]
  },
  {
   "cell_type": "code",
   "execution_count": 38,
   "metadata": {},
   "outputs": [],
   "source": [
    "second_rd_submission = second_rd_submission[['ID','pred']]"
   ]
  },
  {
   "cell_type": "code",
   "execution_count": 39,
   "metadata": {},
   "outputs": [
    {
     "output_type": "execute_result",
     "data": {
      "text/plain": [
       "               ID      pred\n",
       "0  2015_1107_1112  0.032467\n",
       "1  2015_1107_1116  0.081709\n",
       "2  2015_1107_1124  0.123742\n",
       "3  2015_1107_1125  0.272260\n",
       "4  2015_1107_1129  0.124018"
      ],
      "text/html": "<div>\n<style scoped>\n    .dataframe tbody tr th:only-of-type {\n        vertical-align: middle;\n    }\n\n    .dataframe tbody tr th {\n        vertical-align: top;\n    }\n\n    .dataframe thead th {\n        text-align: right;\n    }\n</style>\n<table border=\"1\" class=\"dataframe\">\n  <thead>\n    <tr style=\"text-align: right;\">\n      <th></th>\n      <th>ID</th>\n      <th>pred</th>\n    </tr>\n  </thead>\n  <tbody>\n    <tr>\n      <th>0</th>\n      <td>2015_1107_1112</td>\n      <td>0.032467</td>\n    </tr>\n    <tr>\n      <th>1</th>\n      <td>2015_1107_1116</td>\n      <td>0.081709</td>\n    </tr>\n    <tr>\n      <th>2</th>\n      <td>2015_1107_1124</td>\n      <td>0.123742</td>\n    </tr>\n    <tr>\n      <th>3</th>\n      <td>2015_1107_1125</td>\n      <td>0.272260</td>\n    </tr>\n    <tr>\n      <th>4</th>\n      <td>2015_1107_1129</td>\n      <td>0.124018</td>\n    </tr>\n  </tbody>\n</table>\n</div>"
     },
     "metadata": {},
     "execution_count": 39
    }
   ],
   "source": [
    "second_rd_submission.head()"
   ]
  },
  {
   "cell_type": "code",
   "execution_count": 40,
   "metadata": {},
   "outputs": [
    {
     "output_type": "execute_result",
     "data": {
      "text/plain": [
       "                   ID      pred\n",
       "11385  2019_1449_1459  0.193480\n",
       "11386  2019_1449_1463  0.718824\n",
       "11387  2019_1458_1459  0.307783\n",
       "11388  2019_1458_1463  0.894145\n",
       "11389  2019_1459_1463  0.895318"
      ],
      "text/html": "<div>\n<style scoped>\n    .dataframe tbody tr th:only-of-type {\n        vertical-align: middle;\n    }\n\n    .dataframe tbody tr th {\n        vertical-align: top;\n    }\n\n    .dataframe thead th {\n        text-align: right;\n    }\n</style>\n<table border=\"1\" class=\"dataframe\">\n  <thead>\n    <tr style=\"text-align: right;\">\n      <th></th>\n      <th>ID</th>\n      <th>pred</th>\n    </tr>\n  </thead>\n  <tbody>\n    <tr>\n      <th>11385</th>\n      <td>2019_1449_1459</td>\n      <td>0.193480</td>\n    </tr>\n    <tr>\n      <th>11386</th>\n      <td>2019_1449_1463</td>\n      <td>0.718824</td>\n    </tr>\n    <tr>\n      <th>11387</th>\n      <td>2019_1458_1459</td>\n      <td>0.307783</td>\n    </tr>\n    <tr>\n      <th>11388</th>\n      <td>2019_1458_1463</td>\n      <td>0.894145</td>\n    </tr>\n    <tr>\n      <th>11389</th>\n      <td>2019_1459_1463</td>\n      <td>0.895318</td>\n    </tr>\n  </tbody>\n</table>\n</div>"
     },
     "metadata": {},
     "execution_count": 40
    }
   ],
   "source": [
    "second_rd_submission.tail()"
   ]
  },
  {
   "cell_type": "code",
   "execution_count": 41,
   "metadata": {},
   "outputs": [],
   "source": [
    "#Export to submit to Kaggle\n",
    "second_rd_submission.to_csv('Neera_submission.csv', index=False)"
   ]
  },
  {
   "source": [
    "Other models\n",
    "No model performed as well as the neural network\n",
    "\n",
    "XGBoost"
   ],
   "cell_type": "markdown",
   "metadata": {}
  },
  {
   "cell_type": "code",
   "execution_count": 42,
   "metadata": {},
   "outputs": [],
   "source": [
    "X_train = X_train[['is_tourney', 'Hwins_top25','Rwins_top25','HPointMargin','RPointMargin','HFG','RFG','HFG3','RFG3','HRankPOM','RRankPOM','Hadjem','Hadjo','Hadjd','Hluck','Radjem','Radjo','Radjd','Rluck','Htourny20plus','Rtourny20plus','HBig4Conf','RBig4Conf', 'HSeed','RSeed']]\n",
    "X_valid= X_valid[['is_tourney', 'Hwins_top25','Rwins_top25','HPointMargin','RPointMargin','HFG','RFG','HFG3','RFG3','HRankPOM','RRankPOM','Hadjem','Hadjo','Hadjd','Hluck','Radjem','Radjo','Radjd','Rluck','Htourny20plus','Rtourny20plus','HBig4Conf','RBig4Conf', 'HSeed','RSeed']]\n",
    "X_train_xgb = xgb.DMatrix(X_train, label = y_train)\n",
    "X_valid_xgb = xgb.DMatrix(X_valid)"
   ]
  },
  {
   "cell_type": "code",
   "execution_count": 43,
   "metadata": {},
   "outputs": [],
   "source": [
    "num_round_for_cv = 1000\n",
    "param = {'max_depth':3, 'eta':0.01, 'seed':201, 'objective':'binary:logistic', 'nthread':2}\n"
   ]
  },
  {
   "cell_type": "code",
   "execution_count": 44,
   "metadata": {},
   "outputs": [],
   "source": [
    "p = xgb.cv(param,\n",
    "       X_train_xgb,\n",
    "       num_round_for_cv,\n",
    "       nfold = 5,\n",
    "       show_stdv = False,\n",
    "       verbose_eval = False,\n",
    "       as_pandas = False)"
   ]
  },
  {
   "cell_type": "code",
   "execution_count": 45,
   "metadata": {},
   "outputs": [],
   "source": [
    "p = pd.DataFrame(p)\n",
    "use_num = p['test-error-mean'].argmin()"
   ]
  },
  {
   "cell_type": "code",
   "execution_count": 46,
   "metadata": {},
   "outputs": [],
   "source": [
    "num_round = use_num\n",
    "xgb_train = xgb.train(param, X_train_xgb, num_round)\n",
    "xgb_valid_prob = pd.Series(xgb_train.predict(X_valid_xgb))"
   ]
  },
  {
   "cell_type": "code",
   "execution_count": 47,
   "metadata": {},
   "outputs": [
    {
     "output_type": "display_data",
     "data": {
      "text/plain": "<Figure size 432x288 with 1 Axes>",
      "image/svg+xml": "<?xml version=\"1.0\" encoding=\"utf-8\" standalone=\"no\"?>\r\n<!DOCTYPE svg PUBLIC \"-//W3C//DTD SVG 1.1//EN\"\r\n  \"http://www.w3.org/Graphics/SVG/1.1/DTD/svg11.dtd\">\r\n<!-- Created with matplotlib (https://matplotlib.org/) -->\r\n<svg height=\"277.314375pt\" version=\"1.1\" viewBox=\"0 0 436.376562 277.314375\" width=\"436.376562pt\" xmlns=\"http://www.w3.org/2000/svg\" xmlns:xlink=\"http://www.w3.org/1999/xlink\">\r\n <defs>\r\n  <style type=\"text/css\">\r\n*{stroke-linecap:butt;stroke-linejoin:round;}\r\n  </style>\r\n </defs>\r\n <g id=\"figure_1\">\r\n  <g id=\"patch_1\">\r\n   <path d=\"M 0 277.314375 \r\nL 436.376562 277.314375 \r\nL 436.376562 0 \r\nL 0 0 \r\nz\r\n\" style=\"fill:none;\"/>\r\n  </g>\r\n  <g id=\"axes_1\">\r\n   <g id=\"patch_2\">\r\n    <path d=\"M 94.376563 239.758125 \r\nL 429.176563 239.758125 \r\nL 429.176563 22.318125 \r\nL 94.376563 22.318125 \r\nz\r\n\" style=\"fill:#ffffff;\"/>\r\n   </g>\r\n   <g id=\"patch_3\">\r\n    <path clip-path=\"url(#p28b5ca037f)\" d=\"M 94.376563 231.604125 \r\nL 95.519355 231.604125 \r\nL 95.519355 229.792125 \r\nL 94.376563 229.792125 \r\nz\r\n\" style=\"fill:#1f77b4;\"/>\r\n   </g>\r\n   <g id=\"patch_4\">\r\n    <path clip-path=\"url(#p28b5ca037f)\" d=\"M 94.376563 222.544125 \r\nL 96.281216 222.544125 \r\nL 96.281216 220.732125 \r\nL 94.376563 220.732125 \r\nz\r\n\" style=\"fill:#1f77b4;\"/>\r\n   </g>\r\n   <g id=\"patch_5\">\r\n    <path clip-path=\"url(#p28b5ca037f)\" d=\"M 94.376563 213.484125 \r\nL 99.328662 213.484125 \r\nL 99.328662 211.672125 \r\nL 94.376563 211.672125 \r\nz\r\n\" style=\"fill:#1f77b4;\"/>\r\n   </g>\r\n   <g id=\"patch_6\">\r\n    <path clip-path=\"url(#p28b5ca037f)\" d=\"M 94.376563 204.424125 \r\nL 101.614246 204.424125 \r\nL 101.614246 202.612125 \r\nL 94.376563 202.612125 \r\nz\r\n\" style=\"fill:#1f77b4;\"/>\r\n   </g>\r\n   <g id=\"patch_7\">\r\n    <path clip-path=\"url(#p28b5ca037f)\" d=\"M 94.376563 195.364125 \r\nL 102.757038 195.364125 \r\nL 102.757038 193.552125 \r\nL 94.376563 193.552125 \r\nz\r\n\" style=\"fill:#1f77b4;\"/>\r\n   </g>\r\n   <g id=\"patch_8\">\r\n    <path clip-path=\"url(#p28b5ca037f)\" d=\"M 94.376563 186.304125 \r\nL 103.89983 186.304125 \r\nL 103.89983 184.492125 \r\nL 94.376563 184.492125 \r\nz\r\n\" style=\"fill:#1f77b4;\"/>\r\n   </g>\r\n   <g id=\"patch_9\">\r\n    <path clip-path=\"url(#p28b5ca037f)\" d=\"M 94.376563 177.244125 \r\nL 104.280761 177.244125 \r\nL 104.280761 175.432125 \r\nL 94.376563 175.432125 \r\nz\r\n\" style=\"fill:#1f77b4;\"/>\r\n   </g>\r\n   <g id=\"patch_10\">\r\n    <path clip-path=\"url(#p28b5ca037f)\" d=\"M 94.376563 168.184125 \r\nL 106.947276 168.184125 \r\nL 106.947276 166.372125 \r\nL 94.376563 166.372125 \r\nz\r\n\" style=\"fill:#1f77b4;\"/>\r\n   </g>\r\n   <g id=\"patch_11\">\r\n    <path clip-path=\"url(#p28b5ca037f)\" d=\"M 94.376563 159.124125 \r\nL 108.090068 159.124125 \r\nL 108.090068 157.312125 \r\nL 94.376563 157.312125 \r\nz\r\n\" style=\"fill:#1f77b4;\"/>\r\n   </g>\r\n   <g id=\"patch_12\">\r\n    <path clip-path=\"url(#p28b5ca037f)\" d=\"M 94.376563 150.064125 \r\nL 116.089613 150.064125 \r\nL 116.089613 148.252125 \r\nL 94.376563 148.252125 \r\nz\r\n\" style=\"fill:#1f77b4;\"/>\r\n   </g>\r\n   <g id=\"patch_13\">\r\n    <path clip-path=\"url(#p28b5ca037f)\" d=\"M 94.376563 141.004125 \r\nL 120.660781 141.004125 \r\nL 120.660781 139.192125 \r\nL 94.376563 139.192125 \r\nz\r\n\" style=\"fill:#1f77b4;\"/>\r\n   </g>\r\n   <g id=\"patch_14\">\r\n    <path clip-path=\"url(#p28b5ca037f)\" d=\"M 94.376563 131.944125 \r\nL 129.041257 131.944125 \r\nL 129.041257 130.132125 \r\nL 94.376563 130.132125 \r\nz\r\n\" style=\"fill:#1f77b4;\"/>\r\n   </g>\r\n   <g id=\"patch_15\">\r\n    <path clip-path=\"url(#p28b5ca037f)\" d=\"M 94.376563 122.884125 \r\nL 133.993356 122.884125 \r\nL 133.993356 121.072125 \r\nL 94.376563 121.072125 \r\nz\r\n\" style=\"fill:#1f77b4;\"/>\r\n   </g>\r\n   <g id=\"patch_16\">\r\n    <path clip-path=\"url(#p28b5ca037f)\" d=\"M 94.376563 113.824125 \r\nL 158.753852 113.824125 \r\nL 158.753852 112.012125 \r\nL 94.376563 112.012125 \r\nz\r\n\" style=\"fill:#1f77b4;\"/>\r\n   </g>\r\n   <g id=\"patch_17\">\r\n    <path clip-path=\"url(#p28b5ca037f)\" d=\"M 94.376563 104.764125 \r\nL 169.800843 104.764125 \r\nL 169.800843 102.952125 \r\nL 94.376563 102.952125 \r\nz\r\n\" style=\"fill:#1f77b4;\"/>\r\n   </g>\r\n   <g id=\"patch_18\">\r\n    <path clip-path=\"url(#p28b5ca037f)\" d=\"M 94.376563 95.704125 \r\nL 227.702311 95.704125 \r\nL 227.702311 93.892125 \r\nL 94.376563 93.892125 \r\nz\r\n\" style=\"fill:#1f77b4;\"/>\r\n   </g>\r\n   <g id=\"patch_19\">\r\n    <path clip-path=\"url(#p28b5ca037f)\" d=\"M 94.376563 86.644125 \r\nL 229.987895 86.644125 \r\nL 229.987895 84.832125 \r\nL 94.376563 84.832125 \r\nz\r\n\" style=\"fill:#1f77b4;\"/>\r\n   </g>\r\n   <g id=\"patch_20\">\r\n    <path clip-path=\"url(#p28b5ca037f)\" d=\"M 94.376563 77.584125 \r\nL 231.892548 77.584125 \r\nL 231.892548 75.772125 \r\nL 94.376563 75.772125 \r\nz\r\n\" style=\"fill:#1f77b4;\"/>\r\n   </g>\r\n   <g id=\"patch_21\">\r\n    <path clip-path=\"url(#p28b5ca037f)\" d=\"M 94.376563 68.524125 \r\nL 247.891638 68.524125 \r\nL 247.891638 66.712125 \r\nL 94.376563 66.712125 \r\nz\r\n\" style=\"fill:#1f77b4;\"/>\r\n   </g>\r\n   <g id=\"patch_22\">\r\n    <path clip-path=\"url(#p28b5ca037f)\" d=\"M 94.376563 59.464125 \r\nL 251.320015 59.464125 \r\nL 251.320015 57.652125 \r\nL 94.376563 57.652125 \r\nz\r\n\" style=\"fill:#1f77b4;\"/>\r\n   </g>\r\n   <g id=\"patch_23\">\r\n    <path clip-path=\"url(#p28b5ca037f)\" d=\"M 94.376563 50.404125 \r\nL 261.986074 50.404125 \r\nL 261.986074 48.592125 \r\nL 94.376563 48.592125 \r\nz\r\n\" style=\"fill:#1f77b4;\"/>\r\n   </g>\r\n   <g id=\"patch_24\">\r\n    <path clip-path=\"url(#p28b5ca037f)\" d=\"M 94.376563 41.344125 \r\nL 376.265287 41.344125 \r\nL 376.265287 39.532125 \r\nL 94.376563 39.532125 \r\nz\r\n\" style=\"fill:#1f77b4;\"/>\r\n   </g>\r\n   <g id=\"patch_25\">\r\n    <path clip-path=\"url(#p28b5ca037f)\" d=\"M 94.376563 32.284125 \r\nL 398.740199 32.284125 \r\nL 398.740199 30.472125 \r\nL 94.376563 30.472125 \r\nz\r\n\" style=\"fill:#1f77b4;\"/>\r\n   </g>\r\n   <g id=\"matplotlib.axis_1\">\r\n    <g id=\"xtick_1\">\r\n     <g id=\"line2d_1\">\r\n      <path clip-path=\"url(#p28b5ca037f)\" d=\"M 94.376563 239.758125 \r\nL 94.376563 22.318125 \r\n\" style=\"fill:none;stroke:#b0b0b0;stroke-linecap:square;stroke-width:0.8;\"/>\r\n     </g>\r\n     <g id=\"line2d_2\">\r\n      <defs>\r\n       <path d=\"M 0 0 \r\nL 0 3.5 \r\n\" id=\"mabbaf98422\" style=\"stroke:#000000;stroke-width:0.8;\"/>\r\n      </defs>\r\n      <g>\r\n       <use style=\"stroke:#000000;stroke-width:0.8;\" x=\"94.376563\" xlink:href=\"#mabbaf98422\" y=\"239.758125\"/>\r\n      </g>\r\n     </g>\r\n     <g id=\"text_1\">\r\n      <!-- 0 -->\r\n      <defs>\r\n       <path d=\"M 31.78125 66.40625 \r\nQ 24.171875 66.40625 20.328125 58.90625 \r\nQ 16.5 51.421875 16.5 36.375 \r\nQ 16.5 21.390625 20.328125 13.890625 \r\nQ 24.171875 6.390625 31.78125 6.390625 \r\nQ 39.453125 6.390625 43.28125 13.890625 \r\nQ 47.125 21.390625 47.125 36.375 \r\nQ 47.125 51.421875 43.28125 58.90625 \r\nQ 39.453125 66.40625 31.78125 66.40625 \r\nz\r\nM 31.78125 74.21875 \r\nQ 44.046875 74.21875 50.515625 64.515625 \r\nQ 56.984375 54.828125 56.984375 36.375 \r\nQ 56.984375 17.96875 50.515625 8.265625 \r\nQ 44.046875 -1.421875 31.78125 -1.421875 \r\nQ 19.53125 -1.421875 13.0625 8.265625 \r\nQ 6.59375 17.96875 6.59375 36.375 \r\nQ 6.59375 54.828125 13.0625 64.515625 \r\nQ 19.53125 74.21875 31.78125 74.21875 \r\nz\r\n\" id=\"DejaVuSans-48\"/>\r\n      </defs>\r\n      <g transform=\"translate(91.195312 254.356562)scale(0.1 -0.1)\">\r\n       <use xlink:href=\"#DejaVuSans-48\"/>\r\n      </g>\r\n     </g>\r\n    </g>\r\n    <g id=\"xtick_2\">\r\n     <g id=\"line2d_3\">\r\n      <path clip-path=\"url(#p28b5ca037f)\" d=\"M 132.469633 239.758125 \r\nL 132.469633 22.318125 \r\n\" style=\"fill:none;stroke:#b0b0b0;stroke-linecap:square;stroke-width:0.8;\"/>\r\n     </g>\r\n     <g id=\"line2d_4\">\r\n      <g>\r\n       <use style=\"stroke:#000000;stroke-width:0.8;\" x=\"132.469633\" xlink:href=\"#mabbaf98422\" y=\"239.758125\"/>\r\n      </g>\r\n     </g>\r\n     <g id=\"text_2\">\r\n      <!-- 100 -->\r\n      <defs>\r\n       <path d=\"M 12.40625 8.296875 \r\nL 28.515625 8.296875 \r\nL 28.515625 63.921875 \r\nL 10.984375 60.40625 \r\nL 10.984375 69.390625 \r\nL 28.421875 72.90625 \r\nL 38.28125 72.90625 \r\nL 38.28125 8.296875 \r\nL 54.390625 8.296875 \r\nL 54.390625 0 \r\nL 12.40625 0 \r\nz\r\n\" id=\"DejaVuSans-49\"/>\r\n      </defs>\r\n      <g transform=\"translate(122.925883 254.356562)scale(0.1 -0.1)\">\r\n       <use xlink:href=\"#DejaVuSans-49\"/>\r\n       <use x=\"63.623047\" xlink:href=\"#DejaVuSans-48\"/>\r\n       <use x=\"127.246094\" xlink:href=\"#DejaVuSans-48\"/>\r\n      </g>\r\n     </g>\r\n    </g>\r\n    <g id=\"xtick_3\">\r\n     <g id=\"line2d_5\">\r\n      <path clip-path=\"url(#p28b5ca037f)\" d=\"M 170.562704 239.758125 \r\nL 170.562704 22.318125 \r\n\" style=\"fill:none;stroke:#b0b0b0;stroke-linecap:square;stroke-width:0.8;\"/>\r\n     </g>\r\n     <g id=\"line2d_6\">\r\n      <g>\r\n       <use style=\"stroke:#000000;stroke-width:0.8;\" x=\"170.562704\" xlink:href=\"#mabbaf98422\" y=\"239.758125\"/>\r\n      </g>\r\n     </g>\r\n     <g id=\"text_3\">\r\n      <!-- 200 -->\r\n      <defs>\r\n       <path d=\"M 19.1875 8.296875 \r\nL 53.609375 8.296875 \r\nL 53.609375 0 \r\nL 7.328125 0 \r\nL 7.328125 8.296875 \r\nQ 12.9375 14.109375 22.625 23.890625 \r\nQ 32.328125 33.6875 34.8125 36.53125 \r\nQ 39.546875 41.84375 41.421875 45.53125 \r\nQ 43.3125 49.21875 43.3125 52.78125 \r\nQ 43.3125 58.59375 39.234375 62.25 \r\nQ 35.15625 65.921875 28.609375 65.921875 \r\nQ 23.96875 65.921875 18.8125 64.3125 \r\nQ 13.671875 62.703125 7.8125 59.421875 \r\nL 7.8125 69.390625 \r\nQ 13.765625 71.78125 18.9375 73 \r\nQ 24.125 74.21875 28.421875 74.21875 \r\nQ 39.75 74.21875 46.484375 68.546875 \r\nQ 53.21875 62.890625 53.21875 53.421875 \r\nQ 53.21875 48.921875 51.53125 44.890625 \r\nQ 49.859375 40.875 45.40625 35.40625 \r\nQ 44.1875 33.984375 37.640625 27.21875 \r\nQ 31.109375 20.453125 19.1875 8.296875 \r\nz\r\n\" id=\"DejaVuSans-50\"/>\r\n      </defs>\r\n      <g transform=\"translate(161.018954 254.356562)scale(0.1 -0.1)\">\r\n       <use xlink:href=\"#DejaVuSans-50\"/>\r\n       <use x=\"63.623047\" xlink:href=\"#DejaVuSans-48\"/>\r\n       <use x=\"127.246094\" xlink:href=\"#DejaVuSans-48\"/>\r\n      </g>\r\n     </g>\r\n    </g>\r\n    <g id=\"xtick_4\">\r\n     <g id=\"line2d_7\">\r\n      <path clip-path=\"url(#p28b5ca037f)\" d=\"M 208.655775 239.758125 \r\nL 208.655775 22.318125 \r\n\" style=\"fill:none;stroke:#b0b0b0;stroke-linecap:square;stroke-width:0.8;\"/>\r\n     </g>\r\n     <g id=\"line2d_8\">\r\n      <g>\r\n       <use style=\"stroke:#000000;stroke-width:0.8;\" x=\"208.655775\" xlink:href=\"#mabbaf98422\" y=\"239.758125\"/>\r\n      </g>\r\n     </g>\r\n     <g id=\"text_4\">\r\n      <!-- 300 -->\r\n      <defs>\r\n       <path d=\"M 40.578125 39.3125 \r\nQ 47.65625 37.796875 51.625 33 \r\nQ 55.609375 28.21875 55.609375 21.1875 \r\nQ 55.609375 10.40625 48.1875 4.484375 \r\nQ 40.765625 -1.421875 27.09375 -1.421875 \r\nQ 22.515625 -1.421875 17.65625 -0.515625 \r\nQ 12.796875 0.390625 7.625 2.203125 \r\nL 7.625 11.71875 \r\nQ 11.71875 9.328125 16.59375 8.109375 \r\nQ 21.484375 6.890625 26.8125 6.890625 \r\nQ 36.078125 6.890625 40.9375 10.546875 \r\nQ 45.796875 14.203125 45.796875 21.1875 \r\nQ 45.796875 27.640625 41.28125 31.265625 \r\nQ 36.765625 34.90625 28.71875 34.90625 \r\nL 20.21875 34.90625 \r\nL 20.21875 43.015625 \r\nL 29.109375 43.015625 \r\nQ 36.375 43.015625 40.234375 45.921875 \r\nQ 44.09375 48.828125 44.09375 54.296875 \r\nQ 44.09375 59.90625 40.109375 62.90625 \r\nQ 36.140625 65.921875 28.71875 65.921875 \r\nQ 24.65625 65.921875 20.015625 65.03125 \r\nQ 15.375 64.15625 9.8125 62.3125 \r\nL 9.8125 71.09375 \r\nQ 15.4375 72.65625 20.34375 73.4375 \r\nQ 25.25 74.21875 29.59375 74.21875 \r\nQ 40.828125 74.21875 47.359375 69.109375 \r\nQ 53.90625 64.015625 53.90625 55.328125 \r\nQ 53.90625 49.265625 50.4375 45.09375 \r\nQ 46.96875 40.921875 40.578125 39.3125 \r\nz\r\n\" id=\"DejaVuSans-51\"/>\r\n      </defs>\r\n      <g transform=\"translate(199.112025 254.356562)scale(0.1 -0.1)\">\r\n       <use xlink:href=\"#DejaVuSans-51\"/>\r\n       <use x=\"63.623047\" xlink:href=\"#DejaVuSans-48\"/>\r\n       <use x=\"127.246094\" xlink:href=\"#DejaVuSans-48\"/>\r\n      </g>\r\n     </g>\r\n    </g>\r\n    <g id=\"xtick_5\">\r\n     <g id=\"line2d_9\">\r\n      <path clip-path=\"url(#p28b5ca037f)\" d=\"M 246.748846 239.758125 \r\nL 246.748846 22.318125 \r\n\" style=\"fill:none;stroke:#b0b0b0;stroke-linecap:square;stroke-width:0.8;\"/>\r\n     </g>\r\n     <g id=\"line2d_10\">\r\n      <g>\r\n       <use style=\"stroke:#000000;stroke-width:0.8;\" x=\"246.748846\" xlink:href=\"#mabbaf98422\" y=\"239.758125\"/>\r\n      </g>\r\n     </g>\r\n     <g id=\"text_5\">\r\n      <!-- 400 -->\r\n      <defs>\r\n       <path d=\"M 37.796875 64.3125 \r\nL 12.890625 25.390625 \r\nL 37.796875 25.390625 \r\nz\r\nM 35.203125 72.90625 \r\nL 47.609375 72.90625 \r\nL 47.609375 25.390625 \r\nL 58.015625 25.390625 \r\nL 58.015625 17.1875 \r\nL 47.609375 17.1875 \r\nL 47.609375 0 \r\nL 37.796875 0 \r\nL 37.796875 17.1875 \r\nL 4.890625 17.1875 \r\nL 4.890625 26.703125 \r\nz\r\n\" id=\"DejaVuSans-52\"/>\r\n      </defs>\r\n      <g transform=\"translate(237.205096 254.356562)scale(0.1 -0.1)\">\r\n       <use xlink:href=\"#DejaVuSans-52\"/>\r\n       <use x=\"63.623047\" xlink:href=\"#DejaVuSans-48\"/>\r\n       <use x=\"127.246094\" xlink:href=\"#DejaVuSans-48\"/>\r\n      </g>\r\n     </g>\r\n    </g>\r\n    <g id=\"xtick_6\">\r\n     <g id=\"line2d_11\">\r\n      <path clip-path=\"url(#p28b5ca037f)\" d=\"M 284.841917 239.758125 \r\nL 284.841917 22.318125 \r\n\" style=\"fill:none;stroke:#b0b0b0;stroke-linecap:square;stroke-width:0.8;\"/>\r\n     </g>\r\n     <g id=\"line2d_12\">\r\n      <g>\r\n       <use style=\"stroke:#000000;stroke-width:0.8;\" x=\"284.841917\" xlink:href=\"#mabbaf98422\" y=\"239.758125\"/>\r\n      </g>\r\n     </g>\r\n     <g id=\"text_6\">\r\n      <!-- 500 -->\r\n      <defs>\r\n       <path d=\"M 10.796875 72.90625 \r\nL 49.515625 72.90625 \r\nL 49.515625 64.59375 \r\nL 19.828125 64.59375 \r\nL 19.828125 46.734375 \r\nQ 21.96875 47.46875 24.109375 47.828125 \r\nQ 26.265625 48.1875 28.421875 48.1875 \r\nQ 40.625 48.1875 47.75 41.5 \r\nQ 54.890625 34.8125 54.890625 23.390625 \r\nQ 54.890625 11.625 47.5625 5.09375 \r\nQ 40.234375 -1.421875 26.90625 -1.421875 \r\nQ 22.3125 -1.421875 17.546875 -0.640625 \r\nQ 12.796875 0.140625 7.71875 1.703125 \r\nL 7.71875 11.625 \r\nQ 12.109375 9.234375 16.796875 8.0625 \r\nQ 21.484375 6.890625 26.703125 6.890625 \r\nQ 35.15625 6.890625 40.078125 11.328125 \r\nQ 45.015625 15.765625 45.015625 23.390625 \r\nQ 45.015625 31 40.078125 35.4375 \r\nQ 35.15625 39.890625 26.703125 39.890625 \r\nQ 22.75 39.890625 18.8125 39.015625 \r\nQ 14.890625 38.140625 10.796875 36.28125 \r\nz\r\n\" id=\"DejaVuSans-53\"/>\r\n      </defs>\r\n      <g transform=\"translate(275.298167 254.356562)scale(0.1 -0.1)\">\r\n       <use xlink:href=\"#DejaVuSans-53\"/>\r\n       <use x=\"63.623047\" xlink:href=\"#DejaVuSans-48\"/>\r\n       <use x=\"127.246094\" xlink:href=\"#DejaVuSans-48\"/>\r\n      </g>\r\n     </g>\r\n    </g>\r\n    <g id=\"xtick_7\">\r\n     <g id=\"line2d_13\">\r\n      <path clip-path=\"url(#p28b5ca037f)\" d=\"M 322.934988 239.758125 \r\nL 322.934988 22.318125 \r\n\" style=\"fill:none;stroke:#b0b0b0;stroke-linecap:square;stroke-width:0.8;\"/>\r\n     </g>\r\n     <g id=\"line2d_14\">\r\n      <g>\r\n       <use style=\"stroke:#000000;stroke-width:0.8;\" x=\"322.934988\" xlink:href=\"#mabbaf98422\" y=\"239.758125\"/>\r\n      </g>\r\n     </g>\r\n     <g id=\"text_7\">\r\n      <!-- 600 -->\r\n      <defs>\r\n       <path d=\"M 33.015625 40.375 \r\nQ 26.375 40.375 22.484375 35.828125 \r\nQ 18.609375 31.296875 18.609375 23.390625 \r\nQ 18.609375 15.53125 22.484375 10.953125 \r\nQ 26.375 6.390625 33.015625 6.390625 \r\nQ 39.65625 6.390625 43.53125 10.953125 \r\nQ 47.40625 15.53125 47.40625 23.390625 \r\nQ 47.40625 31.296875 43.53125 35.828125 \r\nQ 39.65625 40.375 33.015625 40.375 \r\nz\r\nM 52.59375 71.296875 \r\nL 52.59375 62.3125 \r\nQ 48.875 64.0625 45.09375 64.984375 \r\nQ 41.3125 65.921875 37.59375 65.921875 \r\nQ 27.828125 65.921875 22.671875 59.328125 \r\nQ 17.53125 52.734375 16.796875 39.40625 \r\nQ 19.671875 43.65625 24.015625 45.921875 \r\nQ 28.375 48.1875 33.59375 48.1875 \r\nQ 44.578125 48.1875 50.953125 41.515625 \r\nQ 57.328125 34.859375 57.328125 23.390625 \r\nQ 57.328125 12.15625 50.6875 5.359375 \r\nQ 44.046875 -1.421875 33.015625 -1.421875 \r\nQ 20.359375 -1.421875 13.671875 8.265625 \r\nQ 6.984375 17.96875 6.984375 36.375 \r\nQ 6.984375 53.65625 15.1875 63.9375 \r\nQ 23.390625 74.21875 37.203125 74.21875 \r\nQ 40.921875 74.21875 44.703125 73.484375 \r\nQ 48.484375 72.75 52.59375 71.296875 \r\nz\r\n\" id=\"DejaVuSans-54\"/>\r\n      </defs>\r\n      <g transform=\"translate(313.391238 254.356562)scale(0.1 -0.1)\">\r\n       <use xlink:href=\"#DejaVuSans-54\"/>\r\n       <use x=\"63.623047\" xlink:href=\"#DejaVuSans-48\"/>\r\n       <use x=\"127.246094\" xlink:href=\"#DejaVuSans-48\"/>\r\n      </g>\r\n     </g>\r\n    </g>\r\n    <g id=\"xtick_8\">\r\n     <g id=\"line2d_15\">\r\n      <path clip-path=\"url(#p28b5ca037f)\" d=\"M 361.028059 239.758125 \r\nL 361.028059 22.318125 \r\n\" style=\"fill:none;stroke:#b0b0b0;stroke-linecap:square;stroke-width:0.8;\"/>\r\n     </g>\r\n     <g id=\"line2d_16\">\r\n      <g>\r\n       <use style=\"stroke:#000000;stroke-width:0.8;\" x=\"361.028059\" xlink:href=\"#mabbaf98422\" y=\"239.758125\"/>\r\n      </g>\r\n     </g>\r\n     <g id=\"text_8\">\r\n      <!-- 700 -->\r\n      <defs>\r\n       <path d=\"M 8.203125 72.90625 \r\nL 55.078125 72.90625 \r\nL 55.078125 68.703125 \r\nL 28.609375 0 \r\nL 18.3125 0 \r\nL 43.21875 64.59375 \r\nL 8.203125 64.59375 \r\nz\r\n\" id=\"DejaVuSans-55\"/>\r\n      </defs>\r\n      <g transform=\"translate(351.484309 254.356562)scale(0.1 -0.1)\">\r\n       <use xlink:href=\"#DejaVuSans-55\"/>\r\n       <use x=\"63.623047\" xlink:href=\"#DejaVuSans-48\"/>\r\n       <use x=\"127.246094\" xlink:href=\"#DejaVuSans-48\"/>\r\n      </g>\r\n     </g>\r\n    </g>\r\n    <g id=\"xtick_9\">\r\n     <g id=\"line2d_17\">\r\n      <path clip-path=\"url(#p28b5ca037f)\" d=\"M 399.12113 239.758125 \r\nL 399.12113 22.318125 \r\n\" style=\"fill:none;stroke:#b0b0b0;stroke-linecap:square;stroke-width:0.8;\"/>\r\n     </g>\r\n     <g id=\"line2d_18\">\r\n      <g>\r\n       <use style=\"stroke:#000000;stroke-width:0.8;\" x=\"399.12113\" xlink:href=\"#mabbaf98422\" y=\"239.758125\"/>\r\n      </g>\r\n     </g>\r\n     <g id=\"text_9\">\r\n      <!-- 800 -->\r\n      <defs>\r\n       <path d=\"M 31.78125 34.625 \r\nQ 24.75 34.625 20.71875 30.859375 \r\nQ 16.703125 27.09375 16.703125 20.515625 \r\nQ 16.703125 13.921875 20.71875 10.15625 \r\nQ 24.75 6.390625 31.78125 6.390625 \r\nQ 38.8125 6.390625 42.859375 10.171875 \r\nQ 46.921875 13.96875 46.921875 20.515625 \r\nQ 46.921875 27.09375 42.890625 30.859375 \r\nQ 38.875 34.625 31.78125 34.625 \r\nz\r\nM 21.921875 38.8125 \r\nQ 15.578125 40.375 12.03125 44.71875 \r\nQ 8.5 49.078125 8.5 55.328125 \r\nQ 8.5 64.0625 14.71875 69.140625 \r\nQ 20.953125 74.21875 31.78125 74.21875 \r\nQ 42.671875 74.21875 48.875 69.140625 \r\nQ 55.078125 64.0625 55.078125 55.328125 \r\nQ 55.078125 49.078125 51.53125 44.71875 \r\nQ 48 40.375 41.703125 38.8125 \r\nQ 48.828125 37.15625 52.796875 32.3125 \r\nQ 56.78125 27.484375 56.78125 20.515625 \r\nQ 56.78125 9.90625 50.3125 4.234375 \r\nQ 43.84375 -1.421875 31.78125 -1.421875 \r\nQ 19.734375 -1.421875 13.25 4.234375 \r\nQ 6.78125 9.90625 6.78125 20.515625 \r\nQ 6.78125 27.484375 10.78125 32.3125 \r\nQ 14.796875 37.15625 21.921875 38.8125 \r\nz\r\nM 18.3125 54.390625 \r\nQ 18.3125 48.734375 21.84375 45.5625 \r\nQ 25.390625 42.390625 31.78125 42.390625 \r\nQ 38.140625 42.390625 41.71875 45.5625 \r\nQ 45.3125 48.734375 45.3125 54.390625 \r\nQ 45.3125 60.0625 41.71875 63.234375 \r\nQ 38.140625 66.40625 31.78125 66.40625 \r\nQ 25.390625 66.40625 21.84375 63.234375 \r\nQ 18.3125 60.0625 18.3125 54.390625 \r\nz\r\n\" id=\"DejaVuSans-56\"/>\r\n      </defs>\r\n      <g transform=\"translate(389.57738 254.356562)scale(0.1 -0.1)\">\r\n       <use xlink:href=\"#DejaVuSans-56\"/>\r\n       <use x=\"63.623047\" xlink:href=\"#DejaVuSans-48\"/>\r\n       <use x=\"127.246094\" xlink:href=\"#DejaVuSans-48\"/>\r\n      </g>\r\n     </g>\r\n    </g>\r\n    <g id=\"text_10\">\r\n     <!-- F score -->\r\n     <defs>\r\n      <path d=\"M 9.8125 72.90625 \r\nL 51.703125 72.90625 \r\nL 51.703125 64.59375 \r\nL 19.671875 64.59375 \r\nL 19.671875 43.109375 \r\nL 48.578125 43.109375 \r\nL 48.578125 34.8125 \r\nL 19.671875 34.8125 \r\nL 19.671875 0 \r\nL 9.8125 0 \r\nz\r\n\" id=\"DejaVuSans-70\"/>\r\n      <path id=\"DejaVuSans-32\"/>\r\n      <path d=\"M 44.28125 53.078125 \r\nL 44.28125 44.578125 \r\nQ 40.484375 46.53125 36.375 47.5 \r\nQ 32.28125 48.484375 27.875 48.484375 \r\nQ 21.1875 48.484375 17.84375 46.4375 \r\nQ 14.5 44.390625 14.5 40.28125 \r\nQ 14.5 37.15625 16.890625 35.375 \r\nQ 19.28125 33.59375 26.515625 31.984375 \r\nL 29.59375 31.296875 \r\nQ 39.15625 29.25 43.1875 25.515625 \r\nQ 47.21875 21.78125 47.21875 15.09375 \r\nQ 47.21875 7.46875 41.1875 3.015625 \r\nQ 35.15625 -1.421875 24.609375 -1.421875 \r\nQ 20.21875 -1.421875 15.453125 -0.5625 \r\nQ 10.6875 0.296875 5.421875 2 \r\nL 5.421875 11.28125 \r\nQ 10.40625 8.6875 15.234375 7.390625 \r\nQ 20.0625 6.109375 24.8125 6.109375 \r\nQ 31.15625 6.109375 34.5625 8.28125 \r\nQ 37.984375 10.453125 37.984375 14.40625 \r\nQ 37.984375 18.0625 35.515625 20.015625 \r\nQ 33.0625 21.96875 24.703125 23.78125 \r\nL 21.578125 24.515625 \r\nQ 13.234375 26.265625 9.515625 29.90625 \r\nQ 5.8125 33.546875 5.8125 39.890625 \r\nQ 5.8125 47.609375 11.28125 51.796875 \r\nQ 16.75 56 26.8125 56 \r\nQ 31.78125 56 36.171875 55.265625 \r\nQ 40.578125 54.546875 44.28125 53.078125 \r\nz\r\n\" id=\"DejaVuSans-115\"/>\r\n      <path d=\"M 48.78125 52.59375 \r\nL 48.78125 44.1875 \r\nQ 44.96875 46.296875 41.140625 47.34375 \r\nQ 37.3125 48.390625 33.40625 48.390625 \r\nQ 24.65625 48.390625 19.8125 42.84375 \r\nQ 14.984375 37.3125 14.984375 27.296875 \r\nQ 14.984375 17.28125 19.8125 11.734375 \r\nQ 24.65625 6.203125 33.40625 6.203125 \r\nQ 37.3125 6.203125 41.140625 7.25 \r\nQ 44.96875 8.296875 48.78125 10.40625 \r\nL 48.78125 2.09375 \r\nQ 45.015625 0.34375 40.984375 -0.53125 \r\nQ 36.96875 -1.421875 32.421875 -1.421875 \r\nQ 20.0625 -1.421875 12.78125 6.34375 \r\nQ 5.515625 14.109375 5.515625 27.296875 \r\nQ 5.515625 40.671875 12.859375 48.328125 \r\nQ 20.21875 56 33.015625 56 \r\nQ 37.15625 56 41.109375 55.140625 \r\nQ 45.0625 54.296875 48.78125 52.59375 \r\nz\r\n\" id=\"DejaVuSans-99\"/>\r\n      <path d=\"M 30.609375 48.390625 \r\nQ 23.390625 48.390625 19.1875 42.75 \r\nQ 14.984375 37.109375 14.984375 27.296875 \r\nQ 14.984375 17.484375 19.15625 11.84375 \r\nQ 23.34375 6.203125 30.609375 6.203125 \r\nQ 37.796875 6.203125 41.984375 11.859375 \r\nQ 46.1875 17.53125 46.1875 27.296875 \r\nQ 46.1875 37.015625 41.984375 42.703125 \r\nQ 37.796875 48.390625 30.609375 48.390625 \r\nz\r\nM 30.609375 56 \r\nQ 42.328125 56 49.015625 48.375 \r\nQ 55.71875 40.765625 55.71875 27.296875 \r\nQ 55.71875 13.875 49.015625 6.21875 \r\nQ 42.328125 -1.421875 30.609375 -1.421875 \r\nQ 18.84375 -1.421875 12.171875 6.21875 \r\nQ 5.515625 13.875 5.515625 27.296875 \r\nQ 5.515625 40.765625 12.171875 48.375 \r\nQ 18.84375 56 30.609375 56 \r\nz\r\n\" id=\"DejaVuSans-111\"/>\r\n      <path d=\"M 41.109375 46.296875 \r\nQ 39.59375 47.171875 37.8125 47.578125 \r\nQ 36.03125 48 33.890625 48 \r\nQ 26.265625 48 22.1875 43.046875 \r\nQ 18.109375 38.09375 18.109375 28.8125 \r\nL 18.109375 0 \r\nL 9.078125 0 \r\nL 9.078125 54.6875 \r\nL 18.109375 54.6875 \r\nL 18.109375 46.1875 \r\nQ 20.953125 51.171875 25.484375 53.578125 \r\nQ 30.03125 56 36.53125 56 \r\nQ 37.453125 56 38.578125 55.875 \r\nQ 39.703125 55.765625 41.0625 55.515625 \r\nz\r\n\" id=\"DejaVuSans-114\"/>\r\n      <path d=\"M 56.203125 29.59375 \r\nL 56.203125 25.203125 \r\nL 14.890625 25.203125 \r\nQ 15.484375 15.921875 20.484375 11.0625 \r\nQ 25.484375 6.203125 34.421875 6.203125 \r\nQ 39.59375 6.203125 44.453125 7.46875 \r\nQ 49.3125 8.734375 54.109375 11.28125 \r\nL 54.109375 2.78125 \r\nQ 49.265625 0.734375 44.1875 -0.34375 \r\nQ 39.109375 -1.421875 33.890625 -1.421875 \r\nQ 20.796875 -1.421875 13.15625 6.1875 \r\nQ 5.515625 13.8125 5.515625 26.8125 \r\nQ 5.515625 40.234375 12.765625 48.109375 \r\nQ 20.015625 56 32.328125 56 \r\nQ 43.359375 56 49.78125 48.890625 \r\nQ 56.203125 41.796875 56.203125 29.59375 \r\nz\r\nM 47.21875 32.234375 \r\nQ 47.125 39.59375 43.09375 43.984375 \r\nQ 39.0625 48.390625 32.421875 48.390625 \r\nQ 24.90625 48.390625 20.390625 44.140625 \r\nQ 15.875 39.890625 15.1875 32.171875 \r\nz\r\n\" id=\"DejaVuSans-101\"/>\r\n     </defs>\r\n     <g transform=\"translate(243.878906 268.034687)scale(0.1 -0.1)\">\r\n      <use xlink:href=\"#DejaVuSans-70\"/>\r\n      <use x=\"57.519531\" xlink:href=\"#DejaVuSans-32\"/>\r\n      <use x=\"89.306641\" xlink:href=\"#DejaVuSans-115\"/>\r\n      <use x=\"141.40625\" xlink:href=\"#DejaVuSans-99\"/>\r\n      <use x=\"196.386719\" xlink:href=\"#DejaVuSans-111\"/>\r\n      <use x=\"257.568359\" xlink:href=\"#DejaVuSans-114\"/>\r\n      <use x=\"296.431641\" xlink:href=\"#DejaVuSans-101\"/>\r\n     </g>\r\n    </g>\r\n   </g>\r\n   <g id=\"matplotlib.axis_2\">\r\n    <g id=\"ytick_1\">\r\n     <g id=\"line2d_19\">\r\n      <path clip-path=\"url(#p28b5ca037f)\" d=\"M 94.376563 230.698125 \r\nL 429.176563 230.698125 \r\n\" style=\"fill:none;stroke:#b0b0b0;stroke-linecap:square;stroke-width:0.8;\"/>\r\n     </g>\r\n     <g id=\"line2d_20\">\r\n      <defs>\r\n       <path d=\"M 0 0 \r\nL -3.5 0 \r\n\" id=\"m126fb1e994\" style=\"stroke:#000000;stroke-width:0.8;\"/>\r\n      </defs>\r\n      <g>\r\n       <use style=\"stroke:#000000;stroke-width:0.8;\" x=\"94.376563\" xlink:href=\"#m126fb1e994\" y=\"230.698125\"/>\r\n      </g>\r\n     </g>\r\n     <g id=\"text_11\">\r\n      <!-- HBig4Conf -->\r\n      <defs>\r\n       <path d=\"M 9.8125 72.90625 \r\nL 19.671875 72.90625 \r\nL 19.671875 43.015625 \r\nL 55.515625 43.015625 \r\nL 55.515625 72.90625 \r\nL 65.375 72.90625 \r\nL 65.375 0 \r\nL 55.515625 0 \r\nL 55.515625 34.71875 \r\nL 19.671875 34.71875 \r\nL 19.671875 0 \r\nL 9.8125 0 \r\nz\r\n\" id=\"DejaVuSans-72\"/>\r\n       <path d=\"M 19.671875 34.8125 \r\nL 19.671875 8.109375 \r\nL 35.5 8.109375 \r\nQ 43.453125 8.109375 47.28125 11.40625 \r\nQ 51.125 14.703125 51.125 21.484375 \r\nQ 51.125 28.328125 47.28125 31.5625 \r\nQ 43.453125 34.8125 35.5 34.8125 \r\nz\r\nM 19.671875 64.796875 \r\nL 19.671875 42.828125 \r\nL 34.28125 42.828125 \r\nQ 41.5 42.828125 45.03125 45.53125 \r\nQ 48.578125 48.25 48.578125 53.8125 \r\nQ 48.578125 59.328125 45.03125 62.0625 \r\nQ 41.5 64.796875 34.28125 64.796875 \r\nz\r\nM 9.8125 72.90625 \r\nL 35.015625 72.90625 \r\nQ 46.296875 72.90625 52.390625 68.21875 \r\nQ 58.5 63.53125 58.5 54.890625 \r\nQ 58.5 48.1875 55.375 44.234375 \r\nQ 52.25 40.28125 46.1875 39.3125 \r\nQ 53.46875 37.75 57.5 32.78125 \r\nQ 61.53125 27.828125 61.53125 20.40625 \r\nQ 61.53125 10.640625 54.890625 5.3125 \r\nQ 48.25 0 35.984375 0 \r\nL 9.8125 0 \r\nz\r\n\" id=\"DejaVuSans-66\"/>\r\n       <path d=\"M 9.421875 54.6875 \r\nL 18.40625 54.6875 \r\nL 18.40625 0 \r\nL 9.421875 0 \r\nz\r\nM 9.421875 75.984375 \r\nL 18.40625 75.984375 \r\nL 18.40625 64.59375 \r\nL 9.421875 64.59375 \r\nz\r\n\" id=\"DejaVuSans-105\"/>\r\n       <path d=\"M 45.40625 27.984375 \r\nQ 45.40625 37.75 41.375 43.109375 \r\nQ 37.359375 48.484375 30.078125 48.484375 \r\nQ 22.859375 48.484375 18.828125 43.109375 \r\nQ 14.796875 37.75 14.796875 27.984375 \r\nQ 14.796875 18.265625 18.828125 12.890625 \r\nQ 22.859375 7.515625 30.078125 7.515625 \r\nQ 37.359375 7.515625 41.375 12.890625 \r\nQ 45.40625 18.265625 45.40625 27.984375 \r\nz\r\nM 54.390625 6.78125 \r\nQ 54.390625 -7.171875 48.1875 -13.984375 \r\nQ 42 -20.796875 29.203125 -20.796875 \r\nQ 24.46875 -20.796875 20.265625 -20.09375 \r\nQ 16.0625 -19.390625 12.109375 -17.921875 \r\nL 12.109375 -9.1875 \r\nQ 16.0625 -11.328125 19.921875 -12.34375 \r\nQ 23.78125 -13.375 27.78125 -13.375 \r\nQ 36.625 -13.375 41.015625 -8.765625 \r\nQ 45.40625 -4.15625 45.40625 5.171875 \r\nL 45.40625 9.625 \r\nQ 42.625 4.78125 38.28125 2.390625 \r\nQ 33.9375 0 27.875 0 \r\nQ 17.828125 0 11.671875 7.65625 \r\nQ 5.515625 15.328125 5.515625 27.984375 \r\nQ 5.515625 40.671875 11.671875 48.328125 \r\nQ 17.828125 56 27.875 56 \r\nQ 33.9375 56 38.28125 53.609375 \r\nQ 42.625 51.21875 45.40625 46.390625 \r\nL 45.40625 54.6875 \r\nL 54.390625 54.6875 \r\nz\r\n\" id=\"DejaVuSans-103\"/>\r\n       <path d=\"M 64.40625 67.28125 \r\nL 64.40625 56.890625 \r\nQ 59.421875 61.53125 53.78125 63.8125 \r\nQ 48.140625 66.109375 41.796875 66.109375 \r\nQ 29.296875 66.109375 22.65625 58.46875 \r\nQ 16.015625 50.828125 16.015625 36.375 \r\nQ 16.015625 21.96875 22.65625 14.328125 \r\nQ 29.296875 6.6875 41.796875 6.6875 \r\nQ 48.140625 6.6875 53.78125 8.984375 \r\nQ 59.421875 11.28125 64.40625 15.921875 \r\nL 64.40625 5.609375 \r\nQ 59.234375 2.09375 53.4375 0.328125 \r\nQ 47.65625 -1.421875 41.21875 -1.421875 \r\nQ 24.65625 -1.421875 15.125 8.703125 \r\nQ 5.609375 18.84375 5.609375 36.375 \r\nQ 5.609375 53.953125 15.125 64.078125 \r\nQ 24.65625 74.21875 41.21875 74.21875 \r\nQ 47.75 74.21875 53.53125 72.484375 \r\nQ 59.328125 70.75 64.40625 67.28125 \r\nz\r\n\" id=\"DejaVuSans-67\"/>\r\n       <path d=\"M 54.890625 33.015625 \r\nL 54.890625 0 \r\nL 45.90625 0 \r\nL 45.90625 32.71875 \r\nQ 45.90625 40.484375 42.875 44.328125 \r\nQ 39.84375 48.1875 33.796875 48.1875 \r\nQ 26.515625 48.1875 22.3125 43.546875 \r\nQ 18.109375 38.921875 18.109375 30.90625 \r\nL 18.109375 0 \r\nL 9.078125 0 \r\nL 9.078125 54.6875 \r\nL 18.109375 54.6875 \r\nL 18.109375 46.1875 \r\nQ 21.34375 51.125 25.703125 53.5625 \r\nQ 30.078125 56 35.796875 56 \r\nQ 45.21875 56 50.046875 50.171875 \r\nQ 54.890625 44.34375 54.890625 33.015625 \r\nz\r\n\" id=\"DejaVuSans-110\"/>\r\n       <path d=\"M 37.109375 75.984375 \r\nL 37.109375 68.5 \r\nL 28.515625 68.5 \r\nQ 23.6875 68.5 21.796875 66.546875 \r\nQ 19.921875 64.59375 19.921875 59.515625 \r\nL 19.921875 54.6875 \r\nL 34.71875 54.6875 \r\nL 34.71875 47.703125 \r\nL 19.921875 47.703125 \r\nL 19.921875 0 \r\nL 10.890625 0 \r\nL 10.890625 47.703125 \r\nL 2.296875 47.703125 \r\nL 2.296875 54.6875 \r\nL 10.890625 54.6875 \r\nL 10.890625 58.5 \r\nQ 10.890625 67.625 15.140625 71.796875 \r\nQ 19.390625 75.984375 28.609375 75.984375 \r\nz\r\n\" id=\"DejaVuSans-102\"/>\r\n      </defs>\r\n      <g transform=\"translate(34.546875 234.497344)scale(0.1 -0.1)\">\r\n       <use xlink:href=\"#DejaVuSans-72\"/>\r\n       <use x=\"75.195312\" xlink:href=\"#DejaVuSans-66\"/>\r\n       <use x=\"143.798828\" xlink:href=\"#DejaVuSans-105\"/>\r\n       <use x=\"171.582031\" xlink:href=\"#DejaVuSans-103\"/>\r\n       <use x=\"235.058594\" xlink:href=\"#DejaVuSans-52\"/>\r\n       <use x=\"298.681641\" xlink:href=\"#DejaVuSans-67\"/>\r\n       <use x=\"368.505859\" xlink:href=\"#DejaVuSans-111\"/>\r\n       <use x=\"429.6875\" xlink:href=\"#DejaVuSans-110\"/>\r\n       <use x=\"493.066406\" xlink:href=\"#DejaVuSans-102\"/>\r\n      </g>\r\n     </g>\r\n    </g>\r\n    <g id=\"ytick_2\">\r\n     <g id=\"line2d_21\">\r\n      <path clip-path=\"url(#p28b5ca037f)\" d=\"M 94.376563 221.638125 \r\nL 429.176563 221.638125 \r\n\" style=\"fill:none;stroke:#b0b0b0;stroke-linecap:square;stroke-width:0.8;\"/>\r\n     </g>\r\n     <g id=\"line2d_22\">\r\n      <g>\r\n       <use style=\"stroke:#000000;stroke-width:0.8;\" x=\"94.376563\" xlink:href=\"#m126fb1e994\" y=\"221.638125\"/>\r\n      </g>\r\n     </g>\r\n     <g id=\"text_12\">\r\n      <!-- RBig4Conf -->\r\n      <defs>\r\n       <path d=\"M 44.390625 34.1875 \r\nQ 47.5625 33.109375 50.5625 29.59375 \r\nQ 53.5625 26.078125 56.59375 19.921875 \r\nL 66.609375 0 \r\nL 56 0 \r\nL 46.6875 18.703125 \r\nQ 43.0625 26.03125 39.671875 28.421875 \r\nQ 36.28125 30.8125 30.421875 30.8125 \r\nL 19.671875 30.8125 \r\nL 19.671875 0 \r\nL 9.8125 0 \r\nL 9.8125 72.90625 \r\nL 32.078125 72.90625 \r\nQ 44.578125 72.90625 50.734375 67.671875 \r\nQ 56.890625 62.453125 56.890625 51.90625 \r\nQ 56.890625 45.015625 53.6875 40.46875 \r\nQ 50.484375 35.9375 44.390625 34.1875 \r\nz\r\nM 19.671875 64.796875 \r\nL 19.671875 38.921875 \r\nL 32.078125 38.921875 \r\nQ 39.203125 38.921875 42.84375 42.21875 \r\nQ 46.484375 45.515625 46.484375 51.90625 \r\nQ 46.484375 58.296875 42.84375 61.546875 \r\nQ 39.203125 64.796875 32.078125 64.796875 \r\nz\r\n\" id=\"DejaVuSans-82\"/>\r\n      </defs>\r\n      <g transform=\"translate(35.11875 225.437344)scale(0.1 -0.1)\">\r\n       <use xlink:href=\"#DejaVuSans-82\"/>\r\n       <use x=\"69.482422\" xlink:href=\"#DejaVuSans-66\"/>\r\n       <use x=\"138.085938\" xlink:href=\"#DejaVuSans-105\"/>\r\n       <use x=\"165.869141\" xlink:href=\"#DejaVuSans-103\"/>\r\n       <use x=\"229.345703\" xlink:href=\"#DejaVuSans-52\"/>\r\n       <use x=\"292.96875\" xlink:href=\"#DejaVuSans-67\"/>\r\n       <use x=\"362.792969\" xlink:href=\"#DejaVuSans-111\"/>\r\n       <use x=\"423.974609\" xlink:href=\"#DejaVuSans-110\"/>\r\n       <use x=\"487.353516\" xlink:href=\"#DejaVuSans-102\"/>\r\n      </g>\r\n     </g>\r\n    </g>\r\n    <g id=\"ytick_3\">\r\n     <g id=\"line2d_23\">\r\n      <path clip-path=\"url(#p28b5ca037f)\" d=\"M 94.376563 212.578125 \r\nL 429.176563 212.578125 \r\n\" style=\"fill:none;stroke:#b0b0b0;stroke-linecap:square;stroke-width:0.8;\"/>\r\n     </g>\r\n     <g id=\"line2d_24\">\r\n      <g>\r\n       <use style=\"stroke:#000000;stroke-width:0.8;\" x=\"94.376563\" xlink:href=\"#m126fb1e994\" y=\"212.578125\"/>\r\n      </g>\r\n     </g>\r\n     <g id=\"text_13\">\r\n      <!-- HFG -->\r\n      <defs>\r\n       <path d=\"M 59.515625 10.40625 \r\nL 59.515625 29.984375 \r\nL 43.40625 29.984375 \r\nL 43.40625 38.09375 \r\nL 69.28125 38.09375 \r\nL 69.28125 6.78125 \r\nQ 63.578125 2.734375 56.6875 0.65625 \r\nQ 49.8125 -1.421875 42 -1.421875 \r\nQ 24.90625 -1.421875 15.25 8.5625 \r\nQ 5.609375 18.5625 5.609375 36.375 \r\nQ 5.609375 54.25 15.25 64.234375 \r\nQ 24.90625 74.21875 42 74.21875 \r\nQ 49.125 74.21875 55.546875 72.453125 \r\nQ 61.96875 70.703125 67.390625 67.28125 \r\nL 67.390625 56.78125 \r\nQ 61.921875 61.421875 55.765625 63.765625 \r\nQ 49.609375 66.109375 42.828125 66.109375 \r\nQ 29.4375 66.109375 22.71875 58.640625 \r\nQ 16.015625 51.171875 16.015625 36.375 \r\nQ 16.015625 21.625 22.71875 14.15625 \r\nQ 29.4375 6.6875 42.828125 6.6875 \r\nQ 48.046875 6.6875 52.140625 7.59375 \r\nQ 56.25 8.5 59.515625 10.40625 \r\nz\r\n\" id=\"DejaVuSans-71\"/>\r\n      </defs>\r\n      <g transform=\"translate(66.35625 216.377344)scale(0.1 -0.1)\">\r\n       <use xlink:href=\"#DejaVuSans-72\"/>\r\n       <use x=\"75.195312\" xlink:href=\"#DejaVuSans-70\"/>\r\n       <use x=\"132.714844\" xlink:href=\"#DejaVuSans-71\"/>\r\n      </g>\r\n     </g>\r\n    </g>\r\n    <g id=\"ytick_4\">\r\n     <g id=\"line2d_25\">\r\n      <path clip-path=\"url(#p28b5ca037f)\" d=\"M 94.376563 203.518125 \r\nL 429.176563 203.518125 \r\n\" style=\"fill:none;stroke:#b0b0b0;stroke-linecap:square;stroke-width:0.8;\"/>\r\n     </g>\r\n     <g id=\"line2d_26\">\r\n      <g>\r\n       <use style=\"stroke:#000000;stroke-width:0.8;\" x=\"94.376563\" xlink:href=\"#m126fb1e994\" y=\"203.518125\"/>\r\n      </g>\r\n     </g>\r\n     <g id=\"text_14\">\r\n      <!-- HFG3 -->\r\n      <g transform=\"translate(59.99375 207.317344)scale(0.1 -0.1)\">\r\n       <use xlink:href=\"#DejaVuSans-72\"/>\r\n       <use x=\"75.195312\" xlink:href=\"#DejaVuSans-70\"/>\r\n       <use x=\"132.714844\" xlink:href=\"#DejaVuSans-71\"/>\r\n       <use x=\"210.205078\" xlink:href=\"#DejaVuSans-51\"/>\r\n      </g>\r\n     </g>\r\n    </g>\r\n    <g id=\"ytick_5\">\r\n     <g id=\"line2d_27\">\r\n      <path clip-path=\"url(#p28b5ca037f)\" d=\"M 94.376563 194.458125 \r\nL 429.176563 194.458125 \r\n\" style=\"fill:none;stroke:#b0b0b0;stroke-linecap:square;stroke-width:0.8;\"/>\r\n     </g>\r\n     <g id=\"line2d_28\">\r\n      <g>\r\n       <use style=\"stroke:#000000;stroke-width:0.8;\" x=\"94.376563\" xlink:href=\"#m126fb1e994\" y=\"194.458125\"/>\r\n      </g>\r\n     </g>\r\n     <g id=\"text_15\">\r\n      <!-- is_tourney -->\r\n      <defs>\r\n       <path d=\"M 50.984375 -16.609375 \r\nL 50.984375 -23.578125 \r\nL -0.984375 -23.578125 \r\nL -0.984375 -16.609375 \r\nz\r\n\" id=\"DejaVuSans-95\"/>\r\n       <path d=\"M 18.3125 70.21875 \r\nL 18.3125 54.6875 \r\nL 36.8125 54.6875 \r\nL 36.8125 47.703125 \r\nL 18.3125 47.703125 \r\nL 18.3125 18.015625 \r\nQ 18.3125 11.328125 20.140625 9.421875 \r\nQ 21.96875 7.515625 27.59375 7.515625 \r\nL 36.8125 7.515625 \r\nL 36.8125 0 \r\nL 27.59375 0 \r\nQ 17.1875 0 13.234375 3.875 \r\nQ 9.28125 7.765625 9.28125 18.015625 \r\nL 9.28125 47.703125 \r\nL 2.6875 47.703125 \r\nL 2.6875 54.6875 \r\nL 9.28125 54.6875 \r\nL 9.28125 70.21875 \r\nz\r\n\" id=\"DejaVuSans-116\"/>\r\n       <path d=\"M 8.5 21.578125 \r\nL 8.5 54.6875 \r\nL 17.484375 54.6875 \r\nL 17.484375 21.921875 \r\nQ 17.484375 14.15625 20.5 10.265625 \r\nQ 23.53125 6.390625 29.59375 6.390625 \r\nQ 36.859375 6.390625 41.078125 11.03125 \r\nQ 45.3125 15.671875 45.3125 23.6875 \r\nL 45.3125 54.6875 \r\nL 54.296875 54.6875 \r\nL 54.296875 0 \r\nL 45.3125 0 \r\nL 45.3125 8.40625 \r\nQ 42.046875 3.421875 37.71875 1 \r\nQ 33.40625 -1.421875 27.6875 -1.421875 \r\nQ 18.265625 -1.421875 13.375 4.4375 \r\nQ 8.5 10.296875 8.5 21.578125 \r\nz\r\nM 31.109375 56 \r\nz\r\n\" id=\"DejaVuSans-117\"/>\r\n       <path d=\"M 32.171875 -5.078125 \r\nQ 28.375 -14.84375 24.75 -17.8125 \r\nQ 21.140625 -20.796875 15.09375 -20.796875 \r\nL 7.90625 -20.796875 \r\nL 7.90625 -13.28125 \r\nL 13.1875 -13.28125 \r\nQ 16.890625 -13.28125 18.9375 -11.515625 \r\nQ 21 -9.765625 23.484375 -3.21875 \r\nL 25.09375 0.875 \r\nL 2.984375 54.6875 \r\nL 12.5 54.6875 \r\nL 29.59375 11.921875 \r\nL 46.6875 54.6875 \r\nL 56.203125 54.6875 \r\nz\r\n\" id=\"DejaVuSans-121\"/>\r\n      </defs>\r\n      <g transform=\"translate(35.667188 198.257344)scale(0.1 -0.1)\">\r\n       <use xlink:href=\"#DejaVuSans-105\"/>\r\n       <use x=\"27.783203\" xlink:href=\"#DejaVuSans-115\"/>\r\n       <use x=\"79.882812\" xlink:href=\"#DejaVuSans-95\"/>\r\n       <use x=\"129.882812\" xlink:href=\"#DejaVuSans-116\"/>\r\n       <use x=\"169.091797\" xlink:href=\"#DejaVuSans-111\"/>\r\n       <use x=\"230.273438\" xlink:href=\"#DejaVuSans-117\"/>\r\n       <use x=\"293.652344\" xlink:href=\"#DejaVuSans-114\"/>\r\n       <use x=\"333.015625\" xlink:href=\"#DejaVuSans-110\"/>\r\n       <use x=\"396.394531\" xlink:href=\"#DejaVuSans-101\"/>\r\n       <use x=\"457.917969\" xlink:href=\"#DejaVuSans-121\"/>\r\n      </g>\r\n     </g>\r\n    </g>\r\n    <g id=\"ytick_6\">\r\n     <g id=\"line2d_29\">\r\n      <path clip-path=\"url(#p28b5ca037f)\" d=\"M 94.376563 185.398125 \r\nL 429.176563 185.398125 \r\n\" style=\"fill:none;stroke:#b0b0b0;stroke-linecap:square;stroke-width:0.8;\"/>\r\n     </g>\r\n     <g id=\"line2d_30\">\r\n      <g>\r\n       <use style=\"stroke:#000000;stroke-width:0.8;\" x=\"94.376563\" xlink:href=\"#m126fb1e994\" y=\"185.398125\"/>\r\n      </g>\r\n     </g>\r\n     <g id=\"text_16\">\r\n      <!-- Radjd -->\r\n      <defs>\r\n       <path d=\"M 34.28125 27.484375 \r\nQ 23.390625 27.484375 19.1875 25 \r\nQ 14.984375 22.515625 14.984375 16.5 \r\nQ 14.984375 11.71875 18.140625 8.90625 \r\nQ 21.296875 6.109375 26.703125 6.109375 \r\nQ 34.1875 6.109375 38.703125 11.40625 \r\nQ 43.21875 16.703125 43.21875 25.484375 \r\nL 43.21875 27.484375 \r\nz\r\nM 52.203125 31.203125 \r\nL 52.203125 0 \r\nL 43.21875 0 \r\nL 43.21875 8.296875 \r\nQ 40.140625 3.328125 35.546875 0.953125 \r\nQ 30.953125 -1.421875 24.3125 -1.421875 \r\nQ 15.921875 -1.421875 10.953125 3.296875 \r\nQ 6 8.015625 6 15.921875 \r\nQ 6 25.140625 12.171875 29.828125 \r\nQ 18.359375 34.515625 30.609375 34.515625 \r\nL 43.21875 34.515625 \r\nL 43.21875 35.40625 \r\nQ 43.21875 41.609375 39.140625 45 \r\nQ 35.0625 48.390625 27.6875 48.390625 \r\nQ 23 48.390625 18.546875 47.265625 \r\nQ 14.109375 46.140625 10.015625 43.890625 \r\nL 10.015625 52.203125 \r\nQ 14.9375 54.109375 19.578125 55.046875 \r\nQ 24.21875 56 28.609375 56 \r\nQ 40.484375 56 46.34375 49.84375 \r\nQ 52.203125 43.703125 52.203125 31.203125 \r\nz\r\n\" id=\"DejaVuSans-97\"/>\r\n       <path d=\"M 45.40625 46.390625 \r\nL 45.40625 75.984375 \r\nL 54.390625 75.984375 \r\nL 54.390625 0 \r\nL 45.40625 0 \r\nL 45.40625 8.203125 \r\nQ 42.578125 3.328125 38.25 0.953125 \r\nQ 33.9375 -1.421875 27.875 -1.421875 \r\nQ 17.96875 -1.421875 11.734375 6.484375 \r\nQ 5.515625 14.40625 5.515625 27.296875 \r\nQ 5.515625 40.1875 11.734375 48.09375 \r\nQ 17.96875 56 27.875 56 \r\nQ 33.9375 56 38.25 53.625 \r\nQ 42.578125 51.265625 45.40625 46.390625 \r\nz\r\nM 14.796875 27.296875 \r\nQ 14.796875 17.390625 18.875 11.75 \r\nQ 22.953125 6.109375 30.078125 6.109375 \r\nQ 37.203125 6.109375 41.296875 11.75 \r\nQ 45.40625 17.390625 45.40625 27.296875 \r\nQ 45.40625 37.203125 41.296875 42.84375 \r\nQ 37.203125 48.484375 30.078125 48.484375 \r\nQ 22.953125 48.484375 18.875 42.84375 \r\nQ 14.796875 37.203125 14.796875 27.296875 \r\nz\r\n\" id=\"DejaVuSans-100\"/>\r\n       <path d=\"M 9.421875 54.6875 \r\nL 18.40625 54.6875 \r\nL 18.40625 -0.984375 \r\nQ 18.40625 -11.421875 14.421875 -16.109375 \r\nQ 10.453125 -20.796875 1.609375 -20.796875 \r\nL -1.8125 -20.796875 \r\nL -1.8125 -13.1875 \r\nL 0.59375 -13.1875 \r\nQ 5.71875 -13.1875 7.5625 -10.8125 \r\nQ 9.421875 -8.453125 9.421875 -0.984375 \r\nz\r\nM 9.421875 75.984375 \r\nL 18.40625 75.984375 \r\nL 18.40625 64.59375 \r\nL 9.421875 64.59375 \r\nz\r\n\" id=\"DejaVuSans-106\"/>\r\n      </defs>\r\n      <g transform=\"translate(59.05 189.197344)scale(0.1 -0.1)\">\r\n       <use xlink:href=\"#DejaVuSans-82\"/>\r\n       <use x=\"67.232422\" xlink:href=\"#DejaVuSans-97\"/>\r\n       <use x=\"128.511719\" xlink:href=\"#DejaVuSans-100\"/>\r\n       <use x=\"191.988281\" xlink:href=\"#DejaVuSans-106\"/>\r\n       <use x=\"219.771484\" xlink:href=\"#DejaVuSans-100\"/>\r\n      </g>\r\n     </g>\r\n    </g>\r\n    <g id=\"ytick_7\">\r\n     <g id=\"line2d_31\">\r\n      <path clip-path=\"url(#p28b5ca037f)\" d=\"M 94.376563 176.338125 \r\nL 429.176563 176.338125 \r\n\" style=\"fill:none;stroke:#b0b0b0;stroke-linecap:square;stroke-width:0.8;\"/>\r\n     </g>\r\n     <g id=\"line2d_32\">\r\n      <g>\r\n       <use style=\"stroke:#000000;stroke-width:0.8;\" x=\"94.376563\" xlink:href=\"#m126fb1e994\" y=\"176.338125\"/>\r\n      </g>\r\n     </g>\r\n     <g id=\"text_17\">\r\n      <!-- Hadjo -->\r\n      <g transform=\"translate(58.482813 180.137344)scale(0.1 -0.1)\">\r\n       <use xlink:href=\"#DejaVuSans-72\"/>\r\n       <use x=\"75.195312\" xlink:href=\"#DejaVuSans-97\"/>\r\n       <use x=\"136.474609\" xlink:href=\"#DejaVuSans-100\"/>\r\n       <use x=\"199.951172\" xlink:href=\"#DejaVuSans-106\"/>\r\n       <use x=\"227.734375\" xlink:href=\"#DejaVuSans-111\"/>\r\n      </g>\r\n     </g>\r\n    </g>\r\n    <g id=\"ytick_8\">\r\n     <g id=\"line2d_33\">\r\n      <path clip-path=\"url(#p28b5ca037f)\" d=\"M 94.376563 167.278125 \r\nL 429.176563 167.278125 \r\n\" style=\"fill:none;stroke:#b0b0b0;stroke-linecap:square;stroke-width:0.8;\"/>\r\n     </g>\r\n     <g id=\"line2d_34\">\r\n      <g>\r\n       <use style=\"stroke:#000000;stroke-width:0.8;\" x=\"94.376563\" xlink:href=\"#m126fb1e994\" y=\"167.278125\"/>\r\n      </g>\r\n     </g>\r\n     <g id=\"text_18\">\r\n      <!-- RFG3 -->\r\n      <g transform=\"translate(60.565625 171.077344)scale(0.1 -0.1)\">\r\n       <use xlink:href=\"#DejaVuSans-82\"/>\r\n       <use x=\"69.482422\" xlink:href=\"#DejaVuSans-70\"/>\r\n       <use x=\"127.001953\" xlink:href=\"#DejaVuSans-71\"/>\r\n       <use x=\"204.492188\" xlink:href=\"#DejaVuSans-51\"/>\r\n      </g>\r\n     </g>\r\n    </g>\r\n    <g id=\"ytick_9\">\r\n     <g id=\"line2d_35\">\r\n      <path clip-path=\"url(#p28b5ca037f)\" d=\"M 94.376563 158.218125 \r\nL 429.176563 158.218125 \r\n\" style=\"fill:none;stroke:#b0b0b0;stroke-linecap:square;stroke-width:0.8;\"/>\r\n     </g>\r\n     <g id=\"line2d_36\">\r\n      <g>\r\n       <use style=\"stroke:#000000;stroke-width:0.8;\" x=\"94.376563\" xlink:href=\"#m126fb1e994\" y=\"158.218125\"/>\r\n      </g>\r\n     </g>\r\n     <g id=\"text_19\">\r\n      <!-- RFG -->\r\n      <g transform=\"translate(66.928125 162.017344)scale(0.1 -0.1)\">\r\n       <use xlink:href=\"#DejaVuSans-82\"/>\r\n       <use x=\"69.482422\" xlink:href=\"#DejaVuSans-70\"/>\r\n       <use x=\"127.001953\" xlink:href=\"#DejaVuSans-71\"/>\r\n      </g>\r\n     </g>\r\n    </g>\r\n    <g id=\"ytick_10\">\r\n     <g id=\"line2d_37\">\r\n      <path clip-path=\"url(#p28b5ca037f)\" d=\"M 94.376563 149.158125 \r\nL 429.176563 149.158125 \r\n\" style=\"fill:none;stroke:#b0b0b0;stroke-linecap:square;stroke-width:0.8;\"/>\r\n     </g>\r\n     <g id=\"line2d_38\">\r\n      <g>\r\n       <use style=\"stroke:#000000;stroke-width:0.8;\" x=\"94.376563\" xlink:href=\"#m126fb1e994\" y=\"149.158125\"/>\r\n      </g>\r\n     </g>\r\n     <g id=\"text_20\">\r\n      <!-- HSeed -->\r\n      <defs>\r\n       <path d=\"M 53.515625 70.515625 \r\nL 53.515625 60.890625 \r\nQ 47.90625 63.578125 42.921875 64.890625 \r\nQ 37.9375 66.21875 33.296875 66.21875 \r\nQ 25.25 66.21875 20.875 63.09375 \r\nQ 16.5 59.96875 16.5 54.203125 \r\nQ 16.5 49.359375 19.40625 46.890625 \r\nQ 22.3125 44.4375 30.421875 42.921875 \r\nL 36.375 41.703125 \r\nQ 47.40625 39.59375 52.65625 34.296875 \r\nQ 57.90625 29 57.90625 20.125 \r\nQ 57.90625 9.515625 50.796875 4.046875 \r\nQ 43.703125 -1.421875 29.984375 -1.421875 \r\nQ 24.8125 -1.421875 18.96875 -0.25 \r\nQ 13.140625 0.921875 6.890625 3.21875 \r\nL 6.890625 13.375 \r\nQ 12.890625 10.015625 18.65625 8.296875 \r\nQ 24.421875 6.59375 29.984375 6.59375 \r\nQ 38.421875 6.59375 43.015625 9.90625 \r\nQ 47.609375 13.234375 47.609375 19.390625 \r\nQ 47.609375 24.75 44.3125 27.78125 \r\nQ 41.015625 30.8125 33.5 32.328125 \r\nL 27.484375 33.5 \r\nQ 16.453125 35.6875 11.515625 40.375 \r\nQ 6.59375 45.0625 6.59375 53.421875 \r\nQ 6.59375 63.09375 13.40625 68.65625 \r\nQ 20.21875 74.21875 32.171875 74.21875 \r\nQ 37.3125 74.21875 42.625 73.28125 \r\nQ 47.953125 72.359375 53.515625 70.515625 \r\nz\r\n\" id=\"DejaVuSans-83\"/>\r\n      </defs>\r\n      <g transform=\"translate(54.853125 152.957344)scale(0.1 -0.1)\">\r\n       <use xlink:href=\"#DejaVuSans-72\"/>\r\n       <use x=\"75.195312\" xlink:href=\"#DejaVuSans-83\"/>\r\n       <use x=\"138.671875\" xlink:href=\"#DejaVuSans-101\"/>\r\n       <use x=\"200.195312\" xlink:href=\"#DejaVuSans-101\"/>\r\n       <use x=\"261.71875\" xlink:href=\"#DejaVuSans-100\"/>\r\n      </g>\r\n     </g>\r\n    </g>\r\n    <g id=\"ytick_11\">\r\n     <g id=\"line2d_39\">\r\n      <path clip-path=\"url(#p28b5ca037f)\" d=\"M 94.376563 140.098125 \r\nL 429.176563 140.098125 \r\n\" style=\"fill:none;stroke:#b0b0b0;stroke-linecap:square;stroke-width:0.8;\"/>\r\n     </g>\r\n     <g id=\"line2d_40\">\r\n      <g>\r\n       <use style=\"stroke:#000000;stroke-width:0.8;\" x=\"94.376563\" xlink:href=\"#m126fb1e994\" y=\"140.098125\"/>\r\n      </g>\r\n     </g>\r\n     <g id=\"text_21\">\r\n      <!-- Radjo -->\r\n      <g transform=\"translate(59.279688 143.897344)scale(0.1 -0.1)\">\r\n       <use xlink:href=\"#DejaVuSans-82\"/>\r\n       <use x=\"67.232422\" xlink:href=\"#DejaVuSans-97\"/>\r\n       <use x=\"128.511719\" xlink:href=\"#DejaVuSans-100\"/>\r\n       <use x=\"191.988281\" xlink:href=\"#DejaVuSans-106\"/>\r\n       <use x=\"219.771484\" xlink:href=\"#DejaVuSans-111\"/>\r\n      </g>\r\n     </g>\r\n    </g>\r\n    <g id=\"ytick_12\">\r\n     <g id=\"line2d_41\">\r\n      <path clip-path=\"url(#p28b5ca037f)\" d=\"M 94.376563 131.038125 \r\nL 429.176563 131.038125 \r\n\" style=\"fill:none;stroke:#b0b0b0;stroke-linecap:square;stroke-width:0.8;\"/>\r\n     </g>\r\n     <g id=\"line2d_42\">\r\n      <g>\r\n       <use style=\"stroke:#000000;stroke-width:0.8;\" x=\"94.376563\" xlink:href=\"#m126fb1e994\" y=\"131.038125\"/>\r\n      </g>\r\n     </g>\r\n     <g id=\"text_22\">\r\n      <!-- Hadjd -->\r\n      <g transform=\"translate(58.253125 134.837344)scale(0.1 -0.1)\">\r\n       <use xlink:href=\"#DejaVuSans-72\"/>\r\n       <use x=\"75.195312\" xlink:href=\"#DejaVuSans-97\"/>\r\n       <use x=\"136.474609\" xlink:href=\"#DejaVuSans-100\"/>\r\n       <use x=\"199.951172\" xlink:href=\"#DejaVuSans-106\"/>\r\n       <use x=\"227.734375\" xlink:href=\"#DejaVuSans-100\"/>\r\n      </g>\r\n     </g>\r\n    </g>\r\n    <g id=\"ytick_13\">\r\n     <g id=\"line2d_43\">\r\n      <path clip-path=\"url(#p28b5ca037f)\" d=\"M 94.376563 121.978125 \r\nL 429.176563 121.978125 \r\n\" style=\"fill:none;stroke:#b0b0b0;stroke-linecap:square;stroke-width:0.8;\"/>\r\n     </g>\r\n     <g id=\"line2d_44\">\r\n      <g>\r\n       <use style=\"stroke:#000000;stroke-width:0.8;\" x=\"94.376563\" xlink:href=\"#m126fb1e994\" y=\"121.978125\"/>\r\n      </g>\r\n     </g>\r\n     <g id=\"text_23\">\r\n      <!-- Rwins_top25 -->\r\n      <defs>\r\n       <path d=\"M 4.203125 54.6875 \r\nL 13.1875 54.6875 \r\nL 24.421875 12.015625 \r\nL 35.59375 54.6875 \r\nL 46.1875 54.6875 \r\nL 57.421875 12.015625 \r\nL 68.609375 54.6875 \r\nL 77.59375 54.6875 \r\nL 63.28125 0 \r\nL 52.6875 0 \r\nL 40.921875 44.828125 \r\nL 29.109375 0 \r\nL 18.5 0 \r\nz\r\n\" id=\"DejaVuSans-119\"/>\r\n       <path d=\"M 18.109375 8.203125 \r\nL 18.109375 -20.796875 \r\nL 9.078125 -20.796875 \r\nL 9.078125 54.6875 \r\nL 18.109375 54.6875 \r\nL 18.109375 46.390625 \r\nQ 20.953125 51.265625 25.265625 53.625 \r\nQ 29.59375 56 35.59375 56 \r\nQ 45.5625 56 51.78125 48.09375 \r\nQ 58.015625 40.1875 58.015625 27.296875 \r\nQ 58.015625 14.40625 51.78125 6.484375 \r\nQ 45.5625 -1.421875 35.59375 -1.421875 \r\nQ 29.59375 -1.421875 25.265625 0.953125 \r\nQ 20.953125 3.328125 18.109375 8.203125 \r\nz\r\nM 48.6875 27.296875 \r\nQ 48.6875 37.203125 44.609375 42.84375 \r\nQ 40.53125 48.484375 33.40625 48.484375 \r\nQ 26.265625 48.484375 22.1875 42.84375 \r\nQ 18.109375 37.203125 18.109375 27.296875 \r\nQ 18.109375 17.390625 22.1875 11.75 \r\nQ 26.265625 6.109375 33.40625 6.109375 \r\nQ 40.53125 6.109375 44.609375 11.75 \r\nQ 48.6875 17.390625 48.6875 27.296875 \r\nz\r\n\" id=\"DejaVuSans-112\"/>\r\n      </defs>\r\n      <g transform=\"translate(23.8125 125.777344)scale(0.1 -0.1)\">\r\n       <use xlink:href=\"#DejaVuSans-82\"/>\r\n       <use x=\"69.482422\" xlink:href=\"#DejaVuSans-119\"/>\r\n       <use x=\"151.269531\" xlink:href=\"#DejaVuSans-105\"/>\r\n       <use x=\"179.052734\" xlink:href=\"#DejaVuSans-110\"/>\r\n       <use x=\"242.431641\" xlink:href=\"#DejaVuSans-115\"/>\r\n       <use x=\"294.53125\" xlink:href=\"#DejaVuSans-95\"/>\r\n       <use x=\"344.53125\" xlink:href=\"#DejaVuSans-116\"/>\r\n       <use x=\"383.740234\" xlink:href=\"#DejaVuSans-111\"/>\r\n       <use x=\"444.921875\" xlink:href=\"#DejaVuSans-112\"/>\r\n       <use x=\"508.398438\" xlink:href=\"#DejaVuSans-50\"/>\r\n       <use x=\"572.021484\" xlink:href=\"#DejaVuSans-53\"/>\r\n      </g>\r\n     </g>\r\n    </g>\r\n    <g id=\"ytick_14\">\r\n     <g id=\"line2d_45\">\r\n      <path clip-path=\"url(#p28b5ca037f)\" d=\"M 94.376563 112.918125 \r\nL 429.176563 112.918125 \r\n\" style=\"fill:none;stroke:#b0b0b0;stroke-linecap:square;stroke-width:0.8;\"/>\r\n     </g>\r\n     <g id=\"line2d_46\">\r\n      <g>\r\n       <use style=\"stroke:#000000;stroke-width:0.8;\" x=\"94.376563\" xlink:href=\"#m126fb1e994\" y=\"112.918125\"/>\r\n      </g>\r\n     </g>\r\n     <g id=\"text_24\">\r\n      <!-- RSeed -->\r\n      <g transform=\"translate(55.425 116.717344)scale(0.1 -0.1)\">\r\n       <use xlink:href=\"#DejaVuSans-82\"/>\r\n       <use x=\"69.482422\" xlink:href=\"#DejaVuSans-83\"/>\r\n       <use x=\"132.958984\" xlink:href=\"#DejaVuSans-101\"/>\r\n       <use x=\"194.482422\" xlink:href=\"#DejaVuSans-101\"/>\r\n       <use x=\"256.005859\" xlink:href=\"#DejaVuSans-100\"/>\r\n      </g>\r\n     </g>\r\n    </g>\r\n    <g id=\"ytick_15\">\r\n     <g id=\"line2d_47\">\r\n      <path clip-path=\"url(#p28b5ca037f)\" d=\"M 94.376563 103.858125 \r\nL 429.176563 103.858125 \r\n\" style=\"fill:none;stroke:#b0b0b0;stroke-linecap:square;stroke-width:0.8;\"/>\r\n     </g>\r\n     <g id=\"line2d_48\">\r\n      <g>\r\n       <use style=\"stroke:#000000;stroke-width:0.8;\" x=\"94.376563\" xlink:href=\"#m126fb1e994\" y=\"103.858125\"/>\r\n      </g>\r\n     </g>\r\n     <g id=\"text_25\">\r\n      <!-- Hwins_top25 -->\r\n      <g transform=\"translate(23.240625 107.657344)scale(0.1 -0.1)\">\r\n       <use xlink:href=\"#DejaVuSans-72\"/>\r\n       <use x=\"75.195312\" xlink:href=\"#DejaVuSans-119\"/>\r\n       <use x=\"156.982422\" xlink:href=\"#DejaVuSans-105\"/>\r\n       <use x=\"184.765625\" xlink:href=\"#DejaVuSans-110\"/>\r\n       <use x=\"248.144531\" xlink:href=\"#DejaVuSans-115\"/>\r\n       <use x=\"300.244141\" xlink:href=\"#DejaVuSans-95\"/>\r\n       <use x=\"350.244141\" xlink:href=\"#DejaVuSans-116\"/>\r\n       <use x=\"389.453125\" xlink:href=\"#DejaVuSans-111\"/>\r\n       <use x=\"450.634766\" xlink:href=\"#DejaVuSans-112\"/>\r\n       <use x=\"514.111328\" xlink:href=\"#DejaVuSans-50\"/>\r\n       <use x=\"577.734375\" xlink:href=\"#DejaVuSans-53\"/>\r\n      </g>\r\n     </g>\r\n    </g>\r\n    <g id=\"ytick_16\">\r\n     <g id=\"line2d_49\">\r\n      <path clip-path=\"url(#p28b5ca037f)\" d=\"M 94.376563 94.798125 \r\nL 429.176563 94.798125 \r\n\" style=\"fill:none;stroke:#b0b0b0;stroke-linecap:square;stroke-width:0.8;\"/>\r\n     </g>\r\n     <g id=\"line2d_50\">\r\n      <g>\r\n       <use style=\"stroke:#000000;stroke-width:0.8;\" x=\"94.376563\" xlink:href=\"#m126fb1e994\" y=\"94.798125\"/>\r\n      </g>\r\n     </g>\r\n     <g id=\"text_26\">\r\n      <!-- RRankPOM -->\r\n      <defs>\r\n       <path d=\"M 9.078125 75.984375 \r\nL 18.109375 75.984375 \r\nL 18.109375 31.109375 \r\nL 44.921875 54.6875 \r\nL 56.390625 54.6875 \r\nL 27.390625 29.109375 \r\nL 57.625 0 \r\nL 45.90625 0 \r\nL 18.109375 26.703125 \r\nL 18.109375 0 \r\nL 9.078125 0 \r\nz\r\n\" id=\"DejaVuSans-107\"/>\r\n       <path d=\"M 19.671875 64.796875 \r\nL 19.671875 37.40625 \r\nL 32.078125 37.40625 \r\nQ 38.96875 37.40625 42.71875 40.96875 \r\nQ 46.484375 44.53125 46.484375 51.125 \r\nQ 46.484375 57.671875 42.71875 61.234375 \r\nQ 38.96875 64.796875 32.078125 64.796875 \r\nz\r\nM 9.8125 72.90625 \r\nL 32.078125 72.90625 \r\nQ 44.34375 72.90625 50.609375 67.359375 \r\nQ 56.890625 61.8125 56.890625 51.125 \r\nQ 56.890625 40.328125 50.609375 34.8125 \r\nQ 44.34375 29.296875 32.078125 29.296875 \r\nL 19.671875 29.296875 \r\nL 19.671875 0 \r\nL 9.8125 0 \r\nz\r\n\" id=\"DejaVuSans-80\"/>\r\n       <path d=\"M 39.40625 66.21875 \r\nQ 28.65625 66.21875 22.328125 58.203125 \r\nQ 16.015625 50.203125 16.015625 36.375 \r\nQ 16.015625 22.609375 22.328125 14.59375 \r\nQ 28.65625 6.59375 39.40625 6.59375 \r\nQ 50.140625 6.59375 56.421875 14.59375 \r\nQ 62.703125 22.609375 62.703125 36.375 \r\nQ 62.703125 50.203125 56.421875 58.203125 \r\nQ 50.140625 66.21875 39.40625 66.21875 \r\nz\r\nM 39.40625 74.21875 \r\nQ 54.734375 74.21875 63.90625 63.9375 \r\nQ 73.09375 53.65625 73.09375 36.375 \r\nQ 73.09375 19.140625 63.90625 8.859375 \r\nQ 54.734375 -1.421875 39.40625 -1.421875 \r\nQ 24.03125 -1.421875 14.8125 8.828125 \r\nQ 5.609375 19.09375 5.609375 36.375 \r\nQ 5.609375 53.65625 14.8125 63.9375 \r\nQ 24.03125 74.21875 39.40625 74.21875 \r\nz\r\n\" id=\"DejaVuSans-79\"/>\r\n       <path d=\"M 9.8125 72.90625 \r\nL 24.515625 72.90625 \r\nL 43.109375 23.296875 \r\nL 61.8125 72.90625 \r\nL 76.515625 72.90625 \r\nL 76.515625 0 \r\nL 66.890625 0 \r\nL 66.890625 64.015625 \r\nL 48.09375 14.015625 \r\nL 38.1875 14.015625 \r\nL 19.390625 64.015625 \r\nL 19.390625 0 \r\nL 9.8125 0 \r\nz\r\n\" id=\"DejaVuSans-77\"/>\r\n      </defs>\r\n      <g transform=\"translate(32.91875 98.597344)scale(0.1 -0.1)\">\r\n       <use xlink:href=\"#DejaVuSans-82\"/>\r\n       <use x=\"69.482422\" xlink:href=\"#DejaVuSans-82\"/>\r\n       <use x=\"136.714844\" xlink:href=\"#DejaVuSans-97\"/>\r\n       <use x=\"197.994141\" xlink:href=\"#DejaVuSans-110\"/>\r\n       <use x=\"261.373047\" xlink:href=\"#DejaVuSans-107\"/>\r\n       <use x=\"319.283203\" xlink:href=\"#DejaVuSans-80\"/>\r\n       <use x=\"379.585938\" xlink:href=\"#DejaVuSans-79\"/>\r\n       <use x=\"458.296875\" xlink:href=\"#DejaVuSans-77\"/>\r\n      </g>\r\n     </g>\r\n    </g>\r\n    <g id=\"ytick_17\">\r\n     <g id=\"line2d_51\">\r\n      <path clip-path=\"url(#p28b5ca037f)\" d=\"M 94.376563 85.738125 \r\nL 429.176563 85.738125 \r\n\" style=\"fill:none;stroke:#b0b0b0;stroke-linecap:square;stroke-width:0.8;\"/>\r\n     </g>\r\n     <g id=\"line2d_52\">\r\n      <g>\r\n       <use style=\"stroke:#000000;stroke-width:0.8;\" x=\"94.376563\" xlink:href=\"#m126fb1e994\" y=\"85.738125\"/>\r\n      </g>\r\n     </g>\r\n     <g id=\"text_27\">\r\n      <!-- HPointMargin -->\r\n      <g transform=\"translate(20.878125 89.537344)scale(0.1 -0.1)\">\r\n       <use xlink:href=\"#DejaVuSans-72\"/>\r\n       <use x=\"75.195312\" xlink:href=\"#DejaVuSans-80\"/>\r\n       <use x=\"131.873047\" xlink:href=\"#DejaVuSans-111\"/>\r\n       <use x=\"193.054688\" xlink:href=\"#DejaVuSans-105\"/>\r\n       <use x=\"220.837891\" xlink:href=\"#DejaVuSans-110\"/>\r\n       <use x=\"284.216797\" xlink:href=\"#DejaVuSans-116\"/>\r\n       <use x=\"323.425781\" xlink:href=\"#DejaVuSans-77\"/>\r\n       <use x=\"409.705078\" xlink:href=\"#DejaVuSans-97\"/>\r\n       <use x=\"470.984375\" xlink:href=\"#DejaVuSans-114\"/>\r\n       <use x=\"510.347656\" xlink:href=\"#DejaVuSans-103\"/>\r\n       <use x=\"573.824219\" xlink:href=\"#DejaVuSans-105\"/>\r\n       <use x=\"601.607422\" xlink:href=\"#DejaVuSans-110\"/>\r\n      </g>\r\n     </g>\r\n    </g>\r\n    <g id=\"ytick_18\">\r\n     <g id=\"line2d_53\">\r\n      <path clip-path=\"url(#p28b5ca037f)\" d=\"M 94.376563 76.678125 \r\nL 429.176563 76.678125 \r\n\" style=\"fill:none;stroke:#b0b0b0;stroke-linecap:square;stroke-width:0.8;\"/>\r\n     </g>\r\n     <g id=\"line2d_54\">\r\n      <g>\r\n       <use style=\"stroke:#000000;stroke-width:0.8;\" x=\"94.376563\" xlink:href=\"#m126fb1e994\" y=\"76.678125\"/>\r\n      </g>\r\n     </g>\r\n     <g id=\"text_28\">\r\n      <!-- Hluck -->\r\n      <defs>\r\n       <path d=\"M 9.421875 75.984375 \r\nL 18.40625 75.984375 \r\nL 18.40625 0 \r\nL 9.421875 0 \r\nz\r\n\" id=\"DejaVuSans-108\"/>\r\n      </defs>\r\n      <g transform=\"translate(59.451563 80.477344)scale(0.1 -0.1)\">\r\n       <use xlink:href=\"#DejaVuSans-72\"/>\r\n       <use x=\"75.195312\" xlink:href=\"#DejaVuSans-108\"/>\r\n       <use x=\"102.978516\" xlink:href=\"#DejaVuSans-117\"/>\r\n       <use x=\"166.357422\" xlink:href=\"#DejaVuSans-99\"/>\r\n       <use x=\"221.337891\" xlink:href=\"#DejaVuSans-107\"/>\r\n      </g>\r\n     </g>\r\n    </g>\r\n    <g id=\"ytick_19\">\r\n     <g id=\"line2d_55\">\r\n      <path clip-path=\"url(#p28b5ca037f)\" d=\"M 94.376563 67.618125 \r\nL 429.176563 67.618125 \r\n\" style=\"fill:none;stroke:#b0b0b0;stroke-linecap:square;stroke-width:0.8;\"/>\r\n     </g>\r\n     <g id=\"line2d_56\">\r\n      <g>\r\n       <use style=\"stroke:#000000;stroke-width:0.8;\" x=\"94.376563\" xlink:href=\"#m126fb1e994\" y=\"67.618125\"/>\r\n      </g>\r\n     </g>\r\n     <g id=\"text_29\">\r\n      <!-- HRankPOM -->\r\n      <g transform=\"translate(32.346875 71.417344)scale(0.1 -0.1)\">\r\n       <use xlink:href=\"#DejaVuSans-72\"/>\r\n       <use x=\"75.195312\" xlink:href=\"#DejaVuSans-82\"/>\r\n       <use x=\"142.427734\" xlink:href=\"#DejaVuSans-97\"/>\r\n       <use x=\"203.707031\" xlink:href=\"#DejaVuSans-110\"/>\r\n       <use x=\"267.085938\" xlink:href=\"#DejaVuSans-107\"/>\r\n       <use x=\"324.996094\" xlink:href=\"#DejaVuSans-80\"/>\r\n       <use x=\"385.298828\" xlink:href=\"#DejaVuSans-79\"/>\r\n       <use x=\"464.009766\" xlink:href=\"#DejaVuSans-77\"/>\r\n      </g>\r\n     </g>\r\n    </g>\r\n    <g id=\"ytick_20\">\r\n     <g id=\"line2d_57\">\r\n      <path clip-path=\"url(#p28b5ca037f)\" d=\"M 94.376563 58.558125 \r\nL 429.176563 58.558125 \r\n\" style=\"fill:none;stroke:#b0b0b0;stroke-linecap:square;stroke-width:0.8;\"/>\r\n     </g>\r\n     <g id=\"line2d_58\">\r\n      <g>\r\n       <use style=\"stroke:#000000;stroke-width:0.8;\" x=\"94.376563\" xlink:href=\"#m126fb1e994\" y=\"58.558125\"/>\r\n      </g>\r\n     </g>\r\n     <g id=\"text_30\">\r\n      <!-- Rluck -->\r\n      <g transform=\"translate(60.023438 62.357344)scale(0.1 -0.1)\">\r\n       <use xlink:href=\"#DejaVuSans-82\"/>\r\n       <use x=\"69.482422\" xlink:href=\"#DejaVuSans-108\"/>\r\n       <use x=\"97.265625\" xlink:href=\"#DejaVuSans-117\"/>\r\n       <use x=\"160.644531\" xlink:href=\"#DejaVuSans-99\"/>\r\n       <use x=\"215.625\" xlink:href=\"#DejaVuSans-107\"/>\r\n      </g>\r\n     </g>\r\n    </g>\r\n    <g id=\"ytick_21\">\r\n     <g id=\"line2d_59\">\r\n      <path clip-path=\"url(#p28b5ca037f)\" d=\"M 94.376563 49.498125 \r\nL 429.176563 49.498125 \r\n\" style=\"fill:none;stroke:#b0b0b0;stroke-linecap:square;stroke-width:0.8;\"/>\r\n     </g>\r\n     <g id=\"line2d_60\">\r\n      <g>\r\n       <use style=\"stroke:#000000;stroke-width:0.8;\" x=\"94.376563\" xlink:href=\"#m126fb1e994\" y=\"49.498125\"/>\r\n      </g>\r\n     </g>\r\n     <g id=\"text_31\">\r\n      <!-- RPointMargin -->\r\n      <g transform=\"translate(21.45 53.297344)scale(0.1 -0.1)\">\r\n       <use xlink:href=\"#DejaVuSans-82\"/>\r\n       <use x=\"69.482422\" xlink:href=\"#DejaVuSans-80\"/>\r\n       <use x=\"126.160156\" xlink:href=\"#DejaVuSans-111\"/>\r\n       <use x=\"187.341797\" xlink:href=\"#DejaVuSans-105\"/>\r\n       <use x=\"215.125\" xlink:href=\"#DejaVuSans-110\"/>\r\n       <use x=\"278.503906\" xlink:href=\"#DejaVuSans-116\"/>\r\n       <use x=\"317.712891\" xlink:href=\"#DejaVuSans-77\"/>\r\n       <use x=\"403.992188\" xlink:href=\"#DejaVuSans-97\"/>\r\n       <use x=\"465.271484\" xlink:href=\"#DejaVuSans-114\"/>\r\n       <use x=\"504.634766\" xlink:href=\"#DejaVuSans-103\"/>\r\n       <use x=\"568.111328\" xlink:href=\"#DejaVuSans-105\"/>\r\n       <use x=\"595.894531\" xlink:href=\"#DejaVuSans-110\"/>\r\n      </g>\r\n     </g>\r\n    </g>\r\n    <g id=\"ytick_22\">\r\n     <g id=\"line2d_61\">\r\n      <path clip-path=\"url(#p28b5ca037f)\" d=\"M 94.376563 40.438125 \r\nL 429.176563 40.438125 \r\n\" style=\"fill:none;stroke:#b0b0b0;stroke-linecap:square;stroke-width:0.8;\"/>\r\n     </g>\r\n     <g id=\"line2d_62\">\r\n      <g>\r\n       <use style=\"stroke:#000000;stroke-width:0.8;\" x=\"94.376563\" xlink:href=\"#m126fb1e994\" y=\"40.438125\"/>\r\n      </g>\r\n     </g>\r\n     <g id=\"text_32\">\r\n      <!-- Radjem -->\r\n      <defs>\r\n       <path d=\"M 52 44.1875 \r\nQ 55.375 50.25 60.0625 53.125 \r\nQ 64.75 56 71.09375 56 \r\nQ 79.640625 56 84.28125 50.015625 \r\nQ 88.921875 44.046875 88.921875 33.015625 \r\nL 88.921875 0 \r\nL 79.890625 0 \r\nL 79.890625 32.71875 \r\nQ 79.890625 40.578125 77.09375 44.375 \r\nQ 74.3125 48.1875 68.609375 48.1875 \r\nQ 61.625 48.1875 57.5625 43.546875 \r\nQ 53.515625 38.921875 53.515625 30.90625 \r\nL 53.515625 0 \r\nL 44.484375 0 \r\nL 44.484375 32.71875 \r\nQ 44.484375 40.625 41.703125 44.40625 \r\nQ 38.921875 48.1875 33.109375 48.1875 \r\nQ 26.21875 48.1875 22.15625 43.53125 \r\nQ 18.109375 38.875 18.109375 30.90625 \r\nL 18.109375 0 \r\nL 9.078125 0 \r\nL 9.078125 54.6875 \r\nL 18.109375 54.6875 \r\nL 18.109375 46.1875 \r\nQ 21.1875 51.21875 25.484375 53.609375 \r\nQ 29.78125 56 35.6875 56 \r\nQ 41.65625 56 45.828125 52.96875 \r\nQ 50 49.953125 52 44.1875 \r\nz\r\n\" id=\"DejaVuSans-109\"/>\r\n      </defs>\r\n      <g transform=\"translate(49.504688 44.237344)scale(0.1 -0.1)\">\r\n       <use xlink:href=\"#DejaVuSans-82\"/>\r\n       <use x=\"67.232422\" xlink:href=\"#DejaVuSans-97\"/>\r\n       <use x=\"128.511719\" xlink:href=\"#DejaVuSans-100\"/>\r\n       <use x=\"191.988281\" xlink:href=\"#DejaVuSans-106\"/>\r\n       <use x=\"219.771484\" xlink:href=\"#DejaVuSans-101\"/>\r\n       <use x=\"281.294922\" xlink:href=\"#DejaVuSans-109\"/>\r\n      </g>\r\n     </g>\r\n    </g>\r\n    <g id=\"ytick_23\">\r\n     <g id=\"line2d_63\">\r\n      <path clip-path=\"url(#p28b5ca037f)\" d=\"M 94.376563 31.378125 \r\nL 429.176563 31.378125 \r\n\" style=\"fill:none;stroke:#b0b0b0;stroke-linecap:square;stroke-width:0.8;\"/>\r\n     </g>\r\n     <g id=\"line2d_64\">\r\n      <g>\r\n       <use style=\"stroke:#000000;stroke-width:0.8;\" x=\"94.376563\" xlink:href=\"#m126fb1e994\" y=\"31.378125\"/>\r\n      </g>\r\n     </g>\r\n     <g id=\"text_33\">\r\n      <!-- Hadjem -->\r\n      <g transform=\"translate(48.707813 35.177344)scale(0.1 -0.1)\">\r\n       <use xlink:href=\"#DejaVuSans-72\"/>\r\n       <use x=\"75.195312\" xlink:href=\"#DejaVuSans-97\"/>\r\n       <use x=\"136.474609\" xlink:href=\"#DejaVuSans-100\"/>\r\n       <use x=\"199.951172\" xlink:href=\"#DejaVuSans-106\"/>\r\n       <use x=\"227.734375\" xlink:href=\"#DejaVuSans-101\"/>\r\n       <use x=\"289.257812\" xlink:href=\"#DejaVuSans-109\"/>\r\n      </g>\r\n     </g>\r\n    </g>\r\n    <g id=\"text_34\">\r\n     <!-- Features -->\r\n     <g transform=\"translate(14.798437 152.532656)rotate(-90)scale(0.1 -0.1)\">\r\n      <use xlink:href=\"#DejaVuSans-70\"/>\r\n      <use x=\"52.019531\" xlink:href=\"#DejaVuSans-101\"/>\r\n      <use x=\"113.542969\" xlink:href=\"#DejaVuSans-97\"/>\r\n      <use x=\"174.822266\" xlink:href=\"#DejaVuSans-116\"/>\r\n      <use x=\"214.03125\" xlink:href=\"#DejaVuSans-117\"/>\r\n      <use x=\"277.410156\" xlink:href=\"#DejaVuSans-114\"/>\r\n      <use x=\"316.273438\" xlink:href=\"#DejaVuSans-101\"/>\r\n      <use x=\"377.796875\" xlink:href=\"#DejaVuSans-115\"/>\r\n     </g>\r\n    </g>\r\n   </g>\r\n   <g id=\"patch_26\">\r\n    <path d=\"M 94.376563 239.758125 \r\nL 94.376563 22.318125 \r\n\" style=\"fill:none;stroke:#000000;stroke-linecap:square;stroke-linejoin:miter;stroke-width:0.8;\"/>\r\n   </g>\r\n   <g id=\"patch_27\">\r\n    <path d=\"M 429.176563 239.758125 \r\nL 429.176563 22.318125 \r\n\" style=\"fill:none;stroke:#000000;stroke-linecap:square;stroke-linejoin:miter;stroke-width:0.8;\"/>\r\n   </g>\r\n   <g id=\"patch_28\">\r\n    <path d=\"M 94.376563 239.758125 \r\nL 429.176563 239.758125 \r\n\" style=\"fill:none;stroke:#000000;stroke-linecap:square;stroke-linejoin:miter;stroke-width:0.8;\"/>\r\n   </g>\r\n   <g id=\"patch_29\">\r\n    <path d=\"M 94.376563 22.318125 \r\nL 429.176563 22.318125 \r\n\" style=\"fill:none;stroke:#000000;stroke-linecap:square;stroke-linejoin:miter;stroke-width:0.8;\"/>\r\n   </g>\r\n   <g id=\"text_35\">\r\n    <!-- 3 -->\r\n    <g transform=\"translate(95.900285 233.4575)scale(0.1 -0.1)\">\r\n     <use xlink:href=\"#DejaVuSans-51\"/>\r\n    </g>\r\n   </g>\r\n   <g id=\"text_36\">\r\n    <!-- 5 -->\r\n    <g transform=\"translate(96.662147 224.3975)scale(0.1 -0.1)\">\r\n     <use xlink:href=\"#DejaVuSans-53\"/>\r\n    </g>\r\n   </g>\r\n   <g id=\"text_37\">\r\n    <!-- 13 -->\r\n    <g transform=\"translate(99.709592 215.3375)scale(0.1 -0.1)\">\r\n     <use xlink:href=\"#DejaVuSans-49\"/>\r\n     <use x=\"63.623047\" xlink:href=\"#DejaVuSans-51\"/>\r\n    </g>\r\n   </g>\r\n   <g id=\"text_38\">\r\n    <!-- 19 -->\r\n    <defs>\r\n     <path d=\"M 10.984375 1.515625 \r\nL 10.984375 10.5 \r\nQ 14.703125 8.734375 18.5 7.8125 \r\nQ 22.3125 6.890625 25.984375 6.890625 \r\nQ 35.75 6.890625 40.890625 13.453125 \r\nQ 46.046875 20.015625 46.78125 33.40625 \r\nQ 43.953125 29.203125 39.59375 26.953125 \r\nQ 35.25 24.703125 29.984375 24.703125 \r\nQ 19.046875 24.703125 12.671875 31.3125 \r\nQ 6.296875 37.9375 6.296875 49.421875 \r\nQ 6.296875 60.640625 12.9375 67.421875 \r\nQ 19.578125 74.21875 30.609375 74.21875 \r\nQ 43.265625 74.21875 49.921875 64.515625 \r\nQ 56.59375 54.828125 56.59375 36.375 \r\nQ 56.59375 19.140625 48.40625 8.859375 \r\nQ 40.234375 -1.421875 26.421875 -1.421875 \r\nQ 22.703125 -1.421875 18.890625 -0.6875 \r\nQ 15.09375 0.046875 10.984375 1.515625 \r\nz\r\nM 30.609375 32.421875 \r\nQ 37.25 32.421875 41.125 36.953125 \r\nQ 45.015625 41.5 45.015625 49.421875 \r\nQ 45.015625 57.28125 41.125 61.84375 \r\nQ 37.25 66.40625 30.609375 66.40625 \r\nQ 23.96875 66.40625 20.09375 61.84375 \r\nQ 16.21875 57.28125 16.21875 49.421875 \r\nQ 16.21875 41.5 20.09375 36.953125 \r\nQ 23.96875 32.421875 30.609375 32.421875 \r\nz\r\n\" id=\"DejaVuSans-57\"/>\r\n    </defs>\r\n    <g transform=\"translate(101.995177 206.2775)scale(0.1 -0.1)\">\r\n     <use xlink:href=\"#DejaVuSans-49\"/>\r\n     <use x=\"63.623047\" xlink:href=\"#DejaVuSans-57\"/>\r\n    </g>\r\n   </g>\r\n   <g id=\"text_39\">\r\n    <!-- 22 -->\r\n    <g transform=\"translate(103.137969 197.2175)scale(0.1 -0.1)\">\r\n     <use xlink:href=\"#DejaVuSans-50\"/>\r\n     <use x=\"63.623047\" xlink:href=\"#DejaVuSans-50\"/>\r\n    </g>\r\n   </g>\r\n   <g id=\"text_40\">\r\n    <!-- 25 -->\r\n    <g transform=\"translate(104.280761 188.1575)scale(0.1 -0.1)\">\r\n     <use xlink:href=\"#DejaVuSans-50\"/>\r\n     <use x=\"63.623047\" xlink:href=\"#DejaVuSans-53\"/>\r\n    </g>\r\n   </g>\r\n   <g id=\"text_41\">\r\n    <!-- 26 -->\r\n    <g transform=\"translate(104.661692 179.0975)scale(0.1 -0.1)\">\r\n     <use xlink:href=\"#DejaVuSans-50\"/>\r\n     <use x=\"63.623047\" xlink:href=\"#DejaVuSans-54\"/>\r\n    </g>\r\n   </g>\r\n   <g id=\"text_42\">\r\n    <!-- 33 -->\r\n    <g transform=\"translate(107.328207 170.0375)scale(0.1 -0.1)\">\r\n     <use xlink:href=\"#DejaVuSans-51\"/>\r\n     <use x=\"63.623047\" xlink:href=\"#DejaVuSans-51\"/>\r\n    </g>\r\n   </g>\r\n   <g id=\"text_43\">\r\n    <!-- 36 -->\r\n    <g transform=\"translate(108.470999 160.9775)scale(0.1 -0.1)\">\r\n     <use xlink:href=\"#DejaVuSans-51\"/>\r\n     <use x=\"63.623047\" xlink:href=\"#DejaVuSans-54\"/>\r\n    </g>\r\n   </g>\r\n   <g id=\"text_44\">\r\n    <!-- 57 -->\r\n    <g transform=\"translate(116.470544 151.9175)scale(0.1 -0.1)\">\r\n     <use xlink:href=\"#DejaVuSans-53\"/>\r\n     <use x=\"63.623047\" xlink:href=\"#DejaVuSans-55\"/>\r\n    </g>\r\n   </g>\r\n   <g id=\"text_45\">\r\n    <!-- 69 -->\r\n    <g transform=\"translate(121.041712 142.8575)scale(0.1 -0.1)\">\r\n     <use xlink:href=\"#DejaVuSans-54\"/>\r\n     <use x=\"63.623047\" xlink:href=\"#DejaVuSans-57\"/>\r\n    </g>\r\n   </g>\r\n   <g id=\"text_46\">\r\n    <!-- 91 -->\r\n    <g transform=\"translate(129.422188 133.7975)scale(0.1 -0.1)\">\r\n     <use xlink:href=\"#DejaVuSans-57\"/>\r\n     <use x=\"63.623047\" xlink:href=\"#DejaVuSans-49\"/>\r\n    </g>\r\n   </g>\r\n   <g id=\"text_47\">\r\n    <!-- 104 -->\r\n    <g transform=\"translate(134.374287 124.7375)scale(0.1 -0.1)\">\r\n     <use xlink:href=\"#DejaVuSans-49\"/>\r\n     <use x=\"63.623047\" xlink:href=\"#DejaVuSans-48\"/>\r\n     <use x=\"127.246094\" xlink:href=\"#DejaVuSans-52\"/>\r\n    </g>\r\n   </g>\r\n   <g id=\"text_48\">\r\n    <!-- 169 -->\r\n    <g transform=\"translate(159.134783 115.6775)scale(0.1 -0.1)\">\r\n     <use xlink:href=\"#DejaVuSans-49\"/>\r\n     <use x=\"63.623047\" xlink:href=\"#DejaVuSans-54\"/>\r\n     <use x=\"127.246094\" xlink:href=\"#DejaVuSans-57\"/>\r\n    </g>\r\n   </g>\r\n   <g id=\"text_49\">\r\n    <!-- 198 -->\r\n    <g transform=\"translate(170.181774 106.6175)scale(0.1 -0.1)\">\r\n     <use xlink:href=\"#DejaVuSans-49\"/>\r\n     <use x=\"63.623047\" xlink:href=\"#DejaVuSans-57\"/>\r\n     <use x=\"127.246094\" xlink:href=\"#DejaVuSans-56\"/>\r\n    </g>\r\n   </g>\r\n   <g id=\"text_50\">\r\n    <!-- 350 -->\r\n    <g transform=\"translate(228.083241 97.5575)scale(0.1 -0.1)\">\r\n     <use xlink:href=\"#DejaVuSans-51\"/>\r\n     <use x=\"63.623047\" xlink:href=\"#DejaVuSans-53\"/>\r\n     <use x=\"127.246094\" xlink:href=\"#DejaVuSans-48\"/>\r\n    </g>\r\n   </g>\r\n   <g id=\"text_51\">\r\n    <!-- 356 -->\r\n    <g transform=\"translate(230.368826 88.4975)scale(0.1 -0.1)\">\r\n     <use xlink:href=\"#DejaVuSans-51\"/>\r\n     <use x=\"63.623047\" xlink:href=\"#DejaVuSans-53\"/>\r\n     <use x=\"127.246094\" xlink:href=\"#DejaVuSans-54\"/>\r\n    </g>\r\n   </g>\r\n   <g id=\"text_52\">\r\n    <!-- 361 -->\r\n    <g transform=\"translate(232.273479 79.4375)scale(0.1 -0.1)\">\r\n     <use xlink:href=\"#DejaVuSans-51\"/>\r\n     <use x=\"63.623047\" xlink:href=\"#DejaVuSans-54\"/>\r\n     <use x=\"127.246094\" xlink:href=\"#DejaVuSans-49\"/>\r\n    </g>\r\n   </g>\r\n   <g id=\"text_53\">\r\n    <!-- 403 -->\r\n    <g transform=\"translate(248.272569 70.3775)scale(0.1 -0.1)\">\r\n     <use xlink:href=\"#DejaVuSans-52\"/>\r\n     <use x=\"63.623047\" xlink:href=\"#DejaVuSans-48\"/>\r\n     <use x=\"127.246094\" xlink:href=\"#DejaVuSans-51\"/>\r\n    </g>\r\n   </g>\r\n   <g id=\"text_54\">\r\n    <!-- 412 -->\r\n    <g transform=\"translate(251.700945 61.3175)scale(0.1 -0.1)\">\r\n     <use xlink:href=\"#DejaVuSans-52\"/>\r\n     <use x=\"63.623047\" xlink:href=\"#DejaVuSans-49\"/>\r\n     <use x=\"127.246094\" xlink:href=\"#DejaVuSans-50\"/>\r\n    </g>\r\n   </g>\r\n   <g id=\"text_55\">\r\n    <!-- 440 -->\r\n    <g transform=\"translate(262.367005 52.2575)scale(0.1 -0.1)\">\r\n     <use xlink:href=\"#DejaVuSans-52\"/>\r\n     <use x=\"63.623047\" xlink:href=\"#DejaVuSans-52\"/>\r\n     <use x=\"127.246094\" xlink:href=\"#DejaVuSans-48\"/>\r\n    </g>\r\n   </g>\r\n   <g id=\"text_56\">\r\n    <!-- 740 -->\r\n    <g transform=\"translate(376.646218 43.1975)scale(0.1 -0.1)\">\r\n     <use xlink:href=\"#DejaVuSans-55\"/>\r\n     <use x=\"63.623047\" xlink:href=\"#DejaVuSans-52\"/>\r\n     <use x=\"127.246094\" xlink:href=\"#DejaVuSans-48\"/>\r\n    </g>\r\n   </g>\r\n   <g id=\"text_57\">\r\n    <!-- 799 -->\r\n    <g transform=\"translate(399.12113 34.1375)scale(0.1 -0.1)\">\r\n     <use xlink:href=\"#DejaVuSans-55\"/>\r\n     <use x=\"63.623047\" xlink:href=\"#DejaVuSans-57\"/>\r\n     <use x=\"127.246094\" xlink:href=\"#DejaVuSans-57\"/>\r\n    </g>\r\n   </g>\r\n   <g id=\"text_58\">\r\n    <!-- Feature importance -->\r\n    <g transform=\"translate(202.92125 16.318125)scale(0.12 -0.12)\">\r\n     <use xlink:href=\"#DejaVuSans-70\"/>\r\n     <use x=\"52.019531\" xlink:href=\"#DejaVuSans-101\"/>\r\n     <use x=\"113.542969\" xlink:href=\"#DejaVuSans-97\"/>\r\n     <use x=\"174.822266\" xlink:href=\"#DejaVuSans-116\"/>\r\n     <use x=\"214.03125\" xlink:href=\"#DejaVuSans-117\"/>\r\n     <use x=\"277.410156\" xlink:href=\"#DejaVuSans-114\"/>\r\n     <use x=\"316.273438\" xlink:href=\"#DejaVuSans-101\"/>\r\n     <use x=\"377.796875\" xlink:href=\"#DejaVuSans-32\"/>\r\n     <use x=\"409.583984\" xlink:href=\"#DejaVuSans-105\"/>\r\n     <use x=\"437.367188\" xlink:href=\"#DejaVuSans-109\"/>\r\n     <use x=\"534.779297\" xlink:href=\"#DejaVuSans-112\"/>\r\n     <use x=\"598.255859\" xlink:href=\"#DejaVuSans-111\"/>\r\n     <use x=\"659.4375\" xlink:href=\"#DejaVuSans-114\"/>\r\n     <use x=\"700.550781\" xlink:href=\"#DejaVuSans-116\"/>\r\n     <use x=\"739.759766\" xlink:href=\"#DejaVuSans-97\"/>\r\n     <use x=\"801.039062\" xlink:href=\"#DejaVuSans-110\"/>\r\n     <use x=\"864.417969\" xlink:href=\"#DejaVuSans-99\"/>\r\n     <use x=\"919.398438\" xlink:href=\"#DejaVuSans-101\"/>\r\n    </g>\r\n   </g>\r\n  </g>\r\n </g>\r\n <defs>\r\n  <clipPath id=\"p28b5ca037f\">\r\n   <rect height=\"217.44\" width=\"334.8\" x=\"94.376563\" y=\"22.318125\"/>\r\n  </clipPath>\r\n </defs>\r\n</svg>\r\n",
      "image/png": "[encoded data removed]"
     },
     "metadata": {
      "needs_background": "light"
     }
    }
   ],
   "source": [
    "xgb.plot_importance(xgb_train)\n",
    "plt.rcParams['figure.figsize'] = [20, 20]\n",
    "plt.show()"
   ]
  },
  {
   "cell_type": "code",
   "execution_count": 48,
   "metadata": {},
   "outputs": [
    {
     "output_type": "execute_result",
     "data": {
      "text/plain": [
       "0.5357763210162978"
      ]
     },
     "metadata": {},
     "execution_count": 48
    }
   ],
   "source": [
    "LogLoss(xgb_valid_prob, y_valid)"
   ]
  },
  {
   "cell_type": "code",
   "execution_count": 49,
   "metadata": {},
   "outputs": [
    {
     "output_type": "execute_result",
     "data": {
      "text/plain": [
       "0.5719683760165738"
      ]
     },
     "metadata": {},
     "execution_count": 49
    }
   ],
   "source": [
    "clf = RandomForestClassifier(n_estimators=200, max_depth=3, min_samples_leaf=3)\n",
    "clf.fit(X_train, y_train)\n",
    "rf_prob = pd.DataFrame(clf.predict_proba(X_valid))\n",
    "LogLoss(rf_prob[1], y_valid)"
   ]
  },
  {
   "cell_type": "code",
   "execution_count": 50,
   "metadata": {},
   "outputs": [],
   "source": [
    "from sklearn.svm import SVC\n",
    "classifier = SVC(kernel = 'linear', probability= True, random_state = 0)"
   ]
  },
  {
   "cell_type": "code",
   "execution_count": 51,
   "metadata": {},
   "outputs": [
    {
     "output_type": "execute_result",
     "data": {
      "text/plain": [
       "SVC(kernel='linear', probability=True, random_state=0)"
      ]
     },
     "metadata": {},
     "execution_count": 51
    }
   ],
   "source": [
    "classifier.fit(scaled_X_train_orig[ind_var_selected_no_line],y_train_orig)"
   ]
  },
  {
   "cell_type": "code",
   "execution_count": 64,
   "metadata": {},
   "outputs": [],
   "source": [
    "second_rd_svc = pd.DataFrame(classifier.predict_proba(scaled_X_test[ind_var_selected_no_line]))"
   ]
  },
  {
   "cell_type": "code",
   "execution_count": 65,
   "metadata": {},
   "outputs": [],
   "source": [
    "second_rd_submission = pd.merge(test_combos_df, second_rd_svc, left_index=True, right_index=True)"
   ]
  },
  {
   "cell_type": "code",
   "execution_count": 66,
   "metadata": {},
   "outputs": [],
   "source": [
    "second_rd_submission.loc[second_rd_submission['HTeamID']<second_rd_submission['RTeamID'], 'pred'] = second_rd_submission[1]\n",
    "second_rd_submission.loc[second_rd_submission['HTeamID']>second_rd_submission['RTeamID'], 'pred'] = second_rd_submission[0]"
   ]
  },
  {
   "cell_type": "code",
   "execution_count": 67,
   "metadata": {},
   "outputs": [],
   "source": [
    "second_rd_submission = second_rd_submission[['ID','pred']]"
   ]
  },
  {
   "cell_type": "code",
   "execution_count": 68,
   "metadata": {},
   "outputs": [
    {
     "output_type": "execute_result",
     "data": {
      "text/plain": [
       "                   ID      pred\n",
       "11385  2019_1449_1459  0.267258\n",
       "11386  2019_1449_1463  0.768173\n",
       "11387  2019_1458_1459  0.509793\n",
       "11388  2019_1458_1463  0.835248\n",
       "11389  2019_1459_1463  0.857561"
      ],
      "text/html": "<div>\n<style scoped>\n    .dataframe tbody tr th:only-of-type {\n        vertical-align: middle;\n    }\n\n    .dataframe tbody tr th {\n        vertical-align: top;\n    }\n\n    .dataframe thead th {\n        text-align: right;\n    }\n</style>\n<table border=\"1\" class=\"dataframe\">\n  <thead>\n    <tr style=\"text-align: right;\">\n      <th></th>\n      <th>ID</th>\n      <th>pred</th>\n    </tr>\n  </thead>\n  <tbody>\n    <tr>\n      <th>11385</th>\n      <td>2019_1449_1459</td>\n      <td>0.267258</td>\n    </tr>\n    <tr>\n      <th>11386</th>\n      <td>2019_1449_1463</td>\n      <td>0.768173</td>\n    </tr>\n    <tr>\n      <th>11387</th>\n      <td>2019_1458_1459</td>\n      <td>0.509793</td>\n    </tr>\n    <tr>\n      <th>11388</th>\n      <td>2019_1458_1463</td>\n      <td>0.835248</td>\n    </tr>\n    <tr>\n      <th>11389</th>\n      <td>2019_1459_1463</td>\n      <td>0.857561</td>\n    </tr>\n  </tbody>\n</table>\n</div>"
     },
     "metadata": {},
     "execution_count": 68
    }
   ],
   "source": [
    "second_rd_submission.tail()"
   ]
  },
  {
   "cell_type": "code",
   "execution_count": 69,
   "metadata": {},
   "outputs": [],
   "source": [
    "second_rd_submission.to_csv('SVC_Ismail_submission.csv', index=False)"
   ]
  },
  {
   "cell_type": "code",
   "execution_count": 52,
   "metadata": {},
   "outputs": [],
   "source": [
    "avg = (rf_prob[1]+xgb_valid_prob+nn_pred)/3"
   ]
  },
  {
   "cell_type": "code",
   "execution_count": 53,
   "metadata": {},
   "outputs": [
    {
     "output_type": "execute_result",
     "data": {
      "text/plain": [
       "0.5107978217643909"
      ]
     },
     "metadata": {},
     "execution_count": 53
    }
   ],
   "source": [
    "LogLoss(avg, y_valid)"
   ]
  },
  {
   "source": [
    "trying to see how VotingClassifier will perform "
   ],
   "cell_type": "markdown",
   "metadata": {}
  },
  {
   "cell_type": "code",
   "execution_count": 70,
   "metadata": {},
   "outputs": [],
   "source": [
    "Z1 = LogisticRegression(C = 1e9, random_state=23)\n",
    "clf2 = RandomForestClassifier(n_estimators=200, max_depth =3, min_samples_leaf=3)\n",
    "nn = MLPClassifier(activation='relu', hidden_layer_sizes=(7,5,3),random_state=201, max_iter=1000)\n",
    "clf3 = SVC(kernel = 'linear', probability= True, random_state = 0)"
   ]
  },
  {
   "cell_type": "code",
   "execution_count": 71,
   "metadata": {},
   "outputs": [],
   "source": [
    "eclf1 = VotingClassifier(estimators=[\n",
    "         ('linear', clf3), ('relu', nn)], voting='soft')\n",
    "eclf1 = eclf1.fit(scaled_X_train_orig[ind_var_selected_no_line],y_train_orig)"
   ]
  },
  {
   "cell_type": "code",
   "execution_count": 72,
   "metadata": {},
   "outputs": [],
   "source": [
    "second_rd_submission_all = pd.DataFrame(eclf1.predict_proba(scaled_X_test[ind_var_selected_no_line]))"
   ]
  },
  {
   "cell_type": "code",
   "execution_count": 73,
   "metadata": {},
   "outputs": [],
   "source": [
    "second_rd_submission = pd.merge(test_combos_df, second_rd_submission_all, left_index=True, right_index=True)"
   ]
  },
  {
   "cell_type": "code",
   "execution_count": 74,
   "metadata": {},
   "outputs": [],
   "source": [
    "second_rd_submission.loc[second_rd_submission['HTeamID']<second_rd_submission['RTeamID'], 'pred'] = second_rd_submission[1]\n",
    "second_rd_submission.loc[second_rd_submission['HTeamID']>second_rd_submission['RTeamID'], 'pred'] = second_rd_submission[0]"
   ]
  },
  {
   "cell_type": "code",
   "execution_count": 75,
   "metadata": {},
   "outputs": [],
   "source": [
    "second_rd_submission.to_csv('voting_soft_second_rd_submission_all.csv', index=False)"
   ]
  },
  {
   "cell_type": "code",
   "execution_count": 76,
   "metadata": {},
   "outputs": [],
   "source": [
    "second_rd_submission = second_rd_submission[['ID','pred']]"
   ]
  },
  {
   "cell_type": "code",
   "execution_count": 77,
   "metadata": {},
   "outputs": [
    {
     "output_type": "execute_result",
     "data": {
      "text/plain": [
       "               ID      pred\n",
       "0  2015_1107_1112  0.040111\n",
       "1  2015_1107_1116  0.104300\n",
       "2  2015_1107_1124  0.107679\n",
       "3  2015_1107_1125  0.456252\n",
       "4  2015_1107_1129  0.149491"
      ],
      "text/html": "<div>\n<style scoped>\n    .dataframe tbody tr th:only-of-type {\n        vertical-align: middle;\n    }\n\n    .dataframe tbody tr th {\n        vertical-align: top;\n    }\n\n    .dataframe thead th {\n        text-align: right;\n    }\n</style>\n<table border=\"1\" class=\"dataframe\">\n  <thead>\n    <tr style=\"text-align: right;\">\n      <th></th>\n      <th>ID</th>\n      <th>pred</th>\n    </tr>\n  </thead>\n  <tbody>\n    <tr>\n      <th>0</th>\n      <td>2015_1107_1112</td>\n      <td>0.040111</td>\n    </tr>\n    <tr>\n      <th>1</th>\n      <td>2015_1107_1116</td>\n      <td>0.104300</td>\n    </tr>\n    <tr>\n      <th>2</th>\n      <td>2015_1107_1124</td>\n      <td>0.107679</td>\n    </tr>\n    <tr>\n      <th>3</th>\n      <td>2015_1107_1125</td>\n      <td>0.456252</td>\n    </tr>\n    <tr>\n      <th>4</th>\n      <td>2015_1107_1129</td>\n      <td>0.149491</td>\n    </tr>\n  </tbody>\n</table>\n</div>"
     },
     "metadata": {},
     "execution_count": 77
    }
   ],
   "source": [
    "second_rd_submission.head()"
   ]
  },
  {
   "cell_type": "code",
   "execution_count": 78,
   "metadata": {},
   "outputs": [
    {
     "output_type": "execute_result",
     "data": {
      "text/plain": [
       "                   ID      pred\n",
       "11385  2019_1449_1459  0.230369\n",
       "11386  2019_1449_1463  0.743499\n",
       "11387  2019_1458_1459  0.408788\n",
       "11388  2019_1458_1463  0.864696\n",
       "11389  2019_1459_1463  0.876439"
      ],
      "text/html": "<div>\n<style scoped>\n    .dataframe tbody tr th:only-of-type {\n        vertical-align: middle;\n    }\n\n    .dataframe tbody tr th {\n        vertical-align: top;\n    }\n\n    .dataframe thead th {\n        text-align: right;\n    }\n</style>\n<table border=\"1\" class=\"dataframe\">\n  <thead>\n    <tr style=\"text-align: right;\">\n      <th></th>\n      <th>ID</th>\n      <th>pred</th>\n    </tr>\n  </thead>\n  <tbody>\n    <tr>\n      <th>11385</th>\n      <td>2019_1449_1459</td>\n      <td>0.230369</td>\n    </tr>\n    <tr>\n      <th>11386</th>\n      <td>2019_1449_1463</td>\n      <td>0.743499</td>\n    </tr>\n    <tr>\n      <th>11387</th>\n      <td>2019_1458_1459</td>\n      <td>0.408788</td>\n    </tr>\n    <tr>\n      <th>11388</th>\n      <td>2019_1458_1463</td>\n      <td>0.864696</td>\n    </tr>\n    <tr>\n      <th>11389</th>\n      <td>2019_1459_1463</td>\n      <td>0.876439</td>\n    </tr>\n  </tbody>\n</table>\n</div>"
     },
     "metadata": {},
     "execution_count": 78
    }
   ],
   "source": [
    "second_rd_submission.tail()"
   ]
  },
  {
   "cell_type": "code",
   "execution_count": 79,
   "metadata": {},
   "outputs": [],
   "source": [
    "second_rd_submission.to_csv('SVC_now_vote_Ismail_submission.csv', index=False)"
   ]
  },
  {
   "cell_type": "code",
   "execution_count": null,
   "metadata": {},
   "outputs": [],
   "source": []
  }
 ]
}