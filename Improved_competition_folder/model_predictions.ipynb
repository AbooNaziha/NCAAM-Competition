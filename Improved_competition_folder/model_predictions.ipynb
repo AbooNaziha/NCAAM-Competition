{
 "metadata": {
  "language_info": {
   "codemirror_mode": {
    "name": "ipython",
    "version": 3
   },
   "file_extension": ".py",
   "mimetype": "text/x-python",
   "name": "python",
   "nbconvert_exporter": "python",
   "pygments_lexer": "ipython3",
   "version": "3.7.7-final"
  },
  "orig_nbformat": 2,
  "kernelspec": {
   "name": "python3",
   "display_name": "Python 3.7.7 64-bit ('tf': conda)",
   "metadata": {
    "interpreter": {
     "hash": "1b4bd66619e1f63a2810c0f91c748d47860e139f5a175a9a480ebd9d4456bd5e"
    }
   }
  }
 },
 "nbformat": 4,
 "nbformat_minor": 2,
 "cells": [
  {
   "cell_type": "code",
   "execution_count": 92,
   "metadata": {},
   "outputs": [],
   "source": [
    "import numpy as np\n",
    "import pandas as pd\n",
    "\n",
    "import matplotlib.pyplot as plt\n",
    "import seaborn as sns\n",
    "%matplotlib inline\n",
    "\n",
    "from collections import Counter\n",
    "\n",
    "from sklearn.neural_network import MLPClassifier\n",
    "from sklearn.preprocessing import StandardScaler\n",
    "from sklearn.ensemble import RandomForestClassifier\n",
    "from sklearn.linear_model import LogisticRegression\n",
    "from sklearn.model_selection import GridSearchCV, cross_val_score, StratifiedKFold, learning_curve, train_test_split\n",
    "from sklearn.metrics import brier_score_loss\n",
    "\n",
    "import xgboost as xgb\n",
    "from xgboost import XGBClassifier\n",
    "\n",
    "pd.set_option('display.max_columns', None)"
   ]
  },
  {
   "source": [
    "LOAD MODEL DATA SETS "
   ],
   "cell_type": "markdown",
   "metadata": {}
  },
  {
   "cell_type": "code",
   "execution_count": 93,
   "metadata": {},
   "outputs": [],
   "source": [
    "all_games_df = pd.read_csv('all_games_df.csv')"
   ]
  },
  {
   "cell_type": "code",
   "execution_count": 94,
   "metadata": {},
   "outputs": [],
   "source": [
    "test_combos_df = pd.read_csv('test_combos_df_2015.csv')\n",
    "test_combos_df = test_combos_df.sort_values(by=['ID']).reset_index(drop=True)"
   ]
  },
  {
   "cell_type": "code",
   "execution_count": 95,
   "metadata": {},
   "outputs": [
    {
     "output_type": "execute_result",
     "data": {
      "text/plain": [
       "   Season              ID  HTeamID  RTeamID  HSeed  RSeed  is_tourney  \\\n",
       "0    2015  2015_1107_1112   1112.0   1107.0    2.0   14.0           1   \n",
       "1    2015  2015_1107_1116   1116.0   1107.0    5.0   14.0           1   \n",
       "2    2015  2015_1107_1124   1124.0   1107.0    3.0   14.0           1   \n",
       "\n",
       "   Hwins_top25  HPointMargin       HFG      HFG3  Rwins_top25  RPointMargin  \\\n",
       "0            3     17.823529  0.486694  0.358874            0       5.28125   \n",
       "1            1      7.882353  0.448082  0.347178            0       5.28125   \n",
       "2            7      8.812500  0.435875  0.379881            0       5.28125   \n",
       "\n",
       "       RFG      RFG3  HRankPOM  RRankPOM      home Hconf  Hadjem  Hadjo  \\\n",
       "0  0.44403  0.358773         2       132   arizona   P12   32.36  119.9   \n",
       "1  0.44403  0.358773        29       132  arkansas   SEC   16.44  114.7   \n",
       "2  0.44403  0.358773        15       132    baylor   B12   22.14  116.6   \n",
       "\n",
       "   Hadjd  Hluck    road Rconf  Radjem  Radjo  Radjd  Rluck  Htourny20plus  \\\n",
       "0   87.5 -0.033  albany    AE    3.29  107.2  103.9  0.054              1   \n",
       "1   98.3  0.045  albany    AE    3.29  107.2  103.9  0.054              0   \n",
       "2   94.5 -0.035  albany    AE    3.29  107.2  103.9  0.054              0   \n",
       "\n",
       "   Rtourny20plus  HBig4Conf  RBig4Conf  \n",
       "0              0          0          0  \n",
       "1              0          1          0  \n",
       "2              0          1          0  "
      ],
      "text/html": "<div>\n<style scoped>\n    .dataframe tbody tr th:only-of-type {\n        vertical-align: middle;\n    }\n\n    .dataframe tbody tr th {\n        vertical-align: top;\n    }\n\n    .dataframe thead th {\n        text-align: right;\n    }\n</style>\n<table border=\"1\" class=\"dataframe\">\n  <thead>\n    <tr style=\"text-align: right;\">\n      <th></th>\n      <th>Season</th>\n      <th>ID</th>\n      <th>HTeamID</th>\n      <th>RTeamID</th>\n      <th>HSeed</th>\n      <th>RSeed</th>\n      <th>is_tourney</th>\n      <th>Hwins_top25</th>\n      <th>HPointMargin</th>\n      <th>HFG</th>\n      <th>HFG3</th>\n      <th>Rwins_top25</th>\n      <th>RPointMargin</th>\n      <th>RFG</th>\n      <th>RFG3</th>\n      <th>HRankPOM</th>\n      <th>RRankPOM</th>\n      <th>home</th>\n      <th>Hconf</th>\n      <th>Hadjem</th>\n      <th>Hadjo</th>\n      <th>Hadjd</th>\n      <th>Hluck</th>\n      <th>road</th>\n      <th>Rconf</th>\n      <th>Radjem</th>\n      <th>Radjo</th>\n      <th>Radjd</th>\n      <th>Rluck</th>\n      <th>Htourny20plus</th>\n      <th>Rtourny20plus</th>\n      <th>HBig4Conf</th>\n      <th>RBig4Conf</th>\n    </tr>\n  </thead>\n  <tbody>\n    <tr>\n      <th>0</th>\n      <td>2015</td>\n      <td>2015_1107_1112</td>\n      <td>1112.0</td>\n      <td>1107.0</td>\n      <td>2.0</td>\n      <td>14.0</td>\n      <td>1</td>\n      <td>3</td>\n      <td>17.823529</td>\n      <td>0.486694</td>\n      <td>0.358874</td>\n      <td>0</td>\n      <td>5.28125</td>\n      <td>0.44403</td>\n      <td>0.358773</td>\n      <td>2</td>\n      <td>132</td>\n      <td>arizona</td>\n      <td>P12</td>\n      <td>32.36</td>\n      <td>119.9</td>\n      <td>87.5</td>\n      <td>-0.033</td>\n      <td>albany</td>\n      <td>AE</td>\n      <td>3.29</td>\n      <td>107.2</td>\n      <td>103.9</td>\n      <td>0.054</td>\n      <td>1</td>\n      <td>0</td>\n      <td>0</td>\n      <td>0</td>\n    </tr>\n    <tr>\n      <th>1</th>\n      <td>2015</td>\n      <td>2015_1107_1116</td>\n      <td>1116.0</td>\n      <td>1107.0</td>\n      <td>5.0</td>\n      <td>14.0</td>\n      <td>1</td>\n      <td>1</td>\n      <td>7.882353</td>\n      <td>0.448082</td>\n      <td>0.347178</td>\n      <td>0</td>\n      <td>5.28125</td>\n      <td>0.44403</td>\n      <td>0.358773</td>\n      <td>29</td>\n      <td>132</td>\n      <td>arkansas</td>\n      <td>SEC</td>\n      <td>16.44</td>\n      <td>114.7</td>\n      <td>98.3</td>\n      <td>0.045</td>\n      <td>albany</td>\n      <td>AE</td>\n      <td>3.29</td>\n      <td>107.2</td>\n      <td>103.9</td>\n      <td>0.054</td>\n      <td>0</td>\n      <td>0</td>\n      <td>1</td>\n      <td>0</td>\n    </tr>\n    <tr>\n      <th>2</th>\n      <td>2015</td>\n      <td>2015_1107_1124</td>\n      <td>1124.0</td>\n      <td>1107.0</td>\n      <td>3.0</td>\n      <td>14.0</td>\n      <td>1</td>\n      <td>7</td>\n      <td>8.812500</td>\n      <td>0.435875</td>\n      <td>0.379881</td>\n      <td>0</td>\n      <td>5.28125</td>\n      <td>0.44403</td>\n      <td>0.358773</td>\n      <td>15</td>\n      <td>132</td>\n      <td>baylor</td>\n      <td>B12</td>\n      <td>22.14</td>\n      <td>116.6</td>\n      <td>94.5</td>\n      <td>-0.035</td>\n      <td>albany</td>\n      <td>AE</td>\n      <td>3.29</td>\n      <td>107.2</td>\n      <td>103.9</td>\n      <td>0.054</td>\n      <td>0</td>\n      <td>0</td>\n      <td>1</td>\n      <td>0</td>\n    </tr>\n  </tbody>\n</table>\n</div>"
     },
     "metadata": {},
     "execution_count": 95
    }
   ],
   "source": [
    "test_combos_df.head(3)"
   ]
  },
  {
   "cell_type": "code",
   "execution_count": 96,
   "metadata": {},
   "outputs": [
    {
     "output_type": "execute_result",
     "data": {
      "text/plain": [
       "       Season              ID  HTeamID  RTeamID  HSeed  RSeed  is_tourney  \\\n",
       "11385    2019  2019_1449_1459   1459.0   1449.0    7.0    9.0           1   \n",
       "11386    2019  2019_1449_1463   1449.0   1463.0    9.0   14.0           1   \n",
       "11387    2019  2019_1458_1459   1458.0   1459.0    5.0    7.0           1   \n",
       "11388    2019  2019_1458_1463   1458.0   1463.0    5.0   14.0           1   \n",
       "11389    2019  2019_1459_1463   1459.0   1463.0    7.0   14.0           1   \n",
       "\n",
       "       Hwins_top25  HPointMargin       HFG      HFG3  Rwins_top25  \\\n",
       "11385            0     13.666667  0.487256  0.416669            0   \n",
       "11386            0      5.441176  0.455797  0.344894            0   \n",
       "11387            2      7.636364  0.453714  0.362185            0   \n",
       "11388            2      7.636364  0.453714  0.362185            0   \n",
       "11389            0     13.666667  0.487256  0.416669            0   \n",
       "\n",
       "       RPointMargin       RFG      RFG3  HRankPOM  RRankPOM        home Hconf  \\\n",
       "11385      5.441176  0.455797  0.344894        19        51     wofford    SC   \n",
       "11386      7.178571  0.496652  0.371237        51        82  washington   P12   \n",
       "11387     13.666667  0.487256  0.416669        12        19   wisconsin   B10   \n",
       "11388      7.178571  0.496652  0.371237        12        82   wisconsin   B10   \n",
       "11389      7.178571  0.496652  0.371237        19        82     wofford    SC   \n",
       "\n",
       "       Hadjem  Hadjo  Hadjd  Hluck        road Rconf  Radjem  Radjo  Radjd  \\\n",
       "11385   20.71  118.4   97.6  0.060  washington   P12   13.37  107.0   93.6   \n",
       "11386   13.37  107.0   93.6  0.078        yale   Ivy    8.59  111.7  103.1   \n",
       "11387   23.68  110.8   87.1 -0.026     wofford    SC   20.71  118.4   97.6   \n",
       "11388   23.68  110.8   87.1 -0.026        yale   Ivy    8.59  111.7  103.1   \n",
       "11389   20.71  118.4   97.6  0.060        yale   Ivy    8.59  111.7  103.1   \n",
       "\n",
       "       Rluck  Htourny20plus  Rtourny20plus  HBig4Conf  RBig4Conf  \n",
       "11385  0.078              0              0          0          0  \n",
       "11386  0.057              0              0          0          0  \n",
       "11387  0.060              1              0          1          0  \n",
       "11388  0.057              1              0          1          0  \n",
       "11389  0.057              0              0          0          0  "
      ],
      "text/html": "<div>\n<style scoped>\n    .dataframe tbody tr th:only-of-type {\n        vertical-align: middle;\n    }\n\n    .dataframe tbody tr th {\n        vertical-align: top;\n    }\n\n    .dataframe thead th {\n        text-align: right;\n    }\n</style>\n<table border=\"1\" class=\"dataframe\">\n  <thead>\n    <tr style=\"text-align: right;\">\n      <th></th>\n      <th>Season</th>\n      <th>ID</th>\n      <th>HTeamID</th>\n      <th>RTeamID</th>\n      <th>HSeed</th>\n      <th>RSeed</th>\n      <th>is_tourney</th>\n      <th>Hwins_top25</th>\n      <th>HPointMargin</th>\n      <th>HFG</th>\n      <th>HFG3</th>\n      <th>Rwins_top25</th>\n      <th>RPointMargin</th>\n      <th>RFG</th>\n      <th>RFG3</th>\n      <th>HRankPOM</th>\n      <th>RRankPOM</th>\n      <th>home</th>\n      <th>Hconf</th>\n      <th>Hadjem</th>\n      <th>Hadjo</th>\n      <th>Hadjd</th>\n      <th>Hluck</th>\n      <th>road</th>\n      <th>Rconf</th>\n      <th>Radjem</th>\n      <th>Radjo</th>\n      <th>Radjd</th>\n      <th>Rluck</th>\n      <th>Htourny20plus</th>\n      <th>Rtourny20plus</th>\n      <th>HBig4Conf</th>\n      <th>RBig4Conf</th>\n    </tr>\n  </thead>\n  <tbody>\n    <tr>\n      <th>11385</th>\n      <td>2019</td>\n      <td>2019_1449_1459</td>\n      <td>1459.0</td>\n      <td>1449.0</td>\n      <td>7.0</td>\n      <td>9.0</td>\n      <td>1</td>\n      <td>0</td>\n      <td>13.666667</td>\n      <td>0.487256</td>\n      <td>0.416669</td>\n      <td>0</td>\n      <td>5.441176</td>\n      <td>0.455797</td>\n      <td>0.344894</td>\n      <td>19</td>\n      <td>51</td>\n      <td>wofford</td>\n      <td>SC</td>\n      <td>20.71</td>\n      <td>118.4</td>\n      <td>97.6</td>\n      <td>0.060</td>\n      <td>washington</td>\n      <td>P12</td>\n      <td>13.37</td>\n      <td>107.0</td>\n      <td>93.6</td>\n      <td>0.078</td>\n      <td>0</td>\n      <td>0</td>\n      <td>0</td>\n      <td>0</td>\n    </tr>\n    <tr>\n      <th>11386</th>\n      <td>2019</td>\n      <td>2019_1449_1463</td>\n      <td>1449.0</td>\n      <td>1463.0</td>\n      <td>9.0</td>\n      <td>14.0</td>\n      <td>1</td>\n      <td>0</td>\n      <td>5.441176</td>\n      <td>0.455797</td>\n      <td>0.344894</td>\n      <td>0</td>\n      <td>7.178571</td>\n      <td>0.496652</td>\n      <td>0.371237</td>\n      <td>51</td>\n      <td>82</td>\n      <td>washington</td>\n      <td>P12</td>\n      <td>13.37</td>\n      <td>107.0</td>\n      <td>93.6</td>\n      <td>0.078</td>\n      <td>yale</td>\n      <td>Ivy</td>\n      <td>8.59</td>\n      <td>111.7</td>\n      <td>103.1</td>\n      <td>0.057</td>\n      <td>0</td>\n      <td>0</td>\n      <td>0</td>\n      <td>0</td>\n    </tr>\n    <tr>\n      <th>11387</th>\n      <td>2019</td>\n      <td>2019_1458_1459</td>\n      <td>1458.0</td>\n      <td>1459.0</td>\n      <td>5.0</td>\n      <td>7.0</td>\n      <td>1</td>\n      <td>2</td>\n      <td>7.636364</td>\n      <td>0.453714</td>\n      <td>0.362185</td>\n      <td>0</td>\n      <td>13.666667</td>\n      <td>0.487256</td>\n      <td>0.416669</td>\n      <td>12</td>\n      <td>19</td>\n      <td>wisconsin</td>\n      <td>B10</td>\n      <td>23.68</td>\n      <td>110.8</td>\n      <td>87.1</td>\n      <td>-0.026</td>\n      <td>wofford</td>\n      <td>SC</td>\n      <td>20.71</td>\n      <td>118.4</td>\n      <td>97.6</td>\n      <td>0.060</td>\n      <td>1</td>\n      <td>0</td>\n      <td>1</td>\n      <td>0</td>\n    </tr>\n    <tr>\n      <th>11388</th>\n      <td>2019</td>\n      <td>2019_1458_1463</td>\n      <td>1458.0</td>\n      <td>1463.0</td>\n      <td>5.0</td>\n      <td>14.0</td>\n      <td>1</td>\n      <td>2</td>\n      <td>7.636364</td>\n      <td>0.453714</td>\n      <td>0.362185</td>\n      <td>0</td>\n      <td>7.178571</td>\n      <td>0.496652</td>\n      <td>0.371237</td>\n      <td>12</td>\n      <td>82</td>\n      <td>wisconsin</td>\n      <td>B10</td>\n      <td>23.68</td>\n      <td>110.8</td>\n      <td>87.1</td>\n      <td>-0.026</td>\n      <td>yale</td>\n      <td>Ivy</td>\n      <td>8.59</td>\n      <td>111.7</td>\n      <td>103.1</td>\n      <td>0.057</td>\n      <td>1</td>\n      <td>0</td>\n      <td>1</td>\n      <td>0</td>\n    </tr>\n    <tr>\n      <th>11389</th>\n      <td>2019</td>\n      <td>2019_1459_1463</td>\n      <td>1459.0</td>\n      <td>1463.0</td>\n      <td>7.0</td>\n      <td>14.0</td>\n      <td>1</td>\n      <td>0</td>\n      <td>13.666667</td>\n      <td>0.487256</td>\n      <td>0.416669</td>\n      <td>0</td>\n      <td>7.178571</td>\n      <td>0.496652</td>\n      <td>0.371237</td>\n      <td>19</td>\n      <td>82</td>\n      <td>wofford</td>\n      <td>SC</td>\n      <td>20.71</td>\n      <td>118.4</td>\n      <td>97.6</td>\n      <td>0.060</td>\n      <td>yale</td>\n      <td>Ivy</td>\n      <td>8.59</td>\n      <td>111.7</td>\n      <td>103.1</td>\n      <td>0.057</td>\n      <td>0</td>\n      <td>0</td>\n      <td>0</td>\n      <td>0</td>\n    </tr>\n  </tbody>\n</table>\n</div>"
     },
     "metadata": {},
     "execution_count": 96
    }
   ],
   "source": [
    "test_combos_df.tail()"
   ]
  },
  {
   "cell_type": "code",
   "execution_count": 97,
   "metadata": {},
   "outputs": [],
   "source": [
    "ind_var_selected = [\n",
    "'is_tourney', \n",
    "'HRankPOM',\n",
    "'RRankPOM',\n",
    "'line',\n",
    "'Hwins_top25',\n",
    "'Rwins_top25',\n",
    "'HPointMargin',\n",
    "'RPointMargin',\n",
    "'HFG',\n",
    "'RFG',\n",
    "'HFG3',\n",
    "'RFG3',\n",
    "'Hadjem',\n",
    "'Hadjo',\n",
    "'Hadjd',\n",
    "'Hluck',\n",
    "'Radjem',\n",
    "'Radjo',\n",
    "'Radjd',\n",
    "'Rluck',\n",
    "'Htourny20plus',\n",
    "'Rtourny20plus',\n",
    "'HBig4Conf',\n",
    "'RBig4Conf', \n",
    "'HSeed',\n",
    "'RSeed'\n",
    "]"
   ]
  },
  {
   "source": [
    "Note: test is 2019 predictions but our \"test\" holdout set is referred to as \"valid\""
   ],
   "cell_type": "markdown",
   "metadata": {}
  },
  {
   "cell_type": "code",
   "execution_count": 98,
   "metadata": {},
   "outputs": [],
   "source": [
    "#prediction set 2019\n",
    "test_ids = test_combos_df['ID'].reset_index(drop=True)\n",
    "X_test = test_combos_df[['is_tourney','HRankPOM','RRankPOM','Hwins_top25','Rwins_top25','HPointMargin','RPointMargin','HFG','RFG','HFG3','RFG3','Hadjem','Hadjo','Hadjd','Hluck','Radjem','Radjo','Radjd','Rluck','Htourny20plus','Rtourny20plus','HBig4Conf','RBig4Conf','HSeed','RSeed']].reset_index(drop=True)"
   ]
  },
  {
   "cell_type": "code",
   "execution_count": 99,
   "metadata": {},
   "outputs": [],
   "source": [
    "#Predict the last two years as a test set (2017, 2018):\n",
    "temp_df = all_games_df[all_games_df['Season']>2016]\n",
    "temp_df = temp_df[temp_df['is_tourney']==1]\n",
    "X_valid = temp_df[ind_var_selected].reset_index(drop=True)\n",
    "y_valid = temp_df['Hwin'].reset_index(drop=True)\n",
    "\n",
    "#Train on everything else:\n",
    "temp_df1 = all_games_df[all_games_df['Season']>2016]\n",
    "temp_df1 = temp_df1[temp_df1['is_tourney']==0]\n",
    "temp_df2 = all_games_df[all_games_df['Season']<2017]\n",
    "combined_temp_df = temp_df1.append(temp_df2)\n",
    "\n",
    "X_train = combined_temp_df[ind_var_selected].reset_index(drop=True)\n",
    "y_train = combined_temp_df['Hwin'].reset_index(drop=True)\n",
    "\n",
    "#For final predictions:\n",
    "X_train_orig = all_games_df[ind_var_selected].reset_index(drop=True)\n",
    "y_train_orig = all_games_df['Hwin'].reset_index(drop=True)"
   ]
  },
  {
   "cell_type": "code",
   "execution_count": 100,
   "metadata": {},
   "outputs": [],
   "source": [
    "#Create second holdout set to double-check not overfit and check model stability (season 2016)\n",
    "temp_df16 = all_games_df[all_games_df['Season']==2016]\n",
    "temp_df16 = temp_df16[temp_df16['is_tourney']==1]\n",
    "X_valid16 = temp_df16[ind_var_selected].reset_index(drop=True)\n",
    "y_valid16 = temp_df16['Hwin'].reset_index(drop=True)\n",
    "\n",
    "temp_df1_16 = all_games_df[all_games_df['Season']==2016]\n",
    "temp_df1_16 = temp_df1_16[temp_df1_16['is_tourney']==0]\n",
    "temp_df2_16 = all_games_df[all_games_df['Season']!=2016]\n",
    "combined_temp_df_16 = temp_df1_16.append(temp_df2_16)\n",
    "\n",
    "X_train16 = combined_temp_df_16[ind_var_selected].reset_index(drop=True)\n",
    "y_train16 = combined_temp_df_16['Hwin'].reset_index(drop=True)"
   ]
  },
  {
   "cell_type": "code",
   "execution_count": 101,
   "metadata": {},
   "outputs": [],
   "source": [
    "X_test = X_test.astype(\"float64\")\n",
    "\n",
    "X_train_orig = X_train_orig.astype(\"float64\")\n",
    "y_train_orig = y_train_orig.astype(\"float64\")\n",
    "\n",
    "X_train = X_train.astype(\"float64\")\n",
    "X_valid = X_valid.astype(\"float64\")\n",
    "y_train = y_train.astype(\"float64\")\n",
    "y_valid = y_valid.astype(\"float64\")\n",
    "\n",
    "X_train16 = X_train16.astype(\"float64\")\n",
    "X_valid16 = X_valid16.astype(\"float64\")\n",
    "y_train16 = y_train16.astype(\"float64\")\n",
    "y_valid16 = y_valid16.astype(\"float64\")"
   ]
  },
  {
   "source": [
    "Scoring rules and benchmarks"
   ],
   "cell_type": "markdown",
   "metadata": {}
  },
  {
   "cell_type": "code",
   "execution_count": 102,
   "metadata": {},
   "outputs": [],
   "source": [
    "def LogLoss(predictions, realizations):\n",
    "    predictions_use = predictions.clip(0)\n",
    "    realizations_use = realizations.clip(0)\n",
    "    LogLoss = -np.mean( (realizations_use * np.log(predictions_use)) + \n",
    "                        (1 - realizations_use) * np.log(1 - predictions_use) )\n",
    "    return LogLoss"
   ]
  },
  {
   "source": [
    "If the model doesn't beat assuming 50% it is poor"
   ],
   "cell_type": "markdown",
   "metadata": {}
  },
  {
   "cell_type": "code",
   "execution_count": 103,
   "metadata": {},
   "outputs": [],
   "source": [
    "bench_5050 = np.repeat(0.5, len(y_valid))"
   ]
  },
  {
   "cell_type": "code",
   "execution_count": 104,
   "metadata": {},
   "outputs": [
    {
     "output_type": "execute_result",
     "data": {
      "text/plain": [
       "0.6931471805599453"
      ]
     },
     "metadata": {},
     "execution_count": 104
    }
   ],
   "source": [
    "LogLoss(bench_5050, y_valid)"
   ]
  },
  {
   "source": [
    "How does this compare to Lopez and Matthews (2014 winners)?"
   ],
   "cell_type": "markdown",
   "metadata": {}
  },
  {
   "cell_type": "code",
   "execution_count": 105,
   "metadata": {},
   "outputs": [],
   "source": [
    "Z1 = LogisticRegression(C = 1e9, random_state=23)\n",
    "Z1.fit(X_train[['line']], y_train)\n",
    "Z1_pred = pd.DataFrame(Z1.predict_proba(X_valid[['line']]))[1]"
   ]
  },
  {
   "cell_type": "code",
   "execution_count": 106,
   "metadata": {},
   "outputs": [
    {
     "output_type": "execute_result",
     "data": {
      "text/plain": [
       "0.5098584594489063"
      ]
     },
     "metadata": {},
     "execution_count": 106
    }
   ],
   "source": [
    "LogLoss(Z1_pred, y_valid)"
   ]
  },
  {
   "cell_type": "code",
   "execution_count": 107,
   "metadata": {},
   "outputs": [],
   "source": [
    "Z2 = LogisticRegression(C = 1e9, random_state=23)\n",
    "Z2.fit(X_train[['Hadjo','Hadjd','Radjo','Radjd']], y_train)\n",
    "Z2_pred = pd.DataFrame(Z2.predict_proba(X_valid[['Hadjo','Hadjd','Radjo','Radjd']]))[1]"
   ]
  },
  {
   "cell_type": "code",
   "execution_count": 108,
   "metadata": {},
   "outputs": [
    {
     "output_type": "execute_result",
     "data": {
      "text/plain": [
       "0.5125044135734628"
      ]
     },
     "metadata": {},
     "execution_count": 108
    }
   ],
   "source": [
    "LogLoss(Z2_pred, y_valid)"
   ]
  },
  {
   "cell_type": "code",
   "execution_count": 109,
   "metadata": {},
   "outputs": [],
   "source": [
    "Z1 = LogisticRegression(C = 1e9, random_state=23)\n",
    "Z1.fit(X_train16[['line']], y_train16)\n",
    "Z1_pred = pd.DataFrame(Z1.predict_proba(X_valid16[['line']]))[1]"
   ]
  },
  {
   "cell_type": "code",
   "execution_count": 110,
   "metadata": {},
   "outputs": [
    {
     "output_type": "execute_result",
     "data": {
      "text/plain": [
       "0.538193842907599"
      ]
     },
     "metadata": {},
     "execution_count": 110
    }
   ],
   "source": [
    "LogLoss(Z1_pred, y_valid16)"
   ]
  },
  {
   "cell_type": "code",
   "execution_count": 111,
   "metadata": {},
   "outputs": [],
   "source": [
    "Z2 = LogisticRegression(C = 1e9, random_state=23)\n",
    "Z2.fit(X_train16[['Hadjo','Hadjd','Radjo','Radjd']], y_train16)\n",
    "Z2_pred = pd.DataFrame(Z2.predict_proba(X_valid16[['Hadjo','Hadjd','Radjo','Radjd']]))[1]"
   ]
  },
  {
   "cell_type": "code",
   "execution_count": 112,
   "metadata": {},
   "outputs": [
    {
     "output_type": "execute_result",
     "data": {
      "text/plain": [
       "0.5223109999859596"
      ]
     },
     "metadata": {},
     "execution_count": 112
    }
   ],
   "source": [
    "LogLoss(Z2_pred, y_valid16)"
   ]
  },
  {
   "source": [
    "Fit a neural network (with and without line)\n",
    "\n",
    "Normalize data (using z-scores) before neural network"
   ],
   "cell_type": "markdown",
   "metadata": {}
  },
  {
   "cell_type": "code",
   "execution_count": 113,
   "metadata": {},
   "outputs": [],
   "source": [
    "scaler = StandardScaler()\n",
    "scaler.fit(X_train)  # Fit only to the training data\n",
    "scaled_X_train = pd.DataFrame(scaler.transform(X_train), index=X_train.index, columns=X_train.columns)\n",
    "scaled_X_valid = pd.DataFrame(scaler.transform(X_valid), index=X_valid.index, columns=X_valid.columns)"
   ]
  },
  {
   "cell_type": "code",
   "execution_count": 114,
   "metadata": {},
   "outputs": [],
   "source": [
    "scaler = StandardScaler()\n",
    "scaler.fit(X_train16)  # Fit only to the training data\n",
    "scaled_X_train16 = pd.DataFrame(scaler.transform(X_train16), index=X_train16.index, columns=X_train16.columns)\n",
    "scaled_X_valid16 = pd.DataFrame(scaler.transform(X_valid16), index=X_valid16.index, columns=X_valid16.columns)"
   ]
  },
  {
   "cell_type": "code",
   "execution_count": 115,
   "metadata": {},
   "outputs": [],
   "source": [
    "#drop line from training since we won't use in predictions, need these to be same number of columns.\n",
    "X_train_orig = X_train_orig.drop(['line'], axis=1)"
   ]
  },
  {
   "cell_type": "code",
   "execution_count": 116,
   "metadata": {},
   "outputs": [],
   "source": [
    "scaler = StandardScaler()\n",
    "scaler.fit(X_train_orig)  # Fit to all training data\n",
    "\n",
    "scaled_X_train_orig = pd.DataFrame(scaler.transform(X_train_orig), index=X_train_orig.index, columns=X_train_orig.columns)\n",
    "scaled_X_test = pd.DataFrame(scaler.transform(X_test), index=X_test.index, columns=X_test.columns)"
   ]
  },
  {
   "source": [
    "With line (note: we won't have line in the rounds after the first, but we could use this for the first round only like Lopez and Matthews did)"
   ],
   "cell_type": "markdown",
   "metadata": {}
  },
  {
   "cell_type": "code",
   "execution_count": 117,
   "metadata": {},
   "outputs": [],
   "source": [
    "#Note: I tried logistic activation and different combinations of hidden layers/nodes\n",
    "#Hyperparameters below minimized the log loss in the holdout set\n",
    "#I also submited a prediction with 10 nodes in the first layer, but this is the submission that placed 4th (w/ 8 in 1st)\n",
    "nn = MLPClassifier(activation='relu', hidden_layer_sizes=(8,5,3),random_state=201, max_iter=1000)\n",
    "nn.fit(scaled_X_train,y_train)\n",
    "nn_pred = pd.DataFrame(nn.predict_proba(scaled_X_valid))[1]"
   ]
  },
  {
   "cell_type": "code",
   "execution_count": 118,
   "metadata": {},
   "outputs": [
    {
     "output_type": "execute_result",
     "data": {
      "text/plain": [
       "0.44588627589413504"
      ]
     },
     "metadata": {},
     "execution_count": 118
    }
   ],
   "source": [
    "LogLoss(nn_pred, y_valid)"
   ]
  },
  {
   "cell_type": "code",
   "execution_count": 119,
   "metadata": {},
   "outputs": [
    {
     "output_type": "execute_result",
     "data": {
      "text/plain": [
       "0.44563203712846433"
      ]
     },
     "metadata": {},
     "execution_count": 119
    }
   ],
   "source": [
    "#try second holdout (does worse, but still better than baseline of 54)\n",
    "nn.fit(scaled_X_train16,y_train16)\n",
    "nn_pred16 = pd.DataFrame(nn.predict_proba(scaled_X_valid16))[1]\n",
    "LogLoss(nn_pred16, y_valid16)"
   ]
  },
  {
   "source": [
    "without a line"
   ],
   "cell_type": "markdown",
   "metadata": {}
  },
  {
   "cell_type": "code",
   "execution_count": 120,
   "metadata": {},
   "outputs": [],
   "source": [
    "#Note: I tried logistic activation and different combinations of hidden layers/nodes\n",
    "#Hyperparameters below minimized the log loss in the holdout set\n",
    "ind_var_selected_no_line = ['is_tourney', 'Hwins_top25','Rwins_top25','HPointMargin','RPointMargin','HFG','RFG','HFG3','RFG3','HRankPOM','RRankPOM','Hadjem','Hadjo','Hadjd','Hluck','Radjem','Radjo','Radjd','Rluck','Htourny20plus','Rtourny20plus','HBig4Conf','RBig4Conf', 'HSeed','RSeed']\n",
    "nn = MLPClassifier(activation='relu', hidden_layer_sizes=(7,5,3),random_state=201, max_iter=1000)\n",
    "nn.fit(scaled_X_train[ind_var_selected_no_line],y_train)\n",
    "nn_pred_no_line = pd.DataFrame(nn.predict_proba(scaled_X_valid[ind_var_selected_no_line]))[1]"
   ]
  },
  {
   "cell_type": "code",
   "execution_count": 121,
   "metadata": {},
   "outputs": [
    {
     "output_type": "execute_result",
     "data": {
      "text/plain": [
       "0.4342371803898078"
      ]
     },
     "metadata": {},
     "execution_count": 121
    }
   ],
   "source": [
    "LogLoss(nn_pred_no_line, y_valid)"
   ]
  },
  {
   "cell_type": "code",
   "execution_count": 122,
   "metadata": {},
   "outputs": [
    {
     "output_type": "execute_result",
     "data": {
      "text/plain": [
       "0.43077437527307144"
      ]
     },
     "metadata": {},
     "execution_count": 122
    }
   ],
   "source": [
    "#try second holdout (does better)\n",
    "nn.fit(scaled_X_train16[ind_var_selected_no_line],y_train16)\n",
    "nn_pred_no_line16 = pd.DataFrame(nn.predict_proba(scaled_X_valid16[ind_var_selected_no_line]))[1]\n",
    "LogLoss(nn_pred_no_line16, y_valid16)"
   ]
  },
  {
   "source": [
    "Try avg of line and no line:"
   ],
   "cell_type": "markdown",
   "metadata": {}
  },
  {
   "cell_type": "code",
   "execution_count": 123,
   "metadata": {},
   "outputs": [
    {
     "output_type": "execute_result",
     "data": {
      "text/plain": [
       "0.4295586134421243"
      ]
     },
     "metadata": {},
     "execution_count": 123
    }
   ],
   "source": [
    "avg = (nn_pred_no_line+nn_pred)/2\n",
    "LogLoss(avg, y_valid)"
   ]
  },
  {
   "cell_type": "code",
   "execution_count": 124,
   "metadata": {},
   "outputs": [
    {
     "output_type": "execute_result",
     "data": {
      "text/plain": [
       "0.4335021166154792"
      ]
     },
     "metadata": {},
     "execution_count": 124
    }
   ],
   "source": [
    "avg16 = (nn_pred_no_line16+nn_pred16)/2\n",
    "LogLoss(avg16, y_valid16)"
   ]
  },
  {
   "source": [
    "Create test predictions"
   ],
   "cell_type": "markdown",
   "metadata": {}
  },
  {
   "cell_type": "code",
   "execution_count": 125,
   "metadata": {},
   "outputs": [],
   "source": [
    "#different submissions: differ by first layer of nueral net\n",
    "ind_var_selected_no_line = ['is_tourney', 'Hwins_top25','Rwins_top25','HPointMargin','RPointMargin','HFG','RFG','HFG3','RFG3','HRankPOM','RRankPOM','Hadjem','Hadjo','Hadjd','Hluck','Radjem','Radjo','Radjd','Rluck','Htourny20plus','Rtourny20plus','HBig4Conf','RBig4Conf', 'HSeed','RSeed']\n",
    "\n",
    "#train model on all data (previously held out some tournaments for a test set)\n",
    "nn = MLPClassifier(activation='relu', hidden_layer_sizes=(7,5,3),random_state=201, max_iter=1000)\n",
    "nn.fit(scaled_X_train_orig[ind_var_selected_no_line],y_train_orig)\n",
    "second_rd_submission_all = pd.DataFrame(nn.predict_proba(scaled_X_test[ind_var_selected_no_line]))"
   ]
  },
  {
   "cell_type": "code",
   "execution_count": 126,
   "metadata": {},
   "outputs": [],
   "source": [
    "#Note: I'm predicting home (lower seed) win probability. Need to convert to be consistent with output file (lower team ID)\n",
    "second_rd_submission = pd.merge(test_combos_df, second_rd_submission_all, left_index=True, right_index=True)"
   ]
  },
  {
   "cell_type": "code",
   "execution_count": 127,
   "metadata": {},
   "outputs": [],
   "source": [
    "second_rd_submission.loc[second_rd_submission['HTeamID']<second_rd_submission['RTeamID'], 'pred'] = second_rd_submission[1]\n",
    "second_rd_submission.loc[second_rd_submission['HTeamID']>second_rd_submission['RTeamID'], 'pred'] = second_rd_submission[0]"
   ]
  },
  {
   "cell_type": "code",
   "execution_count": 128,
   "metadata": {},
   "outputs": [],
   "source": [
    "second_rd_submission.to_csv('Ismail_second_rd_submission_all.csv', index=False)"
   ]
  },
  {
   "cell_type": "code",
   "execution_count": 129,
   "metadata": {},
   "outputs": [],
   "source": [
    "second_rd_submission = second_rd_submission[['ID','pred']]"
   ]
  },
  {
   "cell_type": "code",
   "execution_count": 130,
   "metadata": {},
   "outputs": [
    {
     "output_type": "execute_result",
     "data": {
      "text/plain": [
       "               ID      pred\n",
       "0  2015_1107_1112  0.032467\n",
       "1  2015_1107_1116  0.081709\n",
       "2  2015_1107_1124  0.123742\n",
       "3  2015_1107_1125  0.272260\n",
       "4  2015_1107_1129  0.124018"
      ],
      "text/html": "<div>\n<style scoped>\n    .dataframe tbody tr th:only-of-type {\n        vertical-align: middle;\n    }\n\n    .dataframe tbody tr th {\n        vertical-align: top;\n    }\n\n    .dataframe thead th {\n        text-align: right;\n    }\n</style>\n<table border=\"1\" class=\"dataframe\">\n  <thead>\n    <tr style=\"text-align: right;\">\n      <th></th>\n      <th>ID</th>\n      <th>pred</th>\n    </tr>\n  </thead>\n  <tbody>\n    <tr>\n      <th>0</th>\n      <td>2015_1107_1112</td>\n      <td>0.032467</td>\n    </tr>\n    <tr>\n      <th>1</th>\n      <td>2015_1107_1116</td>\n      <td>0.081709</td>\n    </tr>\n    <tr>\n      <th>2</th>\n      <td>2015_1107_1124</td>\n      <td>0.123742</td>\n    </tr>\n    <tr>\n      <th>3</th>\n      <td>2015_1107_1125</td>\n      <td>0.272260</td>\n    </tr>\n    <tr>\n      <th>4</th>\n      <td>2015_1107_1129</td>\n      <td>0.124018</td>\n    </tr>\n  </tbody>\n</table>\n</div>"
     },
     "metadata": {},
     "execution_count": 130
    }
   ],
   "source": [
    "second_rd_submission.head()"
   ]
  },
  {
   "cell_type": "code",
   "execution_count": 131,
   "metadata": {},
   "outputs": [
    {
     "output_type": "execute_result",
     "data": {
      "text/plain": [
       "                   ID      pred\n",
       "11385  2019_1449_1459  0.193480\n",
       "11386  2019_1449_1463  0.718824\n",
       "11387  2019_1458_1459  0.307783\n",
       "11388  2019_1458_1463  0.894145\n",
       "11389  2019_1459_1463  0.895318"
      ],
      "text/html": "<div>\n<style scoped>\n    .dataframe tbody tr th:only-of-type {\n        vertical-align: middle;\n    }\n\n    .dataframe tbody tr th {\n        vertical-align: top;\n    }\n\n    .dataframe thead th {\n        text-align: right;\n    }\n</style>\n<table border=\"1\" class=\"dataframe\">\n  <thead>\n    <tr style=\"text-align: right;\">\n      <th></th>\n      <th>ID</th>\n      <th>pred</th>\n    </tr>\n  </thead>\n  <tbody>\n    <tr>\n      <th>11385</th>\n      <td>2019_1449_1459</td>\n      <td>0.193480</td>\n    </tr>\n    <tr>\n      <th>11386</th>\n      <td>2019_1449_1463</td>\n      <td>0.718824</td>\n    </tr>\n    <tr>\n      <th>11387</th>\n      <td>2019_1458_1459</td>\n      <td>0.307783</td>\n    </tr>\n    <tr>\n      <th>11388</th>\n      <td>2019_1458_1463</td>\n      <td>0.894145</td>\n    </tr>\n    <tr>\n      <th>11389</th>\n      <td>2019_1459_1463</td>\n      <td>0.895318</td>\n    </tr>\n  </tbody>\n</table>\n</div>"
     },
     "metadata": {},
     "execution_count": 131
    }
   ],
   "source": [
    "second_rd_submission.tail()"
   ]
  },
  {
   "cell_type": "code",
   "execution_count": 132,
   "metadata": {},
   "outputs": [],
   "source": [
    "#Export to submit to Kaggle\n",
    "second_rd_submission.to_csv('Munira_submission.csv', index=False)"
   ]
  },
  {
   "cell_type": "code",
   "execution_count": null,
   "metadata": {},
   "outputs": [],
   "source": []
  }
 ]
}