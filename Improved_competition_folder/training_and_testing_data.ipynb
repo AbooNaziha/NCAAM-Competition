{
 "metadata": {
  "language_info": {
   "codemirror_mode": {
    "name": "ipython",
    "version": 3
   },
   "file_extension": ".py",
   "mimetype": "text/x-python",
   "name": "python",
   "nbconvert_exporter": "python",
   "pygments_lexer": "ipython3",
   "version": "3.7.7-final"
  },
  "orig_nbformat": 2,
  "kernelspec": {
   "name": "python3",
   "display_name": "Python 3.7.7 64-bit ('tf': conda)",
   "metadata": {
    "interpreter": {
     "hash": "1b4bd66619e1f63a2810c0f91c748d47860e139f5a175a9a480ebd9d4456bd5e"
    }
   }
  }
 },
 "nbformat": 4,
 "nbformat_minor": 2,
 "cells": [
  {
   "cell_type": "code",
   "execution_count": 1,
   "metadata": {},
   "outputs": [],
   "source": [
    "import os\n",
    "import re\n",
    "import sklearn\n",
    "import numpy as np \n",
    "import pandas as pd\n",
    "import seaborn as sns\n",
    "import matplotlib.pyplot as plt\n",
    "from collections import Counter\n",
    "from sklearn.metrics import *\n",
    "from sklearn.linear_model import *\n",
    "from sklearn.model_selection import *\n",
    "\n",
    "pd.set_option('display.max_columns', None)"
   ]
  },
  {
   "cell_type": "code",
   "execution_count": 2,
   "metadata": {},
   "outputs": [
    {
     "output_type": "stream",
     "name": "stdout",
     "text": [
      "Cities.csv\nConferences.csv\nMConferenceTourneyGames.csv\nMGameCities.csv\nMMasseyOrdinals.csv\nMNCAATourneyCompactResults.csv\nMNCAATourneyDetailedResults.csv\nMNCAATourneySeedRoundSlots.csv\nMNCAATourneySeeds.csv\nMNCAATourneySlots.csv\nMRegularSeasonCompactResults.csv\nMRegularSeasonDetailedResults.csv\nMSampleSubmissionStage1.csv\nMSeasons.csv\nMSecondaryTourneyCompactResults.csv\nMSecondaryTourneyTeams.csv\nMTeamCoaches.csv\nMTeamConferences.csv\nMTeams.csv\nMTeamSpellings.csv\n"
     ]
    }
   ],
   "source": [
    "DATA_PATH_M = 'C:/Users/FLUXNATURE/Desktop/New Kaggle world/NCAAM/'\n",
    "\n",
    "for filename in os.listdir(DATA_PATH_M):\n",
    "    print(filename)"
   ]
  },
  {
   "cell_type": "code",
   "execution_count": 3,
   "metadata": {},
   "outputs": [],
   "source": [
    "tourney_compact_df = pd.read_csv(DATA_PATH_M + 'MNCAATourneyCompactResults.csv')\n",
    "tourney_compact_df['is_tourney'] = 1.0"
   ]
  },
  {
   "cell_type": "code",
   "execution_count": 4,
   "metadata": {},
   "outputs": [],
   "source": [
    "regseason_compact_df = pd.read_csv(DATA_PATH_M + 'MRegularSeasonCompactResults.csv')\n",
    "regseason_compact_df['is_tourney'] = 0.0"
   ]
  },
  {
   "cell_type": "code",
   "execution_count": 5,
   "metadata": {},
   "outputs": [
    {
     "output_type": "execute_result",
     "data": {
      "text/plain": [
       "   Season  DayNum  WTeamID  WScore  LTeamID  LScore WLoc  NumOT  is_tourney\n",
       "0    1985      20     1228      81     1328      64    N      0         0.0\n",
       "1    1985      25     1106      77     1354      70    H      0         0.0\n",
       "2    1985      25     1112      63     1223      56    H      0         0.0\n",
       "3    1985      25     1165      70     1432      54    H      0         0.0\n",
       "4    1985      25     1192      86     1447      74    H      0         0.0"
      ],
      "text/html": "<div>\n<style scoped>\n    .dataframe tbody tr th:only-of-type {\n        vertical-align: middle;\n    }\n\n    .dataframe tbody tr th {\n        vertical-align: top;\n    }\n\n    .dataframe thead th {\n        text-align: right;\n    }\n</style>\n<table border=\"1\" class=\"dataframe\">\n  <thead>\n    <tr style=\"text-align: right;\">\n      <th></th>\n      <th>Season</th>\n      <th>DayNum</th>\n      <th>WTeamID</th>\n      <th>WScore</th>\n      <th>LTeamID</th>\n      <th>LScore</th>\n      <th>WLoc</th>\n      <th>NumOT</th>\n      <th>is_tourney</th>\n    </tr>\n  </thead>\n  <tbody>\n    <tr>\n      <th>0</th>\n      <td>1985</td>\n      <td>20</td>\n      <td>1228</td>\n      <td>81</td>\n      <td>1328</td>\n      <td>64</td>\n      <td>N</td>\n      <td>0</td>\n      <td>0.0</td>\n    </tr>\n    <tr>\n      <th>1</th>\n      <td>1985</td>\n      <td>25</td>\n      <td>1106</td>\n      <td>77</td>\n      <td>1354</td>\n      <td>70</td>\n      <td>H</td>\n      <td>0</td>\n      <td>0.0</td>\n    </tr>\n    <tr>\n      <th>2</th>\n      <td>1985</td>\n      <td>25</td>\n      <td>1112</td>\n      <td>63</td>\n      <td>1223</td>\n      <td>56</td>\n      <td>H</td>\n      <td>0</td>\n      <td>0.0</td>\n    </tr>\n    <tr>\n      <th>3</th>\n      <td>1985</td>\n      <td>25</td>\n      <td>1165</td>\n      <td>70</td>\n      <td>1432</td>\n      <td>54</td>\n      <td>H</td>\n      <td>0</td>\n      <td>0.0</td>\n    </tr>\n    <tr>\n      <th>4</th>\n      <td>1985</td>\n      <td>25</td>\n      <td>1192</td>\n      <td>86</td>\n      <td>1447</td>\n      <td>74</td>\n      <td>H</td>\n      <td>0</td>\n      <td>0.0</td>\n    </tr>\n  </tbody>\n</table>\n</div>"
     },
     "metadata": {},
     "execution_count": 5
    }
   ],
   "source": [
    "all_games_df = regseason_compact_df.append(tourney_compact_df)\n",
    "all_games_df.head()"
   ]
  },
  {
   "cell_type": "code",
   "execution_count": 6,
   "metadata": {},
   "outputs": [
    {
     "output_type": "execute_result",
     "data": {
      "text/plain": [
       "      Season  DayNum  WTeamID  WScore  LTeamID  LScore WLoc  NumOT  is_tourney\n",
       "2246    2019     146     1120      77     1246      71    N      1         1.0\n",
       "2247    2019     146     1277      68     1181      67    N      0         1.0\n",
       "2248    2019     152     1403      61     1277      51    N      0         1.0\n",
       "2249    2019     152     1438      63     1120      62    N      0         1.0\n",
       "2250    2019     154     1438      85     1403      77    N      1         1.0"
      ],
      "text/html": "<div>\n<style scoped>\n    .dataframe tbody tr th:only-of-type {\n        vertical-align: middle;\n    }\n\n    .dataframe tbody tr th {\n        vertical-align: top;\n    }\n\n    .dataframe thead th {\n        text-align: right;\n    }\n</style>\n<table border=\"1\" class=\"dataframe\">\n  <thead>\n    <tr style=\"text-align: right;\">\n      <th></th>\n      <th>Season</th>\n      <th>DayNum</th>\n      <th>WTeamID</th>\n      <th>WScore</th>\n      <th>LTeamID</th>\n      <th>LScore</th>\n      <th>WLoc</th>\n      <th>NumOT</th>\n      <th>is_tourney</th>\n    </tr>\n  </thead>\n  <tbody>\n    <tr>\n      <th>2246</th>\n      <td>2019</td>\n      <td>146</td>\n      <td>1120</td>\n      <td>77</td>\n      <td>1246</td>\n      <td>71</td>\n      <td>N</td>\n      <td>1</td>\n      <td>1.0</td>\n    </tr>\n    <tr>\n      <th>2247</th>\n      <td>2019</td>\n      <td>146</td>\n      <td>1277</td>\n      <td>68</td>\n      <td>1181</td>\n      <td>67</td>\n      <td>N</td>\n      <td>0</td>\n      <td>1.0</td>\n    </tr>\n    <tr>\n      <th>2248</th>\n      <td>2019</td>\n      <td>152</td>\n      <td>1403</td>\n      <td>61</td>\n      <td>1277</td>\n      <td>51</td>\n      <td>N</td>\n      <td>0</td>\n      <td>1.0</td>\n    </tr>\n    <tr>\n      <th>2249</th>\n      <td>2019</td>\n      <td>152</td>\n      <td>1438</td>\n      <td>63</td>\n      <td>1120</td>\n      <td>62</td>\n      <td>N</td>\n      <td>0</td>\n      <td>1.0</td>\n    </tr>\n    <tr>\n      <th>2250</th>\n      <td>2019</td>\n      <td>154</td>\n      <td>1438</td>\n      <td>85</td>\n      <td>1403</td>\n      <td>77</td>\n      <td>N</td>\n      <td>1</td>\n      <td>1.0</td>\n    </tr>\n  </tbody>\n</table>\n</div>"
     },
     "metadata": {},
     "execution_count": 6
    }
   ],
   "source": [
    "all_games_df.tail()"
   ]
  },
  {
   "source": [
    "Merge spread, seeds, ranks, and Ken POM data\n",
    "\n",
    "Load and merge on point spread"
   ],
   "cell_type": "markdown",
   "metadata": {}
  },
  {
   "cell_type": "code",
   "execution_count": 7,
   "metadata": {},
   "outputs": [],
   "source": [
    "spread_df = pd.read_csv('spreads_all.csv')"
   ]
  },
  {
   "cell_type": "code",
   "execution_count": 8,
   "metadata": {},
   "outputs": [],
   "source": [
    "spread_df = spread_df[['Season','date','line','lineavg','road','home','rscore','hscore','WScore','LScore','HTeamID','RTeamID','WTeamID','LTeamID']]"
   ]
  },
  {
   "source": [
    "Merge spread_df and all_games_df"
   ],
   "cell_type": "markdown",
   "metadata": {}
  },
  {
   "cell_type": "code",
   "execution_count": 9,
   "metadata": {},
   "outputs": [],
   "source": [
    "all_games_df = pd.merge(all_games_df, spread_df, left_on=['WTeamID','LTeamID','Season','WScore','LScore'], right_on = ['WTeamID','LTeamID','Season','WScore','LScore'], how='inner')"
   ]
  },
  {
   "cell_type": "code",
   "execution_count": 10,
   "metadata": {},
   "outputs": [],
   "source": [
    "all_games_df = all_games_df[['Season','date','is_tourney','home','HTeamID','hscore','road','RTeamID','rscore','line','lineavg']]"
   ]
  },
  {
   "cell_type": "code",
   "execution_count": 11,
   "metadata": {},
   "outputs": [],
   "source": [
    "all_games_df['Hwin'] = 0\n",
    "all_games_df.loc[all_games_df['hscore']>all_games_df['rscore'], 'Hwin'] = 1"
   ]
  },
  {
   "cell_type": "code",
   "execution_count": 12,
   "metadata": {},
   "outputs": [
    {
     "output_type": "execute_result",
     "data": {
      "text/plain": [
       "   Season        date  is_tourney         home  HTeamID hscore  \\\n",
       "0    2004  11/24/2003         0.0  arizona st.   1113.0     83   \n",
       "1    2004  11/24/2003         0.0       dayton   1173.0     82   \n",
       "2    2004  11/24/2003         0.0      detroit   1178.0     64   \n",
       "3    2004  11/24/2003         0.0   st. john's   1385.0     59   \n",
       "4    2004  11/24/2003         0.0      gonzaga   1211.0     90   \n",
       "\n",
       "                road  RTeamID rscore  line  lineavg  Hwin  \n",
       "0  cal st. fullerton   1168.0     76  19.0    23.20     1  \n",
       "1   central michigan   1141.0     63  11.0     5.88     1  \n",
       "2   western michigan   1444.0     43   1.0     5.63     1  \n",
       "3          fairfield   1193.0     64  12.5    13.81     0  \n",
       "4             denver   1176.0     58  19.5    18.45     1  "
      ],
      "text/html": "<div>\n<style scoped>\n    .dataframe tbody tr th:only-of-type {\n        vertical-align: middle;\n    }\n\n    .dataframe tbody tr th {\n        vertical-align: top;\n    }\n\n    .dataframe thead th {\n        text-align: right;\n    }\n</style>\n<table border=\"1\" class=\"dataframe\">\n  <thead>\n    <tr style=\"text-align: right;\">\n      <th></th>\n      <th>Season</th>\n      <th>date</th>\n      <th>is_tourney</th>\n      <th>home</th>\n      <th>HTeamID</th>\n      <th>hscore</th>\n      <th>road</th>\n      <th>RTeamID</th>\n      <th>rscore</th>\n      <th>line</th>\n      <th>lineavg</th>\n      <th>Hwin</th>\n    </tr>\n  </thead>\n  <tbody>\n    <tr>\n      <th>0</th>\n      <td>2004</td>\n      <td>11/24/2003</td>\n      <td>0.0</td>\n      <td>arizona st.</td>\n      <td>1113.0</td>\n      <td>83</td>\n      <td>cal st. fullerton</td>\n      <td>1168.0</td>\n      <td>76</td>\n      <td>19.0</td>\n      <td>23.20</td>\n      <td>1</td>\n    </tr>\n    <tr>\n      <th>1</th>\n      <td>2004</td>\n      <td>11/24/2003</td>\n      <td>0.0</td>\n      <td>dayton</td>\n      <td>1173.0</td>\n      <td>82</td>\n      <td>central michigan</td>\n      <td>1141.0</td>\n      <td>63</td>\n      <td>11.0</td>\n      <td>5.88</td>\n      <td>1</td>\n    </tr>\n    <tr>\n      <th>2</th>\n      <td>2004</td>\n      <td>11/24/2003</td>\n      <td>0.0</td>\n      <td>detroit</td>\n      <td>1178.0</td>\n      <td>64</td>\n      <td>western michigan</td>\n      <td>1444.0</td>\n      <td>43</td>\n      <td>1.0</td>\n      <td>5.63</td>\n      <td>1</td>\n    </tr>\n    <tr>\n      <th>3</th>\n      <td>2004</td>\n      <td>11/24/2003</td>\n      <td>0.0</td>\n      <td>st. john's</td>\n      <td>1385.0</td>\n      <td>59</td>\n      <td>fairfield</td>\n      <td>1193.0</td>\n      <td>64</td>\n      <td>12.5</td>\n      <td>13.81</td>\n      <td>0</td>\n    </tr>\n    <tr>\n      <th>4</th>\n      <td>2004</td>\n      <td>11/24/2003</td>\n      <td>0.0</td>\n      <td>gonzaga</td>\n      <td>1211.0</td>\n      <td>90</td>\n      <td>denver</td>\n      <td>1176.0</td>\n      <td>58</td>\n      <td>19.5</td>\n      <td>18.45</td>\n      <td>1</td>\n    </tr>\n  </tbody>\n</table>\n</div>"
     },
     "metadata": {},
     "execution_count": 12
    }
   ],
   "source": [
    "all_games_df.head()"
   ]
  },
  {
   "cell_type": "code",
   "execution_count": 13,
   "metadata": {},
   "outputs": [
    {
     "output_type": "execute_result",
     "data": {
      "text/plain": [
       "       Season        date  is_tourney          home  HTeamID hscore  \\\n",
       "61777    2019  03/29/2019         1.0  michigan st.   1277.0     80   \n",
       "61778    2019  03/30/2019         1.0       gonzaga   1211.0     69   \n",
       "61779    2019  03/30/2019         1.0      virginia   1438.0     80   \n",
       "61780    2019  03/31/2019         1.0      kentucky   1246.0     71   \n",
       "61781    2019  03/31/2019         1.0          duke   1181.0     67   \n",
       "\n",
       "               road  RTeamID rscore  line  lineavg  Hwin  \n",
       "61777           lsu   1261.0     63   6.0     6.43     1  \n",
       "61778    texas tech   1403.0     75   4.5     3.80     0  \n",
       "61779        purdue   1345.0     75   4.5     3.77     1  \n",
       "61780        auburn   1120.0     77   4.5     1.53     0  \n",
       "61781  michigan st.   1277.0     68   2.0     1.25     0  "
      ],
      "text/html": "<div>\n<style scoped>\n    .dataframe tbody tr th:only-of-type {\n        vertical-align: middle;\n    }\n\n    .dataframe tbody tr th {\n        vertical-align: top;\n    }\n\n    .dataframe thead th {\n        text-align: right;\n    }\n</style>\n<table border=\"1\" class=\"dataframe\">\n  <thead>\n    <tr style=\"text-align: right;\">\n      <th></th>\n      <th>Season</th>\n      <th>date</th>\n      <th>is_tourney</th>\n      <th>home</th>\n      <th>HTeamID</th>\n      <th>hscore</th>\n      <th>road</th>\n      <th>RTeamID</th>\n      <th>rscore</th>\n      <th>line</th>\n      <th>lineavg</th>\n      <th>Hwin</th>\n    </tr>\n  </thead>\n  <tbody>\n    <tr>\n      <th>61777</th>\n      <td>2019</td>\n      <td>03/29/2019</td>\n      <td>1.0</td>\n      <td>michigan st.</td>\n      <td>1277.0</td>\n      <td>80</td>\n      <td>lsu</td>\n      <td>1261.0</td>\n      <td>63</td>\n      <td>6.0</td>\n      <td>6.43</td>\n      <td>1</td>\n    </tr>\n    <tr>\n      <th>61778</th>\n      <td>2019</td>\n      <td>03/30/2019</td>\n      <td>1.0</td>\n      <td>gonzaga</td>\n      <td>1211.0</td>\n      <td>69</td>\n      <td>texas tech</td>\n      <td>1403.0</td>\n      <td>75</td>\n      <td>4.5</td>\n      <td>3.80</td>\n      <td>0</td>\n    </tr>\n    <tr>\n      <th>61779</th>\n      <td>2019</td>\n      <td>03/30/2019</td>\n      <td>1.0</td>\n      <td>virginia</td>\n      <td>1438.0</td>\n      <td>80</td>\n      <td>purdue</td>\n      <td>1345.0</td>\n      <td>75</td>\n      <td>4.5</td>\n      <td>3.77</td>\n      <td>1</td>\n    </tr>\n    <tr>\n      <th>61780</th>\n      <td>2019</td>\n      <td>03/31/2019</td>\n      <td>1.0</td>\n      <td>kentucky</td>\n      <td>1246.0</td>\n      <td>71</td>\n      <td>auburn</td>\n      <td>1120.0</td>\n      <td>77</td>\n      <td>4.5</td>\n      <td>1.53</td>\n      <td>0</td>\n    </tr>\n    <tr>\n      <th>61781</th>\n      <td>2019</td>\n      <td>03/31/2019</td>\n      <td>1.0</td>\n      <td>duke</td>\n      <td>1181.0</td>\n      <td>67</td>\n      <td>michigan st.</td>\n      <td>1277.0</td>\n      <td>68</td>\n      <td>2.0</td>\n      <td>1.25</td>\n      <td>0</td>\n    </tr>\n  </tbody>\n</table>\n</div>"
     },
     "metadata": {},
     "execution_count": 13
    }
   ],
   "source": [
    "all_games_df.tail()"
   ]
  },
  {
   "source": [
    "Include seed "
   ],
   "cell_type": "markdown",
   "metadata": {}
  },
  {
   "cell_type": "code",
   "execution_count": 14,
   "metadata": {},
   "outputs": [
    {
     "output_type": "execute_result",
     "data": {
      "text/plain": [
       "   Season  TeamID  Seed\n",
       "0    1985    1207     1\n",
       "1    1985    1210     2\n",
       "2    1985    1228     3\n",
       "3    1985    1260     4\n",
       "4    1985    1374     5"
      ],
      "text/html": "<div>\n<style scoped>\n    .dataframe tbody tr th:only-of-type {\n        vertical-align: middle;\n    }\n\n    .dataframe tbody tr th {\n        vertical-align: top;\n    }\n\n    .dataframe thead th {\n        text-align: right;\n    }\n</style>\n<table border=\"1\" class=\"dataframe\">\n  <thead>\n    <tr style=\"text-align: right;\">\n      <th></th>\n      <th>Season</th>\n      <th>TeamID</th>\n      <th>Seed</th>\n    </tr>\n  </thead>\n  <tbody>\n    <tr>\n      <th>0</th>\n      <td>1985</td>\n      <td>1207</td>\n      <td>1</td>\n    </tr>\n    <tr>\n      <th>1</th>\n      <td>1985</td>\n      <td>1210</td>\n      <td>2</td>\n    </tr>\n    <tr>\n      <th>2</th>\n      <td>1985</td>\n      <td>1228</td>\n      <td>3</td>\n    </tr>\n    <tr>\n      <th>3</th>\n      <td>1985</td>\n      <td>1260</td>\n      <td>4</td>\n    </tr>\n    <tr>\n      <th>4</th>\n      <td>1985</td>\n      <td>1374</td>\n      <td>5</td>\n    </tr>\n  </tbody>\n</table>\n</div>"
     },
     "metadata": {},
     "execution_count": 14
    }
   ],
   "source": [
    "seeds_df = pd.read_csv(DATA_PATH_M + 'MNCAATourneySeeds.csv')\n",
    "seeds_df['Seed_num'] = seeds_df['Seed'].str.extract('(\\d\\d)', expand=True)\n",
    "seeds_df['Seed_num'] = pd.to_numeric(seeds_df['Seed_num'])\n",
    "seeds_df = seeds_df[['Season','TeamID','Seed_num']]\n",
    "seeds_df.rename(columns={'Seed_num': 'Seed'}, inplace=True)\n",
    "seeds_df.head()"
   ]
  },
  {
   "cell_type": "code",
   "execution_count": 15,
   "metadata": {},
   "outputs": [],
   "source": [
    "#Note: we merge twice for this merge and subsequent merges, because the data are in a wide format by team (i.e., there are two variables rather than two rows for each game)\n",
    "home_road = ['H','R']\n",
    "for hr in home_road:\n",
    "    all_games_df = pd.merge(all_games_df, seeds_df, left_on=[hr+'TeamID','Season'], right_on = ['TeamID','Season'], how='left')\n",
    "    all_games_df.rename(columns={'Seed': hr+'Seed'}, inplace=True)\n",
    "    all_games_df = all_games_df.drop(['TeamID'], axis=1)"
   ]
  },
  {
   "cell_type": "code",
   "execution_count": 16,
   "metadata": {},
   "outputs": [
    {
     "output_type": "execute_result",
     "data": {
      "text/plain": [
       "   Season        date  is_tourney         home  HTeamID hscore  \\\n",
       "0    2004  11/24/2003         0.0  arizona st.   1113.0     83   \n",
       "1    2004  11/24/2003         0.0       dayton   1173.0     82   \n",
       "2    2004  11/24/2003         0.0      detroit   1178.0     64   \n",
       "3    2004  11/24/2003         0.0   st. john's   1385.0     59   \n",
       "4    2004  11/24/2003         0.0      gonzaga   1211.0     90   \n",
       "\n",
       "                road  RTeamID rscore  line  lineavg  Hwin  HSeed  RSeed  \n",
       "0  cal st. fullerton   1168.0     76  19.0    23.20     1    NaN    NaN  \n",
       "1   central michigan   1141.0     63  11.0     5.88     1   10.0    NaN  \n",
       "2   western michigan   1444.0     43   1.0     5.63     1    NaN   11.0  \n",
       "3          fairfield   1193.0     64  12.5    13.81     0    NaN    NaN  \n",
       "4             denver   1176.0     58  19.5    18.45     1    2.0    NaN  "
      ],
      "text/html": "<div>\n<style scoped>\n    .dataframe tbody tr th:only-of-type {\n        vertical-align: middle;\n    }\n\n    .dataframe tbody tr th {\n        vertical-align: top;\n    }\n\n    .dataframe thead th {\n        text-align: right;\n    }\n</style>\n<table border=\"1\" class=\"dataframe\">\n  <thead>\n    <tr style=\"text-align: right;\">\n      <th></th>\n      <th>Season</th>\n      <th>date</th>\n      <th>is_tourney</th>\n      <th>home</th>\n      <th>HTeamID</th>\n      <th>hscore</th>\n      <th>road</th>\n      <th>RTeamID</th>\n      <th>rscore</th>\n      <th>line</th>\n      <th>lineavg</th>\n      <th>Hwin</th>\n      <th>HSeed</th>\n      <th>RSeed</th>\n    </tr>\n  </thead>\n  <tbody>\n    <tr>\n      <th>0</th>\n      <td>2004</td>\n      <td>11/24/2003</td>\n      <td>0.0</td>\n      <td>arizona st.</td>\n      <td>1113.0</td>\n      <td>83</td>\n      <td>cal st. fullerton</td>\n      <td>1168.0</td>\n      <td>76</td>\n      <td>19.0</td>\n      <td>23.20</td>\n      <td>1</td>\n      <td>NaN</td>\n      <td>NaN</td>\n    </tr>\n    <tr>\n      <th>1</th>\n      <td>2004</td>\n      <td>11/24/2003</td>\n      <td>0.0</td>\n      <td>dayton</td>\n      <td>1173.0</td>\n      <td>82</td>\n      <td>central michigan</td>\n      <td>1141.0</td>\n      <td>63</td>\n      <td>11.0</td>\n      <td>5.88</td>\n      <td>1</td>\n      <td>10.0</td>\n      <td>NaN</td>\n    </tr>\n    <tr>\n      <th>2</th>\n      <td>2004</td>\n      <td>11/24/2003</td>\n      <td>0.0</td>\n      <td>detroit</td>\n      <td>1178.0</td>\n      <td>64</td>\n      <td>western michigan</td>\n      <td>1444.0</td>\n      <td>43</td>\n      <td>1.0</td>\n      <td>5.63</td>\n      <td>1</td>\n      <td>NaN</td>\n      <td>11.0</td>\n    </tr>\n    <tr>\n      <th>3</th>\n      <td>2004</td>\n      <td>11/24/2003</td>\n      <td>0.0</td>\n      <td>st. john's</td>\n      <td>1385.0</td>\n      <td>59</td>\n      <td>fairfield</td>\n      <td>1193.0</td>\n      <td>64</td>\n      <td>12.5</td>\n      <td>13.81</td>\n      <td>0</td>\n      <td>NaN</td>\n      <td>NaN</td>\n    </tr>\n    <tr>\n      <th>4</th>\n      <td>2004</td>\n      <td>11/24/2003</td>\n      <td>0.0</td>\n      <td>gonzaga</td>\n      <td>1211.0</td>\n      <td>90</td>\n      <td>denver</td>\n      <td>1176.0</td>\n      <td>58</td>\n      <td>19.5</td>\n      <td>18.45</td>\n      <td>1</td>\n      <td>2.0</td>\n      <td>NaN</td>\n    </tr>\n  </tbody>\n</table>\n</div>"
     },
     "metadata": {},
     "execution_count": 16
    }
   ],
   "source": [
    "all_games_df.head()"
   ]
  },
  {
   "source": [
    "Merge Ken Pom data and all_games_df"
   ],
   "cell_type": "markdown",
   "metadata": {}
  },
  {
   "cell_type": "code",
   "execution_count": 17,
   "metadata": {},
   "outputs": [],
   "source": [
    "kp_df = pd.read_csv('kp_all.csv')"
   ]
  },
  {
   "cell_type": "code",
   "execution_count": 18,
   "metadata": {},
   "outputs": [],
   "source": [
    "efficiency_list = ['conf','adjem','adjo','adjd','luck']\n",
    "for hr in home_road:\n",
    "    all_games_df = pd.merge(all_games_df, kp_df, left_on=[hr+'TeamID','Season'], right_on = ['TeamID','Season'], how='inner')\n",
    "    for metric in efficiency_list:\n",
    "        all_games_df.rename(columns={metric: hr+metric}, inplace=True)\n",
    "    all_games_df = all_games_df.drop(['TeamID','team'], axis=1)"
   ]
  },
  {
   "cell_type": "code",
   "execution_count": 19,
   "metadata": {},
   "outputs": [
    {
     "output_type": "execute_result",
     "data": {
      "text/plain": [
       "   Season        date  is_tourney          home  HTeamID hscore  \\\n",
       "0    2004  11/24/2003         0.0   arizona st.   1113.0     83   \n",
       "1    2004  12/01/2003         0.0    pepperdine   1337.0     74   \n",
       "2    2004  01/17/2004         0.0     uc irvine   1414.0     74   \n",
       "3    2004  01/29/2004         0.0  cal poly slo   1142.0     80   \n",
       "4    2004  02/21/2004         0.0      utah st.   1429.0     87   \n",
       "\n",
       "                road  RTeamID rscore  line  lineavg  Hwin  HSeed  RSeed Hconf  \\\n",
       "0  cal st. fullerton   1168.0     76  19.0    23.20     1    NaN    NaN   P10   \n",
       "1  cal st. fullerton   1168.0     78  17.0    19.35     0    NaN    NaN   WCC   \n",
       "2  cal st. fullerton   1168.0     67   7.0     7.17     1    NaN    NaN    BW   \n",
       "3  cal st. fullerton   1168.0     71   5.5     4.70     1    NaN    NaN    BW   \n",
       "4  cal st. fullerton   1168.0     61  17.0    18.80     1    NaN    NaN    BW   \n",
       "\n",
       "   Hadjem  Hadjo  Hadjd  Hluck Rconf  Radjem  Radjo  Radjd  Rluck  \n",
       "0    1.29  107.6  106.3 -0.049    BW   -4.85  102.9  107.8 -0.023  \n",
       "1    2.93  113.7  110.8 -0.001    BW   -4.85  102.9  107.8 -0.023  \n",
       "2   -4.79  101.4  106.2  0.034    BW   -4.85  102.9  107.8 -0.023  \n",
       "3   -4.69  101.1  105.8 -0.015    BW   -4.85  102.9  107.8 -0.023  \n",
       "4   13.60  115.9  102.3  0.037    BW   -4.85  102.9  107.8 -0.023  "
      ],
      "text/html": "<div>\n<style scoped>\n    .dataframe tbody tr th:only-of-type {\n        vertical-align: middle;\n    }\n\n    .dataframe tbody tr th {\n        vertical-align: top;\n    }\n\n    .dataframe thead th {\n        text-align: right;\n    }\n</style>\n<table border=\"1\" class=\"dataframe\">\n  <thead>\n    <tr style=\"text-align: right;\">\n      <th></th>\n      <th>Season</th>\n      <th>date</th>\n      <th>is_tourney</th>\n      <th>home</th>\n      <th>HTeamID</th>\n      <th>hscore</th>\n      <th>road</th>\n      <th>RTeamID</th>\n      <th>rscore</th>\n      <th>line</th>\n      <th>lineavg</th>\n      <th>Hwin</th>\n      <th>HSeed</th>\n      <th>RSeed</th>\n      <th>Hconf</th>\n      <th>Hadjem</th>\n      <th>Hadjo</th>\n      <th>Hadjd</th>\n      <th>Hluck</th>\n      <th>Rconf</th>\n      <th>Radjem</th>\n      <th>Radjo</th>\n      <th>Radjd</th>\n      <th>Rluck</th>\n    </tr>\n  </thead>\n  <tbody>\n    <tr>\n      <th>0</th>\n      <td>2004</td>\n      <td>11/24/2003</td>\n      <td>0.0</td>\n      <td>arizona st.</td>\n      <td>1113.0</td>\n      <td>83</td>\n      <td>cal st. fullerton</td>\n      <td>1168.0</td>\n      <td>76</td>\n      <td>19.0</td>\n      <td>23.20</td>\n      <td>1</td>\n      <td>NaN</td>\n      <td>NaN</td>\n      <td>P10</td>\n      <td>1.29</td>\n      <td>107.6</td>\n      <td>106.3</td>\n      <td>-0.049</td>\n      <td>BW</td>\n      <td>-4.85</td>\n      <td>102.9</td>\n      <td>107.8</td>\n      <td>-0.023</td>\n    </tr>\n    <tr>\n      <th>1</th>\n      <td>2004</td>\n      <td>12/01/2003</td>\n      <td>0.0</td>\n      <td>pepperdine</td>\n      <td>1337.0</td>\n      <td>74</td>\n      <td>cal st. fullerton</td>\n      <td>1168.0</td>\n      <td>78</td>\n      <td>17.0</td>\n      <td>19.35</td>\n      <td>0</td>\n      <td>NaN</td>\n      <td>NaN</td>\n      <td>WCC</td>\n      <td>2.93</td>\n      <td>113.7</td>\n      <td>110.8</td>\n      <td>-0.001</td>\n      <td>BW</td>\n      <td>-4.85</td>\n      <td>102.9</td>\n      <td>107.8</td>\n      <td>-0.023</td>\n    </tr>\n    <tr>\n      <th>2</th>\n      <td>2004</td>\n      <td>01/17/2004</td>\n      <td>0.0</td>\n      <td>uc irvine</td>\n      <td>1414.0</td>\n      <td>74</td>\n      <td>cal st. fullerton</td>\n      <td>1168.0</td>\n      <td>67</td>\n      <td>7.0</td>\n      <td>7.17</td>\n      <td>1</td>\n      <td>NaN</td>\n      <td>NaN</td>\n      <td>BW</td>\n      <td>-4.79</td>\n      <td>101.4</td>\n      <td>106.2</td>\n      <td>0.034</td>\n      <td>BW</td>\n      <td>-4.85</td>\n      <td>102.9</td>\n      <td>107.8</td>\n      <td>-0.023</td>\n    </tr>\n    <tr>\n      <th>3</th>\n      <td>2004</td>\n      <td>01/29/2004</td>\n      <td>0.0</td>\n      <td>cal poly slo</td>\n      <td>1142.0</td>\n      <td>80</td>\n      <td>cal st. fullerton</td>\n      <td>1168.0</td>\n      <td>71</td>\n      <td>5.5</td>\n      <td>4.70</td>\n      <td>1</td>\n      <td>NaN</td>\n      <td>NaN</td>\n      <td>BW</td>\n      <td>-4.69</td>\n      <td>101.1</td>\n      <td>105.8</td>\n      <td>-0.015</td>\n      <td>BW</td>\n      <td>-4.85</td>\n      <td>102.9</td>\n      <td>107.8</td>\n      <td>-0.023</td>\n    </tr>\n    <tr>\n      <th>4</th>\n      <td>2004</td>\n      <td>02/21/2004</td>\n      <td>0.0</td>\n      <td>utah st.</td>\n      <td>1429.0</td>\n      <td>87</td>\n      <td>cal st. fullerton</td>\n      <td>1168.0</td>\n      <td>61</td>\n      <td>17.0</td>\n      <td>18.80</td>\n      <td>1</td>\n      <td>NaN</td>\n      <td>NaN</td>\n      <td>BW</td>\n      <td>13.60</td>\n      <td>115.9</td>\n      <td>102.3</td>\n      <td>0.037</td>\n      <td>BW</td>\n      <td>-4.85</td>\n      <td>102.9</td>\n      <td>107.8</td>\n      <td>-0.023</td>\n    </tr>\n  </tbody>\n</table>\n</div>"
     },
     "metadata": {},
     "execution_count": 19
    }
   ],
   "source": [
    "all_games_df.head()"
   ]
  },
  {
   "source": [
    "Add Massey and Ken Pom rankings"
   ],
   "cell_type": "markdown",
   "metadata": {}
  },
  {
   "cell_type": "code",
   "execution_count": 21,
   "metadata": {},
   "outputs": [],
   "source": [
    "massey_df = pd.read_csv(DATA_PATH_M + 'MMasseyOrdinals.csv')\n",
    "massey_df19 = massey_df.loc[massey_df['Season'] == 2020]\n",
    "\n",
    "#Ranking at the end of season versus end of tourney (as shown in KP data)\n",
    "POM_df_else = massey_df[massey_df['SystemName'].str.contains(\"POM\")]\n",
    "POM_end_df_else = POM_df_else.loc[POM_df_else['RankingDayNum'] == 133]\n",
    "POM_df19 = massey_df19[massey_df19['SystemName'].str.contains(\"POM\")]\n",
    "POM_end_df_19 = POM_df19.loc[POM_df19['RankingDayNum'] == 128]\n",
    "POM_end_df = POM_end_df_else.append(POM_end_df_19)\n",
    "POM_end_df = POM_end_df[['Season','TeamID','OrdinalRank']]\n",
    "POM_end_df.rename(columns={'OrdinalRank': 'RankPOM'}, inplace=True)"
   ]
  },
  {
   "cell_type": "code",
   "execution_count": 51,
   "metadata": {},
   "outputs": [
    {
     "output_type": "execute_result",
     "data": {
      "text/plain": [
       "         Season  TeamID  RankPOM\n",
       "4113090    2020    1463       57\n",
       "4113091    2020    1464      232\n",
       "4113092    2020    1465      202\n",
       "4113093    2020    1466      281\n",
       "4113094    2020    1467      226"
      ],
      "text/html": "<div>\n<style scoped>\n    .dataframe tbody tr th:only-of-type {\n        vertical-align: middle;\n    }\n\n    .dataframe tbody tr th {\n        vertical-align: top;\n    }\n\n    .dataframe thead th {\n        text-align: right;\n    }\n</style>\n<table border=\"1\" class=\"dataframe\">\n  <thead>\n    <tr style=\"text-align: right;\">\n      <th></th>\n      <th>Season</th>\n      <th>TeamID</th>\n      <th>RankPOM</th>\n    </tr>\n  </thead>\n  <tbody>\n    <tr>\n      <th>4113090</th>\n      <td>2020</td>\n      <td>1463</td>\n      <td>57</td>\n    </tr>\n    <tr>\n      <th>4113091</th>\n      <td>2020</td>\n      <td>1464</td>\n      <td>232</td>\n    </tr>\n    <tr>\n      <th>4113092</th>\n      <td>2020</td>\n      <td>1465</td>\n      <td>202</td>\n    </tr>\n    <tr>\n      <th>4113093</th>\n      <td>2020</td>\n      <td>1466</td>\n      <td>281</td>\n    </tr>\n    <tr>\n      <th>4113094</th>\n      <td>2020</td>\n      <td>1467</td>\n      <td>226</td>\n    </tr>\n  </tbody>\n</table>\n</div>"
     },
     "metadata": {},
     "execution_count": 51
    }
   ],
   "source": [
    "POM_end_df.tail()"
   ]
  },
  {
   "cell_type": "code",
   "execution_count": 22,
   "metadata": {},
   "outputs": [],
   "source": [
    "for hr in home_road:\n",
    "    all_games_df = pd.merge(all_games_df,POM_end_df, left_on=[hr+'TeamID','Season'], right_on = ['TeamID','Season'], how='left')\n",
    "    all_games_df.rename(columns={'RankPOM': hr+'RankPOM'}, inplace=True)\n",
    "    all_games_df = all_games_df.drop(['TeamID'], axis=1)"
   ]
  },
  {
   "source": [
    "Calculate regular season avg stats"
   ],
   "cell_type": "markdown",
   "metadata": {}
  },
  {
   "cell_type": "code",
   "execution_count": 23,
   "metadata": {},
   "outputs": [],
   "source": [
    "regseason_detail_df = pd.read_csv(DATA_PATH_M + 'MRegularSeasonDetailedResults.csv')"
   ]
  },
  {
   "cell_type": "code",
   "execution_count": 24,
   "metadata": {},
   "outputs": [
    {
     "output_type": "execute_result",
     "data": {
      "text/plain": [
       "   Season  DayNum  WTeamID  WScore  LTeamID  LScore WLoc  NumOT  WFGM  WFGA  \\\n",
       "0    2003      10     1104      68     1328      62    N      0    27    58   \n",
       "1    2003      10     1272      70     1393      63    N      0    26    62   \n",
       "2    2003      11     1266      73     1437      61    N      0    24    58   \n",
       "3    2003      11     1296      56     1457      50    N      0    18    38   \n",
       "4    2003      11     1400      77     1208      71    N      0    30    61   \n",
       "\n",
       "   WFGM3  WFGA3  WFTM  WFTA  WOR  WDR  WAst  WTO  WStl  WBlk  WPF  LFGM  LFGA  \\\n",
       "0      3     14    11    18   14   24    13   23     7     1   22    22    53   \n",
       "1      8     20    10    19   15   28    16   13     4     4   18    24    67   \n",
       "2      8     18    17    29   17   26    15   10     5     2   25    22    73   \n",
       "3      3      9    17    31    6   19    11   12    14     2   18    18    49   \n",
       "4      6     14    11    13   17   22    12   14     4     4   20    24    62   \n",
       "\n",
       "   LFGM3  LFGA3  LFTM  LFTA  LOR  LDR  LAst  LTO  LStl  LBlk  LPF  \n",
       "0      2     10    16    22   10   22     8   18     9     2   20  \n",
       "1      6     24     9    20   20   25     7   12     8     6   16  \n",
       "2      3     26    14    23   31   22     9   12     2     5   23  \n",
       "3      6     22     8    15   17   20     9   19     4     3   23  \n",
       "4      6     16    17    27   21   15    12   10     7     1   14  "
      ],
      "text/html": "<div>\n<style scoped>\n    .dataframe tbody tr th:only-of-type {\n        vertical-align: middle;\n    }\n\n    .dataframe tbody tr th {\n        vertical-align: top;\n    }\n\n    .dataframe thead th {\n        text-align: right;\n    }\n</style>\n<table border=\"1\" class=\"dataframe\">\n  <thead>\n    <tr style=\"text-align: right;\">\n      <th></th>\n      <th>Season</th>\n      <th>DayNum</th>\n      <th>WTeamID</th>\n      <th>WScore</th>\n      <th>LTeamID</th>\n      <th>LScore</th>\n      <th>WLoc</th>\n      <th>NumOT</th>\n      <th>WFGM</th>\n      <th>WFGA</th>\n      <th>WFGM3</th>\n      <th>WFGA3</th>\n      <th>WFTM</th>\n      <th>WFTA</th>\n      <th>WOR</th>\n      <th>WDR</th>\n      <th>WAst</th>\n      <th>WTO</th>\n      <th>WStl</th>\n      <th>WBlk</th>\n      <th>WPF</th>\n      <th>LFGM</th>\n      <th>LFGA</th>\n      <th>LFGM3</th>\n      <th>LFGA3</th>\n      <th>LFTM</th>\n      <th>LFTA</th>\n      <th>LOR</th>\n      <th>LDR</th>\n      <th>LAst</th>\n      <th>LTO</th>\n      <th>LStl</th>\n      <th>LBlk</th>\n      <th>LPF</th>\n    </tr>\n  </thead>\n  <tbody>\n    <tr>\n      <th>0</th>\n      <td>2003</td>\n      <td>10</td>\n      <td>1104</td>\n      <td>68</td>\n      <td>1328</td>\n      <td>62</td>\n      <td>N</td>\n      <td>0</td>\n      <td>27</td>\n      <td>58</td>\n      <td>3</td>\n      <td>14</td>\n      <td>11</td>\n      <td>18</td>\n      <td>14</td>\n      <td>24</td>\n      <td>13</td>\n      <td>23</td>\n      <td>7</td>\n      <td>1</td>\n      <td>22</td>\n      <td>22</td>\n      <td>53</td>\n      <td>2</td>\n      <td>10</td>\n      <td>16</td>\n      <td>22</td>\n      <td>10</td>\n      <td>22</td>\n      <td>8</td>\n      <td>18</td>\n      <td>9</td>\n      <td>2</td>\n      <td>20</td>\n    </tr>\n    <tr>\n      <th>1</th>\n      <td>2003</td>\n      <td>10</td>\n      <td>1272</td>\n      <td>70</td>\n      <td>1393</td>\n      <td>63</td>\n      <td>N</td>\n      <td>0</td>\n      <td>26</td>\n      <td>62</td>\n      <td>8</td>\n      <td>20</td>\n      <td>10</td>\n      <td>19</td>\n      <td>15</td>\n      <td>28</td>\n      <td>16</td>\n      <td>13</td>\n      <td>4</td>\n      <td>4</td>\n      <td>18</td>\n      <td>24</td>\n      <td>67</td>\n      <td>6</td>\n      <td>24</td>\n      <td>9</td>\n      <td>20</td>\n      <td>20</td>\n      <td>25</td>\n      <td>7</td>\n      <td>12</td>\n      <td>8</td>\n      <td>6</td>\n      <td>16</td>\n    </tr>\n    <tr>\n      <th>2</th>\n      <td>2003</td>\n      <td>11</td>\n      <td>1266</td>\n      <td>73</td>\n      <td>1437</td>\n      <td>61</td>\n      <td>N</td>\n      <td>0</td>\n      <td>24</td>\n      <td>58</td>\n      <td>8</td>\n      <td>18</td>\n      <td>17</td>\n      <td>29</td>\n      <td>17</td>\n      <td>26</td>\n      <td>15</td>\n      <td>10</td>\n      <td>5</td>\n      <td>2</td>\n      <td>25</td>\n      <td>22</td>\n      <td>73</td>\n      <td>3</td>\n      <td>26</td>\n      <td>14</td>\n      <td>23</td>\n      <td>31</td>\n      <td>22</td>\n      <td>9</td>\n      <td>12</td>\n      <td>2</td>\n      <td>5</td>\n      <td>23</td>\n    </tr>\n    <tr>\n      <th>3</th>\n      <td>2003</td>\n      <td>11</td>\n      <td>1296</td>\n      <td>56</td>\n      <td>1457</td>\n      <td>50</td>\n      <td>N</td>\n      <td>0</td>\n      <td>18</td>\n      <td>38</td>\n      <td>3</td>\n      <td>9</td>\n      <td>17</td>\n      <td>31</td>\n      <td>6</td>\n      <td>19</td>\n      <td>11</td>\n      <td>12</td>\n      <td>14</td>\n      <td>2</td>\n      <td>18</td>\n      <td>18</td>\n      <td>49</td>\n      <td>6</td>\n      <td>22</td>\n      <td>8</td>\n      <td>15</td>\n      <td>17</td>\n      <td>20</td>\n      <td>9</td>\n      <td>19</td>\n      <td>4</td>\n      <td>3</td>\n      <td>23</td>\n    </tr>\n    <tr>\n      <th>4</th>\n      <td>2003</td>\n      <td>11</td>\n      <td>1400</td>\n      <td>77</td>\n      <td>1208</td>\n      <td>71</td>\n      <td>N</td>\n      <td>0</td>\n      <td>30</td>\n      <td>61</td>\n      <td>6</td>\n      <td>14</td>\n      <td>11</td>\n      <td>13</td>\n      <td>17</td>\n      <td>22</td>\n      <td>12</td>\n      <td>14</td>\n      <td>4</td>\n      <td>4</td>\n      <td>20</td>\n      <td>24</td>\n      <td>62</td>\n      <td>6</td>\n      <td>16</td>\n      <td>17</td>\n      <td>27</td>\n      <td>21</td>\n      <td>15</td>\n      <td>12</td>\n      <td>10</td>\n      <td>7</td>\n      <td>1</td>\n      <td>14</td>\n    </tr>\n  </tbody>\n</table>\n</div>"
     },
     "metadata": {},
     "execution_count": 24
    }
   ],
   "source": [
    "regseason_detail_df.head()"
   ]
  },
  {
   "cell_type": "code",
   "execution_count": 25,
   "metadata": {},
   "outputs": [],
   "source": [
    "#Attach the POM data\n",
    "teamslist = ['W','L']\n",
    "for wl in teamslist:\n",
    "    regseason_detail_df = pd.merge(regseason_detail_df, POM_end_df, left_on=[wl+'TeamID','Season'], right_on = ['TeamID','Season'], how='left')\n",
    "    regseason_detail_df.rename(columns={'RankPOM': wl+'RankPOM'}, inplace=True)\n",
    "    regseason_detail_df = regseason_detail_df.drop(['TeamID'], axis=1)"
   ]
  },
  {
   "source": [
    "Regular season (create one row for each team with avg stats and win info)"
   ],
   "cell_type": "markdown",
   "metadata": {}
  },
  {
   "cell_type": "code",
   "execution_count": 26,
   "metadata": {},
   "outputs": [],
   "source": [
    "win_team_only = regseason_detail_df.drop(['LTeamID','WAst','LAst','LStl','WStl','LBlk','WBlk','LPF','WPF','NumOT','DayNum'], axis=1)\n",
    "win_team_only.rename(columns={'WTeamName': 'TeamName'}, inplace=True)\n",
    "win_team_only.rename(columns={'WTeamID': 'TeamID'}, inplace=True)\n",
    "\n",
    "team_factors_list = ['Score','FGM','FGA','FGA3','FGM3','TO','FTM','FTA','RankPOM']\n",
    "for factor in team_factors_list:\n",
    "    win_team_only.rename(columns={'W'+factor: factor}, inplace=True)\n",
    "    win_team_only.rename(columns={'L'+factor: 'Opponent'+factor}, inplace=True)\n",
    "\n",
    "win_team_only['wins'] = 1 \n",
    "\n",
    "win_team_only['wins_top25'] = 0\n",
    "win_team_only.loc[win_team_only['OpponentRankPOM']<26, 'wins_top25'] = 1\n",
    "\n",
    "win_team_only['wins_top5'] = 0\n",
    "win_team_only.loc[win_team_only['OpponentRankPOM']<6, 'wins_top5'] = 1\n",
    "\n",
    "win_team_only = win_team_only[['Season','TeamID','wins','wins_top25','wins_top5','Score','OpponentScore','FGM','FGA','OpponentFGM','OpponentFGA','FGM3','FGA3','OpponentFGM3','OpponentFGA3','FTM','FTA','OpponentFTM','OpponentFTA','TO','OpponentTO']]"
   ]
  },
  {
   "cell_type": "code",
   "execution_count": 27,
   "metadata": {},
   "outputs": [],
   "source": [
    "loss_team_only = regseason_detail_df.drop(['WTeamID','WAst','LAst','LStl','WStl','LBlk','WBlk','LPF','WPF','NumOT','DayNum'], axis=1)\n",
    "loss_team_only.rename(columns={'LTeamName': 'TeamName'}, inplace=True)\n",
    "loss_team_only.rename(columns={'LTeamID': 'TeamID'}, inplace=True)\n",
    "\n",
    "for factor in team_factors_list:\n",
    "    loss_team_only.rename(columns={'L'+factor: factor}, inplace=True)\n",
    "    loss_team_only.rename(columns={'W'+factor: 'Opponent'+factor}, inplace=True)\n",
    "\n",
    "loss_team_only['wins'] = 0\n",
    "loss_team_only['wins_top25'] = 0\n",
    "loss_team_only['wins_top5'] = 0\n",
    "\n",
    "loss_team_only = loss_team_only[['Season','TeamID','wins','wins_top25','wins_top5','Score','OpponentScore','FGM','FGA','OpponentFGM','OpponentFGA','FGM3','FGA3','OpponentFGM3','OpponentFGA3','FTM','FTA','OpponentFTM','OpponentFTA','TO','OpponentTO']]"
   ]
  },
  {
   "cell_type": "code",
   "execution_count": 28,
   "metadata": {},
   "outputs": [],
   "source": [
    "reg_season_all = win_team_only.append(loss_team_only)"
   ]
  },
  {
   "cell_type": "code",
   "execution_count": 29,
   "metadata": {},
   "outputs": [],
   "source": [
    "reg_season_all['TOmargin'] = reg_season_all['TO']-reg_season_all['OpponentTO']\n",
    "\n",
    "reg_season_all['PointMargin'] = reg_season_all['Score']-reg_season_all['OpponentScore']\n",
    "\n",
    "reg_season_all['FG'] = reg_season_all['FGM']/reg_season_all['FGA']\n",
    "reg_season_all['FGopponent'] = reg_season_all['OpponentFGM']/reg_season_all['OpponentFGA']\n",
    "\n",
    "reg_season_all['FG3'] = reg_season_all['FGM3']/reg_season_all['FGA3']\n",
    "reg_season_all['FG3opponent'] = reg_season_all['OpponentFGM3']/reg_season_all['OpponentFGA3']\n",
    "\n",
    "reg_season_all['FT'] = reg_season_all['FTM']/reg_season_all['FTA']"
   ]
  },
  {
   "cell_type": "code",
   "execution_count": 30,
   "metadata": {},
   "outputs": [],
   "source": [
    "reg_season_all = reg_season_all.drop(['TO','OpponentTO','FGM','FGA','OpponentFGA','OpponentFGM','FGM3','FGA3','OpponentFGM3','OpponentFGA3','FTM','FTA','OpponentFTM','OpponentFTA'], axis=1)"
   ]
  },
  {
   "cell_type": "code",
   "execution_count": 31,
   "metadata": {},
   "outputs": [
    {
     "output_type": "execute_result",
     "data": {
      "text/plain": [
       "['Season',\n",
       " 'TeamID',\n",
       " 'wins',\n",
       " 'wins_top25',\n",
       " 'wins_top5',\n",
       " 'Score',\n",
       " 'OpponentScore',\n",
       " 'TOmargin',\n",
       " 'PointMargin',\n",
       " 'FG',\n",
       " 'FGopponent',\n",
       " 'FG3',\n",
       " 'FG3opponent',\n",
       " 'FT']"
      ]
     },
     "metadata": {},
     "execution_count": 31
    }
   ],
   "source": [
    "list(reg_season_all)"
   ]
  },
  {
   "source": [
    "Collapse regular season sums/means"
   ],
   "cell_type": "markdown",
   "metadata": {}
  },
  {
   "cell_type": "code",
   "execution_count": 32,
   "metadata": {},
   "outputs": [],
   "source": [
    "reg_season_means = reg_season_all.groupby(['TeamID','Season']).mean().reset_index()"
   ]
  },
  {
   "cell_type": "code",
   "execution_count": 33,
   "metadata": {},
   "outputs": [],
   "source": [
    "reg_season_means = reg_season_means.drop(['wins','wins_top25','wins_top5'], axis=1)"
   ]
  },
  {
   "cell_type": "code",
   "execution_count": 34,
   "metadata": {},
   "outputs": [],
   "source": [
    "reg_season_sum = reg_season_all.groupby(['TeamID','Season']).sum().reset_index()"
   ]
  },
  {
   "cell_type": "code",
   "execution_count": 35,
   "metadata": {},
   "outputs": [],
   "source": [
    "reg_season_sum = reg_season_sum.drop(['Score','OpponentScore','TOmargin','PointMargin','FG','FG3','FGopponent','FG3opponent','FT'], axis=1)"
   ]
  },
  {
   "cell_type": "code",
   "execution_count": 36,
   "metadata": {},
   "outputs": [],
   "source": [
    "regseason_df = pd.merge(reg_season_means, reg_season_sum, left_on=['TeamID','Season'], right_on = ['TeamID','Season'], how='left')"
   ]
  },
  {
   "cell_type": "code",
   "execution_count": 37,
   "metadata": {},
   "outputs": [
    {
     "output_type": "execute_result",
     "data": {
      "text/plain": [
       "   TeamID  Season      Score  OpponentScore  TOmargin  PointMargin        FG  \\\n",
       "0    1101    2014  63.142857      78.619048  2.857143   -15.476190  0.410184   \n",
       "1    1101    2015  61.000000      71.857143 -0.642857   -10.857143  0.407501   \n",
       "2    1101    2016  69.851852      76.259259 -0.037037    -6.407407  0.442606   \n",
       "3    1101    2017  67.880000      72.640000 -0.320000    -4.760000  0.457867   \n",
       "4    1101    2018  70.666667      72.814815 -1.074074    -2.148148  0.452366   \n",
       "\n",
       "   FGopponent       FG3  FG3opponent        FT  wins  wins_top25  wins_top5  \n",
       "0    0.510776  0.380275     0.369975  0.758031     2           0          0  \n",
       "1    0.493864  0.381507     0.372684  0.736328     7           0          0  \n",
       "2    0.493308  0.364517     0.366441  0.701402     9           0          0  \n",
       "3    0.463728  0.371026     0.354196  0.640438     9           0          0  \n",
       "4    0.458319  0.327240     0.316082  0.705605    12           0          0  "
      ],
      "text/html": "<div>\n<style scoped>\n    .dataframe tbody tr th:only-of-type {\n        vertical-align: middle;\n    }\n\n    .dataframe tbody tr th {\n        vertical-align: top;\n    }\n\n    .dataframe thead th {\n        text-align: right;\n    }\n</style>\n<table border=\"1\" class=\"dataframe\">\n  <thead>\n    <tr style=\"text-align: right;\">\n      <th></th>\n      <th>TeamID</th>\n      <th>Season</th>\n      <th>Score</th>\n      <th>OpponentScore</th>\n      <th>TOmargin</th>\n      <th>PointMargin</th>\n      <th>FG</th>\n      <th>FGopponent</th>\n      <th>FG3</th>\n      <th>FG3opponent</th>\n      <th>FT</th>\n      <th>wins</th>\n      <th>wins_top25</th>\n      <th>wins_top5</th>\n    </tr>\n  </thead>\n  <tbody>\n    <tr>\n      <th>0</th>\n      <td>1101</td>\n      <td>2014</td>\n      <td>63.142857</td>\n      <td>78.619048</td>\n      <td>2.857143</td>\n      <td>-15.476190</td>\n      <td>0.410184</td>\n      <td>0.510776</td>\n      <td>0.380275</td>\n      <td>0.369975</td>\n      <td>0.758031</td>\n      <td>2</td>\n      <td>0</td>\n      <td>0</td>\n    </tr>\n    <tr>\n      <th>1</th>\n      <td>1101</td>\n      <td>2015</td>\n      <td>61.000000</td>\n      <td>71.857143</td>\n      <td>-0.642857</td>\n      <td>-10.857143</td>\n      <td>0.407501</td>\n      <td>0.493864</td>\n      <td>0.381507</td>\n      <td>0.372684</td>\n      <td>0.736328</td>\n      <td>7</td>\n      <td>0</td>\n      <td>0</td>\n    </tr>\n    <tr>\n      <th>2</th>\n      <td>1101</td>\n      <td>2016</td>\n      <td>69.851852</td>\n      <td>76.259259</td>\n      <td>-0.037037</td>\n      <td>-6.407407</td>\n      <td>0.442606</td>\n      <td>0.493308</td>\n      <td>0.364517</td>\n      <td>0.366441</td>\n      <td>0.701402</td>\n      <td>9</td>\n      <td>0</td>\n      <td>0</td>\n    </tr>\n    <tr>\n      <th>3</th>\n      <td>1101</td>\n      <td>2017</td>\n      <td>67.880000</td>\n      <td>72.640000</td>\n      <td>-0.320000</td>\n      <td>-4.760000</td>\n      <td>0.457867</td>\n      <td>0.463728</td>\n      <td>0.371026</td>\n      <td>0.354196</td>\n      <td>0.640438</td>\n      <td>9</td>\n      <td>0</td>\n      <td>0</td>\n    </tr>\n    <tr>\n      <th>4</th>\n      <td>1101</td>\n      <td>2018</td>\n      <td>70.666667</td>\n      <td>72.814815</td>\n      <td>-1.074074</td>\n      <td>-2.148148</td>\n      <td>0.452366</td>\n      <td>0.458319</td>\n      <td>0.327240</td>\n      <td>0.316082</td>\n      <td>0.705605</td>\n      <td>12</td>\n      <td>0</td>\n      <td>0</td>\n    </tr>\n  </tbody>\n</table>\n</div>"
     },
     "metadata": {},
     "execution_count": 37
    }
   ],
   "source": [
    "regseason_df.head()"
   ]
  },
  {
   "cell_type": "code",
   "execution_count": 38,
   "metadata": {},
   "outputs": [
    {
     "output_type": "execute_result",
     "data": {
      "text/plain": [
       "      TeamID  Season      Score  OpponentScore  TOmargin  PointMargin  \\\n",
       "6182    1465    2019  75.461538      75.192308  1.692308     0.269231   \n",
       "6183    1465    2020  76.222222      71.555556  2.629630     4.666667   \n",
       "6184    1466    2019  65.620690      74.931034  1.482759    -9.310345   \n",
       "6185    1466    2020  67.464286      70.642857  1.464286    -3.178571   \n",
       "6186    1467    2020  61.266667      61.666667 -4.666667    -0.400000   \n",
       "\n",
       "            FG  FGopponent       FG3  FG3opponent        FT  wins  wins_top25  \\\n",
       "6182  0.444370    0.436562  0.351052     0.355434  0.770982    12           0   \n",
       "6183  0.430507    0.434206  0.374884     0.307817  0.789327    17           0   \n",
       "6184  0.384144    0.461113  0.295101     0.337730  0.675597     7           0   \n",
       "6185  0.421914    0.443582  0.344007     0.332353  0.684535    11           0   \n",
       "6186  0.416995    0.432030  0.334847     0.297965  0.674959    19           0   \n",
       "\n",
       "      wins_top5  \n",
       "6182          0  \n",
       "6183          0  \n",
       "6184          0  \n",
       "6185          0  \n",
       "6186          0  "
      ],
      "text/html": "<div>\n<style scoped>\n    .dataframe tbody tr th:only-of-type {\n        vertical-align: middle;\n    }\n\n    .dataframe tbody tr th {\n        vertical-align: top;\n    }\n\n    .dataframe thead th {\n        text-align: right;\n    }\n</style>\n<table border=\"1\" class=\"dataframe\">\n  <thead>\n    <tr style=\"text-align: right;\">\n      <th></th>\n      <th>TeamID</th>\n      <th>Season</th>\n      <th>Score</th>\n      <th>OpponentScore</th>\n      <th>TOmargin</th>\n      <th>PointMargin</th>\n      <th>FG</th>\n      <th>FGopponent</th>\n      <th>FG3</th>\n      <th>FG3opponent</th>\n      <th>FT</th>\n      <th>wins</th>\n      <th>wins_top25</th>\n      <th>wins_top5</th>\n    </tr>\n  </thead>\n  <tbody>\n    <tr>\n      <th>6182</th>\n      <td>1465</td>\n      <td>2019</td>\n      <td>75.461538</td>\n      <td>75.192308</td>\n      <td>1.692308</td>\n      <td>0.269231</td>\n      <td>0.444370</td>\n      <td>0.436562</td>\n      <td>0.351052</td>\n      <td>0.355434</td>\n      <td>0.770982</td>\n      <td>12</td>\n      <td>0</td>\n      <td>0</td>\n    </tr>\n    <tr>\n      <th>6183</th>\n      <td>1465</td>\n      <td>2020</td>\n      <td>76.222222</td>\n      <td>71.555556</td>\n      <td>2.629630</td>\n      <td>4.666667</td>\n      <td>0.430507</td>\n      <td>0.434206</td>\n      <td>0.374884</td>\n      <td>0.307817</td>\n      <td>0.789327</td>\n      <td>17</td>\n      <td>0</td>\n      <td>0</td>\n    </tr>\n    <tr>\n      <th>6184</th>\n      <td>1466</td>\n      <td>2019</td>\n      <td>65.620690</td>\n      <td>74.931034</td>\n      <td>1.482759</td>\n      <td>-9.310345</td>\n      <td>0.384144</td>\n      <td>0.461113</td>\n      <td>0.295101</td>\n      <td>0.337730</td>\n      <td>0.675597</td>\n      <td>7</td>\n      <td>0</td>\n      <td>0</td>\n    </tr>\n    <tr>\n      <th>6185</th>\n      <td>1466</td>\n      <td>2020</td>\n      <td>67.464286</td>\n      <td>70.642857</td>\n      <td>1.464286</td>\n      <td>-3.178571</td>\n      <td>0.421914</td>\n      <td>0.443582</td>\n      <td>0.344007</td>\n      <td>0.332353</td>\n      <td>0.684535</td>\n      <td>11</td>\n      <td>0</td>\n      <td>0</td>\n    </tr>\n    <tr>\n      <th>6186</th>\n      <td>1467</td>\n      <td>2020</td>\n      <td>61.266667</td>\n      <td>61.666667</td>\n      <td>-4.666667</td>\n      <td>-0.400000</td>\n      <td>0.416995</td>\n      <td>0.432030</td>\n      <td>0.334847</td>\n      <td>0.297965</td>\n      <td>0.674959</td>\n      <td>19</td>\n      <td>0</td>\n      <td>0</td>\n    </tr>\n  </tbody>\n</table>\n</div>"
     },
     "metadata": {},
     "execution_count": 38
    }
   ],
   "source": [
    "regseason_df.tail()"
   ]
  },
  {
   "cell_type": "code",
   "execution_count": 39,
   "metadata": {},
   "outputs": [],
   "source": [
    "regseason_df.to_csv('regseason_df.csv', index=False)\n"
   ]
  },
  {
   "source": [
    "Merge regular season stats with game level data"
   ],
   "cell_type": "markdown",
   "metadata": {}
  },
  {
   "cell_type": "code",
   "execution_count": 40,
   "metadata": {},
   "outputs": [],
   "source": [
    "#Merge the avg regular season performance with all games and have performance wide: \n",
    "performance_list = ['wins','wins_top5','wins_top25','Score','OpponentScore','TOmargin','PointMargin','FG','FGopponent','FG3','FG3opponent','FT','RBMargin']\n",
    "for hr in home_road:\n",
    "    all_games_df = pd.merge(all_games_df, regseason_df, left_on=[hr+'TeamID','Season'], right_on = ['TeamID','Season'], how='left')\n",
    "    for var in performance_list:\n",
    "        all_games_df.rename(columns={var: hr+var}, inplace=True)\n",
    "    all_games_df = all_games_df.drop(['TeamID'], axis=1)"
   ]
  },
  {
   "source": [
    "Add binary experience dummy"
   ],
   "cell_type": "markdown",
   "metadata": {}
  },
  {
   "cell_type": "code",
   "execution_count": 41,
   "metadata": {},
   "outputs": [
    {
     "output_type": "execute_result",
     "data": {
      "text/plain": [
       "kansas              51\n",
       "north carolina      50\n",
       "kentucky            48\n",
       "duke                47\n",
       "michigan st.        46\n",
       "                    ..\n",
       "loyola-maryland      1\n",
       "wyoming              1\n",
       "colgate              1\n",
       "coastal carolina     1\n",
       "stony brook          1\n",
       "Name: team, Length: 235, dtype: int64"
      ]
     },
     "metadata": {},
     "execution_count": 41
    }
   ],
   "source": [
    "temp_df = all_games_df[all_games_df['is_tourney'] == 1]\n",
    "temp_df_home = temp_df[['home']]\n",
    "temp_df_home.rename(columns={'home': 'team'}, inplace=True)\n",
    "temp_df_road = temp_df[['road']]\n",
    "temp_df_road.rename(columns={'road': 'team'}, inplace=True)\n",
    "tourney_teams_df = temp_df_home.append(temp_df_road)\n",
    "tourney_teams_df['team'].value_counts(dropna=False)"
   ]
  },
  {
   "cell_type": "code",
   "execution_count": 42,
   "metadata": {},
   "outputs": [],
   "source": [
    "all_games_df['Htourny20plus'] = 0\n",
    "all_games_df['Rtourny20plus'] = 0\n",
    "\n",
    "experienced_teams = ['kansas','north carolina','kentucky','duke','michigan st.','wisconsin','florida','villanova','gonzaga','louisville','arizona','xavier','connecticut','syracuse','butler','ohio st.','ucla','west virginia','texas','michigan','pittsburgh','memphis','oregon']\n",
    "for team in experienced_teams:\n",
    "    all_games_df.loc[all_games_df['home']==team, 'Htourny20plus'] = 1\n",
    "    all_games_df.loc[all_games_df['road']==team, 'Rtourny20plus'] = 1"
   ]
  },
  {
   "cell_type": "code",
   "execution_count": 43,
   "metadata": {},
   "outputs": [
    {
     "output_type": "execute_result",
     "data": {
      "text/plain": [
       "ACC     235\n",
       "BE      234\n",
       "B10     223\n",
       "B12     202\n",
       "SEC     187\n",
       "A10      87\n",
       "P10      73\n",
       "P12      73\n",
       "MWC      57\n",
       "WCC      56\n",
       "CUSA     53\n",
       "MVC      52\n",
       "Amer     35\n",
       "CAA      33\n",
       "Horz     32\n",
       "WAC      24\n",
       "BW       23\n",
       "OVC      23\n",
       "MAC      21\n",
       "Ivy      20\n",
       "SC       20\n",
       "ASun     20\n",
       "MAAC     20\n",
       "Pat      19\n",
       "MEAC     17\n",
       "BSky     17\n",
       "BSth     16\n",
       "NEC      16\n",
       "AE       16\n",
       "SB       15\n",
       "Slnd     15\n",
       "Sum      14\n",
       "SWAC     11\n",
       "MCon      3\n",
       "Name: conf, dtype: int64"
      ]
     },
     "metadata": {},
     "execution_count": 43
    }
   ],
   "source": [
    "temp_df = all_games_df[all_games_df['is_tourney'] == 1]\n",
    "temp_df_home = temp_df[['Hconf']]\n",
    "temp_df_home.rename(columns={'Hconf': 'conf'}, inplace=True)\n",
    "temp_df_road = temp_df[['Rconf']]\n",
    "temp_df_road.rename(columns={'Rconf': 'conf'}, inplace=True)\n",
    "tourny_teams_df = temp_df_home.append(temp_df_road)\n",
    "tourny_teams_df['conf'].value_counts(dropna=False)"
   ]
  },
  {
   "cell_type": "code",
   "execution_count": 45,
   "metadata": {},
   "outputs": [],
   "source": [
    "all_games_df['HBig4Conf'] = 0\n",
    "all_games_df['RBig4Conf'] = 0\n",
    "conferences = ['ACC','B10','B12','SEC', 'BE']\n",
    "for conf in conferences:\n",
    "    all_games_df.loc[all_games_df['Hconf']==conf, 'HBig4Conf'] = 1\n",
    "    all_games_df.loc[all_games_df['Rconf']==conf, 'RBig4Conf'] = 1"
   ]
  },
  {
   "cell_type": "code",
   "execution_count": 46,
   "metadata": {},
   "outputs": [
    {
     "output_type": "execute_result",
     "data": {
      "text/plain": [
       "       Season        date  is_tourney              home  HTeamID hscore  \\\n",
       "57373    2020  03/05/2020         0.0           montana   1285.0     64   \n",
       "57374    2020  03/07/2020         0.0       montana st.   1286.0     61   \n",
       "57375    2020  02/13/2020         0.0  northern arizona   1319.0     54   \n",
       "57376    2020  02/06/2020         0.0     southern utah   1381.0     60   \n",
       "57377    2020  02/22/2020         0.0         idaho st.   1226.0     72   \n",
       "\n",
       "                    road  RTeamID rscore  line  lineavg  Hwin  HSeed  RSeed  \\\n",
       "57373  northern colorado   1294.0     71   2.0     0.81     0    NaN    NaN   \n",
       "57374  northern colorado   1294.0     75  -6.0    -5.55     0    NaN    NaN   \n",
       "57375  northern colorado   1294.0     84  -3.5    -2.99     0    NaN    NaN   \n",
       "57376  northern colorado   1294.0     68   2.0     0.04     0    NaN    NaN   \n",
       "57377  northern colorado   1294.0     85  -9.0    -9.59     0    NaN    NaN   \n",
       "\n",
       "      Hconf  Hadjem  Hadjo  Hadjd  Hluck Rconf  Radjem  Radjo  Radjd  Rluck  \\\n",
       "57373  BSky    3.08  103.2  100.1  0.019  BSky   10.12  110.2  100.1 -0.035   \n",
       "57374  BSky   -4.60   97.0  101.6  0.056  BSky   10.12  110.2  100.1 -0.035   \n",
       "57375  BSky   -4.35  102.3  106.7  0.071  BSky   10.12  110.2  100.1 -0.035   \n",
       "57376  BSky    0.70   98.8   98.1 -0.063  BSky   10.12  110.2  100.1 -0.035   \n",
       "57377  BSky  -10.37  100.8  111.1  0.008  BSky   10.12  110.2  100.1 -0.035   \n",
       "\n",
       "       HRankPOM  RRankPOM     HScore  HOpponentScore  HTOmargin  HPointMargin  \\\n",
       "57373     136.0      75.0  71.000000       68.896552  -2.551724      2.103448   \n",
       "57374     222.0      75.0  65.206897       67.931034   3.172414     -2.724138   \n",
       "57375     213.0      75.0  68.827586       71.655172  -0.862069     -2.827586   \n",
       "57376     159.0      75.0  69.766667       67.200000   1.666667      2.566667   \n",
       "57377     296.0      75.0  68.250000       75.250000   2.785714     -7.000000   \n",
       "\n",
       "            HFG  HFGopponent      HFG3  HFG3opponent       HFT  Hwins  \\\n",
       "57373  0.474745     0.435813  0.363167      0.334282  0.685718     17   \n",
       "57374  0.441066     0.417009  0.313065      0.321684  0.746370     14   \n",
       "57375  0.437457     0.474347  0.358268      0.376151  0.703494     14   \n",
       "57376  0.438112     0.408576  0.310534      0.314296  0.711014     15   \n",
       "57377  0.442274     0.495607  0.343872      0.329141  0.657361      6   \n",
       "\n",
       "       Hwins_top25  Hwins_top5     RScore  ROpponentScore  RTOmargin  \\\n",
       "57373            0           0  72.655172       64.137931  -0.862069   \n",
       "57374            0           0  72.655172       64.137931  -0.862069   \n",
       "57375            0           0  72.655172       64.137931  -0.862069   \n",
       "57376            0           0  72.655172       64.137931  -0.862069   \n",
       "57377            0           0  72.655172       64.137931  -0.862069   \n",
       "\n",
       "       RPointMargin       RFG  RFGopponent      RFG3  RFG3opponent       RFT  \\\n",
       "57373      8.517241  0.467615     0.450857  0.378917      0.284875  0.683273   \n",
       "57374      8.517241  0.467615     0.450857  0.378917      0.284875  0.683273   \n",
       "57375      8.517241  0.467615     0.450857  0.378917      0.284875  0.683273   \n",
       "57376      8.517241  0.467615     0.450857  0.378917      0.284875  0.683273   \n",
       "57377      8.517241  0.467615     0.450857  0.378917      0.284875  0.683273   \n",
       "\n",
       "       Rwins  Rwins_top25  Rwins_top5  Htourny20plus  Rtourny20plus  \\\n",
       "57373     20            0           0              0              0   \n",
       "57374     20            0           0              0              0   \n",
       "57375     20            0           0              0              0   \n",
       "57376     20            0           0              0              0   \n",
       "57377     20            0           0              0              0   \n",
       "\n",
       "       HBig4Conf  RBig4Conf  \n",
       "57373          0          0  \n",
       "57374          0          0  \n",
       "57375          0          0  \n",
       "57376          0          0  \n",
       "57377          0          0  "
      ],
      "text/html": "<div>\n<style scoped>\n    .dataframe tbody tr th:only-of-type {\n        vertical-align: middle;\n    }\n\n    .dataframe tbody tr th {\n        vertical-align: top;\n    }\n\n    .dataframe thead th {\n        text-align: right;\n    }\n</style>\n<table border=\"1\" class=\"dataframe\">\n  <thead>\n    <tr style=\"text-align: right;\">\n      <th></th>\n      <th>Season</th>\n      <th>date</th>\n      <th>is_tourney</th>\n      <th>home</th>\n      <th>HTeamID</th>\n      <th>hscore</th>\n      <th>road</th>\n      <th>RTeamID</th>\n      <th>rscore</th>\n      <th>line</th>\n      <th>lineavg</th>\n      <th>Hwin</th>\n      <th>HSeed</th>\n      <th>RSeed</th>\n      <th>Hconf</th>\n      <th>Hadjem</th>\n      <th>Hadjo</th>\n      <th>Hadjd</th>\n      <th>Hluck</th>\n      <th>Rconf</th>\n      <th>Radjem</th>\n      <th>Radjo</th>\n      <th>Radjd</th>\n      <th>Rluck</th>\n      <th>HRankPOM</th>\n      <th>RRankPOM</th>\n      <th>HScore</th>\n      <th>HOpponentScore</th>\n      <th>HTOmargin</th>\n      <th>HPointMargin</th>\n      <th>HFG</th>\n      <th>HFGopponent</th>\n      <th>HFG3</th>\n      <th>HFG3opponent</th>\n      <th>HFT</th>\n      <th>Hwins</th>\n      <th>Hwins_top25</th>\n      <th>Hwins_top5</th>\n      <th>RScore</th>\n      <th>ROpponentScore</th>\n      <th>RTOmargin</th>\n      <th>RPointMargin</th>\n      <th>RFG</th>\n      <th>RFGopponent</th>\n      <th>RFG3</th>\n      <th>RFG3opponent</th>\n      <th>RFT</th>\n      <th>Rwins</th>\n      <th>Rwins_top25</th>\n      <th>Rwins_top5</th>\n      <th>Htourny20plus</th>\n      <th>Rtourny20plus</th>\n      <th>HBig4Conf</th>\n      <th>RBig4Conf</th>\n    </tr>\n  </thead>\n  <tbody>\n    <tr>\n      <th>57373</th>\n      <td>2020</td>\n      <td>03/05/2020</td>\n      <td>0.0</td>\n      <td>montana</td>\n      <td>1285.0</td>\n      <td>64</td>\n      <td>northern colorado</td>\n      <td>1294.0</td>\n      <td>71</td>\n      <td>2.0</td>\n      <td>0.81</td>\n      <td>0</td>\n      <td>NaN</td>\n      <td>NaN</td>\n      <td>BSky</td>\n      <td>3.08</td>\n      <td>103.2</td>\n      <td>100.1</td>\n      <td>0.019</td>\n      <td>BSky</td>\n      <td>10.12</td>\n      <td>110.2</td>\n      <td>100.1</td>\n      <td>-0.035</td>\n      <td>136.0</td>\n      <td>75.0</td>\n      <td>71.000000</td>\n      <td>68.896552</td>\n      <td>-2.551724</td>\n      <td>2.103448</td>\n      <td>0.474745</td>\n      <td>0.435813</td>\n      <td>0.363167</td>\n      <td>0.334282</td>\n      <td>0.685718</td>\n      <td>17</td>\n      <td>0</td>\n      <td>0</td>\n      <td>72.655172</td>\n      <td>64.137931</td>\n      <td>-0.862069</td>\n      <td>8.517241</td>\n      <td>0.467615</td>\n      <td>0.450857</td>\n      <td>0.378917</td>\n      <td>0.284875</td>\n      <td>0.683273</td>\n      <td>20</td>\n      <td>0</td>\n      <td>0</td>\n      <td>0</td>\n      <td>0</td>\n      <td>0</td>\n      <td>0</td>\n    </tr>\n    <tr>\n      <th>57374</th>\n      <td>2020</td>\n      <td>03/07/2020</td>\n      <td>0.0</td>\n      <td>montana st.</td>\n      <td>1286.0</td>\n      <td>61</td>\n      <td>northern colorado</td>\n      <td>1294.0</td>\n      <td>75</td>\n      <td>-6.0</td>\n      <td>-5.55</td>\n      <td>0</td>\n      <td>NaN</td>\n      <td>NaN</td>\n      <td>BSky</td>\n      <td>-4.60</td>\n      <td>97.0</td>\n      <td>101.6</td>\n      <td>0.056</td>\n      <td>BSky</td>\n      <td>10.12</td>\n      <td>110.2</td>\n      <td>100.1</td>\n      <td>-0.035</td>\n      <td>222.0</td>\n      <td>75.0</td>\n      <td>65.206897</td>\n      <td>67.931034</td>\n      <td>3.172414</td>\n      <td>-2.724138</td>\n      <td>0.441066</td>\n      <td>0.417009</td>\n      <td>0.313065</td>\n      <td>0.321684</td>\n      <td>0.746370</td>\n      <td>14</td>\n      <td>0</td>\n      <td>0</td>\n      <td>72.655172</td>\n      <td>64.137931</td>\n      <td>-0.862069</td>\n      <td>8.517241</td>\n      <td>0.467615</td>\n      <td>0.450857</td>\n      <td>0.378917</td>\n      <td>0.284875</td>\n      <td>0.683273</td>\n      <td>20</td>\n      <td>0</td>\n      <td>0</td>\n      <td>0</td>\n      <td>0</td>\n      <td>0</td>\n      <td>0</td>\n    </tr>\n    <tr>\n      <th>57375</th>\n      <td>2020</td>\n      <td>02/13/2020</td>\n      <td>0.0</td>\n      <td>northern arizona</td>\n      <td>1319.0</td>\n      <td>54</td>\n      <td>northern colorado</td>\n      <td>1294.0</td>\n      <td>84</td>\n      <td>-3.5</td>\n      <td>-2.99</td>\n      <td>0</td>\n      <td>NaN</td>\n      <td>NaN</td>\n      <td>BSky</td>\n      <td>-4.35</td>\n      <td>102.3</td>\n      <td>106.7</td>\n      <td>0.071</td>\n      <td>BSky</td>\n      <td>10.12</td>\n      <td>110.2</td>\n      <td>100.1</td>\n      <td>-0.035</td>\n      <td>213.0</td>\n      <td>75.0</td>\n      <td>68.827586</td>\n      <td>71.655172</td>\n      <td>-0.862069</td>\n      <td>-2.827586</td>\n      <td>0.437457</td>\n      <td>0.474347</td>\n      <td>0.358268</td>\n      <td>0.376151</td>\n      <td>0.703494</td>\n      <td>14</td>\n      <td>0</td>\n      <td>0</td>\n      <td>72.655172</td>\n      <td>64.137931</td>\n      <td>-0.862069</td>\n      <td>8.517241</td>\n      <td>0.467615</td>\n      <td>0.450857</td>\n      <td>0.378917</td>\n      <td>0.284875</td>\n      <td>0.683273</td>\n      <td>20</td>\n      <td>0</td>\n      <td>0</td>\n      <td>0</td>\n      <td>0</td>\n      <td>0</td>\n      <td>0</td>\n    </tr>\n    <tr>\n      <th>57376</th>\n      <td>2020</td>\n      <td>02/06/2020</td>\n      <td>0.0</td>\n      <td>southern utah</td>\n      <td>1381.0</td>\n      <td>60</td>\n      <td>northern colorado</td>\n      <td>1294.0</td>\n      <td>68</td>\n      <td>2.0</td>\n      <td>0.04</td>\n      <td>0</td>\n      <td>NaN</td>\n      <td>NaN</td>\n      <td>BSky</td>\n      <td>0.70</td>\n      <td>98.8</td>\n      <td>98.1</td>\n      <td>-0.063</td>\n      <td>BSky</td>\n      <td>10.12</td>\n      <td>110.2</td>\n      <td>100.1</td>\n      <td>-0.035</td>\n      <td>159.0</td>\n      <td>75.0</td>\n      <td>69.766667</td>\n      <td>67.200000</td>\n      <td>1.666667</td>\n      <td>2.566667</td>\n      <td>0.438112</td>\n      <td>0.408576</td>\n      <td>0.310534</td>\n      <td>0.314296</td>\n      <td>0.711014</td>\n      <td>15</td>\n      <td>0</td>\n      <td>0</td>\n      <td>72.655172</td>\n      <td>64.137931</td>\n      <td>-0.862069</td>\n      <td>8.517241</td>\n      <td>0.467615</td>\n      <td>0.450857</td>\n      <td>0.378917</td>\n      <td>0.284875</td>\n      <td>0.683273</td>\n      <td>20</td>\n      <td>0</td>\n      <td>0</td>\n      <td>0</td>\n      <td>0</td>\n      <td>0</td>\n      <td>0</td>\n    </tr>\n    <tr>\n      <th>57377</th>\n      <td>2020</td>\n      <td>02/22/2020</td>\n      <td>0.0</td>\n      <td>idaho st.</td>\n      <td>1226.0</td>\n      <td>72</td>\n      <td>northern colorado</td>\n      <td>1294.0</td>\n      <td>85</td>\n      <td>-9.0</td>\n      <td>-9.59</td>\n      <td>0</td>\n      <td>NaN</td>\n      <td>NaN</td>\n      <td>BSky</td>\n      <td>-10.37</td>\n      <td>100.8</td>\n      <td>111.1</td>\n      <td>0.008</td>\n      <td>BSky</td>\n      <td>10.12</td>\n      <td>110.2</td>\n      <td>100.1</td>\n      <td>-0.035</td>\n      <td>296.0</td>\n      <td>75.0</td>\n      <td>68.250000</td>\n      <td>75.250000</td>\n      <td>2.785714</td>\n      <td>-7.000000</td>\n      <td>0.442274</td>\n      <td>0.495607</td>\n      <td>0.343872</td>\n      <td>0.329141</td>\n      <td>0.657361</td>\n      <td>6</td>\n      <td>0</td>\n      <td>0</td>\n      <td>72.655172</td>\n      <td>64.137931</td>\n      <td>-0.862069</td>\n      <td>8.517241</td>\n      <td>0.467615</td>\n      <td>0.450857</td>\n      <td>0.378917</td>\n      <td>0.284875</td>\n      <td>0.683273</td>\n      <td>20</td>\n      <td>0</td>\n      <td>0</td>\n      <td>0</td>\n      <td>0</td>\n      <td>0</td>\n      <td>0</td>\n    </tr>\n  </tbody>\n</table>\n</div>"
     },
     "metadata": {},
     "execution_count": 46
    }
   ],
   "source": [
    "all_games_df.tail()"
   ]
  },
  {
   "cell_type": "code",
   "execution_count": 47,
   "metadata": {},
   "outputs": [
    {
     "output_type": "execute_result",
     "data": {
      "text/plain": [
       "['Season',\n",
       " 'date',\n",
       " 'is_tourney',\n",
       " 'home',\n",
       " 'HTeamID',\n",
       " 'hscore',\n",
       " 'road',\n",
       " 'RTeamID',\n",
       " 'rscore',\n",
       " 'line',\n",
       " 'lineavg',\n",
       " 'Hwin',\n",
       " 'HSeed',\n",
       " 'RSeed',\n",
       " 'Hconf',\n",
       " 'Hadjem',\n",
       " 'Hadjo',\n",
       " 'Hadjd',\n",
       " 'Hluck',\n",
       " 'Rconf',\n",
       " 'Radjem',\n",
       " 'Radjo',\n",
       " 'Radjd',\n",
       " 'Rluck',\n",
       " 'HRankPOM',\n",
       " 'RRankPOM',\n",
       " 'HScore',\n",
       " 'HOpponentScore',\n",
       " 'HTOmargin',\n",
       " 'HPointMargin',\n",
       " 'HFG',\n",
       " 'HFGopponent',\n",
       " 'HFG3',\n",
       " 'HFG3opponent',\n",
       " 'HFT',\n",
       " 'Hwins',\n",
       " 'Hwins_top25',\n",
       " 'Hwins_top5',\n",
       " 'RScore',\n",
       " 'ROpponentScore',\n",
       " 'RTOmargin',\n",
       " 'RPointMargin',\n",
       " 'RFG',\n",
       " 'RFGopponent',\n",
       " 'RFG3',\n",
       " 'RFG3opponent',\n",
       " 'RFT',\n",
       " 'Rwins',\n",
       " 'Rwins_top25',\n",
       " 'Rwins_top5',\n",
       " 'Htourny20plus',\n",
       " 'Rtourny20plus',\n",
       " 'HBig4Conf',\n",
       " 'RBig4Conf']"
      ]
     },
     "metadata": {},
     "execution_count": 47
    }
   ],
   "source": [
    "list(all_games_df)"
   ]
  },
  {
   "cell_type": "code",
   "execution_count": 48,
   "metadata": {},
   "outputs": [],
   "source": [
    "#Note: only fills in seeds and some games missing line\n",
    "#mean imputations of variables for model\n",
    "all_games_df = all_games_df.fillna(all_games_df.mean())"
   ]
  },
  {
   "cell_type": "code",
   "execution_count": 49,
   "metadata": {},
   "outputs": [],
   "source": [
    "all_games_df.to_csv('all_games_df.csv', index=False)"
   ]
  },
  {
   "cell_type": "code",
   "execution_count": null,
   "metadata": {},
   "outputs": [],
   "source": []
  }
 ]
}