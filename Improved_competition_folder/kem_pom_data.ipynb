{
 "metadata": {
  "language_info": {
   "codemirror_mode": {
    "name": "ipython",
    "version": 3
   },
   "file_extension": ".py",
   "mimetype": "text/x-python",
   "name": "python",
   "nbconvert_exporter": "python",
   "pygments_lexer": "ipython3",
   "version": "3.7.7-final"
  },
  "orig_nbformat": 2,
  "kernelspec": {
   "name": "python3",
   "display_name": "Python 3.7.7 64-bit ('tf': conda)",
   "metadata": {
    "interpreter": {
     "hash": "1b4bd66619e1f63a2810c0f91c748d47860e139f5a175a9a480ebd9d4456bd5e"
    }
   }
  }
 },
 "nbformat": 4,
 "nbformat_minor": 2,
 "cells": [
  {
   "cell_type": "code",
   "execution_count": 85,
   "metadata": {},
   "outputs": [],
   "source": [
    "import os\n",
    "import re\n",
    "import sklearn\n",
    "import numpy as np \n",
    "import pandas as pd\n",
    "import seaborn as sns\n",
    "import matplotlib.pyplot as plt\n",
    "\n",
    "from collections import Counter\n",
    "from sklearn.metrics import *\n",
    "from sklearn.linear_model import *\n",
    "from sklearn.model_selection import *\n",
    "\n",
    "pd.set_option('display.max_columns', None)"
   ]
  },
  {
   "source": [
    "Load data file "
   ],
   "cell_type": "markdown",
   "metadata": {}
  },
  {
   "cell_type": "code",
   "execution_count": 86,
   "metadata": {},
   "outputs": [],
   "source": [
    "\n",
    "kp_df=[]\n",
    "years_list = [2020,2019,2018,2017,2016,2015,2014,2013,2012,2011,2010,2009,2008,2007,2006,2005,2004,2003,2002]\n",
    "for year in years_list:\n",
    "    temp_kp_df = pd.read_csv(\"C:/Users/FLUXNATURE/Desktop/New Kaggle world/Ken Pom/KP\" + str(year) + \"_final.csv\")\n",
    "    temp_kp_df['Season'] = year\n",
    "    year_last = year   \n",
    "    if year==2020:\n",
    "        kp_df = temp_kp_df\n",
    "    else:\n",
    "        kp_df = kp_df.append(temp_kp_df)"
   ]
  },
  {
   "cell_type": "code",
   "execution_count": 87,
   "metadata": {},
   "outputs": [
    {
     "output_type": "execute_result",
     "data": {
      "text/plain": [
       "       team conf  adjem   adjo  adjd   luck  Season\n",
       "0   Kansas   B12  30.23  115.8  85.5  0.040    2020\n",
       "1  Gonzaga   WCC  26.95  121.3  94.4  0.050    2020\n",
       "2   Baylor   B12  25.49  113.5  88.1  0.016    2020\n",
       "3   Dayton   A10  24.93  119.1  94.1  0.002    2020\n",
       "4     Duke   ACC  24.62  115.7  91.1 -0.009    2020"
      ],
      "text/html": "<div>\n<style scoped>\n    .dataframe tbody tr th:only-of-type {\n        vertical-align: middle;\n    }\n\n    .dataframe tbody tr th {\n        vertical-align: top;\n    }\n\n    .dataframe thead th {\n        text-align: right;\n    }\n</style>\n<table border=\"1\" class=\"dataframe\">\n  <thead>\n    <tr style=\"text-align: right;\">\n      <th></th>\n      <th>team</th>\n      <th>conf</th>\n      <th>adjem</th>\n      <th>adjo</th>\n      <th>adjd</th>\n      <th>luck</th>\n      <th>Season</th>\n    </tr>\n  </thead>\n  <tbody>\n    <tr>\n      <th>0</th>\n      <td>Kansas</td>\n      <td>B12</td>\n      <td>30.23</td>\n      <td>115.8</td>\n      <td>85.5</td>\n      <td>0.040</td>\n      <td>2020</td>\n    </tr>\n    <tr>\n      <th>1</th>\n      <td>Gonzaga</td>\n      <td>WCC</td>\n      <td>26.95</td>\n      <td>121.3</td>\n      <td>94.4</td>\n      <td>0.050</td>\n      <td>2020</td>\n    </tr>\n    <tr>\n      <th>2</th>\n      <td>Baylor</td>\n      <td>B12</td>\n      <td>25.49</td>\n      <td>113.5</td>\n      <td>88.1</td>\n      <td>0.016</td>\n      <td>2020</td>\n    </tr>\n    <tr>\n      <th>3</th>\n      <td>Dayton</td>\n      <td>A10</td>\n      <td>24.93</td>\n      <td>119.1</td>\n      <td>94.1</td>\n      <td>0.002</td>\n      <td>2020</td>\n    </tr>\n    <tr>\n      <th>4</th>\n      <td>Duke</td>\n      <td>ACC</td>\n      <td>24.62</td>\n      <td>115.7</td>\n      <td>91.1</td>\n      <td>-0.009</td>\n      <td>2020</td>\n    </tr>\n  </tbody>\n</table>\n</div>"
     },
     "metadata": {},
     "execution_count": 87
    }
   ],
   "source": [
    "kp_df.head()"
   ]
  },
  {
   "cell_type": "code",
   "execution_count": 88,
   "metadata": {},
   "outputs": [
    {
     "output_type": "execute_result",
     "data": {
      "text/plain": [
       "                 team conf  adjem  adjo   adjd   luck  Season\n",
       "324  Mount St. Mary's  NEC -29.36  85.1  114.5  0.019    2002\n",
       "325      Morris Brown  ind -29.95  85.1  115.1  0.044    2002\n",
       "326      Savannah St.  ind -31.15  78.1  109.2 -0.021    2002"
      ],
      "text/html": "<div>\n<style scoped>\n    .dataframe tbody tr th:only-of-type {\n        vertical-align: middle;\n    }\n\n    .dataframe tbody tr th {\n        vertical-align: top;\n    }\n\n    .dataframe thead th {\n        text-align: right;\n    }\n</style>\n<table border=\"1\" class=\"dataframe\">\n  <thead>\n    <tr style=\"text-align: right;\">\n      <th></th>\n      <th>team</th>\n      <th>conf</th>\n      <th>adjem</th>\n      <th>adjo</th>\n      <th>adjd</th>\n      <th>luck</th>\n      <th>Season</th>\n    </tr>\n  </thead>\n  <tbody>\n    <tr>\n      <th>324</th>\n      <td>Mount St. Mary's</td>\n      <td>NEC</td>\n      <td>-29.36</td>\n      <td>85.1</td>\n      <td>114.5</td>\n      <td>0.019</td>\n      <td>2002</td>\n    </tr>\n    <tr>\n      <th>325</th>\n      <td>Morris Brown</td>\n      <td>ind</td>\n      <td>-29.95</td>\n      <td>85.1</td>\n      <td>115.1</td>\n      <td>0.044</td>\n      <td>2002</td>\n    </tr>\n    <tr>\n      <th>326</th>\n      <td>Savannah St.</td>\n      <td>ind</td>\n      <td>-31.15</td>\n      <td>78.1</td>\n      <td>109.2</td>\n      <td>-0.021</td>\n      <td>2002</td>\n    </tr>\n  </tbody>\n</table>\n</div>"
     },
     "metadata": {},
     "execution_count": 88
    }
   ],
   "source": [
    "kp_df.tail(3)"
   ]
  },
  {
   "cell_type": "code",
   "execution_count": 89,
   "metadata": {},
   "outputs": [
    {
     "output_type": "execute_result",
     "data": {
      "text/plain": [
       "2019    353\n",
       "2020    353\n",
       "2018    351\n",
       "2014    351\n",
       "2015    351\n",
       "2017    351\n",
       "2016    351\n",
       "2010    347\n",
       "2013    347\n",
       "2012    345\n",
       "2011    345\n",
       "2009    344\n",
       "2008    341\n",
       "2007    336\n",
       "2006    334\n",
       "2005    330\n",
       "2002    327\n",
       "2003    327\n",
       "2004    326\n",
       "Name: Season, dtype: int64"
      ]
     },
     "metadata": {},
     "execution_count": 89
    }
   ],
   "source": [
    "kp_df['Season'].value_counts(dropna=False)"
   ]
  },
  {
   "cell_type": "code",
   "execution_count": 90,
   "metadata": {},
   "outputs": [],
   "source": [
    "kp_df['team'] = kp_df['team'].str.lower()"
   ]
  },
  {
   "source": [
    "Match Team IDs to data"
   ],
   "cell_type": "markdown",
   "metadata": {}
  },
  {
   "cell_type": "code",
   "execution_count": 91,
   "metadata": {},
   "outputs": [],
   "source": [
    "teams_df = pd.read_csv('C:/Users/FLUXNATURE/Desktop/New Kaggle world/NCAAM/MTeamSpellings.csv', sep='\\,', engine='python')"
   ]
  },
  {
   "cell_type": "code",
   "execution_count": 92,
   "metadata": {},
   "outputs": [
    {
     "output_type": "execute_result",
     "data": {
      "text/plain": [
       "      TeamNameSpelling  TeamID\n",
       "1142     youngstown st    1464\n",
       "1143    youngstown st.    1464\n",
       "1144  youngstown state    1464\n",
       "1145     youngstown-st    1464\n",
       "1146  youngstown-state    1464"
      ],
      "text/html": "<div>\n<style scoped>\n    .dataframe tbody tr th:only-of-type {\n        vertical-align: middle;\n    }\n\n    .dataframe tbody tr th {\n        vertical-align: top;\n    }\n\n    .dataframe thead th {\n        text-align: right;\n    }\n</style>\n<table border=\"1\" class=\"dataframe\">\n  <thead>\n    <tr style=\"text-align: right;\">\n      <th></th>\n      <th>TeamNameSpelling</th>\n      <th>TeamID</th>\n    </tr>\n  </thead>\n  <tbody>\n    <tr>\n      <th>1142</th>\n      <td>youngstown st</td>\n      <td>1464</td>\n    </tr>\n    <tr>\n      <th>1143</th>\n      <td>youngstown st.</td>\n      <td>1464</td>\n    </tr>\n    <tr>\n      <th>1144</th>\n      <td>youngstown state</td>\n      <td>1464</td>\n    </tr>\n    <tr>\n      <th>1145</th>\n      <td>youngstown-st</td>\n      <td>1464</td>\n    </tr>\n    <tr>\n      <th>1146</th>\n      <td>youngstown-state</td>\n      <td>1464</td>\n    </tr>\n  </tbody>\n</table>\n</div>"
     },
     "metadata": {},
     "execution_count": 92
    }
   ],
   "source": [
    "teams_df.tail()"
   ]
  },
  {
   "cell_type": "code",
   "execution_count": 93,
   "metadata": {},
   "outputs": [],
   "source": [
    "kp_df = pd.merge(kp_df, teams_df, left_on=['team'], right_on = ['TeamNameSpelling'], how='inner')\n",
    "kp_df = kp_df.drop(['TeamNameSpelling'], axis=1)"
   ]
  },
  {
   "cell_type": "code",
   "execution_count": 94,
   "metadata": {},
   "outputs": [
    {
     "output_type": "execute_result",
     "data": {
      "text/plain": [
       "2019    340\n",
       "2018    337\n",
       "2017    337\n",
       "2016    336\n",
       "2014    336\n",
       "2015    336\n",
       "2013    332\n",
       "2010    331\n",
       "2011    330\n",
       "2012    330\n",
       "2009    328\n",
       "2008    325\n",
       "2007    321\n",
       "2006    320\n",
       "2005    315\n",
       "2002    311\n",
       "2003    311\n",
       "2004    311\n",
       "2020    273\n",
       "Name: Season, dtype: int64"
      ]
     },
     "metadata": {},
     "execution_count": 94
    }
   ],
   "source": [
    "kp_df['Season'].value_counts(dropna=False)"
   ]
  },
  {
   "cell_type": "code",
   "execution_count": 95,
   "metadata": {},
   "outputs": [
    {
     "output_type": "execute_result",
     "data": {
      "text/plain": [
       "                      team  conf  adjem   adjo   adjd   luck  Season  TeamID\n",
       "6155              troy st.  ASun   6.15  106.9  100.8  0.105    2003    1407\n",
       "6156              troy st.  ASun   0.15  104.2  104.1  0.044    2002    1407\n",
       "6157  middle tennessee st.    SB   3.36  103.8  100.5 -0.006    2003    1292\n",
       "6158          morris brown   ind -27.55   86.9  114.4  0.003    2003    1289\n",
       "6159          morris brown   ind -29.95   85.1  115.1  0.044    2002    1289"
      ],
      "text/html": "<div>\n<style scoped>\n    .dataframe tbody tr th:only-of-type {\n        vertical-align: middle;\n    }\n\n    .dataframe tbody tr th {\n        vertical-align: top;\n    }\n\n    .dataframe thead th {\n        text-align: right;\n    }\n</style>\n<table border=\"1\" class=\"dataframe\">\n  <thead>\n    <tr style=\"text-align: right;\">\n      <th></th>\n      <th>team</th>\n      <th>conf</th>\n      <th>adjem</th>\n      <th>adjo</th>\n      <th>adjd</th>\n      <th>luck</th>\n      <th>Season</th>\n      <th>TeamID</th>\n    </tr>\n  </thead>\n  <tbody>\n    <tr>\n      <th>6155</th>\n      <td>troy st.</td>\n      <td>ASun</td>\n      <td>6.15</td>\n      <td>106.9</td>\n      <td>100.8</td>\n      <td>0.105</td>\n      <td>2003</td>\n      <td>1407</td>\n    </tr>\n    <tr>\n      <th>6156</th>\n      <td>troy st.</td>\n      <td>ASun</td>\n      <td>0.15</td>\n      <td>104.2</td>\n      <td>104.1</td>\n      <td>0.044</td>\n      <td>2002</td>\n      <td>1407</td>\n    </tr>\n    <tr>\n      <th>6157</th>\n      <td>middle tennessee st.</td>\n      <td>SB</td>\n      <td>3.36</td>\n      <td>103.8</td>\n      <td>100.5</td>\n      <td>-0.006</td>\n      <td>2003</td>\n      <td>1292</td>\n    </tr>\n    <tr>\n      <th>6158</th>\n      <td>morris brown</td>\n      <td>ind</td>\n      <td>-27.55</td>\n      <td>86.9</td>\n      <td>114.4</td>\n      <td>0.003</td>\n      <td>2003</td>\n      <td>1289</td>\n    </tr>\n    <tr>\n      <th>6159</th>\n      <td>morris brown</td>\n      <td>ind</td>\n      <td>-29.95</td>\n      <td>85.1</td>\n      <td>115.1</td>\n      <td>0.044</td>\n      <td>2002</td>\n      <td>1289</td>\n    </tr>\n  </tbody>\n</table>\n</div>"
     },
     "metadata": {},
     "execution_count": 95
    }
   ],
   "source": [
    "kp_df.tail()"
   ]
  },
  {
   "source": [
    "Write the data to a csv"
   ],
   "cell_type": "markdown",
   "metadata": {}
  },
  {
   "cell_type": "code",
   "execution_count": 96,
   "metadata": {},
   "outputs": [],
   "source": [
    "kp_df.to_csv('kp_all.csv', index=False)"
   ]
  },
  {
   "cell_type": "code",
   "execution_count": 97,
   "metadata": {},
   "outputs": [],
   "source": [
    "#read_file = pd.read_excel(r'C:/Users/FLUXNATURE/Desktop/ML stuff/KP2020_final.xlsx', engine='openpyxl')"
   ]
  },
  {
   "cell_type": "code",
   "execution_count": 98,
   "metadata": {},
   "outputs": [],
   "source": [
    "#read_file.to_csv(r'C:/Users/FLUXNATURE/Desktop/ML stuff/KP2020_final.csv', index= None)"
   ]
  },
  {
   "cell_type": "code",
   "execution_count": null,
   "metadata": {},
   "outputs": [],
   "source": []
  }
 ]
}