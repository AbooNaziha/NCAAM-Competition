{
 "metadata": {
  "language_info": {
   "codemirror_mode": {
    "name": "ipython",
    "version": 3
   },
   "file_extension": ".py",
   "mimetype": "text/x-python",
   "name": "python",
   "nbconvert_exporter": "python",
   "pygments_lexer": "ipython3",
   "version": "3.7.7-final"
  },
  "orig_nbformat": 2,
  "kernelspec": {
   "name": "python3",
   "display_name": "Python 3.7.7 64-bit ('tf': conda)",
   "metadata": {
    "interpreter": {
     "hash": "1b4bd66619e1f63a2810c0f91c748d47860e139f5a175a9a480ebd9d4456bd5e"
    }
   }
  }
 },
 "nbformat": 4,
 "nbformat_minor": 2,
 "cells": [
  {
   "cell_type": "code",
   "execution_count": 356,
   "metadata": {},
   "outputs": [],
   "source": [
    "import os\n",
    "import re\n",
    "import sklearn\n",
    "import numpy as np \n",
    "import pandas as pd\n",
    "import seaborn as sns\n",
    "import matplotlib.pyplot as plt\n",
    "from collections import Counter\n",
    "from sklearn.metrics import *\n",
    "from sklearn.linear_model import *\n",
    "from sklearn.model_selection import *\n",
    "\n",
    "pd.set_option('display.max_columns', None)"
   ]
  },
  {
   "cell_type": "code",
   "execution_count": 357,
   "metadata": {},
   "outputs": [
    {
     "output_type": "execute_result",
     "data": {
      "text/plain": [
       "   is_tourney  Season  HTeamID  RTeamID  Hwin\n",
       "0         0.0    2004   1113.0   1168.0     1\n",
       "1         0.0    2004   1337.0   1168.0     0\n",
       "2         0.0    2004   1414.0   1168.0     1\n",
       "3         0.0    2004   1142.0   1168.0     1\n",
       "4         0.0    2004   1429.0   1168.0     1"
      ],
      "text/html": "<div>\n<style scoped>\n    .dataframe tbody tr th:only-of-type {\n        vertical-align: middle;\n    }\n\n    .dataframe tbody tr th {\n        vertical-align: top;\n    }\n\n    .dataframe thead th {\n        text-align: right;\n    }\n</style>\n<table border=\"1\" class=\"dataframe\">\n  <thead>\n    <tr style=\"text-align: right;\">\n      <th></th>\n      <th>is_tourney</th>\n      <th>Season</th>\n      <th>HTeamID</th>\n      <th>RTeamID</th>\n      <th>Hwin</th>\n    </tr>\n  </thead>\n  <tbody>\n    <tr>\n      <th>0</th>\n      <td>0.0</td>\n      <td>2004</td>\n      <td>1113.0</td>\n      <td>1168.0</td>\n      <td>1</td>\n    </tr>\n    <tr>\n      <th>1</th>\n      <td>0.0</td>\n      <td>2004</td>\n      <td>1337.0</td>\n      <td>1168.0</td>\n      <td>0</td>\n    </tr>\n    <tr>\n      <th>2</th>\n      <td>0.0</td>\n      <td>2004</td>\n      <td>1414.0</td>\n      <td>1168.0</td>\n      <td>1</td>\n    </tr>\n    <tr>\n      <th>3</th>\n      <td>0.0</td>\n      <td>2004</td>\n      <td>1142.0</td>\n      <td>1168.0</td>\n      <td>1</td>\n    </tr>\n    <tr>\n      <th>4</th>\n      <td>0.0</td>\n      <td>2004</td>\n      <td>1429.0</td>\n      <td>1168.0</td>\n      <td>1</td>\n    </tr>\n  </tbody>\n</table>\n</div>"
     },
     "metadata": {},
     "execution_count": 357
    }
   ],
   "source": [
    "all_games_df = pd.read_csv('all_games_df.csv')\n",
    "all_games_df = all_games_df[['is_tourney','Season','HTeamID','RTeamID','Hwin']]\n",
    "all_games_df.head()"
   ]
  },
  {
   "cell_type": "code",
   "execution_count": 358,
   "metadata": {},
   "outputs": [
    {
     "output_type": "execute_result",
     "data": {
      "text/plain": [
       "       is_tourney  Season  HTeamID  RTeamID  Hwin\n",
       "57373         0.0    2020   1285.0   1294.0     0\n",
       "57374         0.0    2020   1286.0   1294.0     0\n",
       "57375         0.0    2020   1319.0   1294.0     0\n",
       "57376         0.0    2020   1381.0   1294.0     0\n",
       "57377         0.0    2020   1226.0   1294.0     0"
      ],
      "text/html": "<div>\n<style scoped>\n    .dataframe tbody tr th:only-of-type {\n        vertical-align: middle;\n    }\n\n    .dataframe tbody tr th {\n        vertical-align: top;\n    }\n\n    .dataframe thead th {\n        text-align: right;\n    }\n</style>\n<table border=\"1\" class=\"dataframe\">\n  <thead>\n    <tr style=\"text-align: right;\">\n      <th></th>\n      <th>is_tourney</th>\n      <th>Season</th>\n      <th>HTeamID</th>\n      <th>RTeamID</th>\n      <th>Hwin</th>\n    </tr>\n  </thead>\n  <tbody>\n    <tr>\n      <th>57373</th>\n      <td>0.0</td>\n      <td>2020</td>\n      <td>1285.0</td>\n      <td>1294.0</td>\n      <td>0</td>\n    </tr>\n    <tr>\n      <th>57374</th>\n      <td>0.0</td>\n      <td>2020</td>\n      <td>1286.0</td>\n      <td>1294.0</td>\n      <td>0</td>\n    </tr>\n    <tr>\n      <th>57375</th>\n      <td>0.0</td>\n      <td>2020</td>\n      <td>1319.0</td>\n      <td>1294.0</td>\n      <td>0</td>\n    </tr>\n    <tr>\n      <th>57376</th>\n      <td>0.0</td>\n      <td>2020</td>\n      <td>1381.0</td>\n      <td>1294.0</td>\n      <td>0</td>\n    </tr>\n    <tr>\n      <th>57377</th>\n      <td>0.0</td>\n      <td>2020</td>\n      <td>1226.0</td>\n      <td>1294.0</td>\n      <td>0</td>\n    </tr>\n  </tbody>\n</table>\n</div>"
     },
     "metadata": {},
     "execution_count": 358
    }
   ],
   "source": [
    "all_games_df.tail()"
   ]
  },
  {
   "cell_type": "code",
   "execution_count": 359,
   "metadata": {},
   "outputs": [
    {
     "output_type": "execute_result",
     "data": {
      "text/plain": [
       "                      team  conf  adjem   adjo   adjd   luck  Season  TeamID\n",
       "0             michigan st.   B10  24.03  115.2   91.2 -0.012    2020    1277\n",
       "1             michigan st.   B10  31.36  121.7   90.4 -0.007    2019    1277\n",
       "2             michigan st.   B10  25.41  119.2   93.8  0.038    2018    1277\n",
       "3             michigan st.   B10  15.51  111.4   95.9 -0.011    2017    1277\n",
       "4             michigan st.   B10  27.97  123.4   95.5 -0.012    2016    1277\n",
       "...                    ...   ...    ...    ...    ...    ...     ...     ...\n",
       "6155              troy st.  ASun   6.15  106.9  100.8  0.105    2003    1407\n",
       "6156              troy st.  ASun   0.15  104.2  104.1  0.044    2002    1407\n",
       "6157  middle tennessee st.    SB   3.36  103.8  100.5 -0.006    2003    1292\n",
       "6158          morris brown   ind -27.55   86.9  114.4  0.003    2003    1289\n",
       "6159          morris brown   ind -29.95   85.1  115.1  0.044    2002    1289\n",
       "\n",
       "[6160 rows x 8 columns]"
      ],
      "text/html": "<div>\n<style scoped>\n    .dataframe tbody tr th:only-of-type {\n        vertical-align: middle;\n    }\n\n    .dataframe tbody tr th {\n        vertical-align: top;\n    }\n\n    .dataframe thead th {\n        text-align: right;\n    }\n</style>\n<table border=\"1\" class=\"dataframe\">\n  <thead>\n    <tr style=\"text-align: right;\">\n      <th></th>\n      <th>team</th>\n      <th>conf</th>\n      <th>adjem</th>\n      <th>adjo</th>\n      <th>adjd</th>\n      <th>luck</th>\n      <th>Season</th>\n      <th>TeamID</th>\n    </tr>\n  </thead>\n  <tbody>\n    <tr>\n      <th>0</th>\n      <td>michigan st.</td>\n      <td>B10</td>\n      <td>24.03</td>\n      <td>115.2</td>\n      <td>91.2</td>\n      <td>-0.012</td>\n      <td>2020</td>\n      <td>1277</td>\n    </tr>\n    <tr>\n      <th>1</th>\n      <td>michigan st.</td>\n      <td>B10</td>\n      <td>31.36</td>\n      <td>121.7</td>\n      <td>90.4</td>\n      <td>-0.007</td>\n      <td>2019</td>\n      <td>1277</td>\n    </tr>\n    <tr>\n      <th>2</th>\n      <td>michigan st.</td>\n      <td>B10</td>\n      <td>25.41</td>\n      <td>119.2</td>\n      <td>93.8</td>\n      <td>0.038</td>\n      <td>2018</td>\n      <td>1277</td>\n    </tr>\n    <tr>\n      <th>3</th>\n      <td>michigan st.</td>\n      <td>B10</td>\n      <td>15.51</td>\n      <td>111.4</td>\n      <td>95.9</td>\n      <td>-0.011</td>\n      <td>2017</td>\n      <td>1277</td>\n    </tr>\n    <tr>\n      <th>4</th>\n      <td>michigan st.</td>\n      <td>B10</td>\n      <td>27.97</td>\n      <td>123.4</td>\n      <td>95.5</td>\n      <td>-0.012</td>\n      <td>2016</td>\n      <td>1277</td>\n    </tr>\n    <tr>\n      <th>...</th>\n      <td>...</td>\n      <td>...</td>\n      <td>...</td>\n      <td>...</td>\n      <td>...</td>\n      <td>...</td>\n      <td>...</td>\n      <td>...</td>\n    </tr>\n    <tr>\n      <th>6155</th>\n      <td>troy st.</td>\n      <td>ASun</td>\n      <td>6.15</td>\n      <td>106.9</td>\n      <td>100.8</td>\n      <td>0.105</td>\n      <td>2003</td>\n      <td>1407</td>\n    </tr>\n    <tr>\n      <th>6156</th>\n      <td>troy st.</td>\n      <td>ASun</td>\n      <td>0.15</td>\n      <td>104.2</td>\n      <td>104.1</td>\n      <td>0.044</td>\n      <td>2002</td>\n      <td>1407</td>\n    </tr>\n    <tr>\n      <th>6157</th>\n      <td>middle tennessee st.</td>\n      <td>SB</td>\n      <td>3.36</td>\n      <td>103.8</td>\n      <td>100.5</td>\n      <td>-0.006</td>\n      <td>2003</td>\n      <td>1292</td>\n    </tr>\n    <tr>\n      <th>6158</th>\n      <td>morris brown</td>\n      <td>ind</td>\n      <td>-27.55</td>\n      <td>86.9</td>\n      <td>114.4</td>\n      <td>0.003</td>\n      <td>2003</td>\n      <td>1289</td>\n    </tr>\n    <tr>\n      <th>6159</th>\n      <td>morris brown</td>\n      <td>ind</td>\n      <td>-29.95</td>\n      <td>85.1</td>\n      <td>115.1</td>\n      <td>0.044</td>\n      <td>2002</td>\n      <td>1289</td>\n    </tr>\n  </tbody>\n</table>\n<p>6160 rows × 8 columns</p>\n</div>"
     },
     "metadata": {},
     "execution_count": 359
    }
   ],
   "source": [
    "kp_df = pd.read_csv('kp_all.csv')\n",
    "kp_df.sort_index()"
   ]
  },
  {
   "cell_type": "code",
   "execution_count": 360,
   "metadata": {},
   "outputs": [
    {
     "output_type": "execute_result",
     "data": {
      "text/plain": [
       "                      team  conf  adjem   adjo   adjd   luck  Season  TeamID\n",
       "6155              troy st.  ASun   6.15  106.9  100.8  0.105    2003    1407\n",
       "6156              troy st.  ASun   0.15  104.2  104.1  0.044    2002    1407\n",
       "6157  middle tennessee st.    SB   3.36  103.8  100.5 -0.006    2003    1292\n",
       "6158          morris brown   ind -27.55   86.9  114.4  0.003    2003    1289\n",
       "6159          morris brown   ind -29.95   85.1  115.1  0.044    2002    1289"
      ],
      "text/html": "<div>\n<style scoped>\n    .dataframe tbody tr th:only-of-type {\n        vertical-align: middle;\n    }\n\n    .dataframe tbody tr th {\n        vertical-align: top;\n    }\n\n    .dataframe thead th {\n        text-align: right;\n    }\n</style>\n<table border=\"1\" class=\"dataframe\">\n  <thead>\n    <tr style=\"text-align: right;\">\n      <th></th>\n      <th>team</th>\n      <th>conf</th>\n      <th>adjem</th>\n      <th>adjo</th>\n      <th>adjd</th>\n      <th>luck</th>\n      <th>Season</th>\n      <th>TeamID</th>\n    </tr>\n  </thead>\n  <tbody>\n    <tr>\n      <th>6155</th>\n      <td>troy st.</td>\n      <td>ASun</td>\n      <td>6.15</td>\n      <td>106.9</td>\n      <td>100.8</td>\n      <td>0.105</td>\n      <td>2003</td>\n      <td>1407</td>\n    </tr>\n    <tr>\n      <th>6156</th>\n      <td>troy st.</td>\n      <td>ASun</td>\n      <td>0.15</td>\n      <td>104.2</td>\n      <td>104.1</td>\n      <td>0.044</td>\n      <td>2002</td>\n      <td>1407</td>\n    </tr>\n    <tr>\n      <th>6157</th>\n      <td>middle tennessee st.</td>\n      <td>SB</td>\n      <td>3.36</td>\n      <td>103.8</td>\n      <td>100.5</td>\n      <td>-0.006</td>\n      <td>2003</td>\n      <td>1292</td>\n    </tr>\n    <tr>\n      <th>6158</th>\n      <td>morris brown</td>\n      <td>ind</td>\n      <td>-27.55</td>\n      <td>86.9</td>\n      <td>114.4</td>\n      <td>0.003</td>\n      <td>2003</td>\n      <td>1289</td>\n    </tr>\n    <tr>\n      <th>6159</th>\n      <td>morris brown</td>\n      <td>ind</td>\n      <td>-29.95</td>\n      <td>85.1</td>\n      <td>115.1</td>\n      <td>0.044</td>\n      <td>2002</td>\n      <td>1289</td>\n    </tr>\n  </tbody>\n</table>\n</div>"
     },
     "metadata": {},
     "execution_count": 360
    }
   ],
   "source": [
    "kp_df.tail()"
   ]
  },
  {
   "cell_type": "code",
   "execution_count": 361,
   "metadata": {},
   "outputs": [
    {
     "output_type": "execute_result",
     "data": {
      "text/plain": [
       "   TeamID  Season  wins_top25  PointMargin        FG       FG3\n",
       "0    1101    2014           0   -15.476190  0.410184  0.380275\n",
       "1    1101    2015           0   -10.857143  0.407501  0.381507\n",
       "2    1101    2016           0    -6.407407  0.442606  0.364517\n",
       "3    1101    2017           0    -4.760000  0.457867  0.371026\n",
       "4    1101    2018           0    -2.148148  0.452366  0.327240"
      ],
      "text/html": "<div>\n<style scoped>\n    .dataframe tbody tr th:only-of-type {\n        vertical-align: middle;\n    }\n\n    .dataframe tbody tr th {\n        vertical-align: top;\n    }\n\n    .dataframe thead th {\n        text-align: right;\n    }\n</style>\n<table border=\"1\" class=\"dataframe\">\n  <thead>\n    <tr style=\"text-align: right;\">\n      <th></th>\n      <th>TeamID</th>\n      <th>Season</th>\n      <th>wins_top25</th>\n      <th>PointMargin</th>\n      <th>FG</th>\n      <th>FG3</th>\n    </tr>\n  </thead>\n  <tbody>\n    <tr>\n      <th>0</th>\n      <td>1101</td>\n      <td>2014</td>\n      <td>0</td>\n      <td>-15.476190</td>\n      <td>0.410184</td>\n      <td>0.380275</td>\n    </tr>\n    <tr>\n      <th>1</th>\n      <td>1101</td>\n      <td>2015</td>\n      <td>0</td>\n      <td>-10.857143</td>\n      <td>0.407501</td>\n      <td>0.381507</td>\n    </tr>\n    <tr>\n      <th>2</th>\n      <td>1101</td>\n      <td>2016</td>\n      <td>0</td>\n      <td>-6.407407</td>\n      <td>0.442606</td>\n      <td>0.364517</td>\n    </tr>\n    <tr>\n      <th>3</th>\n      <td>1101</td>\n      <td>2017</td>\n      <td>0</td>\n      <td>-4.760000</td>\n      <td>0.457867</td>\n      <td>0.371026</td>\n    </tr>\n    <tr>\n      <th>4</th>\n      <td>1101</td>\n      <td>2018</td>\n      <td>0</td>\n      <td>-2.148148</td>\n      <td>0.452366</td>\n      <td>0.327240</td>\n    </tr>\n  </tbody>\n</table>\n</div>"
     },
     "metadata": {},
     "execution_count": 361
    }
   ],
   "source": [
    "regseason_df = pd.read_csv('regseason_df.csv')\n",
    "regseason_df  = regseason_df[['TeamID','Season','wins_top25','PointMargin','FG','FG3']]\n",
    "regseason_df.head()"
   ]
  },
  {
   "cell_type": "code",
   "execution_count": 362,
   "metadata": {},
   "outputs": [
    {
     "output_type": "execute_result",
     "data": {
      "text/plain": [
       "      TeamID  Season  wins_top25  PointMargin        FG       FG3\n",
       "6182    1465    2019           0     0.269231  0.444370  0.351052\n",
       "6183    1465    2020           0     4.666667  0.430507  0.374884\n",
       "6184    1466    2019           0    -9.310345  0.384144  0.295101\n",
       "6185    1466    2020           0    -3.178571  0.421914  0.344007\n",
       "6186    1467    2020           0    -0.400000  0.416995  0.334847"
      ],
      "text/html": "<div>\n<style scoped>\n    .dataframe tbody tr th:only-of-type {\n        vertical-align: middle;\n    }\n\n    .dataframe tbody tr th {\n        vertical-align: top;\n    }\n\n    .dataframe thead th {\n        text-align: right;\n    }\n</style>\n<table border=\"1\" class=\"dataframe\">\n  <thead>\n    <tr style=\"text-align: right;\">\n      <th></th>\n      <th>TeamID</th>\n      <th>Season</th>\n      <th>wins_top25</th>\n      <th>PointMargin</th>\n      <th>FG</th>\n      <th>FG3</th>\n    </tr>\n  </thead>\n  <tbody>\n    <tr>\n      <th>6182</th>\n      <td>1465</td>\n      <td>2019</td>\n      <td>0</td>\n      <td>0.269231</td>\n      <td>0.444370</td>\n      <td>0.351052</td>\n    </tr>\n    <tr>\n      <th>6183</th>\n      <td>1465</td>\n      <td>2020</td>\n      <td>0</td>\n      <td>4.666667</td>\n      <td>0.430507</td>\n      <td>0.374884</td>\n    </tr>\n    <tr>\n      <th>6184</th>\n      <td>1466</td>\n      <td>2019</td>\n      <td>0</td>\n      <td>-9.310345</td>\n      <td>0.384144</td>\n      <td>0.295101</td>\n    </tr>\n    <tr>\n      <th>6185</th>\n      <td>1466</td>\n      <td>2020</td>\n      <td>0</td>\n      <td>-3.178571</td>\n      <td>0.421914</td>\n      <td>0.344007</td>\n    </tr>\n    <tr>\n      <th>6186</th>\n      <td>1467</td>\n      <td>2020</td>\n      <td>0</td>\n      <td>-0.400000</td>\n      <td>0.416995</td>\n      <td>0.334847</td>\n    </tr>\n  </tbody>\n</table>\n</div>"
     },
     "metadata": {},
     "execution_count": 362
    }
   ],
   "source": [
    "regseason_df.tail()"
   ]
  },
  {
   "cell_type": "code",
   "execution_count": 363,
   "metadata": {},
   "outputs": [
    {
     "output_type": "execute_result",
     "data": {
      "text/plain": [
       "        Season  TeamID  RankPOM\n",
       "127259    2003    1102      160\n",
       "127260    2003    1103      163\n",
       "127261    2003    1104       33\n",
       "127262    2003    1105      307\n",
       "127263    2003    1106      263"
      ],
      "text/html": "<div>\n<style scoped>\n    .dataframe tbody tr th:only-of-type {\n        vertical-align: middle;\n    }\n\n    .dataframe tbody tr th {\n        vertical-align: top;\n    }\n\n    .dataframe thead th {\n        text-align: right;\n    }\n</style>\n<table border=\"1\" class=\"dataframe\">\n  <thead>\n    <tr style=\"text-align: right;\">\n      <th></th>\n      <th>Season</th>\n      <th>TeamID</th>\n      <th>RankPOM</th>\n    </tr>\n  </thead>\n  <tbody>\n    <tr>\n      <th>127259</th>\n      <td>2003</td>\n      <td>1102</td>\n      <td>160</td>\n    </tr>\n    <tr>\n      <th>127260</th>\n      <td>2003</td>\n      <td>1103</td>\n      <td>163</td>\n    </tr>\n    <tr>\n      <th>127261</th>\n      <td>2003</td>\n      <td>1104</td>\n      <td>33</td>\n    </tr>\n    <tr>\n      <th>127262</th>\n      <td>2003</td>\n      <td>1105</td>\n      <td>307</td>\n    </tr>\n    <tr>\n      <th>127263</th>\n      <td>2003</td>\n      <td>1106</td>\n      <td>263</td>\n    </tr>\n  </tbody>\n</table>\n</div>"
     },
     "metadata": {},
     "execution_count": 363
    }
   ],
   "source": [
    "massey_df = pd.read_csv('C:/Users/FLUXNATURE/Desktop/New Kaggle world/NCAAM/MMasseyOrdinals.csv')\n",
    "POM_df = massey_df[massey_df['SystemName'].str.contains(\"POM\")]\n",
    "POM_end_df = POM_df.loc[POM_df['RankingDayNum'] == 133]\n",
    "POM_end_df.rename(columns={'OrdinalRank': 'RankPOM'}, inplace=True)\n",
    "POM_end_df = POM_end_df[['Season','TeamID','RankPOM']]\n",
    "POM_end_df.head()"
   ]
  },
  {
   "cell_type": "code",
   "execution_count": 364,
   "metadata": {},
   "outputs": [
    {
     "output_type": "execute_result",
     "data": {
      "text/plain": [
       "         Season  TeamID  RankPOM\n",
       "3812063    2019    1462       64\n",
       "3812064    2019    1463       82\n",
       "3812065    2019    1464      263\n",
       "3812066    2019    1465      192\n",
       "3812067    2019    1466      285"
      ],
      "text/html": "<div>\n<style scoped>\n    .dataframe tbody tr th:only-of-type {\n        vertical-align: middle;\n    }\n\n    .dataframe tbody tr th {\n        vertical-align: top;\n    }\n\n    .dataframe thead th {\n        text-align: right;\n    }\n</style>\n<table border=\"1\" class=\"dataframe\">\n  <thead>\n    <tr style=\"text-align: right;\">\n      <th></th>\n      <th>Season</th>\n      <th>TeamID</th>\n      <th>RankPOM</th>\n    </tr>\n  </thead>\n  <tbody>\n    <tr>\n      <th>3812063</th>\n      <td>2019</td>\n      <td>1462</td>\n      <td>64</td>\n    </tr>\n    <tr>\n      <th>3812064</th>\n      <td>2019</td>\n      <td>1463</td>\n      <td>82</td>\n    </tr>\n    <tr>\n      <th>3812065</th>\n      <td>2019</td>\n      <td>1464</td>\n      <td>263</td>\n    </tr>\n    <tr>\n      <th>3812066</th>\n      <td>2019</td>\n      <td>1465</td>\n      <td>192</td>\n    </tr>\n    <tr>\n      <th>3812067</th>\n      <td>2019</td>\n      <td>1466</td>\n      <td>285</td>\n    </tr>\n  </tbody>\n</table>\n</div>"
     },
     "metadata": {},
     "execution_count": 364
    }
   ],
   "source": [
    "POM_end_df.tail()"
   ]
  },
  {
   "source": [
    "Create test data set "
   ],
   "cell_type": "markdown",
   "metadata": {}
  },
  {
   "cell_type": "code",
   "execution_count": 365,
   "metadata": {},
   "outputs": [
    {
     "output_type": "execute_result",
     "data": {
      "text/plain": [
       "       Season              ID  HTeamID  RTeamID  HSeed  RSeed  is_tourney\n",
       "1        2015  2015_1437_1438   1437.0   1438.0    1.0    2.0           1\n",
       "12       2015  2015_1437_1461   1437.0   1461.0    1.0   12.0           1\n",
       "38       2015  2015_1437_1452   1437.0   1452.0    1.0    5.0           1\n",
       "40       2015  2015_1437_1455   1437.0   1455.0    1.0    7.0           1\n",
       "51       2015  2015_1437_1458   1437.0   1458.0    1.0    1.0           1\n",
       "...       ...             ...      ...      ...    ...    ...         ...\n",
       "23113    2019  2019_1205_1234   1234.0   1205.0   10.0   16.0           1\n",
       "23114    2019  2019_1205_1388   1388.0   1205.0   11.0   16.0           1\n",
       "23115    2019  2019_1205_1332   1332.0   1205.0   12.0   16.0           1\n",
       "23116    2019  2019_1205_1414   1414.0   1205.0   13.0   16.0           1\n",
       "23117    2019  2019_1205_1330   1330.0   1205.0   14.0   16.0           1\n",
       "\n",
       "[11390 rows x 7 columns]"
      ],
      "text/html": "<div>\n<style scoped>\n    .dataframe tbody tr th:only-of-type {\n        vertical-align: middle;\n    }\n\n    .dataframe tbody tr th {\n        vertical-align: top;\n    }\n\n    .dataframe thead th {\n        text-align: right;\n    }\n</style>\n<table border=\"1\" class=\"dataframe\">\n  <thead>\n    <tr style=\"text-align: right;\">\n      <th></th>\n      <th>Season</th>\n      <th>ID</th>\n      <th>HTeamID</th>\n      <th>RTeamID</th>\n      <th>HSeed</th>\n      <th>RSeed</th>\n      <th>is_tourney</th>\n    </tr>\n  </thead>\n  <tbody>\n    <tr>\n      <th>1</th>\n      <td>2015</td>\n      <td>2015_1437_1438</td>\n      <td>1437.0</td>\n      <td>1438.0</td>\n      <td>1.0</td>\n      <td>2.0</td>\n      <td>1</td>\n    </tr>\n    <tr>\n      <th>12</th>\n      <td>2015</td>\n      <td>2015_1437_1461</td>\n      <td>1437.0</td>\n      <td>1461.0</td>\n      <td>1.0</td>\n      <td>12.0</td>\n      <td>1</td>\n    </tr>\n    <tr>\n      <th>38</th>\n      <td>2015</td>\n      <td>2015_1437_1452</td>\n      <td>1437.0</td>\n      <td>1452.0</td>\n      <td>1.0</td>\n      <td>5.0</td>\n      <td>1</td>\n    </tr>\n    <tr>\n      <th>40</th>\n      <td>2015</td>\n      <td>2015_1437_1455</td>\n      <td>1437.0</td>\n      <td>1455.0</td>\n      <td>1.0</td>\n      <td>7.0</td>\n      <td>1</td>\n    </tr>\n    <tr>\n      <th>51</th>\n      <td>2015</td>\n      <td>2015_1437_1458</td>\n      <td>1437.0</td>\n      <td>1458.0</td>\n      <td>1.0</td>\n      <td>1.0</td>\n      <td>1</td>\n    </tr>\n    <tr>\n      <th>...</th>\n      <td>...</td>\n      <td>...</td>\n      <td>...</td>\n      <td>...</td>\n      <td>...</td>\n      <td>...</td>\n      <td>...</td>\n    </tr>\n    <tr>\n      <th>23113</th>\n      <td>2019</td>\n      <td>2019_1205_1234</td>\n      <td>1234.0</td>\n      <td>1205.0</td>\n      <td>10.0</td>\n      <td>16.0</td>\n      <td>1</td>\n    </tr>\n    <tr>\n      <th>23114</th>\n      <td>2019</td>\n      <td>2019_1205_1388</td>\n      <td>1388.0</td>\n      <td>1205.0</td>\n      <td>11.0</td>\n      <td>16.0</td>\n      <td>1</td>\n    </tr>\n    <tr>\n      <th>23115</th>\n      <td>2019</td>\n      <td>2019_1205_1332</td>\n      <td>1332.0</td>\n      <td>1205.0</td>\n      <td>12.0</td>\n      <td>16.0</td>\n      <td>1</td>\n    </tr>\n    <tr>\n      <th>23116</th>\n      <td>2019</td>\n      <td>2019_1205_1414</td>\n      <td>1414.0</td>\n      <td>1205.0</td>\n      <td>13.0</td>\n      <td>16.0</td>\n      <td>1</td>\n    </tr>\n    <tr>\n      <th>23117</th>\n      <td>2019</td>\n      <td>2019_1205_1330</td>\n      <td>1330.0</td>\n      <td>1205.0</td>\n      <td>14.0</td>\n      <td>16.0</td>\n      <td>1</td>\n    </tr>\n  </tbody>\n</table>\n<p>11390 rows × 7 columns</p>\n</div>"
     },
     "metadata": {},
     "execution_count": 365
    }
   ],
   "source": [
    "#Test set (this sets the data up in the format Kaggle needs for scoring)\n",
    "df_seeds = pd.read_csv('C:/Users/FLUXNATURE/Desktop/New Kaggle world/NCAAM/MNCAATourneySeeds.csv')\n",
    "df_seeds = df_seeds[df_seeds['Season']>=2015]\n",
    "df_19_tourney = df_seeds.merge(df_seeds, how='inner', on='Season')\n",
    "df_19_tourney = df_19_tourney[df_19_tourney['TeamID_x'] < df_19_tourney['TeamID_y']]\n",
    "df_19_tourney['ID'] = df_19_tourney['Season'].astype(str) + '_' \\\n",
    "              + df_19_tourney['TeamID_x'].astype(str) + '_' \\\n",
    "              + df_19_tourney['TeamID_y'].astype(str)\n",
    "df_19_tourney['SeedInt_x'] = [int(x[1:3]) for x in df_19_tourney['Seed_x']]\n",
    "df_19_tourney['SeedInt_y'] = [int(x[1:3]) for x in df_19_tourney['Seed_y']]\n",
    "\n",
    "#Make home team lower seed (consistent with training data)\n",
    "df_19_tourney.loc[df_19_tourney['SeedInt_x']<df_19_tourney['SeedInt_y'], 'HTeamID'] = df_19_tourney['TeamID_x']\n",
    "df_19_tourney.loc[df_19_tourney['SeedInt_x']>df_19_tourney['SeedInt_y'], 'HTeamID'] = df_19_tourney['TeamID_y']\n",
    "df_19_tourney.loc[df_19_tourney['SeedInt_x']<df_19_tourney['SeedInt_y'], 'RTeamID'] = df_19_tourney['TeamID_y']\n",
    "df_19_tourney.loc[df_19_tourney['SeedInt_x']>df_19_tourney['SeedInt_y'], 'RTeamID'] = df_19_tourney['TeamID_x']\n",
    "df_19_tourney.loc[df_19_tourney['SeedInt_x']==df_19_tourney['SeedInt_y'], 'HTeamID'] = df_19_tourney['TeamID_x']\n",
    "df_19_tourney.loc[df_19_tourney['SeedInt_x']==df_19_tourney['SeedInt_y'], 'RTeamID'] = df_19_tourney['TeamID_y']\n",
    "\n",
    "df_19_tourney.loc[df_19_tourney['SeedInt_x']<df_19_tourney['SeedInt_y'], 'HSeed'] = df_19_tourney['SeedInt_x']\n",
    "df_19_tourney.loc[df_19_tourney['SeedInt_x']>df_19_tourney['SeedInt_y'], 'HSeed'] = df_19_tourney['SeedInt_y']\n",
    "df_19_tourney.loc[df_19_tourney['SeedInt_x']<df_19_tourney['SeedInt_y'], 'RSeed'] = df_19_tourney['SeedInt_y']\n",
    "df_19_tourney.loc[df_19_tourney['SeedInt_x']>df_19_tourney['SeedInt_y'], 'RSeed'] = df_19_tourney['SeedInt_x']\n",
    "df_19_tourney.loc[df_19_tourney['SeedInt_x']==df_19_tourney['SeedInt_y'], 'HSeed'] = df_19_tourney['SeedInt_x']\n",
    "df_19_tourney.loc[df_19_tourney['SeedInt_x']==df_19_tourney['SeedInt_y'], 'RSeed'] = df_19_tourney['SeedInt_y']\n",
    "\n",
    "df_19_tourney['is_tourney'] = 1\n",
    "\n",
    "df_19_tourney = df_19_tourney.drop(['Seed_x','Seed_y','TeamID_x','TeamID_y','SeedInt_x','SeedInt_y'], axis=1)\n",
    "df_19_tourney.sort_index()"
   ]
  },
  {
   "cell_type": "code",
   "execution_count": 366,
   "metadata": {},
   "outputs": [],
   "source": [
    "home_road = ['H','R']\n",
    "for hr in home_road:\n",
    "    df_19_tourney = pd.merge(df_19_tourney, regseason_df, left_on=['Season',hr+'TeamID'], right_on = ['Season','TeamID'], how='left')\n",
    "    df_19_tourney.rename(columns={'wins_top25': hr+'wins_top25'}, inplace=True)\n",
    "    df_19_tourney.rename(columns={'PointMargin': hr+'PointMargin'}, inplace=True)\n",
    "    df_19_tourney.rename(columns={'FG': hr+'FG'}, inplace=True)\n",
    "    df_19_tourney.rename(columns={'FG3': hr+'FG3'}, inplace=True)\n",
    "    df_19_tourney = df_19_tourney.drop(['TeamID'], axis=1)"
   ]
  },
  {
   "cell_type": "code",
   "execution_count": 367,
   "metadata": {},
   "outputs": [
    {
     "output_type": "execute_result",
     "data": {
      "text/plain": [
       "       Season              ID  HTeamID  RTeamID  HSeed  RSeed  is_tourney  \\\n",
       "0        2015  2015_1437_1438   1437.0   1438.0    1.0    2.0           1   \n",
       "1        2015  2015_1437_1461   1437.0   1461.0    1.0   12.0           1   \n",
       "2        2015  2015_1437_1452   1437.0   1452.0    1.0    5.0           1   \n",
       "3        2015  2015_1437_1455   1437.0   1455.0    1.0    7.0           1   \n",
       "4        2015  2015_1437_1458   1437.0   1458.0    1.0    1.0           1   \n",
       "...       ...             ...      ...      ...    ...    ...         ...   \n",
       "11385    2019  2019_1205_1234   1234.0   1205.0   10.0   16.0           1   \n",
       "11386    2019  2019_1205_1388   1388.0   1205.0   11.0   16.0           1   \n",
       "11387    2019  2019_1205_1332   1332.0   1205.0   12.0   16.0           1   \n",
       "11388    2019  2019_1205_1414   1414.0   1205.0   13.0   16.0           1   \n",
       "11389    2019  2019_1205_1330   1330.0   1205.0   14.0   16.0           1   \n",
       "\n",
       "       Hwins_top25  HPointMargin       HFG      HFG3  Rwins_top25  \\\n",
       "0                3     15.382353  0.470578  0.386226            3   \n",
       "1                3     15.382353  0.470578  0.386226            0   \n",
       "2                3     15.382353  0.470578  0.386226            3   \n",
       "3                3     15.382353  0.470578  0.386226            1   \n",
       "4                3     15.382353  0.470578  0.386226            7   \n",
       "...            ...           ...       ...       ...          ...   \n",
       "11385            2      4.666667  0.455846  0.358046            0   \n",
       "11386            1      8.545455  0.475913  0.377759            0   \n",
       "11387            0      7.542857  0.452262  0.348826            0   \n",
       "11388            0      8.852941  0.456285  0.358201            0   \n",
       "11389            0      5.323529  0.411639  0.354444            0   \n",
       "\n",
       "       RPointMargin       RFG      RFG3  \n",
       "0         14.593750  0.465041  0.365095  \n",
       "1          4.500000  0.459152  0.323069  \n",
       "2          7.093750  0.412337  0.324571  \n",
       "3         12.806452  0.445620  0.349481  \n",
       "4         15.764706  0.479012  0.357805  \n",
       "...             ...       ...       ...  \n",
       "11385      2.354839  0.477831  0.381009  \n",
       "11386      2.354839  0.477831  0.381009  \n",
       "11387      2.354839  0.477831  0.381009  \n",
       "11388      2.354839  0.477831  0.381009  \n",
       "11389      2.354839  0.477831  0.381009  \n",
       "\n",
       "[11390 rows x 15 columns]"
      ],
      "text/html": "<div>\n<style scoped>\n    .dataframe tbody tr th:only-of-type {\n        vertical-align: middle;\n    }\n\n    .dataframe tbody tr th {\n        vertical-align: top;\n    }\n\n    .dataframe thead th {\n        text-align: right;\n    }\n</style>\n<table border=\"1\" class=\"dataframe\">\n  <thead>\n    <tr style=\"text-align: right;\">\n      <th></th>\n      <th>Season</th>\n      <th>ID</th>\n      <th>HTeamID</th>\n      <th>RTeamID</th>\n      <th>HSeed</th>\n      <th>RSeed</th>\n      <th>is_tourney</th>\n      <th>Hwins_top25</th>\n      <th>HPointMargin</th>\n      <th>HFG</th>\n      <th>HFG3</th>\n      <th>Rwins_top25</th>\n      <th>RPointMargin</th>\n      <th>RFG</th>\n      <th>RFG3</th>\n    </tr>\n  </thead>\n  <tbody>\n    <tr>\n      <th>0</th>\n      <td>2015</td>\n      <td>2015_1437_1438</td>\n      <td>1437.0</td>\n      <td>1438.0</td>\n      <td>1.0</td>\n      <td>2.0</td>\n      <td>1</td>\n      <td>3</td>\n      <td>15.382353</td>\n      <td>0.470578</td>\n      <td>0.386226</td>\n      <td>3</td>\n      <td>14.593750</td>\n      <td>0.465041</td>\n      <td>0.365095</td>\n    </tr>\n    <tr>\n      <th>1</th>\n      <td>2015</td>\n      <td>2015_1437_1461</td>\n      <td>1437.0</td>\n      <td>1461.0</td>\n      <td>1.0</td>\n      <td>12.0</td>\n      <td>1</td>\n      <td>3</td>\n      <td>15.382353</td>\n      <td>0.470578</td>\n      <td>0.386226</td>\n      <td>0</td>\n      <td>4.500000</td>\n      <td>0.459152</td>\n      <td>0.323069</td>\n    </tr>\n    <tr>\n      <th>2</th>\n      <td>2015</td>\n      <td>2015_1437_1452</td>\n      <td>1437.0</td>\n      <td>1452.0</td>\n      <td>1.0</td>\n      <td>5.0</td>\n      <td>1</td>\n      <td>3</td>\n      <td>15.382353</td>\n      <td>0.470578</td>\n      <td>0.386226</td>\n      <td>3</td>\n      <td>7.093750</td>\n      <td>0.412337</td>\n      <td>0.324571</td>\n    </tr>\n    <tr>\n      <th>3</th>\n      <td>2015</td>\n      <td>2015_1437_1455</td>\n      <td>1437.0</td>\n      <td>1455.0</td>\n      <td>1.0</td>\n      <td>7.0</td>\n      <td>1</td>\n      <td>3</td>\n      <td>15.382353</td>\n      <td>0.470578</td>\n      <td>0.386226</td>\n      <td>1</td>\n      <td>12.806452</td>\n      <td>0.445620</td>\n      <td>0.349481</td>\n    </tr>\n    <tr>\n      <th>4</th>\n      <td>2015</td>\n      <td>2015_1437_1458</td>\n      <td>1437.0</td>\n      <td>1458.0</td>\n      <td>1.0</td>\n      <td>1.0</td>\n      <td>1</td>\n      <td>3</td>\n      <td>15.382353</td>\n      <td>0.470578</td>\n      <td>0.386226</td>\n      <td>7</td>\n      <td>15.764706</td>\n      <td>0.479012</td>\n      <td>0.357805</td>\n    </tr>\n    <tr>\n      <th>...</th>\n      <td>...</td>\n      <td>...</td>\n      <td>...</td>\n      <td>...</td>\n      <td>...</td>\n      <td>...</td>\n      <td>...</td>\n      <td>...</td>\n      <td>...</td>\n      <td>...</td>\n      <td>...</td>\n      <td>...</td>\n      <td>...</td>\n      <td>...</td>\n      <td>...</td>\n    </tr>\n    <tr>\n      <th>11385</th>\n      <td>2019</td>\n      <td>2019_1205_1234</td>\n      <td>1234.0</td>\n      <td>1205.0</td>\n      <td>10.0</td>\n      <td>16.0</td>\n      <td>1</td>\n      <td>2</td>\n      <td>4.666667</td>\n      <td>0.455846</td>\n      <td>0.358046</td>\n      <td>0</td>\n      <td>2.354839</td>\n      <td>0.477831</td>\n      <td>0.381009</td>\n    </tr>\n    <tr>\n      <th>11386</th>\n      <td>2019</td>\n      <td>2019_1205_1388</td>\n      <td>1388.0</td>\n      <td>1205.0</td>\n      <td>11.0</td>\n      <td>16.0</td>\n      <td>1</td>\n      <td>1</td>\n      <td>8.545455</td>\n      <td>0.475913</td>\n      <td>0.377759</td>\n      <td>0</td>\n      <td>2.354839</td>\n      <td>0.477831</td>\n      <td>0.381009</td>\n    </tr>\n    <tr>\n      <th>11387</th>\n      <td>2019</td>\n      <td>2019_1205_1332</td>\n      <td>1332.0</td>\n      <td>1205.0</td>\n      <td>12.0</td>\n      <td>16.0</td>\n      <td>1</td>\n      <td>0</td>\n      <td>7.542857</td>\n      <td>0.452262</td>\n      <td>0.348826</td>\n      <td>0</td>\n      <td>2.354839</td>\n      <td>0.477831</td>\n      <td>0.381009</td>\n    </tr>\n    <tr>\n      <th>11388</th>\n      <td>2019</td>\n      <td>2019_1205_1414</td>\n      <td>1414.0</td>\n      <td>1205.0</td>\n      <td>13.0</td>\n      <td>16.0</td>\n      <td>1</td>\n      <td>0</td>\n      <td>8.852941</td>\n      <td>0.456285</td>\n      <td>0.358201</td>\n      <td>0</td>\n      <td>2.354839</td>\n      <td>0.477831</td>\n      <td>0.381009</td>\n    </tr>\n    <tr>\n      <th>11389</th>\n      <td>2019</td>\n      <td>2019_1205_1330</td>\n      <td>1330.0</td>\n      <td>1205.0</td>\n      <td>14.0</td>\n      <td>16.0</td>\n      <td>1</td>\n      <td>0</td>\n      <td>5.323529</td>\n      <td>0.411639</td>\n      <td>0.354444</td>\n      <td>0</td>\n      <td>2.354839</td>\n      <td>0.477831</td>\n      <td>0.381009</td>\n    </tr>\n  </tbody>\n</table>\n<p>11390 rows × 15 columns</p>\n</div>"
     },
     "metadata": {},
     "execution_count": 367
    }
   ],
   "source": [
    "df_19_tourney.sort_index()"
   ]
  },
  {
   "cell_type": "code",
   "execution_count": 368,
   "metadata": {},
   "outputs": [],
   "source": [
    "for hr in home_road:\n",
    "    df_19_tourney = pd.merge(df_19_tourney, POM_end_df, left_on=['Season',hr+'TeamID'], right_on = ['Season','TeamID'], how='left')\n",
    "    df_19_tourney.rename(columns={'RankPOM': hr+'RankPOM'}, inplace=True)\n",
    "    df_19_tourney = df_19_tourney.drop(['TeamID'], axis=1)"
   ]
  },
  {
   "cell_type": "code",
   "execution_count": 369,
   "metadata": {},
   "outputs": [
    {
     "output_type": "execute_result",
     "data": {
      "text/plain": [
       "       Season              ID  HTeamID  RTeamID  HSeed  RSeed  is_tourney  \\\n",
       "0        2015  2015_1437_1438   1437.0   1438.0    1.0    2.0           1   \n",
       "1        2015  2015_1437_1461   1437.0   1461.0    1.0   12.0           1   \n",
       "2        2015  2015_1437_1452   1437.0   1452.0    1.0    5.0           1   \n",
       "3        2015  2015_1437_1455   1437.0   1455.0    1.0    7.0           1   \n",
       "4        2015  2015_1437_1458   1437.0   1458.0    1.0    1.0           1   \n",
       "...       ...             ...      ...      ...    ...    ...         ...   \n",
       "11385    2019  2019_1205_1234   1234.0   1205.0   10.0   16.0           1   \n",
       "11386    2019  2019_1205_1388   1388.0   1205.0   11.0   16.0           1   \n",
       "11387    2019  2019_1205_1332   1332.0   1205.0   12.0   16.0           1   \n",
       "11388    2019  2019_1205_1414   1414.0   1205.0   13.0   16.0           1   \n",
       "11389    2019  2019_1205_1330   1330.0   1205.0   14.0   16.0           1   \n",
       "\n",
       "       Hwins_top25  HPointMargin       HFG      HFG3  Rwins_top25  \\\n",
       "0                3     15.382353  0.470578  0.386226            3   \n",
       "1                3     15.382353  0.470578  0.386226            0   \n",
       "2                3     15.382353  0.470578  0.386226            3   \n",
       "3                3     15.382353  0.470578  0.386226            1   \n",
       "4                3     15.382353  0.470578  0.386226            7   \n",
       "...            ...           ...       ...       ...          ...   \n",
       "11385            2      4.666667  0.455846  0.358046            0   \n",
       "11386            1      8.545455  0.475913  0.377759            0   \n",
       "11387            0      7.542857  0.452262  0.348826            0   \n",
       "11388            0      8.852941  0.456285  0.358201            0   \n",
       "11389            0      5.323529  0.411639  0.354444            0   \n",
       "\n",
       "       RPointMargin       RFG      RFG3  HRankPOM  RRankPOM  \n",
       "0         14.593750  0.465041  0.365095         5         4  \n",
       "1          4.500000  0.459152  0.323069         5       102  \n",
       "2          7.093750  0.412337  0.324571         5        25  \n",
       "3         12.806452  0.445620  0.349481         5        14  \n",
       "4         15.764706  0.479012  0.357805         5         3  \n",
       "...             ...       ...       ...       ...       ...  \n",
       "11385      2.354839  0.477831  0.381009        36       167  \n",
       "11386      2.354839  0.477831  0.381009        31       167  \n",
       "11387      2.354839  0.477831  0.381009        43       167  \n",
       "11388      2.354839  0.477831  0.381009        75       167  \n",
       "11389      2.354839  0.477831  0.381009       112       167  \n",
       "\n",
       "[11390 rows x 17 columns]"
      ],
      "text/html": "<div>\n<style scoped>\n    .dataframe tbody tr th:only-of-type {\n        vertical-align: middle;\n    }\n\n    .dataframe tbody tr th {\n        vertical-align: top;\n    }\n\n    .dataframe thead th {\n        text-align: right;\n    }\n</style>\n<table border=\"1\" class=\"dataframe\">\n  <thead>\n    <tr style=\"text-align: right;\">\n      <th></th>\n      <th>Season</th>\n      <th>ID</th>\n      <th>HTeamID</th>\n      <th>RTeamID</th>\n      <th>HSeed</th>\n      <th>RSeed</th>\n      <th>is_tourney</th>\n      <th>Hwins_top25</th>\n      <th>HPointMargin</th>\n      <th>HFG</th>\n      <th>HFG3</th>\n      <th>Rwins_top25</th>\n      <th>RPointMargin</th>\n      <th>RFG</th>\n      <th>RFG3</th>\n      <th>HRankPOM</th>\n      <th>RRankPOM</th>\n    </tr>\n  </thead>\n  <tbody>\n    <tr>\n      <th>0</th>\n      <td>2015</td>\n      <td>2015_1437_1438</td>\n      <td>1437.0</td>\n      <td>1438.0</td>\n      <td>1.0</td>\n      <td>2.0</td>\n      <td>1</td>\n      <td>3</td>\n      <td>15.382353</td>\n      <td>0.470578</td>\n      <td>0.386226</td>\n      <td>3</td>\n      <td>14.593750</td>\n      <td>0.465041</td>\n      <td>0.365095</td>\n      <td>5</td>\n      <td>4</td>\n    </tr>\n    <tr>\n      <th>1</th>\n      <td>2015</td>\n      <td>2015_1437_1461</td>\n      <td>1437.0</td>\n      <td>1461.0</td>\n      <td>1.0</td>\n      <td>12.0</td>\n      <td>1</td>\n      <td>3</td>\n      <td>15.382353</td>\n      <td>0.470578</td>\n      <td>0.386226</td>\n      <td>0</td>\n      <td>4.500000</td>\n      <td>0.459152</td>\n      <td>0.323069</td>\n      <td>5</td>\n      <td>102</td>\n    </tr>\n    <tr>\n      <th>2</th>\n      <td>2015</td>\n      <td>2015_1437_1452</td>\n      <td>1437.0</td>\n      <td>1452.0</td>\n      <td>1.0</td>\n      <td>5.0</td>\n      <td>1</td>\n      <td>3</td>\n      <td>15.382353</td>\n      <td>0.470578</td>\n      <td>0.386226</td>\n      <td>3</td>\n      <td>7.093750</td>\n      <td>0.412337</td>\n      <td>0.324571</td>\n      <td>5</td>\n      <td>25</td>\n    </tr>\n    <tr>\n      <th>3</th>\n      <td>2015</td>\n      <td>2015_1437_1455</td>\n      <td>1437.0</td>\n      <td>1455.0</td>\n      <td>1.0</td>\n      <td>7.0</td>\n      <td>1</td>\n      <td>3</td>\n      <td>15.382353</td>\n      <td>0.470578</td>\n      <td>0.386226</td>\n      <td>1</td>\n      <td>12.806452</td>\n      <td>0.445620</td>\n      <td>0.349481</td>\n      <td>5</td>\n      <td>14</td>\n    </tr>\n    <tr>\n      <th>4</th>\n      <td>2015</td>\n      <td>2015_1437_1458</td>\n      <td>1437.0</td>\n      <td>1458.0</td>\n      <td>1.0</td>\n      <td>1.0</td>\n      <td>1</td>\n      <td>3</td>\n      <td>15.382353</td>\n      <td>0.470578</td>\n      <td>0.386226</td>\n      <td>7</td>\n      <td>15.764706</td>\n      <td>0.479012</td>\n      <td>0.357805</td>\n      <td>5</td>\n      <td>3</td>\n    </tr>\n    <tr>\n      <th>...</th>\n      <td>...</td>\n      <td>...</td>\n      <td>...</td>\n      <td>...</td>\n      <td>...</td>\n      <td>...</td>\n      <td>...</td>\n      <td>...</td>\n      <td>...</td>\n      <td>...</td>\n      <td>...</td>\n      <td>...</td>\n      <td>...</td>\n      <td>...</td>\n      <td>...</td>\n      <td>...</td>\n      <td>...</td>\n    </tr>\n    <tr>\n      <th>11385</th>\n      <td>2019</td>\n      <td>2019_1205_1234</td>\n      <td>1234.0</td>\n      <td>1205.0</td>\n      <td>10.0</td>\n      <td>16.0</td>\n      <td>1</td>\n      <td>2</td>\n      <td>4.666667</td>\n      <td>0.455846</td>\n      <td>0.358046</td>\n      <td>0</td>\n      <td>2.354839</td>\n      <td>0.477831</td>\n      <td>0.381009</td>\n      <td>36</td>\n      <td>167</td>\n    </tr>\n    <tr>\n      <th>11386</th>\n      <td>2019</td>\n      <td>2019_1205_1388</td>\n      <td>1388.0</td>\n      <td>1205.0</td>\n      <td>11.0</td>\n      <td>16.0</td>\n      <td>1</td>\n      <td>1</td>\n      <td>8.545455</td>\n      <td>0.475913</td>\n      <td>0.377759</td>\n      <td>0</td>\n      <td>2.354839</td>\n      <td>0.477831</td>\n      <td>0.381009</td>\n      <td>31</td>\n      <td>167</td>\n    </tr>\n    <tr>\n      <th>11387</th>\n      <td>2019</td>\n      <td>2019_1205_1332</td>\n      <td>1332.0</td>\n      <td>1205.0</td>\n      <td>12.0</td>\n      <td>16.0</td>\n      <td>1</td>\n      <td>0</td>\n      <td>7.542857</td>\n      <td>0.452262</td>\n      <td>0.348826</td>\n      <td>0</td>\n      <td>2.354839</td>\n      <td>0.477831</td>\n      <td>0.381009</td>\n      <td>43</td>\n      <td>167</td>\n    </tr>\n    <tr>\n      <th>11388</th>\n      <td>2019</td>\n      <td>2019_1205_1414</td>\n      <td>1414.0</td>\n      <td>1205.0</td>\n      <td>13.0</td>\n      <td>16.0</td>\n      <td>1</td>\n      <td>0</td>\n      <td>8.852941</td>\n      <td>0.456285</td>\n      <td>0.358201</td>\n      <td>0</td>\n      <td>2.354839</td>\n      <td>0.477831</td>\n      <td>0.381009</td>\n      <td>75</td>\n      <td>167</td>\n    </tr>\n    <tr>\n      <th>11389</th>\n      <td>2019</td>\n      <td>2019_1205_1330</td>\n      <td>1330.0</td>\n      <td>1205.0</td>\n      <td>14.0</td>\n      <td>16.0</td>\n      <td>1</td>\n      <td>0</td>\n      <td>5.323529</td>\n      <td>0.411639</td>\n      <td>0.354444</td>\n      <td>0</td>\n      <td>2.354839</td>\n      <td>0.477831</td>\n      <td>0.381009</td>\n      <td>112</td>\n      <td>167</td>\n    </tr>\n  </tbody>\n</table>\n<p>11390 rows × 17 columns</p>\n</div>"
     },
     "metadata": {},
     "execution_count": 369
    }
   ],
   "source": [
    "df_19_tourney.sort_index()"
   ]
  },
  {
   "cell_type": "code",
   "execution_count": 370,
   "metadata": {},
   "outputs": [],
   "source": [
    "efficiency_list = ['conf','adjem','adjo','adjd','luck', 'TeamID']\n",
    "for hr in home_road:\n",
    "    df_19_tourney = pd.merge(df_19_tourney, kp_df, left_on=[hr+'TeamID','Season'], right_on = ['TeamID','Season'], how='left')\n",
    "    df_19_tourney = df_19_tourney.drop(['TeamID'], axis=1)\n",
    "    for metric in efficiency_list:\n",
    "        df_19_tourney.rename(columns={metric: hr+metric}, inplace=True)\n",
    "    if hr == 'H':\n",
    "        df_19_tourney.rename(columns={'team': 'home'}, inplace=True)\n",
    "    if hr == 'R':\n",
    "        df_19_tourney.rename(columns={'team': 'road'}, inplace=True)"
   ]
  },
  {
   "cell_type": "code",
   "execution_count": 371,
   "metadata": {},
   "outputs": [
    {
     "output_type": "execute_result",
     "data": {
      "text/plain": [
       "       Season              ID  HTeamID  RTeamID  HSeed  RSeed  is_tourney  \\\n",
       "0        2015  2015_1437_1438   1437.0   1438.0    1.0    2.0           1   \n",
       "1        2015  2015_1437_1461   1437.0   1461.0    1.0   12.0           1   \n",
       "2        2015  2015_1437_1452   1437.0   1452.0    1.0    5.0           1   \n",
       "3        2015  2015_1437_1455   1437.0   1455.0    1.0    7.0           1   \n",
       "4        2015  2015_1437_1458   1437.0   1458.0    1.0    1.0           1   \n",
       "...       ...             ...      ...      ...    ...    ...         ...   \n",
       "11385    2019  2019_1205_1234   1234.0   1205.0   10.0   16.0           1   \n",
       "11386    2019  2019_1205_1388   1388.0   1205.0   11.0   16.0           1   \n",
       "11387    2019  2019_1205_1332   1332.0   1205.0   12.0   16.0           1   \n",
       "11388    2019  2019_1205_1414   1414.0   1205.0   13.0   16.0           1   \n",
       "11389    2019  2019_1205_1330   1330.0   1205.0   14.0   16.0           1   \n",
       "\n",
       "       Hwins_top25  HPointMargin       HFG      HFG3  Rwins_top25  \\\n",
       "0                3     15.382353  0.470578  0.386226            3   \n",
       "1                3     15.382353  0.470578  0.386226            0   \n",
       "2                3     15.382353  0.470578  0.386226            3   \n",
       "3                3     15.382353  0.470578  0.386226            1   \n",
       "4                3     15.382353  0.470578  0.386226            7   \n",
       "...            ...           ...       ...       ...          ...   \n",
       "11385            2      4.666667  0.455846  0.358046            0   \n",
       "11386            1      8.545455  0.475913  0.377759            0   \n",
       "11387            0      7.542857  0.452262  0.348826            0   \n",
       "11388            0      8.852941  0.456285  0.358201            0   \n",
       "11389            0      5.323529  0.411639  0.354444            0   \n",
       "\n",
       "       RPointMargin       RFG      RFG3  HRankPOM  RRankPOM          home  \\\n",
       "0         14.593750  0.465041  0.365095         5         4     villanova   \n",
       "1          4.500000  0.459152  0.323069         5       102     villanova   \n",
       "2          7.093750  0.412337  0.324571         5        25     villanova   \n",
       "3         12.806452  0.445620  0.349481         5        14     villanova   \n",
       "4         15.764706  0.479012  0.357805         5         3     villanova   \n",
       "...             ...       ...       ...       ...       ...           ...   \n",
       "11385      2.354839  0.477831  0.381009        36       167          iowa   \n",
       "11386      2.354839  0.477831  0.381009        31       167  saint mary's   \n",
       "11387      2.354839  0.477831  0.381009        43       167        oregon   \n",
       "11388      2.354839  0.477831  0.381009        75       167     uc irvine   \n",
       "11389      2.354839  0.477831  0.381009       112       167  old dominion   \n",
       "\n",
       "      Hconf  Hadjem  Hadjo  Hadjd  Hluck           road Rconf  Radjem  Radjo  \\\n",
       "0        BE   30.65  122.7   92.0  0.031       virginia   ACC   30.06  115.6   \n",
       "1        BE   30.65  122.7   92.0  0.031        wyoming   MWC    5.67  104.8   \n",
       "2        BE   30.65  122.7   92.0  0.031  west virginia   B12   17.64  112.6   \n",
       "3        BE   30.65  122.7   92.0  0.031    wichita st.   MVC   22.21  115.8   \n",
       "4        BE   30.65  122.7   92.0  0.031      wisconsin   B10   33.72  129.0   \n",
       "...     ...     ...    ...    ...    ...            ...   ...     ...    ...   \n",
       "11385   B10   15.96  117.2  101.2  0.057   gardner webb  BSth   -0.74  107.5   \n",
       "11386   WCC   17.71  114.6   96.9 -0.033   gardner webb  BSth   -0.74  107.5   \n",
       "11387   P12   15.15  107.7   92.5 -0.039   gardner webb  BSth   -0.74  107.5   \n",
       "11388    BW    9.46  106.6   97.1  0.097   gardner webb  BSth   -0.74  107.5   \n",
       "11389  CUSA    5.58  101.9   96.4  0.055   gardner webb  BSth   -0.74  107.5   \n",
       "\n",
       "       Radjd  Rluck  \n",
       "0       85.5  0.023  \n",
       "1       99.1  0.083  \n",
       "2       94.9  0.087  \n",
       "3       93.6  0.022  \n",
       "4       95.2  0.015  \n",
       "...      ...    ...  \n",
       "11385  108.2  0.070  \n",
       "11386  108.2  0.070  \n",
       "11387  108.2  0.070  \n",
       "11388  108.2  0.070  \n",
       "11389  108.2  0.070  \n",
       "\n",
       "[11390 rows x 29 columns]"
      ],
      "text/html": "<div>\n<style scoped>\n    .dataframe tbody tr th:only-of-type {\n        vertical-align: middle;\n    }\n\n    .dataframe tbody tr th {\n        vertical-align: top;\n    }\n\n    .dataframe thead th {\n        text-align: right;\n    }\n</style>\n<table border=\"1\" class=\"dataframe\">\n  <thead>\n    <tr style=\"text-align: right;\">\n      <th></th>\n      <th>Season</th>\n      <th>ID</th>\n      <th>HTeamID</th>\n      <th>RTeamID</th>\n      <th>HSeed</th>\n      <th>RSeed</th>\n      <th>is_tourney</th>\n      <th>Hwins_top25</th>\n      <th>HPointMargin</th>\n      <th>HFG</th>\n      <th>HFG3</th>\n      <th>Rwins_top25</th>\n      <th>RPointMargin</th>\n      <th>RFG</th>\n      <th>RFG3</th>\n      <th>HRankPOM</th>\n      <th>RRankPOM</th>\n      <th>home</th>\n      <th>Hconf</th>\n      <th>Hadjem</th>\n      <th>Hadjo</th>\n      <th>Hadjd</th>\n      <th>Hluck</th>\n      <th>road</th>\n      <th>Rconf</th>\n      <th>Radjem</th>\n      <th>Radjo</th>\n      <th>Radjd</th>\n      <th>Rluck</th>\n    </tr>\n  </thead>\n  <tbody>\n    <tr>\n      <th>0</th>\n      <td>2015</td>\n      <td>2015_1437_1438</td>\n      <td>1437.0</td>\n      <td>1438.0</td>\n      <td>1.0</td>\n      <td>2.0</td>\n      <td>1</td>\n      <td>3</td>\n      <td>15.382353</td>\n      <td>0.470578</td>\n      <td>0.386226</td>\n      <td>3</td>\n      <td>14.593750</td>\n      <td>0.465041</td>\n      <td>0.365095</td>\n      <td>5</td>\n      <td>4</td>\n      <td>villanova</td>\n      <td>BE</td>\n      <td>30.65</td>\n      <td>122.7</td>\n      <td>92.0</td>\n      <td>0.031</td>\n      <td>virginia</td>\n      <td>ACC</td>\n      <td>30.06</td>\n      <td>115.6</td>\n      <td>85.5</td>\n      <td>0.023</td>\n    </tr>\n    <tr>\n      <th>1</th>\n      <td>2015</td>\n      <td>2015_1437_1461</td>\n      <td>1437.0</td>\n      <td>1461.0</td>\n      <td>1.0</td>\n      <td>12.0</td>\n      <td>1</td>\n      <td>3</td>\n      <td>15.382353</td>\n      <td>0.470578</td>\n      <td>0.386226</td>\n      <td>0</td>\n      <td>4.500000</td>\n      <td>0.459152</td>\n      <td>0.323069</td>\n      <td>5</td>\n      <td>102</td>\n      <td>villanova</td>\n      <td>BE</td>\n      <td>30.65</td>\n      <td>122.7</td>\n      <td>92.0</td>\n      <td>0.031</td>\n      <td>wyoming</td>\n      <td>MWC</td>\n      <td>5.67</td>\n      <td>104.8</td>\n      <td>99.1</td>\n      <td>0.083</td>\n    </tr>\n    <tr>\n      <th>2</th>\n      <td>2015</td>\n      <td>2015_1437_1452</td>\n      <td>1437.0</td>\n      <td>1452.0</td>\n      <td>1.0</td>\n      <td>5.0</td>\n      <td>1</td>\n      <td>3</td>\n      <td>15.382353</td>\n      <td>0.470578</td>\n      <td>0.386226</td>\n      <td>3</td>\n      <td>7.093750</td>\n      <td>0.412337</td>\n      <td>0.324571</td>\n      <td>5</td>\n      <td>25</td>\n      <td>villanova</td>\n      <td>BE</td>\n      <td>30.65</td>\n      <td>122.7</td>\n      <td>92.0</td>\n      <td>0.031</td>\n      <td>west virginia</td>\n      <td>B12</td>\n      <td>17.64</td>\n      <td>112.6</td>\n      <td>94.9</td>\n      <td>0.087</td>\n    </tr>\n    <tr>\n      <th>3</th>\n      <td>2015</td>\n      <td>2015_1437_1455</td>\n      <td>1437.0</td>\n      <td>1455.0</td>\n      <td>1.0</td>\n      <td>7.0</td>\n      <td>1</td>\n      <td>3</td>\n      <td>15.382353</td>\n      <td>0.470578</td>\n      <td>0.386226</td>\n      <td>1</td>\n      <td>12.806452</td>\n      <td>0.445620</td>\n      <td>0.349481</td>\n      <td>5</td>\n      <td>14</td>\n      <td>villanova</td>\n      <td>BE</td>\n      <td>30.65</td>\n      <td>122.7</td>\n      <td>92.0</td>\n      <td>0.031</td>\n      <td>wichita st.</td>\n      <td>MVC</td>\n      <td>22.21</td>\n      <td>115.8</td>\n      <td>93.6</td>\n      <td>0.022</td>\n    </tr>\n    <tr>\n      <th>4</th>\n      <td>2015</td>\n      <td>2015_1437_1458</td>\n      <td>1437.0</td>\n      <td>1458.0</td>\n      <td>1.0</td>\n      <td>1.0</td>\n      <td>1</td>\n      <td>3</td>\n      <td>15.382353</td>\n      <td>0.470578</td>\n      <td>0.386226</td>\n      <td>7</td>\n      <td>15.764706</td>\n      <td>0.479012</td>\n      <td>0.357805</td>\n      <td>5</td>\n      <td>3</td>\n      <td>villanova</td>\n      <td>BE</td>\n      <td>30.65</td>\n      <td>122.7</td>\n      <td>92.0</td>\n      <td>0.031</td>\n      <td>wisconsin</td>\n      <td>B10</td>\n      <td>33.72</td>\n      <td>129.0</td>\n      <td>95.2</td>\n      <td>0.015</td>\n    </tr>\n    <tr>\n      <th>...</th>\n      <td>...</td>\n      <td>...</td>\n      <td>...</td>\n      <td>...</td>\n      <td>...</td>\n      <td>...</td>\n      <td>...</td>\n      <td>...</td>\n      <td>...</td>\n      <td>...</td>\n      <td>...</td>\n      <td>...</td>\n      <td>...</td>\n      <td>...</td>\n      <td>...</td>\n      <td>...</td>\n      <td>...</td>\n      <td>...</td>\n      <td>...</td>\n      <td>...</td>\n      <td>...</td>\n      <td>...</td>\n      <td>...</td>\n      <td>...</td>\n      <td>...</td>\n      <td>...</td>\n      <td>...</td>\n      <td>...</td>\n      <td>...</td>\n    </tr>\n    <tr>\n      <th>11385</th>\n      <td>2019</td>\n      <td>2019_1205_1234</td>\n      <td>1234.0</td>\n      <td>1205.0</td>\n      <td>10.0</td>\n      <td>16.0</td>\n      <td>1</td>\n      <td>2</td>\n      <td>4.666667</td>\n      <td>0.455846</td>\n      <td>0.358046</td>\n      <td>0</td>\n      <td>2.354839</td>\n      <td>0.477831</td>\n      <td>0.381009</td>\n      <td>36</td>\n      <td>167</td>\n      <td>iowa</td>\n      <td>B10</td>\n      <td>15.96</td>\n      <td>117.2</td>\n      <td>101.2</td>\n      <td>0.057</td>\n      <td>gardner webb</td>\n      <td>BSth</td>\n      <td>-0.74</td>\n      <td>107.5</td>\n      <td>108.2</td>\n      <td>0.070</td>\n    </tr>\n    <tr>\n      <th>11386</th>\n      <td>2019</td>\n      <td>2019_1205_1388</td>\n      <td>1388.0</td>\n      <td>1205.0</td>\n      <td>11.0</td>\n      <td>16.0</td>\n      <td>1</td>\n      <td>1</td>\n      <td>8.545455</td>\n      <td>0.475913</td>\n      <td>0.377759</td>\n      <td>0</td>\n      <td>2.354839</td>\n      <td>0.477831</td>\n      <td>0.381009</td>\n      <td>31</td>\n      <td>167</td>\n      <td>saint mary's</td>\n      <td>WCC</td>\n      <td>17.71</td>\n      <td>114.6</td>\n      <td>96.9</td>\n      <td>-0.033</td>\n      <td>gardner webb</td>\n      <td>BSth</td>\n      <td>-0.74</td>\n      <td>107.5</td>\n      <td>108.2</td>\n      <td>0.070</td>\n    </tr>\n    <tr>\n      <th>11387</th>\n      <td>2019</td>\n      <td>2019_1205_1332</td>\n      <td>1332.0</td>\n      <td>1205.0</td>\n      <td>12.0</td>\n      <td>16.0</td>\n      <td>1</td>\n      <td>0</td>\n      <td>7.542857</td>\n      <td>0.452262</td>\n      <td>0.348826</td>\n      <td>0</td>\n      <td>2.354839</td>\n      <td>0.477831</td>\n      <td>0.381009</td>\n      <td>43</td>\n      <td>167</td>\n      <td>oregon</td>\n      <td>P12</td>\n      <td>15.15</td>\n      <td>107.7</td>\n      <td>92.5</td>\n      <td>-0.039</td>\n      <td>gardner webb</td>\n      <td>BSth</td>\n      <td>-0.74</td>\n      <td>107.5</td>\n      <td>108.2</td>\n      <td>0.070</td>\n    </tr>\n    <tr>\n      <th>11388</th>\n      <td>2019</td>\n      <td>2019_1205_1414</td>\n      <td>1414.0</td>\n      <td>1205.0</td>\n      <td>13.0</td>\n      <td>16.0</td>\n      <td>1</td>\n      <td>0</td>\n      <td>8.852941</td>\n      <td>0.456285</td>\n      <td>0.358201</td>\n      <td>0</td>\n      <td>2.354839</td>\n      <td>0.477831</td>\n      <td>0.381009</td>\n      <td>75</td>\n      <td>167</td>\n      <td>uc irvine</td>\n      <td>BW</td>\n      <td>9.46</td>\n      <td>106.6</td>\n      <td>97.1</td>\n      <td>0.097</td>\n      <td>gardner webb</td>\n      <td>BSth</td>\n      <td>-0.74</td>\n      <td>107.5</td>\n      <td>108.2</td>\n      <td>0.070</td>\n    </tr>\n    <tr>\n      <th>11389</th>\n      <td>2019</td>\n      <td>2019_1205_1330</td>\n      <td>1330.0</td>\n      <td>1205.0</td>\n      <td>14.0</td>\n      <td>16.0</td>\n      <td>1</td>\n      <td>0</td>\n      <td>5.323529</td>\n      <td>0.411639</td>\n      <td>0.354444</td>\n      <td>0</td>\n      <td>2.354839</td>\n      <td>0.477831</td>\n      <td>0.381009</td>\n      <td>112</td>\n      <td>167</td>\n      <td>old dominion</td>\n      <td>CUSA</td>\n      <td>5.58</td>\n      <td>101.9</td>\n      <td>96.4</td>\n      <td>0.055</td>\n      <td>gardner webb</td>\n      <td>BSth</td>\n      <td>-0.74</td>\n      <td>107.5</td>\n      <td>108.2</td>\n      <td>0.070</td>\n    </tr>\n  </tbody>\n</table>\n<p>11390 rows × 29 columns</p>\n</div>"
     },
     "metadata": {},
     "execution_count": 371
    }
   ],
   "source": [
    "df_19_tourney.sort_index()"
   ]
  },
  {
   "cell_type": "code",
   "execution_count": 372,
   "metadata": {},
   "outputs": [],
   "source": [
    "df_19_tourney['Htourny20plus'] = 0\n",
    "df_19_tourney['Rtourny20plus'] = 0\n",
    "\n",
    "experienced_teams = ['kansas','north carolina','kentucky','duke','michigan st.','wisconsin','florida','villanova','gonzaga','louisville','arizona','xavier','connecticut','syracuse','butler','ohio st.','ucla','west virginia','texas','michigan','pittsburgh','memphis','oregon']\n",
    "for team in experienced_teams:\n",
    "    df_19_tourney.loc[df_19_tourney['home']==team, 'Htourny20plus'] = 1\n",
    "    df_19_tourney.loc[df_19_tourney['road']==team, 'Rtourny20plus'] = 1"
   ]
  },
  {
   "cell_type": "code",
   "execution_count": 373,
   "metadata": {},
   "outputs": [
    {
     "output_type": "execute_result",
     "data": {
      "text/plain": [
       "       Season              ID  HTeamID  RTeamID  HSeed  RSeed  is_tourney  \\\n",
       "0        2015  2015_1437_1438   1437.0   1438.0    1.0    2.0           1   \n",
       "1        2015  2015_1437_1461   1437.0   1461.0    1.0   12.0           1   \n",
       "2        2015  2015_1437_1452   1437.0   1452.0    1.0    5.0           1   \n",
       "3        2015  2015_1437_1455   1437.0   1455.0    1.0    7.0           1   \n",
       "4        2015  2015_1437_1458   1437.0   1458.0    1.0    1.0           1   \n",
       "...       ...             ...      ...      ...    ...    ...         ...   \n",
       "11385    2019  2019_1205_1234   1234.0   1205.0   10.0   16.0           1   \n",
       "11386    2019  2019_1205_1388   1388.0   1205.0   11.0   16.0           1   \n",
       "11387    2019  2019_1205_1332   1332.0   1205.0   12.0   16.0           1   \n",
       "11388    2019  2019_1205_1414   1414.0   1205.0   13.0   16.0           1   \n",
       "11389    2019  2019_1205_1330   1330.0   1205.0   14.0   16.0           1   \n",
       "\n",
       "       Hwins_top25  HPointMargin       HFG      HFG3  Rwins_top25  \\\n",
       "0                3     15.382353  0.470578  0.386226            3   \n",
       "1                3     15.382353  0.470578  0.386226            0   \n",
       "2                3     15.382353  0.470578  0.386226            3   \n",
       "3                3     15.382353  0.470578  0.386226            1   \n",
       "4                3     15.382353  0.470578  0.386226            7   \n",
       "...            ...           ...       ...       ...          ...   \n",
       "11385            2      4.666667  0.455846  0.358046            0   \n",
       "11386            1      8.545455  0.475913  0.377759            0   \n",
       "11387            0      7.542857  0.452262  0.348826            0   \n",
       "11388            0      8.852941  0.456285  0.358201            0   \n",
       "11389            0      5.323529  0.411639  0.354444            0   \n",
       "\n",
       "       RPointMargin       RFG      RFG3  HRankPOM  RRankPOM          home  \\\n",
       "0         14.593750  0.465041  0.365095         5         4     villanova   \n",
       "1          4.500000  0.459152  0.323069         5       102     villanova   \n",
       "2          7.093750  0.412337  0.324571         5        25     villanova   \n",
       "3         12.806452  0.445620  0.349481         5        14     villanova   \n",
       "4         15.764706  0.479012  0.357805         5         3     villanova   \n",
       "...             ...       ...       ...       ...       ...           ...   \n",
       "11385      2.354839  0.477831  0.381009        36       167          iowa   \n",
       "11386      2.354839  0.477831  0.381009        31       167  saint mary's   \n",
       "11387      2.354839  0.477831  0.381009        43       167        oregon   \n",
       "11388      2.354839  0.477831  0.381009        75       167     uc irvine   \n",
       "11389      2.354839  0.477831  0.381009       112       167  old dominion   \n",
       "\n",
       "      Hconf  Hadjem  Hadjo  Hadjd  Hluck           road Rconf  Radjem  Radjo  \\\n",
       "0        BE   30.65  122.7   92.0  0.031       virginia   ACC   30.06  115.6   \n",
       "1        BE   30.65  122.7   92.0  0.031        wyoming   MWC    5.67  104.8   \n",
       "2        BE   30.65  122.7   92.0  0.031  west virginia   B12   17.64  112.6   \n",
       "3        BE   30.65  122.7   92.0  0.031    wichita st.   MVC   22.21  115.8   \n",
       "4        BE   30.65  122.7   92.0  0.031      wisconsin   B10   33.72  129.0   \n",
       "...     ...     ...    ...    ...    ...            ...   ...     ...    ...   \n",
       "11385   B10   15.96  117.2  101.2  0.057   gardner webb  BSth   -0.74  107.5   \n",
       "11386   WCC   17.71  114.6   96.9 -0.033   gardner webb  BSth   -0.74  107.5   \n",
       "11387   P12   15.15  107.7   92.5 -0.039   gardner webb  BSth   -0.74  107.5   \n",
       "11388    BW    9.46  106.6   97.1  0.097   gardner webb  BSth   -0.74  107.5   \n",
       "11389  CUSA    5.58  101.9   96.4  0.055   gardner webb  BSth   -0.74  107.5   \n",
       "\n",
       "       Radjd  Rluck  Htourny20plus  Rtourny20plus  \n",
       "0       85.5  0.023              1              0  \n",
       "1       99.1  0.083              1              0  \n",
       "2       94.9  0.087              1              1  \n",
       "3       93.6  0.022              1              0  \n",
       "4       95.2  0.015              1              1  \n",
       "...      ...    ...            ...            ...  \n",
       "11385  108.2  0.070              0              0  \n",
       "11386  108.2  0.070              0              0  \n",
       "11387  108.2  0.070              1              0  \n",
       "11388  108.2  0.070              0              0  \n",
       "11389  108.2  0.070              0              0  \n",
       "\n",
       "[11390 rows x 31 columns]"
      ],
      "text/html": "<div>\n<style scoped>\n    .dataframe tbody tr th:only-of-type {\n        vertical-align: middle;\n    }\n\n    .dataframe tbody tr th {\n        vertical-align: top;\n    }\n\n    .dataframe thead th {\n        text-align: right;\n    }\n</style>\n<table border=\"1\" class=\"dataframe\">\n  <thead>\n    <tr style=\"text-align: right;\">\n      <th></th>\n      <th>Season</th>\n      <th>ID</th>\n      <th>HTeamID</th>\n      <th>RTeamID</th>\n      <th>HSeed</th>\n      <th>RSeed</th>\n      <th>is_tourney</th>\n      <th>Hwins_top25</th>\n      <th>HPointMargin</th>\n      <th>HFG</th>\n      <th>HFG3</th>\n      <th>Rwins_top25</th>\n      <th>RPointMargin</th>\n      <th>RFG</th>\n      <th>RFG3</th>\n      <th>HRankPOM</th>\n      <th>RRankPOM</th>\n      <th>home</th>\n      <th>Hconf</th>\n      <th>Hadjem</th>\n      <th>Hadjo</th>\n      <th>Hadjd</th>\n      <th>Hluck</th>\n      <th>road</th>\n      <th>Rconf</th>\n      <th>Radjem</th>\n      <th>Radjo</th>\n      <th>Radjd</th>\n      <th>Rluck</th>\n      <th>Htourny20plus</th>\n      <th>Rtourny20plus</th>\n    </tr>\n  </thead>\n  <tbody>\n    <tr>\n      <th>0</th>\n      <td>2015</td>\n      <td>2015_1437_1438</td>\n      <td>1437.0</td>\n      <td>1438.0</td>\n      <td>1.0</td>\n      <td>2.0</td>\n      <td>1</td>\n      <td>3</td>\n      <td>15.382353</td>\n      <td>0.470578</td>\n      <td>0.386226</td>\n      <td>3</td>\n      <td>14.593750</td>\n      <td>0.465041</td>\n      <td>0.365095</td>\n      <td>5</td>\n      <td>4</td>\n      <td>villanova</td>\n      <td>BE</td>\n      <td>30.65</td>\n      <td>122.7</td>\n      <td>92.0</td>\n      <td>0.031</td>\n      <td>virginia</td>\n      <td>ACC</td>\n      <td>30.06</td>\n      <td>115.6</td>\n      <td>85.5</td>\n      <td>0.023</td>\n      <td>1</td>\n      <td>0</td>\n    </tr>\n    <tr>\n      <th>1</th>\n      <td>2015</td>\n      <td>2015_1437_1461</td>\n      <td>1437.0</td>\n      <td>1461.0</td>\n      <td>1.0</td>\n      <td>12.0</td>\n      <td>1</td>\n      <td>3</td>\n      <td>15.382353</td>\n      <td>0.470578</td>\n      <td>0.386226</td>\n      <td>0</td>\n      <td>4.500000</td>\n      <td>0.459152</td>\n      <td>0.323069</td>\n      <td>5</td>\n      <td>102</td>\n      <td>villanova</td>\n      <td>BE</td>\n      <td>30.65</td>\n      <td>122.7</td>\n      <td>92.0</td>\n      <td>0.031</td>\n      <td>wyoming</td>\n      <td>MWC</td>\n      <td>5.67</td>\n      <td>104.8</td>\n      <td>99.1</td>\n      <td>0.083</td>\n      <td>1</td>\n      <td>0</td>\n    </tr>\n    <tr>\n      <th>2</th>\n      <td>2015</td>\n      <td>2015_1437_1452</td>\n      <td>1437.0</td>\n      <td>1452.0</td>\n      <td>1.0</td>\n      <td>5.0</td>\n      <td>1</td>\n      <td>3</td>\n      <td>15.382353</td>\n      <td>0.470578</td>\n      <td>0.386226</td>\n      <td>3</td>\n      <td>7.093750</td>\n      <td>0.412337</td>\n      <td>0.324571</td>\n      <td>5</td>\n      <td>25</td>\n      <td>villanova</td>\n      <td>BE</td>\n      <td>30.65</td>\n      <td>122.7</td>\n      <td>92.0</td>\n      <td>0.031</td>\n      <td>west virginia</td>\n      <td>B12</td>\n      <td>17.64</td>\n      <td>112.6</td>\n      <td>94.9</td>\n      <td>0.087</td>\n      <td>1</td>\n      <td>1</td>\n    </tr>\n    <tr>\n      <th>3</th>\n      <td>2015</td>\n      <td>2015_1437_1455</td>\n      <td>1437.0</td>\n      <td>1455.0</td>\n      <td>1.0</td>\n      <td>7.0</td>\n      <td>1</td>\n      <td>3</td>\n      <td>15.382353</td>\n      <td>0.470578</td>\n      <td>0.386226</td>\n      <td>1</td>\n      <td>12.806452</td>\n      <td>0.445620</td>\n      <td>0.349481</td>\n      <td>5</td>\n      <td>14</td>\n      <td>villanova</td>\n      <td>BE</td>\n      <td>30.65</td>\n      <td>122.7</td>\n      <td>92.0</td>\n      <td>0.031</td>\n      <td>wichita st.</td>\n      <td>MVC</td>\n      <td>22.21</td>\n      <td>115.8</td>\n      <td>93.6</td>\n      <td>0.022</td>\n      <td>1</td>\n      <td>0</td>\n    </tr>\n    <tr>\n      <th>4</th>\n      <td>2015</td>\n      <td>2015_1437_1458</td>\n      <td>1437.0</td>\n      <td>1458.0</td>\n      <td>1.0</td>\n      <td>1.0</td>\n      <td>1</td>\n      <td>3</td>\n      <td>15.382353</td>\n      <td>0.470578</td>\n      <td>0.386226</td>\n      <td>7</td>\n      <td>15.764706</td>\n      <td>0.479012</td>\n      <td>0.357805</td>\n      <td>5</td>\n      <td>3</td>\n      <td>villanova</td>\n      <td>BE</td>\n      <td>30.65</td>\n      <td>122.7</td>\n      <td>92.0</td>\n      <td>0.031</td>\n      <td>wisconsin</td>\n      <td>B10</td>\n      <td>33.72</td>\n      <td>129.0</td>\n      <td>95.2</td>\n      <td>0.015</td>\n      <td>1</td>\n      <td>1</td>\n    </tr>\n    <tr>\n      <th>...</th>\n      <td>...</td>\n      <td>...</td>\n      <td>...</td>\n      <td>...</td>\n      <td>...</td>\n      <td>...</td>\n      <td>...</td>\n      <td>...</td>\n      <td>...</td>\n      <td>...</td>\n      <td>...</td>\n      <td>...</td>\n      <td>...</td>\n      <td>...</td>\n      <td>...</td>\n      <td>...</td>\n      <td>...</td>\n      <td>...</td>\n      <td>...</td>\n      <td>...</td>\n      <td>...</td>\n      <td>...</td>\n      <td>...</td>\n      <td>...</td>\n      <td>...</td>\n      <td>...</td>\n      <td>...</td>\n      <td>...</td>\n      <td>...</td>\n      <td>...</td>\n      <td>...</td>\n    </tr>\n    <tr>\n      <th>11385</th>\n      <td>2019</td>\n      <td>2019_1205_1234</td>\n      <td>1234.0</td>\n      <td>1205.0</td>\n      <td>10.0</td>\n      <td>16.0</td>\n      <td>1</td>\n      <td>2</td>\n      <td>4.666667</td>\n      <td>0.455846</td>\n      <td>0.358046</td>\n      <td>0</td>\n      <td>2.354839</td>\n      <td>0.477831</td>\n      <td>0.381009</td>\n      <td>36</td>\n      <td>167</td>\n      <td>iowa</td>\n      <td>B10</td>\n      <td>15.96</td>\n      <td>117.2</td>\n      <td>101.2</td>\n      <td>0.057</td>\n      <td>gardner webb</td>\n      <td>BSth</td>\n      <td>-0.74</td>\n      <td>107.5</td>\n      <td>108.2</td>\n      <td>0.070</td>\n      <td>0</td>\n      <td>0</td>\n    </tr>\n    <tr>\n      <th>11386</th>\n      <td>2019</td>\n      <td>2019_1205_1388</td>\n      <td>1388.0</td>\n      <td>1205.0</td>\n      <td>11.0</td>\n      <td>16.0</td>\n      <td>1</td>\n      <td>1</td>\n      <td>8.545455</td>\n      <td>0.475913</td>\n      <td>0.377759</td>\n      <td>0</td>\n      <td>2.354839</td>\n      <td>0.477831</td>\n      <td>0.381009</td>\n      <td>31</td>\n      <td>167</td>\n      <td>saint mary's</td>\n      <td>WCC</td>\n      <td>17.71</td>\n      <td>114.6</td>\n      <td>96.9</td>\n      <td>-0.033</td>\n      <td>gardner webb</td>\n      <td>BSth</td>\n      <td>-0.74</td>\n      <td>107.5</td>\n      <td>108.2</td>\n      <td>0.070</td>\n      <td>0</td>\n      <td>0</td>\n    </tr>\n    <tr>\n      <th>11387</th>\n      <td>2019</td>\n      <td>2019_1205_1332</td>\n      <td>1332.0</td>\n      <td>1205.0</td>\n      <td>12.0</td>\n      <td>16.0</td>\n      <td>1</td>\n      <td>0</td>\n      <td>7.542857</td>\n      <td>0.452262</td>\n      <td>0.348826</td>\n      <td>0</td>\n      <td>2.354839</td>\n      <td>0.477831</td>\n      <td>0.381009</td>\n      <td>43</td>\n      <td>167</td>\n      <td>oregon</td>\n      <td>P12</td>\n      <td>15.15</td>\n      <td>107.7</td>\n      <td>92.5</td>\n      <td>-0.039</td>\n      <td>gardner webb</td>\n      <td>BSth</td>\n      <td>-0.74</td>\n      <td>107.5</td>\n      <td>108.2</td>\n      <td>0.070</td>\n      <td>1</td>\n      <td>0</td>\n    </tr>\n    <tr>\n      <th>11388</th>\n      <td>2019</td>\n      <td>2019_1205_1414</td>\n      <td>1414.0</td>\n      <td>1205.0</td>\n      <td>13.0</td>\n      <td>16.0</td>\n      <td>1</td>\n      <td>0</td>\n      <td>8.852941</td>\n      <td>0.456285</td>\n      <td>0.358201</td>\n      <td>0</td>\n      <td>2.354839</td>\n      <td>0.477831</td>\n      <td>0.381009</td>\n      <td>75</td>\n      <td>167</td>\n      <td>uc irvine</td>\n      <td>BW</td>\n      <td>9.46</td>\n      <td>106.6</td>\n      <td>97.1</td>\n      <td>0.097</td>\n      <td>gardner webb</td>\n      <td>BSth</td>\n      <td>-0.74</td>\n      <td>107.5</td>\n      <td>108.2</td>\n      <td>0.070</td>\n      <td>0</td>\n      <td>0</td>\n    </tr>\n    <tr>\n      <th>11389</th>\n      <td>2019</td>\n      <td>2019_1205_1330</td>\n      <td>1330.0</td>\n      <td>1205.0</td>\n      <td>14.0</td>\n      <td>16.0</td>\n      <td>1</td>\n      <td>0</td>\n      <td>5.323529</td>\n      <td>0.411639</td>\n      <td>0.354444</td>\n      <td>0</td>\n      <td>2.354839</td>\n      <td>0.477831</td>\n      <td>0.381009</td>\n      <td>112</td>\n      <td>167</td>\n      <td>old dominion</td>\n      <td>CUSA</td>\n      <td>5.58</td>\n      <td>101.9</td>\n      <td>96.4</td>\n      <td>0.055</td>\n      <td>gardner webb</td>\n      <td>BSth</td>\n      <td>-0.74</td>\n      <td>107.5</td>\n      <td>108.2</td>\n      <td>0.070</td>\n      <td>0</td>\n      <td>0</td>\n    </tr>\n  </tbody>\n</table>\n<p>11390 rows × 31 columns</p>\n</div>"
     },
     "metadata": {},
     "execution_count": 373
    }
   ],
   "source": [
    "df_19_tourney.sort_index()"
   ]
  },
  {
   "cell_type": "code",
   "execution_count": 374,
   "metadata": {},
   "outputs": [],
   "source": [
    "df_19_tourney['HBig4Conf'] = 0\n",
    "df_19_tourney['RBig4Conf'] = 0\n",
    "conferences = ['ACC','B10','B12','SEC']\n",
    "for conf in conferences:\n",
    "    df_19_tourney.loc[df_19_tourney['Hconf']==conf, 'HBig4Conf'] = 1\n",
    "    df_19_tourney.loc[df_19_tourney['Rconf']==conf, 'RBig4Conf'] = 1"
   ]
  },
  {
   "cell_type": "code",
   "execution_count": 375,
   "metadata": {},
   "outputs": [
    {
     "output_type": "execute_result",
     "data": {
      "text/plain": [
       "['Season',\n",
       " 'ID',\n",
       " 'HTeamID',\n",
       " 'RTeamID',\n",
       " 'HSeed',\n",
       " 'RSeed',\n",
       " 'is_tourney',\n",
       " 'Hwins_top25',\n",
       " 'HPointMargin',\n",
       " 'HFG',\n",
       " 'HFG3',\n",
       " 'Rwins_top25',\n",
       " 'RPointMargin',\n",
       " 'RFG',\n",
       " 'RFG3',\n",
       " 'HRankPOM',\n",
       " 'RRankPOM',\n",
       " 'home',\n",
       " 'Hconf',\n",
       " 'Hadjem',\n",
       " 'Hadjo',\n",
       " 'Hadjd',\n",
       " 'Hluck',\n",
       " 'road',\n",
       " 'Rconf',\n",
       " 'Radjem',\n",
       " 'Radjo',\n",
       " 'Radjd',\n",
       " 'Rluck',\n",
       " 'Htourny20plus',\n",
       " 'Rtourny20plus',\n",
       " 'HBig4Conf',\n",
       " 'RBig4Conf']"
      ]
     },
     "metadata": {},
     "execution_count": 375
    }
   ],
   "source": [
    "list(df_19_tourney)"
   ]
  },
  {
   "cell_type": "code",
   "execution_count": 376,
   "metadata": {},
   "outputs": [
    {
     "output_type": "execute_result",
     "data": {
      "text/plain": [
       "       Season              ID  HTeamID  RTeamID  HSeed  RSeed  is_tourney  \\\n",
       "0        2015  2015_1437_1438   1437.0   1438.0    1.0    2.0           1   \n",
       "1        2015  2015_1437_1461   1437.0   1461.0    1.0   12.0           1   \n",
       "2        2015  2015_1437_1452   1437.0   1452.0    1.0    5.0           1   \n",
       "3        2015  2015_1437_1455   1437.0   1455.0    1.0    7.0           1   \n",
       "4        2015  2015_1437_1458   1437.0   1458.0    1.0    1.0           1   \n",
       "...       ...             ...      ...      ...    ...    ...         ...   \n",
       "11385    2019  2019_1205_1234   1234.0   1205.0   10.0   16.0           1   \n",
       "11386    2019  2019_1205_1388   1388.0   1205.0   11.0   16.0           1   \n",
       "11387    2019  2019_1205_1332   1332.0   1205.0   12.0   16.0           1   \n",
       "11388    2019  2019_1205_1414   1414.0   1205.0   13.0   16.0           1   \n",
       "11389    2019  2019_1205_1330   1330.0   1205.0   14.0   16.0           1   \n",
       "\n",
       "       Hwins_top25  HPointMargin       HFG      HFG3  Rwins_top25  \\\n",
       "0                3     15.382353  0.470578  0.386226            3   \n",
       "1                3     15.382353  0.470578  0.386226            0   \n",
       "2                3     15.382353  0.470578  0.386226            3   \n",
       "3                3     15.382353  0.470578  0.386226            1   \n",
       "4                3     15.382353  0.470578  0.386226            7   \n",
       "...            ...           ...       ...       ...          ...   \n",
       "11385            2      4.666667  0.455846  0.358046            0   \n",
       "11386            1      8.545455  0.475913  0.377759            0   \n",
       "11387            0      7.542857  0.452262  0.348826            0   \n",
       "11388            0      8.852941  0.456285  0.358201            0   \n",
       "11389            0      5.323529  0.411639  0.354444            0   \n",
       "\n",
       "       RPointMargin       RFG      RFG3  HRankPOM  RRankPOM          home  \\\n",
       "0         14.593750  0.465041  0.365095         5         4     villanova   \n",
       "1          4.500000  0.459152  0.323069         5       102     villanova   \n",
       "2          7.093750  0.412337  0.324571         5        25     villanova   \n",
       "3         12.806452  0.445620  0.349481         5        14     villanova   \n",
       "4         15.764706  0.479012  0.357805         5         3     villanova   \n",
       "...             ...       ...       ...       ...       ...           ...   \n",
       "11385      2.354839  0.477831  0.381009        36       167          iowa   \n",
       "11386      2.354839  0.477831  0.381009        31       167  saint mary's   \n",
       "11387      2.354839  0.477831  0.381009        43       167        oregon   \n",
       "11388      2.354839  0.477831  0.381009        75       167     uc irvine   \n",
       "11389      2.354839  0.477831  0.381009       112       167  old dominion   \n",
       "\n",
       "      Hconf  Hadjem  Hadjo  Hadjd  Hluck           road Rconf  Radjem  Radjo  \\\n",
       "0        BE   30.65  122.7   92.0  0.031       virginia   ACC   30.06  115.6   \n",
       "1        BE   30.65  122.7   92.0  0.031        wyoming   MWC    5.67  104.8   \n",
       "2        BE   30.65  122.7   92.0  0.031  west virginia   B12   17.64  112.6   \n",
       "3        BE   30.65  122.7   92.0  0.031    wichita st.   MVC   22.21  115.8   \n",
       "4        BE   30.65  122.7   92.0  0.031      wisconsin   B10   33.72  129.0   \n",
       "...     ...     ...    ...    ...    ...            ...   ...     ...    ...   \n",
       "11385   B10   15.96  117.2  101.2  0.057   gardner webb  BSth   -0.74  107.5   \n",
       "11386   WCC   17.71  114.6   96.9 -0.033   gardner webb  BSth   -0.74  107.5   \n",
       "11387   P12   15.15  107.7   92.5 -0.039   gardner webb  BSth   -0.74  107.5   \n",
       "11388    BW    9.46  106.6   97.1  0.097   gardner webb  BSth   -0.74  107.5   \n",
       "11389  CUSA    5.58  101.9   96.4  0.055   gardner webb  BSth   -0.74  107.5   \n",
       "\n",
       "       Radjd  Rluck  Htourny20plus  Rtourny20plus  HBig4Conf  RBig4Conf  \n",
       "0       85.5  0.023              1              0          0          1  \n",
       "1       99.1  0.083              1              0          0          0  \n",
       "2       94.9  0.087              1              1          0          1  \n",
       "3       93.6  0.022              1              0          0          0  \n",
       "4       95.2  0.015              1              1          0          1  \n",
       "...      ...    ...            ...            ...        ...        ...  \n",
       "11385  108.2  0.070              0              0          1          0  \n",
       "11386  108.2  0.070              0              0          0          0  \n",
       "11387  108.2  0.070              1              0          0          0  \n",
       "11388  108.2  0.070              0              0          0          0  \n",
       "11389  108.2  0.070              0              0          0          0  \n",
       "\n",
       "[11390 rows x 33 columns]"
      ],
      "text/html": "<div>\n<style scoped>\n    .dataframe tbody tr th:only-of-type {\n        vertical-align: middle;\n    }\n\n    .dataframe tbody tr th {\n        vertical-align: top;\n    }\n\n    .dataframe thead th {\n        text-align: right;\n    }\n</style>\n<table border=\"1\" class=\"dataframe\">\n  <thead>\n    <tr style=\"text-align: right;\">\n      <th></th>\n      <th>Season</th>\n      <th>ID</th>\n      <th>HTeamID</th>\n      <th>RTeamID</th>\n      <th>HSeed</th>\n      <th>RSeed</th>\n      <th>is_tourney</th>\n      <th>Hwins_top25</th>\n      <th>HPointMargin</th>\n      <th>HFG</th>\n      <th>HFG3</th>\n      <th>Rwins_top25</th>\n      <th>RPointMargin</th>\n      <th>RFG</th>\n      <th>RFG3</th>\n      <th>HRankPOM</th>\n      <th>RRankPOM</th>\n      <th>home</th>\n      <th>Hconf</th>\n      <th>Hadjem</th>\n      <th>Hadjo</th>\n      <th>Hadjd</th>\n      <th>Hluck</th>\n      <th>road</th>\n      <th>Rconf</th>\n      <th>Radjem</th>\n      <th>Radjo</th>\n      <th>Radjd</th>\n      <th>Rluck</th>\n      <th>Htourny20plus</th>\n      <th>Rtourny20plus</th>\n      <th>HBig4Conf</th>\n      <th>RBig4Conf</th>\n    </tr>\n  </thead>\n  <tbody>\n    <tr>\n      <th>0</th>\n      <td>2015</td>\n      <td>2015_1437_1438</td>\n      <td>1437.0</td>\n      <td>1438.0</td>\n      <td>1.0</td>\n      <td>2.0</td>\n      <td>1</td>\n      <td>3</td>\n      <td>15.382353</td>\n      <td>0.470578</td>\n      <td>0.386226</td>\n      <td>3</td>\n      <td>14.593750</td>\n      <td>0.465041</td>\n      <td>0.365095</td>\n      <td>5</td>\n      <td>4</td>\n      <td>villanova</td>\n      <td>BE</td>\n      <td>30.65</td>\n      <td>122.7</td>\n      <td>92.0</td>\n      <td>0.031</td>\n      <td>virginia</td>\n      <td>ACC</td>\n      <td>30.06</td>\n      <td>115.6</td>\n      <td>85.5</td>\n      <td>0.023</td>\n      <td>1</td>\n      <td>0</td>\n      <td>0</td>\n      <td>1</td>\n    </tr>\n    <tr>\n      <th>1</th>\n      <td>2015</td>\n      <td>2015_1437_1461</td>\n      <td>1437.0</td>\n      <td>1461.0</td>\n      <td>1.0</td>\n      <td>12.0</td>\n      <td>1</td>\n      <td>3</td>\n      <td>15.382353</td>\n      <td>0.470578</td>\n      <td>0.386226</td>\n      <td>0</td>\n      <td>4.500000</td>\n      <td>0.459152</td>\n      <td>0.323069</td>\n      <td>5</td>\n      <td>102</td>\n      <td>villanova</td>\n      <td>BE</td>\n      <td>30.65</td>\n      <td>122.7</td>\n      <td>92.0</td>\n      <td>0.031</td>\n      <td>wyoming</td>\n      <td>MWC</td>\n      <td>5.67</td>\n      <td>104.8</td>\n      <td>99.1</td>\n      <td>0.083</td>\n      <td>1</td>\n      <td>0</td>\n      <td>0</td>\n      <td>0</td>\n    </tr>\n    <tr>\n      <th>2</th>\n      <td>2015</td>\n      <td>2015_1437_1452</td>\n      <td>1437.0</td>\n      <td>1452.0</td>\n      <td>1.0</td>\n      <td>5.0</td>\n      <td>1</td>\n      <td>3</td>\n      <td>15.382353</td>\n      <td>0.470578</td>\n      <td>0.386226</td>\n      <td>3</td>\n      <td>7.093750</td>\n      <td>0.412337</td>\n      <td>0.324571</td>\n      <td>5</td>\n      <td>25</td>\n      <td>villanova</td>\n      <td>BE</td>\n      <td>30.65</td>\n      <td>122.7</td>\n      <td>92.0</td>\n      <td>0.031</td>\n      <td>west virginia</td>\n      <td>B12</td>\n      <td>17.64</td>\n      <td>112.6</td>\n      <td>94.9</td>\n      <td>0.087</td>\n      <td>1</td>\n      <td>1</td>\n      <td>0</td>\n      <td>1</td>\n    </tr>\n    <tr>\n      <th>3</th>\n      <td>2015</td>\n      <td>2015_1437_1455</td>\n      <td>1437.0</td>\n      <td>1455.0</td>\n      <td>1.0</td>\n      <td>7.0</td>\n      <td>1</td>\n      <td>3</td>\n      <td>15.382353</td>\n      <td>0.470578</td>\n      <td>0.386226</td>\n      <td>1</td>\n      <td>12.806452</td>\n      <td>0.445620</td>\n      <td>0.349481</td>\n      <td>5</td>\n      <td>14</td>\n      <td>villanova</td>\n      <td>BE</td>\n      <td>30.65</td>\n      <td>122.7</td>\n      <td>92.0</td>\n      <td>0.031</td>\n      <td>wichita st.</td>\n      <td>MVC</td>\n      <td>22.21</td>\n      <td>115.8</td>\n      <td>93.6</td>\n      <td>0.022</td>\n      <td>1</td>\n      <td>0</td>\n      <td>0</td>\n      <td>0</td>\n    </tr>\n    <tr>\n      <th>4</th>\n      <td>2015</td>\n      <td>2015_1437_1458</td>\n      <td>1437.0</td>\n      <td>1458.0</td>\n      <td>1.0</td>\n      <td>1.0</td>\n      <td>1</td>\n      <td>3</td>\n      <td>15.382353</td>\n      <td>0.470578</td>\n      <td>0.386226</td>\n      <td>7</td>\n      <td>15.764706</td>\n      <td>0.479012</td>\n      <td>0.357805</td>\n      <td>5</td>\n      <td>3</td>\n      <td>villanova</td>\n      <td>BE</td>\n      <td>30.65</td>\n      <td>122.7</td>\n      <td>92.0</td>\n      <td>0.031</td>\n      <td>wisconsin</td>\n      <td>B10</td>\n      <td>33.72</td>\n      <td>129.0</td>\n      <td>95.2</td>\n      <td>0.015</td>\n      <td>1</td>\n      <td>1</td>\n      <td>0</td>\n      <td>1</td>\n    </tr>\n    <tr>\n      <th>...</th>\n      <td>...</td>\n      <td>...</td>\n      <td>...</td>\n      <td>...</td>\n      <td>...</td>\n      <td>...</td>\n      <td>...</td>\n      <td>...</td>\n      <td>...</td>\n      <td>...</td>\n      <td>...</td>\n      <td>...</td>\n      <td>...</td>\n      <td>...</td>\n      <td>...</td>\n      <td>...</td>\n      <td>...</td>\n      <td>...</td>\n      <td>...</td>\n      <td>...</td>\n      <td>...</td>\n      <td>...</td>\n      <td>...</td>\n      <td>...</td>\n      <td>...</td>\n      <td>...</td>\n      <td>...</td>\n      <td>...</td>\n      <td>...</td>\n      <td>...</td>\n      <td>...</td>\n      <td>...</td>\n      <td>...</td>\n    </tr>\n    <tr>\n      <th>11385</th>\n      <td>2019</td>\n      <td>2019_1205_1234</td>\n      <td>1234.0</td>\n      <td>1205.0</td>\n      <td>10.0</td>\n      <td>16.0</td>\n      <td>1</td>\n      <td>2</td>\n      <td>4.666667</td>\n      <td>0.455846</td>\n      <td>0.358046</td>\n      <td>0</td>\n      <td>2.354839</td>\n      <td>0.477831</td>\n      <td>0.381009</td>\n      <td>36</td>\n      <td>167</td>\n      <td>iowa</td>\n      <td>B10</td>\n      <td>15.96</td>\n      <td>117.2</td>\n      <td>101.2</td>\n      <td>0.057</td>\n      <td>gardner webb</td>\n      <td>BSth</td>\n      <td>-0.74</td>\n      <td>107.5</td>\n      <td>108.2</td>\n      <td>0.070</td>\n      <td>0</td>\n      <td>0</td>\n      <td>1</td>\n      <td>0</td>\n    </tr>\n    <tr>\n      <th>11386</th>\n      <td>2019</td>\n      <td>2019_1205_1388</td>\n      <td>1388.0</td>\n      <td>1205.0</td>\n      <td>11.0</td>\n      <td>16.0</td>\n      <td>1</td>\n      <td>1</td>\n      <td>8.545455</td>\n      <td>0.475913</td>\n      <td>0.377759</td>\n      <td>0</td>\n      <td>2.354839</td>\n      <td>0.477831</td>\n      <td>0.381009</td>\n      <td>31</td>\n      <td>167</td>\n      <td>saint mary's</td>\n      <td>WCC</td>\n      <td>17.71</td>\n      <td>114.6</td>\n      <td>96.9</td>\n      <td>-0.033</td>\n      <td>gardner webb</td>\n      <td>BSth</td>\n      <td>-0.74</td>\n      <td>107.5</td>\n      <td>108.2</td>\n      <td>0.070</td>\n      <td>0</td>\n      <td>0</td>\n      <td>0</td>\n      <td>0</td>\n    </tr>\n    <tr>\n      <th>11387</th>\n      <td>2019</td>\n      <td>2019_1205_1332</td>\n      <td>1332.0</td>\n      <td>1205.0</td>\n      <td>12.0</td>\n      <td>16.0</td>\n      <td>1</td>\n      <td>0</td>\n      <td>7.542857</td>\n      <td>0.452262</td>\n      <td>0.348826</td>\n      <td>0</td>\n      <td>2.354839</td>\n      <td>0.477831</td>\n      <td>0.381009</td>\n      <td>43</td>\n      <td>167</td>\n      <td>oregon</td>\n      <td>P12</td>\n      <td>15.15</td>\n      <td>107.7</td>\n      <td>92.5</td>\n      <td>-0.039</td>\n      <td>gardner webb</td>\n      <td>BSth</td>\n      <td>-0.74</td>\n      <td>107.5</td>\n      <td>108.2</td>\n      <td>0.070</td>\n      <td>1</td>\n      <td>0</td>\n      <td>0</td>\n      <td>0</td>\n    </tr>\n    <tr>\n      <th>11388</th>\n      <td>2019</td>\n      <td>2019_1205_1414</td>\n      <td>1414.0</td>\n      <td>1205.0</td>\n      <td>13.0</td>\n      <td>16.0</td>\n      <td>1</td>\n      <td>0</td>\n      <td>8.852941</td>\n      <td>0.456285</td>\n      <td>0.358201</td>\n      <td>0</td>\n      <td>2.354839</td>\n      <td>0.477831</td>\n      <td>0.381009</td>\n      <td>75</td>\n      <td>167</td>\n      <td>uc irvine</td>\n      <td>BW</td>\n      <td>9.46</td>\n      <td>106.6</td>\n      <td>97.1</td>\n      <td>0.097</td>\n      <td>gardner webb</td>\n      <td>BSth</td>\n      <td>-0.74</td>\n      <td>107.5</td>\n      <td>108.2</td>\n      <td>0.070</td>\n      <td>0</td>\n      <td>0</td>\n      <td>0</td>\n      <td>0</td>\n    </tr>\n    <tr>\n      <th>11389</th>\n      <td>2019</td>\n      <td>2019_1205_1330</td>\n      <td>1330.0</td>\n      <td>1205.0</td>\n      <td>14.0</td>\n      <td>16.0</td>\n      <td>1</td>\n      <td>0</td>\n      <td>5.323529</td>\n      <td>0.411639</td>\n      <td>0.354444</td>\n      <td>0</td>\n      <td>2.354839</td>\n      <td>0.477831</td>\n      <td>0.381009</td>\n      <td>112</td>\n      <td>167</td>\n      <td>old dominion</td>\n      <td>CUSA</td>\n      <td>5.58</td>\n      <td>101.9</td>\n      <td>96.4</td>\n      <td>0.055</td>\n      <td>gardner webb</td>\n      <td>BSth</td>\n      <td>-0.74</td>\n      <td>107.5</td>\n      <td>108.2</td>\n      <td>0.070</td>\n      <td>0</td>\n      <td>0</td>\n      <td>0</td>\n      <td>0</td>\n    </tr>\n  </tbody>\n</table>\n<p>11390 rows × 33 columns</p>\n</div>"
     },
     "metadata": {},
     "execution_count": 376
    }
   ],
   "source": [
    "df_19_tourney.sort_index()"
   ]
  },
  {
   "cell_type": "code",
   "execution_count": 377,
   "metadata": {},
   "outputs": [],
   "source": [
    "df_19_tourney = df_19_tourney.fillna(df_19_tourney.mean())"
   ]
  },
  {
   "cell_type": "code",
   "execution_count": 378,
   "metadata": {},
   "outputs": [],
   "source": [
    "df_19_tourney.to_csv('test_combos_df_2015.csv', index=False)"
   ]
  },
  {
   "cell_type": "code",
   "execution_count": null,
   "metadata": {},
   "outputs": [],
   "source": []
  }
 ]
}