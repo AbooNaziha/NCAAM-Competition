{
 "metadata": {
  "language_info": {
   "codemirror_mode": {
    "name": "ipython",
    "version": 3
   },
   "file_extension": ".py",
   "mimetype": "text/x-python",
   "name": "python",
   "nbconvert_exporter": "python",
   "pygments_lexer": "ipython3",
   "version": "3.7.7-final"
  },
  "orig_nbformat": 2,
  "kernelspec": {
   "name": "python3",
   "display_name": "Python 3.7.7 64-bit ('tf': conda)",
   "metadata": {
    "interpreter": {
     "hash": "1b4bd66619e1f63a2810c0f91c748d47860e139f5a175a9a480ebd9d4456bd5e"
    }
   }
  }
 },
 "nbformat": 4,
 "nbformat_minor": 2,
 "cells": [
  {
   "cell_type": "code",
   "execution_count": 234,
   "metadata": {},
   "outputs": [],
   "source": [
    "import os\n",
    "import re\n",
    "import sklearn\n",
    "import numpy as np \n",
    "import pandas as pd\n",
    "import seaborn as sns\n",
    "import matplotlib.pyplot as plt\n",
    "\n",
    "from collections import Counter\n",
    "from sklearn.metrics import *\n",
    "from sklearn.linear_model import *\n",
    "from sklearn.model_selection import *\n",
    "\n",
    "pd.set_option('display.max_columns', None)"
   ]
  },
  {
   "cell_type": "code",
   "execution_count": 235,
   "metadata": {},
   "outputs": [
    {
     "output_type": "stream",
     "name": "stdout",
     "text": [
      "Cities.csv\nConferences.csv\nMConferenceTourneyGames.csv\nMGameCities.csv\nMMasseyOrdinals.csv\nMNCAATourneyCompactResults.csv\nMNCAATourneyDetailedResults.csv\nMNCAATourneySeedRoundSlots.csv\nMNCAATourneySeeds.csv\nMNCAATourneySlots.csv\nMRegularSeasonCompactResults.csv\nMRegularSeasonDetailedResults.csv\nMSampleSubmissionStage1.csv\nMSeasons.csv\nMSecondaryTourneyCompactResults.csv\nMSecondaryTourneyTeams.csv\nMTeamCoaches.csv\nMTeamConferences.csv\nMTeams.csv\nMTeamSpellings.csv\n"
     ]
    }
   ],
   "source": [
    "DATA_PATH_M = 'C:/Users/FLUXNATURE/Desktop/New Kaggle world/NCAAM/'\n",
    "\n",
    "for filename in os.listdir(DATA_PATH_M):\n",
    "    print(filename)"
   ]
  },
  {
   "source": [
    "DATA PREPARATION AND PROCESSING\n",
    "\n",
    "Data: WNCAATourneySeeds.csv\n",
    "\n",
    "\"This file identifies the seeds for all teams in each NCAA® tournament, for all seasons of historical data. Thus, there are exactly 64 rows for each year, since there are no play-in teams in the women's tournament. We will not know the seeds of the respective tournament teams, or even exactly which 64 teams it will be, until Selection Monday on March 16, 2020 (DayNum=133).\n",
    "\n",
    "Season - the year that the tournament was played in Seed - this is a 3-character identifier of the seed, where the first character is either W, X, Y, or Z (identifying the region the team was in) and the next two digits (either 01, 02, ..., 15, or 16) tell you the seed within the region. For example, the first record in the file is seed W01, which means we are looking at the #1 seed in the W region (which we can see from the \"WSeasons.csv\" file was the East region). TeamID - this identifies the id number of the team, as specified in the WTeams.csv file\""
   ],
   "cell_type": "markdown",
   "metadata": {}
  },
  {
   "cell_type": "code",
   "execution_count": 236,
   "metadata": {},
   "outputs": [
    {
     "output_type": "execute_result",
     "data": {
      "text/plain": [
       "   Season Seed  TeamID\n",
       "0    1985  W01    1207\n",
       "1    1985  W02    1210\n",
       "2    1985  W03    1228\n",
       "3    1985  W04    1260\n",
       "4    1985  W05    1374"
      ],
      "text/html": "<div>\n<style scoped>\n    .dataframe tbody tr th:only-of-type {\n        vertical-align: middle;\n    }\n\n    .dataframe tbody tr th {\n        vertical-align: top;\n    }\n\n    .dataframe thead th {\n        text-align: right;\n    }\n</style>\n<table border=\"1\" class=\"dataframe\">\n  <thead>\n    <tr style=\"text-align: right;\">\n      <th></th>\n      <th>Season</th>\n      <th>Seed</th>\n      <th>TeamID</th>\n    </tr>\n  </thead>\n  <tbody>\n    <tr>\n      <th>0</th>\n      <td>1985</td>\n      <td>W01</td>\n      <td>1207</td>\n    </tr>\n    <tr>\n      <th>1</th>\n      <td>1985</td>\n      <td>W02</td>\n      <td>1210</td>\n    </tr>\n    <tr>\n      <th>2</th>\n      <td>1985</td>\n      <td>W03</td>\n      <td>1228</td>\n    </tr>\n    <tr>\n      <th>3</th>\n      <td>1985</td>\n      <td>W04</td>\n      <td>1260</td>\n    </tr>\n    <tr>\n      <th>4</th>\n      <td>1985</td>\n      <td>W05</td>\n      <td>1374</td>\n    </tr>\n  </tbody>\n</table>\n</div>"
     },
     "metadata": {},
     "execution_count": 236
    }
   ],
   "source": [
    " df_seeds = pd.read_csv(DATA_PATH_M + \"MNCAATourneySeeds.csv\")\n",
    " df_seeds.head()"
   ]
  },
  {
   "source": [
    "SEASON'S RESULTS\n",
    "\n",
    "Data: WRegularSeasonCompactResults.csv\n",
    "\n",
    "This file identifies the game-by-game results for many seasons of historical data, starting with the 1998 season. For each season, the file includes all games played from DayNum 0 through 132. It is important to realize that the \"Regular Season\" games are simply defined to be all games played on DayNum=132 or earlier (DayNum=133 is Selection Monday). Thus a game played before Selection Monday will show up here whether it was a pre-season tournament, a non-conference game, a regular conference game, a conference tournament game, or whatever.\n",
    "\n",
    "Season - this is the year of the associated entry in WSeasons.csv (the year in which the final tournament occurs). For example, during the 2016 season, there were regular season games played between November 2015 and March 2016, and all of those games will show up with a Season of 2016.\n",
    "\n",
    "DayNum - this integer always ranges from 0 to 132, and tells you what day the game was played on. It represents an offset from the \"DayZero\" date in the \"WSeasons.csv\" file. For example, the first game in the file was DayNum=18. Combined with the fact from the \"WSeasons.csv\" file that day zero was 10/27/1997 that year, this means the first game was played 18 days later, or 11/14/1997. There are no teams that ever played more than one game on a given date, so you can use this fact if you need a unique key (combining Season and DayNum and WTeamID).\n",
    "\n",
    "WTeamID - this identifies the id number of the team that won the game, as listed in the \"WTeams.csv\" file. No matter whether the game was won by the home team or visiting team, or if it was a neutral-site game, the \"WTeamID\" always identifies the winning team.\n",
    "\n",
    "WScore - this identifies the number of points scored by the winning team.\n",
    "\n",
    "LTeamID - this identifies the id number of the team that lost the game.\n",
    "\n",
    "LScore - this identifies the number of points scored by the losing team. Thus you can be confident that WScore will be greater than LScore for all games listed.\n",
    "\n",
    "NumOT - this indicates the number of overtime periods in the game, an integer 0 or higher.\n",
    "\n",
    "WLoc - this identifies the \"location\" of the winning team. If the winning team was the home team, this value will be \"H\". If the winning team was the visiting team, this value will be \"A\". If it was played on a neutral court, then this value will be \"N\".\n",
    "\n"
   ],
   "cell_type": "markdown",
   "metadata": {}
  },
  {
   "cell_type": "code",
   "execution_count": 237,
   "metadata": {},
   "outputs": [],
   "source": [
    "#dropping NumOT and WLoc from the data \n",
    "df_season_results = pd.read_csv(DATA_PATH_M + \"MRegularSeasonCompactResults.csv\")\n",
    "df_season_results.drop(['NumOT', 'WLoc'], axis=1, inplace=True)"
   ]
  },
  {
   "cell_type": "code",
   "execution_count": 238,
   "metadata": {},
   "outputs": [],
   "source": [
    "df_season_results['ScoreGap'] = df_season_results['WScore'] - df_season_results['LScore']"
   ]
  },
  {
   "cell_type": "code",
   "execution_count": 239,
   "metadata": {},
   "outputs": [
    {
     "output_type": "execute_result",
     "data": {
      "text/plain": [
       "   Season  DayNum  WTeamID  WScore  LTeamID  LScore  ScoreGap\n",
       "0    1985      20     1228      81     1328      64        17\n",
       "1    1985      25     1106      77     1354      70         7\n",
       "2    1985      25     1112      63     1223      56         7\n",
       "3    1985      25     1165      70     1432      54        16"
      ],
      "text/html": "<div>\n<style scoped>\n    .dataframe tbody tr th:only-of-type {\n        vertical-align: middle;\n    }\n\n    .dataframe tbody tr th {\n        vertical-align: top;\n    }\n\n    .dataframe thead th {\n        text-align: right;\n    }\n</style>\n<table border=\"1\" class=\"dataframe\">\n  <thead>\n    <tr style=\"text-align: right;\">\n      <th></th>\n      <th>Season</th>\n      <th>DayNum</th>\n      <th>WTeamID</th>\n      <th>WScore</th>\n      <th>LTeamID</th>\n      <th>LScore</th>\n      <th>ScoreGap</th>\n    </tr>\n  </thead>\n  <tbody>\n    <tr>\n      <th>0</th>\n      <td>1985</td>\n      <td>20</td>\n      <td>1228</td>\n      <td>81</td>\n      <td>1328</td>\n      <td>64</td>\n      <td>17</td>\n    </tr>\n    <tr>\n      <th>1</th>\n      <td>1985</td>\n      <td>25</td>\n      <td>1106</td>\n      <td>77</td>\n      <td>1354</td>\n      <td>70</td>\n      <td>7</td>\n    </tr>\n    <tr>\n      <th>2</th>\n      <td>1985</td>\n      <td>25</td>\n      <td>1112</td>\n      <td>63</td>\n      <td>1223</td>\n      <td>56</td>\n      <td>7</td>\n    </tr>\n    <tr>\n      <th>3</th>\n      <td>1985</td>\n      <td>25</td>\n      <td>1165</td>\n      <td>70</td>\n      <td>1432</td>\n      <td>54</td>\n      <td>16</td>\n    </tr>\n  </tbody>\n</table>\n</div>"
     },
     "metadata": {},
     "execution_count": 239
    }
   ],
   "source": [
    "df_season_results.head(4)"
   ]
  },
  {
   "source": [
    "Features\n",
    "For each team at each season, I compute :\n",
    "\n",
    "Number of wins\n",
    "\n",
    "Number of losses\n",
    "\n",
    "Average score gap of wins\n",
    "\n",
    "Average score gap of losses\n",
    "\n",
    "And use the following features :\n",
    "\n",
    "Win Ratio\n",
    "Average score gap"
   ],
   "cell_type": "markdown",
   "metadata": {}
  },
  {
   "cell_type": "code",
   "execution_count": 240,
   "metadata": {},
   "outputs": [],
   "source": [
    "num_win = df_season_results.groupby(['Season', 'WTeamID']).count()\n",
    "num_win = num_win.reset_index()[['Season', 'WTeamID', 'DayNum']].rename(columns={\"DayNum\": \"NumWins\", \"WTeamID\": \"TeamID\"})"
   ]
  },
  {
   "cell_type": "code",
   "execution_count": 241,
   "metadata": {},
   "outputs": [],
   "source": [
    "num_loss = df_season_results.groupby(['Season', 'LTeamID']).count()\n",
    "num_loss = num_loss.reset_index()[['Season', 'LTeamID', 'DayNum']].rename(columns={\"DayNum\": \"NumLosses\", \"LTeamID\": \"TeamID\"})"
   ]
  },
  {
   "cell_type": "code",
   "execution_count": 242,
   "metadata": {},
   "outputs": [],
   "source": [
    "gap_win = df_season_results.groupby(['Season', 'WTeamID']).mean().reset_index()\n",
    "gap_win = gap_win[['Season', 'WTeamID', 'ScoreGap']].rename(columns={\"ScoreGap\": \"GapWins\", \"WTeamID\": \"TeamID\"})"
   ]
  },
  {
   "cell_type": "code",
   "execution_count": 243,
   "metadata": {},
   "outputs": [],
   "source": [
    "gap_loss = df_season_results.groupby(['Season', 'LTeamID']).mean().reset_index()\n",
    "gap_loss = gap_loss[['Season', 'LTeamID', 'ScoreGap']].rename(columns={\"ScoreGap\": \"GapLosses\", \"LTeamID\": \"TeamID\"})"
   ]
  },
  {
   "source": [
    "MERGE COMPUTATIONS "
   ],
   "cell_type": "markdown",
   "metadata": {}
  },
  {
   "cell_type": "code",
   "execution_count": 244,
   "metadata": {},
   "outputs": [],
   "source": [
    "df_features_season_w = df_season_results.groupby(['Season', 'WTeamID']).count().reset_index()[['Season', 'WTeamID']].rename(columns={\"WTeamID\": \"TeamID\"})\n",
    "df_features_season_l = df_season_results.groupby(['Season', 'LTeamID']).count().reset_index()[['Season', 'LTeamID']].rename(columns={\"LTeamID\": \"TeamID\"})"
   ]
  },
  {
   "cell_type": "code",
   "execution_count": 245,
   "metadata": {},
   "outputs": [],
   "source": [
    "df_features_season = pd.concat([df_features_season_w, df_features_season_l], 0).drop_duplicates().sort_values(['Season', 'TeamID']).reset_index(drop=True)"
   ]
  },
  {
   "cell_type": "code",
   "execution_count": 246,
   "metadata": {},
   "outputs": [],
   "source": [
    "df_features_season = df_features_season.merge(num_win, on=['Season', 'TeamID'], how='left')\n",
    "df_features_season = df_features_season.merge(num_loss, on=['Season', 'TeamID'], how='left')\n",
    "df_features_season = df_features_season.merge(gap_win, on=['Season', 'TeamID'], how='left')\n",
    "df_features_season = df_features_season.merge(gap_loss, on=['Season', 'TeamID'], how='left')"
   ]
  },
  {
   "cell_type": "code",
   "execution_count": 247,
   "metadata": {},
   "outputs": [],
   "source": [
    "df_features_season.fillna(0, inplace=True) "
   ]
  },
  {
   "source": [
    "FEATURES COMPUTATION"
   ],
   "cell_type": "markdown",
   "metadata": {}
  },
  {
   "cell_type": "code",
   "execution_count": 248,
   "metadata": {},
   "outputs": [],
   "source": [
    "df_features_season['WinRatio'] = df_features_season['NumWins'] / (df_features_season['NumWins'] + df_features_season['NumLosses'])\n",
    "df_features_season['GapAvg'] = (\n",
    "    (df_features_season['NumWins'] * df_features_season['GapWins'] - \n",
    "    df_features_season['NumLosses'] * df_features_season['GapLosses'])\n",
    "    / (df_features_season['NumWins'] + df_features_season['NumLosses'])\n",
    ")"
   ]
  },
  {
   "cell_type": "code",
   "execution_count": 249,
   "metadata": {},
   "outputs": [],
   "source": [
    "df_features_season.drop(['NumWins', 'NumLosses', 'GapWins', 'GapLosses'], axis=1, inplace=True)"
   ]
  },
  {
   "source": [
    "TOURNEY\n",
    "\n",
    "Data: WNCAATourneyCompactResults.csv\n",
    "\n",
    "This file identifies the game-by-game NCAA® tournament results for all seasons of historical data. The data is formatted exactly like the WRegularSeasonCompactResults data. Each season you will see 63 games listed, since there are no women's play-in games.\n",
    "\n",
    "Although the scheduling of the men's tournament rounds has been consistent for many years, there has been more variety in the scheduling of the women's rounds. There have been four different schedules over the course of the past 20+ years for the women's tournament, as follows:"
   ],
   "cell_type": "markdown",
   "metadata": {}
  },
  {
   "cell_type": "code",
   "execution_count": 250,
   "metadata": {},
   "outputs": [],
   "source": [
    "df_tourney_results = pd.read_csv(DATA_PATH_M + \"MNCAATourneyCompactResults.csv\")\n",
    "df_tourney_results.drop(['NumOT', 'WLoc'], axis=1, inplace=True)"
   ]
  },
  {
   "source": [
    "The DayNum features can be improved by replacing it by the corresponding round."
   ],
   "cell_type": "markdown",
   "metadata": {}
  },
  {
   "cell_type": "code",
   "execution_count": 251,
   "metadata": {},
   "outputs": [],
   "source": [
    "def get_round(day):\n",
    "    round_dic = {134: 0, 135: 0, 136: 1, 137: 1, 138: 2, 139: 2, 143: 3, 144: 3, 145: 4, 146: 4, 152: 5, 154: 6}\n",
    "    try:\n",
    "        return round_dic[day]\n",
    "    except:\n",
    "        print(f'Unknow day : {day}')\n",
    "        return 0\n"
   ]
  },
  {
   "cell_type": "code",
   "execution_count": 252,
   "metadata": {},
   "outputs": [],
   "source": [
    "df_tourney_results['Round'] = df_tourney_results['DayNum'].apply(get_round)"
   ]
  },
  {
   "cell_type": "code",
   "execution_count": 253,
   "metadata": {},
   "outputs": [
    {
     "output_type": "execute_result",
     "data": {
      "text/plain": [
       "   Season  DayNum  WTeamID  WScore  LTeamID  LScore  Round\n",
       "0    1985     136     1116      63     1234      54      1\n",
       "1    1985     136     1120      59     1345      58      1\n",
       "2    1985     136     1207      68     1250      43      1\n",
       "3    1985     136     1229      58     1425      55      1\n",
       "4    1985     136     1242      49     1325      38      1"
      ],
      "text/html": "<div>\n<style scoped>\n    .dataframe tbody tr th:only-of-type {\n        vertical-align: middle;\n    }\n\n    .dataframe tbody tr th {\n        vertical-align: top;\n    }\n\n    .dataframe thead th {\n        text-align: right;\n    }\n</style>\n<table border=\"1\" class=\"dataframe\">\n  <thead>\n    <tr style=\"text-align: right;\">\n      <th></th>\n      <th>Season</th>\n      <th>DayNum</th>\n      <th>WTeamID</th>\n      <th>WScore</th>\n      <th>LTeamID</th>\n      <th>LScore</th>\n      <th>Round</th>\n    </tr>\n  </thead>\n  <tbody>\n    <tr>\n      <th>0</th>\n      <td>1985</td>\n      <td>136</td>\n      <td>1116</td>\n      <td>63</td>\n      <td>1234</td>\n      <td>54</td>\n      <td>1</td>\n    </tr>\n    <tr>\n      <th>1</th>\n      <td>1985</td>\n      <td>136</td>\n      <td>1120</td>\n      <td>59</td>\n      <td>1345</td>\n      <td>58</td>\n      <td>1</td>\n    </tr>\n    <tr>\n      <th>2</th>\n      <td>1985</td>\n      <td>136</td>\n      <td>1207</td>\n      <td>68</td>\n      <td>1250</td>\n      <td>43</td>\n      <td>1</td>\n    </tr>\n    <tr>\n      <th>3</th>\n      <td>1985</td>\n      <td>136</td>\n      <td>1229</td>\n      <td>58</td>\n      <td>1425</td>\n      <td>55</td>\n      <td>1</td>\n    </tr>\n    <tr>\n      <th>4</th>\n      <td>1985</td>\n      <td>136</td>\n      <td>1242</td>\n      <td>49</td>\n      <td>1325</td>\n      <td>38</td>\n      <td>1</td>\n    </tr>\n  </tbody>\n</table>\n</div>"
     },
     "metadata": {},
     "execution_count": 253
    }
   ],
   "source": [
    "df_tourney_results.head()"
   ]
  },
  {
   "cell_type": "code",
   "execution_count": 254,
   "metadata": {},
   "outputs": [
    {
     "output_type": "execute_result",
     "data": {
      "text/plain": [
       "      Season  DayNum  WTeamID  WScore  LTeamID  LScore  Round\n",
       "2246    2019     146     1120      77     1246      71      4\n",
       "2247    2019     146     1277      68     1181      67      4\n",
       "2248    2019     152     1403      61     1277      51      5\n",
       "2249    2019     152     1438      63     1120      62      5\n",
       "2250    2019     154     1438      85     1403      77      6"
      ],
      "text/html": "<div>\n<style scoped>\n    .dataframe tbody tr th:only-of-type {\n        vertical-align: middle;\n    }\n\n    .dataframe tbody tr th {\n        vertical-align: top;\n    }\n\n    .dataframe thead th {\n        text-align: right;\n    }\n</style>\n<table border=\"1\" class=\"dataframe\">\n  <thead>\n    <tr style=\"text-align: right;\">\n      <th></th>\n      <th>Season</th>\n      <th>DayNum</th>\n      <th>WTeamID</th>\n      <th>WScore</th>\n      <th>LTeamID</th>\n      <th>LScore</th>\n      <th>Round</th>\n    </tr>\n  </thead>\n  <tbody>\n    <tr>\n      <th>2246</th>\n      <td>2019</td>\n      <td>146</td>\n      <td>1120</td>\n      <td>77</td>\n      <td>1246</td>\n      <td>71</td>\n      <td>4</td>\n    </tr>\n    <tr>\n      <th>2247</th>\n      <td>2019</td>\n      <td>146</td>\n      <td>1277</td>\n      <td>68</td>\n      <td>1181</td>\n      <td>67</td>\n      <td>4</td>\n    </tr>\n    <tr>\n      <th>2248</th>\n      <td>2019</td>\n      <td>152</td>\n      <td>1403</td>\n      <td>61</td>\n      <td>1277</td>\n      <td>51</td>\n      <td>5</td>\n    </tr>\n    <tr>\n      <th>2249</th>\n      <td>2019</td>\n      <td>152</td>\n      <td>1438</td>\n      <td>63</td>\n      <td>1120</td>\n      <td>62</td>\n      <td>5</td>\n    </tr>\n    <tr>\n      <th>2250</th>\n      <td>2019</td>\n      <td>154</td>\n      <td>1438</td>\n      <td>85</td>\n      <td>1403</td>\n      <td>77</td>\n      <td>6</td>\n    </tr>\n  </tbody>\n</table>\n</div>"
     },
     "metadata": {},
     "execution_count": 254
    }
   ],
   "source": [
    "df_tourney_results.tail()"
   ]
  },
  {
   "source": [
    "RATINGS \n",
    "\n",
    "Massey Ordinals\n",
    "This file lists out rankings (e.g. #1, #2, #3, ..., #N) of teams going back to the 2002-2003 season, under a large number of different ranking system methodologies.\n",
    "\n",
    "Season - this is the year of the associated entry in MSeasons.csv (the year in which the final tournament occurs)\n",
    "\n",
    "RankingDayNum - First day that it is appropriate to use the rankings for predicting games. Use 133 for the tournament.\n",
    "\n",
    "SystemName - this is the (usually) 3-letter abbreviation for each distinct ranking system.\n",
    "\n",
    "TeamID - this is the ID of the team being ranked, as described in MTeams.csv.\n",
    "\n",
    "OrdinalRank - this is the overall ranking of the team in the underlying system. Most systems from recent seasons provide a \n",
    "\n",
    "complete ranking from #1 through #351, but sometimes there are ties and sometimes only a smaller set of rankings is provided, as with the AP's top 25. This year and last year they will typically go up to #353 because two new teams were added to Division I last year.\n"
   ],
   "cell_type": "markdown",
   "metadata": {}
  },
  {
   "cell_type": "code",
   "execution_count": 255,
   "metadata": {},
   "outputs": [],
   "source": [
    " df_massey = pd.read_csv(DATA_PATH_M + \"MMasseyOrdinals.csv\")\n",
    " df_massey = df_massey[df_massey['RankingDayNum'] == 133].drop('RankingDayNum', axis=1).reset_index(drop=True) # use first day of the tournament\n"
   ]
  },
  {
   "cell_type": "code",
   "execution_count": 256,
   "metadata": {},
   "outputs": [
    {
     "output_type": "execute_result",
     "data": {
      "text/plain": [
       "        Season SystemName  TeamID  OrdinalRank\n",
       "291428    2019        ZAM    1462           70\n",
       "291429    2019        ZAM    1463           87\n",
       "291430    2019        ZAM    1464          242\n",
       "291431    2019        ZAM    1465          198\n",
       "291432    2019        ZAM    1466          290"
      ],
      "text/html": "<div>\n<style scoped>\n    .dataframe tbody tr th:only-of-type {\n        vertical-align: middle;\n    }\n\n    .dataframe tbody tr th {\n        vertical-align: top;\n    }\n\n    .dataframe thead th {\n        text-align: right;\n    }\n</style>\n<table border=\"1\" class=\"dataframe\">\n  <thead>\n    <tr style=\"text-align: right;\">\n      <th></th>\n      <th>Season</th>\n      <th>SystemName</th>\n      <th>TeamID</th>\n      <th>OrdinalRank</th>\n    </tr>\n  </thead>\n  <tbody>\n    <tr>\n      <th>291428</th>\n      <td>2019</td>\n      <td>ZAM</td>\n      <td>1462</td>\n      <td>70</td>\n    </tr>\n    <tr>\n      <th>291429</th>\n      <td>2019</td>\n      <td>ZAM</td>\n      <td>1463</td>\n      <td>87</td>\n    </tr>\n    <tr>\n      <th>291430</th>\n      <td>2019</td>\n      <td>ZAM</td>\n      <td>1464</td>\n      <td>242</td>\n    </tr>\n    <tr>\n      <th>291431</th>\n      <td>2019</td>\n      <td>ZAM</td>\n      <td>1465</td>\n      <td>198</td>\n    </tr>\n    <tr>\n      <th>291432</th>\n      <td>2019</td>\n      <td>ZAM</td>\n      <td>1466</td>\n      <td>290</td>\n    </tr>\n  </tbody>\n</table>\n</div>"
     },
     "metadata": {},
     "execution_count": 256
    }
   ],
   "source": [
    "df_massey.tail()"
   ]
  },
  {
   "source": [
    "Processing\n",
    "I keep only systems that are common to all the years."
   ],
   "cell_type": "markdown",
   "metadata": {}
  },
  {
   "cell_type": "code",
   "execution_count": 257,
   "metadata": {},
   "outputs": [],
   "source": [
    "systems = []\n",
    "for year in range(2003, 2019):\n",
    "     r = df_massey[df_massey['Season'] == year]\n",
    "     systems.append(r['SystemName'].unique())\n",
    "    \n",
    "all_systems = list(set(list(np.concatenate(systems))))"
   ]
  },
  {
   "cell_type": "code",
   "execution_count": 258,
   "metadata": {},
   "outputs": [
    {
     "output_type": "execute_result",
     "data": {
      "text/plain": [
       "['WOL', 'POM', 'MOR', 'SAG', 'DOL', 'RTH', 'USA', 'WLK', 'COL', 'AP', 'RPI']"
      ]
     },
     "metadata": {},
     "execution_count": 258
    }
   ],
   "source": [
    "common_systems = []  \n",
    "for system in all_systems:\n",
    "     common = True\n",
    "     for system_years in systems:\n",
    "         if system not in system_years:\n",
    "             common = False\n",
    "     if common:\n",
    "         common_systems.append(system)\n",
    "        \n",
    "common_systems\n"
   ]
  },
  {
   "cell_type": "code",
   "execution_count": 259,
   "metadata": {},
   "outputs": [],
   "source": [
    "f_massey = df_massey[df_massey['SystemName'].isin(common_systems)].reset_index(drop=True)"
   ]
  },
  {
   "source": [
    "FEATURE ENGINEERING \n",
    "\n",
    "TRAIN DATA"
   ],
   "cell_type": "markdown",
   "metadata": {}
  },
  {
   "cell_type": "code",
   "execution_count": 260,
   "metadata": {},
   "outputs": [
    {
     "output_type": "execute_result",
     "data": {
      "text/plain": [
       "   Season  DayNum  WTeamID  WScore  LTeamID  LScore  Round\n",
       "0    2003     134     1421      92     1411      84      0\n",
       "1    2003     136     1112      80     1436      51      1\n",
       "2    2003     136     1113      84     1272      71      1\n",
       "3    2003     136     1141      79     1166      73      1\n",
       "4    2003     136     1143      76     1301      74      1"
      ],
      "text/html": "<div>\n<style scoped>\n    .dataframe tbody tr th:only-of-type {\n        vertical-align: middle;\n    }\n\n    .dataframe tbody tr th {\n        vertical-align: top;\n    }\n\n    .dataframe thead th {\n        text-align: right;\n    }\n</style>\n<table border=\"1\" class=\"dataframe\">\n  <thead>\n    <tr style=\"text-align: right;\">\n      <th></th>\n      <th>Season</th>\n      <th>DayNum</th>\n      <th>WTeamID</th>\n      <th>WScore</th>\n      <th>LTeamID</th>\n      <th>LScore</th>\n      <th>Round</th>\n    </tr>\n  </thead>\n  <tbody>\n    <tr>\n      <th>0</th>\n      <td>2003</td>\n      <td>134</td>\n      <td>1421</td>\n      <td>92</td>\n      <td>1411</td>\n      <td>84</td>\n      <td>0</td>\n    </tr>\n    <tr>\n      <th>1</th>\n      <td>2003</td>\n      <td>136</td>\n      <td>1112</td>\n      <td>80</td>\n      <td>1436</td>\n      <td>51</td>\n      <td>1</td>\n    </tr>\n    <tr>\n      <th>2</th>\n      <td>2003</td>\n      <td>136</td>\n      <td>1113</td>\n      <td>84</td>\n      <td>1272</td>\n      <td>71</td>\n      <td>1</td>\n    </tr>\n    <tr>\n      <th>3</th>\n      <td>2003</td>\n      <td>136</td>\n      <td>1141</td>\n      <td>79</td>\n      <td>1166</td>\n      <td>73</td>\n      <td>1</td>\n    </tr>\n    <tr>\n      <th>4</th>\n      <td>2003</td>\n      <td>136</td>\n      <td>1143</td>\n      <td>76</td>\n      <td>1301</td>\n      <td>74</td>\n      <td>1</td>\n    </tr>\n  </tbody>\n</table>\n</div>"
     },
     "metadata": {},
     "execution_count": 260
    }
   ],
   "source": [
    "df = df_tourney_results.copy()\n",
    "df = df[df['Season'] >= 2003].reset_index(drop=True)\n",
    "\n",
    "df.head()"
   ]
  },
  {
   "cell_type": "code",
   "execution_count": 261,
   "metadata": {},
   "outputs": [
    {
     "output_type": "execute_result",
     "data": {
      "text/plain": [
       "      Season  DayNum  WTeamID  WScore  LTeamID  LScore  Round\n",
       "1110    2019     146     1120      77     1246      71      4\n",
       "1111    2019     146     1277      68     1181      67      4\n",
       "1112    2019     152     1403      61     1277      51      5\n",
       "1113    2019     152     1438      63     1120      62      5\n",
       "1114    2019     154     1438      85     1403      77      6"
      ],
      "text/html": "<div>\n<style scoped>\n    .dataframe tbody tr th:only-of-type {\n        vertical-align: middle;\n    }\n\n    .dataframe tbody tr th {\n        vertical-align: top;\n    }\n\n    .dataframe thead th {\n        text-align: right;\n    }\n</style>\n<table border=\"1\" class=\"dataframe\">\n  <thead>\n    <tr style=\"text-align: right;\">\n      <th></th>\n      <th>Season</th>\n      <th>DayNum</th>\n      <th>WTeamID</th>\n      <th>WScore</th>\n      <th>LTeamID</th>\n      <th>LScore</th>\n      <th>Round</th>\n    </tr>\n  </thead>\n  <tbody>\n    <tr>\n      <th>1110</th>\n      <td>2019</td>\n      <td>146</td>\n      <td>1120</td>\n      <td>77</td>\n      <td>1246</td>\n      <td>71</td>\n      <td>4</td>\n    </tr>\n    <tr>\n      <th>1111</th>\n      <td>2019</td>\n      <td>146</td>\n      <td>1277</td>\n      <td>68</td>\n      <td>1181</td>\n      <td>67</td>\n      <td>4</td>\n    </tr>\n    <tr>\n      <th>1112</th>\n      <td>2019</td>\n      <td>152</td>\n      <td>1403</td>\n      <td>61</td>\n      <td>1277</td>\n      <td>51</td>\n      <td>5</td>\n    </tr>\n    <tr>\n      <th>1113</th>\n      <td>2019</td>\n      <td>152</td>\n      <td>1438</td>\n      <td>63</td>\n      <td>1120</td>\n      <td>62</td>\n      <td>5</td>\n    </tr>\n    <tr>\n      <th>1114</th>\n      <td>2019</td>\n      <td>154</td>\n      <td>1438</td>\n      <td>85</td>\n      <td>1403</td>\n      <td>77</td>\n      <td>6</td>\n    </tr>\n  </tbody>\n</table>\n</div>"
     },
     "metadata": {},
     "execution_count": 261
    }
   ],
   "source": [
    "df.tail()"
   ]
  },
  {
   "source": [
    "Each row corresponds to a match between WTeamID and LTeamID, which was won by WTeamID.\n",
    "\n",
    "I only keep matches after 2003 since I don't have the ratings for the older ones.\n",
    "\n",
    "I start by aggregating features coresponding to each tem.\n",
    "\n",
    "Seeds\n",
    "\n",
    "SeedW is the seed of the winning team\n",
    "\n",
    "SeedL is the seed of the losing team\n"
   ],
   "cell_type": "markdown",
   "metadata": {}
  },
  {
   "cell_type": "code",
   "execution_count": 262,
   "metadata": {},
   "outputs": [],
   "source": [
    "df = pd.merge(\n",
    "    df, \n",
    "    df_seeds, \n",
    "    how='left', \n",
    "    left_on=['Season', 'WTeamID'], \n",
    "    right_on=['Season', 'TeamID']\n",
    ").drop('TeamID', axis=1).rename(columns={'Seed': 'SeedW'})"
   ]
  },
  {
   "cell_type": "code",
   "execution_count": 263,
   "metadata": {},
   "outputs": [],
   "source": [
    "df = pd.merge(\n",
    "    df, \n",
    "    df_seeds, \n",
    "    how='left', \n",
    "    left_on=['Season', 'LTeamID'], \n",
    "    right_on=['Season', 'TeamID']\n",
    ").drop('TeamID', axis=1).rename(columns={'Seed': 'SeedL'})"
   ]
  },
  {
   "cell_type": "code",
   "execution_count": 264,
   "metadata": {},
   "outputs": [],
   "source": [
    "def treat_seed(seed):\n",
    "    return int(re.sub(\"[^0-9]\", \"\", seed))"
   ]
  },
  {
   "cell_type": "code",
   "execution_count": 265,
   "metadata": {},
   "outputs": [],
   "source": [
    "df['SeedW'] = df['SeedW'].apply(treat_seed)\n",
    "df['SeedL'] = df['SeedL'].apply(treat_seed)"
   ]
  },
  {
   "cell_type": "code",
   "execution_count": 266,
   "metadata": {},
   "outputs": [
    {
     "output_type": "execute_result",
     "data": {
      "text/plain": [
       "   Season  DayNum  WTeamID  WScore  LTeamID  LScore  Round  SeedW  SeedL\n",
       "0    2003     134     1421      92     1411      84      0     16     16\n",
       "1    2003     136     1112      80     1436      51      1      1     16\n",
       "2    2003     136     1113      84     1272      71      1     10      7\n",
       "3    2003     136     1141      79     1166      73      1     11      6\n",
       "4    2003     136     1143      76     1301      74      1      8      9"
      ],
      "text/html": "<div>\n<style scoped>\n    .dataframe tbody tr th:only-of-type {\n        vertical-align: middle;\n    }\n\n    .dataframe tbody tr th {\n        vertical-align: top;\n    }\n\n    .dataframe thead th {\n        text-align: right;\n    }\n</style>\n<table border=\"1\" class=\"dataframe\">\n  <thead>\n    <tr style=\"text-align: right;\">\n      <th></th>\n      <th>Season</th>\n      <th>DayNum</th>\n      <th>WTeamID</th>\n      <th>WScore</th>\n      <th>LTeamID</th>\n      <th>LScore</th>\n      <th>Round</th>\n      <th>SeedW</th>\n      <th>SeedL</th>\n    </tr>\n  </thead>\n  <tbody>\n    <tr>\n      <th>0</th>\n      <td>2003</td>\n      <td>134</td>\n      <td>1421</td>\n      <td>92</td>\n      <td>1411</td>\n      <td>84</td>\n      <td>0</td>\n      <td>16</td>\n      <td>16</td>\n    </tr>\n    <tr>\n      <th>1</th>\n      <td>2003</td>\n      <td>136</td>\n      <td>1112</td>\n      <td>80</td>\n      <td>1436</td>\n      <td>51</td>\n      <td>1</td>\n      <td>1</td>\n      <td>16</td>\n    </tr>\n    <tr>\n      <th>2</th>\n      <td>2003</td>\n      <td>136</td>\n      <td>1113</td>\n      <td>84</td>\n      <td>1272</td>\n      <td>71</td>\n      <td>1</td>\n      <td>10</td>\n      <td>7</td>\n    </tr>\n    <tr>\n      <th>3</th>\n      <td>2003</td>\n      <td>136</td>\n      <td>1141</td>\n      <td>79</td>\n      <td>1166</td>\n      <td>73</td>\n      <td>1</td>\n      <td>11</td>\n      <td>6</td>\n    </tr>\n    <tr>\n      <th>4</th>\n      <td>2003</td>\n      <td>136</td>\n      <td>1143</td>\n      <td>76</td>\n      <td>1301</td>\n      <td>74</td>\n      <td>1</td>\n      <td>8</td>\n      <td>9</td>\n    </tr>\n  </tbody>\n</table>\n</div>"
     },
     "metadata": {},
     "execution_count": 266
    }
   ],
   "source": [
    "df.head()"
   ]
  },
  {
   "source": [
    "Season Stats\n",
    "\n",
    "WinRatioW is the win ratio of the winning team during the season\n",
    "\n",
    "WinRatioL is the win ratio of the losing team during the season"
   ],
   "cell_type": "markdown",
   "metadata": {}
  },
  {
   "cell_type": "code",
   "execution_count": 267,
   "metadata": {},
   "outputs": [],
   "source": [
    "df = pd.merge(\n",
    "    df,\n",
    "    df_features_season,\n",
    "    how='left',\n",
    "    left_on=['Season', 'WTeamID'],\n",
    "    right_on=['Season', 'TeamID']\n",
    ").rename(columns={\n",
    "    'NumWins': 'NumWinsW',\n",
    "    'NumLosses': 'NumLossesW',\n",
    "    'GapWins': 'GapWinsW',\n",
    "    'GapLosses': 'GapLossesW',\n",
    "    'WinRatio': 'WinRatioW',\n",
    "    'GapAvg': 'GapAvgW',\n",
    "}).drop(columns='TeamID', axis=1)"
   ]
  },
  {
   "cell_type": "code",
   "execution_count": 268,
   "metadata": {},
   "outputs": [],
   "source": [
    "df = pd.merge(\n",
    "    df,\n",
    "    df_features_season,\n",
    "    how='left',\n",
    "    left_on=['Season', 'LTeamID'],\n",
    "    right_on=['Season', 'TeamID']\n",
    ").rename(columns={\n",
    "    'NumWins': 'NumWinsL',\n",
    "    'NumLosses': 'NumLossesL',\n",
    "    'GapWins': 'GapWinsL',\n",
    "    'GapLosses': 'GapLossesL',\n",
    "    'WinRatio': 'WinRatioL',\n",
    "    'GapAvg': 'GapAvgL',\n",
    "}).drop(columns='TeamID', axis=1)"
   ]
  },
  {
   "cell_type": "code",
   "execution_count": 269,
   "metadata": {},
   "outputs": [
    {
     "output_type": "execute_result",
     "data": {
      "text/plain": [
       "   Season  DayNum  WTeamID  WScore  LTeamID  LScore  Round  SeedW  SeedL  \\\n",
       "0    2003     134     1421      92     1411      84      0     16     16   \n",
       "1    2003     136     1112      80     1436      51      1      1     16   \n",
       "2    2003     136     1113      84     1272      71      1     10      7   \n",
       "3    2003     136     1141      79     1166      73      1     11      6   \n",
       "4    2003     136     1143      76     1301      74      1      8      9   \n",
       "\n",
       "   WinRatioW    GapAvgW  WinRatioL    GapAvgL  \n",
       "0   0.448276  -7.241379   0.600000   1.966667  \n",
       "1   0.892857  14.964286   0.655172   4.655172  \n",
       "2   0.620690   6.793103   0.793103   8.689655  \n",
       "3   0.793103   6.103448   0.878788  14.909091  \n",
       "4   0.724138   4.724138   0.600000   4.400000  "
      ],
      "text/html": "<div>\n<style scoped>\n    .dataframe tbody tr th:only-of-type {\n        vertical-align: middle;\n    }\n\n    .dataframe tbody tr th {\n        vertical-align: top;\n    }\n\n    .dataframe thead th {\n        text-align: right;\n    }\n</style>\n<table border=\"1\" class=\"dataframe\">\n  <thead>\n    <tr style=\"text-align: right;\">\n      <th></th>\n      <th>Season</th>\n      <th>DayNum</th>\n      <th>WTeamID</th>\n      <th>WScore</th>\n      <th>LTeamID</th>\n      <th>LScore</th>\n      <th>Round</th>\n      <th>SeedW</th>\n      <th>SeedL</th>\n      <th>WinRatioW</th>\n      <th>GapAvgW</th>\n      <th>WinRatioL</th>\n      <th>GapAvgL</th>\n    </tr>\n  </thead>\n  <tbody>\n    <tr>\n      <th>0</th>\n      <td>2003</td>\n      <td>134</td>\n      <td>1421</td>\n      <td>92</td>\n      <td>1411</td>\n      <td>84</td>\n      <td>0</td>\n      <td>16</td>\n      <td>16</td>\n      <td>0.448276</td>\n      <td>-7.241379</td>\n      <td>0.600000</td>\n      <td>1.966667</td>\n    </tr>\n    <tr>\n      <th>1</th>\n      <td>2003</td>\n      <td>136</td>\n      <td>1112</td>\n      <td>80</td>\n      <td>1436</td>\n      <td>51</td>\n      <td>1</td>\n      <td>1</td>\n      <td>16</td>\n      <td>0.892857</td>\n      <td>14.964286</td>\n      <td>0.655172</td>\n      <td>4.655172</td>\n    </tr>\n    <tr>\n      <th>2</th>\n      <td>2003</td>\n      <td>136</td>\n      <td>1113</td>\n      <td>84</td>\n      <td>1272</td>\n      <td>71</td>\n      <td>1</td>\n      <td>10</td>\n      <td>7</td>\n      <td>0.620690</td>\n      <td>6.793103</td>\n      <td>0.793103</td>\n      <td>8.689655</td>\n    </tr>\n    <tr>\n      <th>3</th>\n      <td>2003</td>\n      <td>136</td>\n      <td>1141</td>\n      <td>79</td>\n      <td>1166</td>\n      <td>73</td>\n      <td>1</td>\n      <td>11</td>\n      <td>6</td>\n      <td>0.793103</td>\n      <td>6.103448</td>\n      <td>0.878788</td>\n      <td>14.909091</td>\n    </tr>\n    <tr>\n      <th>4</th>\n      <td>2003</td>\n      <td>136</td>\n      <td>1143</td>\n      <td>76</td>\n      <td>1301</td>\n      <td>74</td>\n      <td>1</td>\n      <td>8</td>\n      <td>9</td>\n      <td>0.724138</td>\n      <td>4.724138</td>\n      <td>0.600000</td>\n      <td>4.400000</td>\n    </tr>\n  </tbody>\n</table>\n</div>"
     },
     "metadata": {},
     "execution_count": 269
    }
   ],
   "source": [
    "df.head()"
   ]
  },
  {
   "source": [
    "Ratings\n",
    "\n",
    "OrdinalRankW is the average Massey Ranking of the winning team\n",
    "\n",
    "OrdinalRankL is the average Massey Ranking of the losing team"
   ],
   "cell_type": "markdown",
   "metadata": {}
  },
  {
   "cell_type": "code",
   "execution_count": 270,
   "metadata": {},
   "outputs": [],
   "source": [
    "avg_ranking = df_massey.groupby(['Season', 'TeamID']).mean().reset_index()"
   ]
  },
  {
   "cell_type": "code",
   "execution_count": 271,
   "metadata": {},
   "outputs": [],
   "source": [
    "df = pd.merge(\n",
    "     df,\n",
    "     avg_ranking,\n",
    "     how='left',\n",
    "     left_on=['Season', 'WTeamID'],\n",
    "     right_on=['Season', 'TeamID']\n",
    " ).drop('TeamID', axis=1).rename(columns={'OrdinalRank': 'OrdinalRankW'})"
   ]
  },
  {
   "cell_type": "code",
   "execution_count": 272,
   "metadata": {},
   "outputs": [],
   "source": [
    "df = pd.merge(\n",
    "     df, \n",
    "     avg_ranking, \n",
    "     how='left', \n",
    "     left_on=['Season', 'LTeamID'], \n",
    "     right_on=['Season', 'TeamID']\n",
    " ).drop('TeamID', axis=1).rename(columns={'OrdinalRank': 'OrdinalRankL'})"
   ]
  },
  {
   "cell_type": "code",
   "execution_count": 273,
   "metadata": {},
   "outputs": [
    {
     "output_type": "execute_result",
     "data": {
      "text/plain": [
       "   Season  DayNum  WTeamID  WScore  LTeamID  LScore  Round  SeedW  SeedL  \\\n",
       "0    2003     134     1421      92     1411      84      0     16     16   \n",
       "1    2003     136     1112      80     1436      51      1      1     16   \n",
       "2    2003     136     1113      84     1272      71      1     10      7   \n",
       "3    2003     136     1141      79     1166      73      1     11      6   \n",
       "4    2003     136     1143      76     1301      74      1      8      9   \n",
       "\n",
       "   WinRatioW    GapAvgW  WinRatioL    GapAvgL  OrdinalRankW  OrdinalRankL  \n",
       "0   0.448276  -7.241379   0.600000   1.966667    240.343750    239.281250  \n",
       "1   0.892857  14.964286   0.655172   4.655172      2.676471    153.125000  \n",
       "2   0.620690   6.793103   0.793103   8.689655     36.000000     21.705882  \n",
       "3   0.793103   6.103448   0.878788  14.909091     45.687500     20.735294  \n",
       "4   0.724138   4.724138   0.600000   4.400000     36.406250     50.312500  "
      ],
      "text/html": "<div>\n<style scoped>\n    .dataframe tbody tr th:only-of-type {\n        vertical-align: middle;\n    }\n\n    .dataframe tbody tr th {\n        vertical-align: top;\n    }\n\n    .dataframe thead th {\n        text-align: right;\n    }\n</style>\n<table border=\"1\" class=\"dataframe\">\n  <thead>\n    <tr style=\"text-align: right;\">\n      <th></th>\n      <th>Season</th>\n      <th>DayNum</th>\n      <th>WTeamID</th>\n      <th>WScore</th>\n      <th>LTeamID</th>\n      <th>LScore</th>\n      <th>Round</th>\n      <th>SeedW</th>\n      <th>SeedL</th>\n      <th>WinRatioW</th>\n      <th>GapAvgW</th>\n      <th>WinRatioL</th>\n      <th>GapAvgL</th>\n      <th>OrdinalRankW</th>\n      <th>OrdinalRankL</th>\n    </tr>\n  </thead>\n  <tbody>\n    <tr>\n      <th>0</th>\n      <td>2003</td>\n      <td>134</td>\n      <td>1421</td>\n      <td>92</td>\n      <td>1411</td>\n      <td>84</td>\n      <td>0</td>\n      <td>16</td>\n      <td>16</td>\n      <td>0.448276</td>\n      <td>-7.241379</td>\n      <td>0.600000</td>\n      <td>1.966667</td>\n      <td>240.343750</td>\n      <td>239.281250</td>\n    </tr>\n    <tr>\n      <th>1</th>\n      <td>2003</td>\n      <td>136</td>\n      <td>1112</td>\n      <td>80</td>\n      <td>1436</td>\n      <td>51</td>\n      <td>1</td>\n      <td>1</td>\n      <td>16</td>\n      <td>0.892857</td>\n      <td>14.964286</td>\n      <td>0.655172</td>\n      <td>4.655172</td>\n      <td>2.676471</td>\n      <td>153.125000</td>\n    </tr>\n    <tr>\n      <th>2</th>\n      <td>2003</td>\n      <td>136</td>\n      <td>1113</td>\n      <td>84</td>\n      <td>1272</td>\n      <td>71</td>\n      <td>1</td>\n      <td>10</td>\n      <td>7</td>\n      <td>0.620690</td>\n      <td>6.793103</td>\n      <td>0.793103</td>\n      <td>8.689655</td>\n      <td>36.000000</td>\n      <td>21.705882</td>\n    </tr>\n    <tr>\n      <th>3</th>\n      <td>2003</td>\n      <td>136</td>\n      <td>1141</td>\n      <td>79</td>\n      <td>1166</td>\n      <td>73</td>\n      <td>1</td>\n      <td>11</td>\n      <td>6</td>\n      <td>0.793103</td>\n      <td>6.103448</td>\n      <td>0.878788</td>\n      <td>14.909091</td>\n      <td>45.687500</td>\n      <td>20.735294</td>\n    </tr>\n    <tr>\n      <th>4</th>\n      <td>2003</td>\n      <td>136</td>\n      <td>1143</td>\n      <td>76</td>\n      <td>1301</td>\n      <td>74</td>\n      <td>1</td>\n      <td>8</td>\n      <td>9</td>\n      <td>0.724138</td>\n      <td>4.724138</td>\n      <td>0.600000</td>\n      <td>4.400000</td>\n      <td>36.406250</td>\n      <td>50.312500</td>\n    </tr>\n  </tbody>\n</table>\n</div>"
     },
     "metadata": {},
     "execution_count": 273
    }
   ],
   "source": [
    "df.head()"
   ]
  },
  {
   "source": [
    "Add symetrical\n",
    "\n",
    "Right now our data only consists of won matches\n",
    "\n",
    "We duplicate our data, get rid of the winner loser"
   ],
   "cell_type": "markdown",
   "metadata": {}
  },
  {
   "cell_type": "code",
   "execution_count": 274,
   "metadata": {},
   "outputs": [],
   "source": [
    "def add_loosing_matches(win_df):\n",
    "    win_rename = {\n",
    "        \"WTeamID\": \"TeamIdA\", \n",
    "        \"WScore\" : \"ScoreA\", \n",
    "        \"LTeamID\" : \"TeamIdB\",\n",
    "        \"LScore\": \"ScoreB\",\n",
    "        \"SeedW\": \"SeedA\", \n",
    "        \"SeedL\": \"SeedB\",\n",
    "        'WinRatioW' : 'WinRatioA',\n",
    "        'WinRatioL' : 'WinRatioB',\n",
    "        'GapAvgW' : 'GapAvgA',\n",
    "        'GapAvgL' : 'GapAvgB',\n",
    "        \"OrdinalRankW\": \"OrdinalRankA\",\n",
    "         \"OrdinalRankL\": \"OrdinalRankB\",\n",
    "     }\n",
    "    \n",
    "    lose_rename = {\n",
    "        \"WTeamID\": \"TeamIdB\", \n",
    "        \"WScore\" : \"ScoreB\", \n",
    "        \"LTeamID\" : \"TeamIdA\",\n",
    "        \"LScore\": \"ScoreA\",\n",
    "        \"SeedW\": \"SeedB\", \n",
    "        \"SeedL\": \"SeedA\",\n",
    "        'GapAvgW' : 'GapAvgB',\n",
    "        'GapAvgL' : 'GapAvgA',\n",
    "        'WinRatioW' : 'WinRatioB',\n",
    "        'WinRatioL' : 'WinRatioA',\n",
    "         \"OrdinalRankW\": \"OrdinalRankB\",\n",
    "         \"OrdinalRankL\": \"OrdinalRankA\",\n",
    "    }\n",
    "    \n",
    "    win_df = win_df.copy()\n",
    "    lose_df = win_df.copy()\n",
    "    \n",
    "    win_df = win_df.rename(columns=win_rename)\n",
    "    lose_df = lose_df.rename(columns=lose_rename)\n",
    "    \n",
    "    return pd.concat([win_df, lose_df], 0, sort=False)"
   ]
  },
  {
   "cell_type": "code",
   "execution_count": 275,
   "metadata": {},
   "outputs": [],
   "source": [
    "df = add_loosing_matches(df)"
   ]
  },
  {
   "source": [
    "Differences\n",
    "\n",
    "We compute the difference between the team for each feature.\n",
    "\n",
    "This helps further assessing how better (or worse) team A is from team B\n"
   ],
   "cell_type": "markdown",
   "metadata": {}
  },
  {
   "cell_type": "code",
   "execution_count": 276,
   "metadata": {},
   "outputs": [],
   "source": [
    "df['SeedDiff'] = df['SeedA'] - df['SeedB']\n",
    "df['WinRatioDiff'] = df['WinRatioA'] - df['WinRatioB']\n",
    "df['GapAvgDiff'] = df['GapAvgA'] - df['GapAvgB']\n",
    "df['OrdinalRankDiff'] = df['OrdinalRankA'] - df['OrdinalRankB']"
   ]
  },
  {
   "cell_type": "code",
   "execution_count": 277,
   "metadata": {},
   "outputs": [
    {
     "output_type": "execute_result",
     "data": {
      "text/plain": [
       "   Season  DayNum  TeamIdA  ScoreA  TeamIdB  ScoreB  Round  SeedA  SeedB  \\\n",
       "0    2003     134     1421      92     1411      84      0     16     16   \n",
       "1    2003     136     1112      80     1436      51      1      1     16   \n",
       "2    2003     136     1113      84     1272      71      1     10      7   \n",
       "3    2003     136     1141      79     1166      73      1     11      6   \n",
       "4    2003     136     1143      76     1301      74      1      8      9   \n",
       "\n",
       "   WinRatioA    GapAvgA  WinRatioB    GapAvgB  OrdinalRankA  OrdinalRankB  \\\n",
       "0   0.448276  -7.241379   0.600000   1.966667    240.343750    239.281250   \n",
       "1   0.892857  14.964286   0.655172   4.655172      2.676471    153.125000   \n",
       "2   0.620690   6.793103   0.793103   8.689655     36.000000     21.705882   \n",
       "3   0.793103   6.103448   0.878788  14.909091     45.687500     20.735294   \n",
       "4   0.724138   4.724138   0.600000   4.400000     36.406250     50.312500   \n",
       "\n",
       "   SeedDiff  WinRatioDiff  GapAvgDiff  OrdinalRankDiff  \n",
       "0         0     -0.151724   -9.208046         1.062500  \n",
       "1       -15      0.237685   10.309113      -150.448529  \n",
       "2         3     -0.172414   -1.896552        14.294118  \n",
       "3         5     -0.085684   -8.805643        24.952206  \n",
       "4        -1      0.124138    0.324138       -13.906250  "
      ],
      "text/html": "<div>\n<style scoped>\n    .dataframe tbody tr th:only-of-type {\n        vertical-align: middle;\n    }\n\n    .dataframe tbody tr th {\n        vertical-align: top;\n    }\n\n    .dataframe thead th {\n        text-align: right;\n    }\n</style>\n<table border=\"1\" class=\"dataframe\">\n  <thead>\n    <tr style=\"text-align: right;\">\n      <th></th>\n      <th>Season</th>\n      <th>DayNum</th>\n      <th>TeamIdA</th>\n      <th>ScoreA</th>\n      <th>TeamIdB</th>\n      <th>ScoreB</th>\n      <th>Round</th>\n      <th>SeedA</th>\n      <th>SeedB</th>\n      <th>WinRatioA</th>\n      <th>GapAvgA</th>\n      <th>WinRatioB</th>\n      <th>GapAvgB</th>\n      <th>OrdinalRankA</th>\n      <th>OrdinalRankB</th>\n      <th>SeedDiff</th>\n      <th>WinRatioDiff</th>\n      <th>GapAvgDiff</th>\n      <th>OrdinalRankDiff</th>\n    </tr>\n  </thead>\n  <tbody>\n    <tr>\n      <th>0</th>\n      <td>2003</td>\n      <td>134</td>\n      <td>1421</td>\n      <td>92</td>\n      <td>1411</td>\n      <td>84</td>\n      <td>0</td>\n      <td>16</td>\n      <td>16</td>\n      <td>0.448276</td>\n      <td>-7.241379</td>\n      <td>0.600000</td>\n      <td>1.966667</td>\n      <td>240.343750</td>\n      <td>239.281250</td>\n      <td>0</td>\n      <td>-0.151724</td>\n      <td>-9.208046</td>\n      <td>1.062500</td>\n    </tr>\n    <tr>\n      <th>1</th>\n      <td>2003</td>\n      <td>136</td>\n      <td>1112</td>\n      <td>80</td>\n      <td>1436</td>\n      <td>51</td>\n      <td>1</td>\n      <td>1</td>\n      <td>16</td>\n      <td>0.892857</td>\n      <td>14.964286</td>\n      <td>0.655172</td>\n      <td>4.655172</td>\n      <td>2.676471</td>\n      <td>153.125000</td>\n      <td>-15</td>\n      <td>0.237685</td>\n      <td>10.309113</td>\n      <td>-150.448529</td>\n    </tr>\n    <tr>\n      <th>2</th>\n      <td>2003</td>\n      <td>136</td>\n      <td>1113</td>\n      <td>84</td>\n      <td>1272</td>\n      <td>71</td>\n      <td>1</td>\n      <td>10</td>\n      <td>7</td>\n      <td>0.620690</td>\n      <td>6.793103</td>\n      <td>0.793103</td>\n      <td>8.689655</td>\n      <td>36.000000</td>\n      <td>21.705882</td>\n      <td>3</td>\n      <td>-0.172414</td>\n      <td>-1.896552</td>\n      <td>14.294118</td>\n    </tr>\n    <tr>\n      <th>3</th>\n      <td>2003</td>\n      <td>136</td>\n      <td>1141</td>\n      <td>79</td>\n      <td>1166</td>\n      <td>73</td>\n      <td>1</td>\n      <td>11</td>\n      <td>6</td>\n      <td>0.793103</td>\n      <td>6.103448</td>\n      <td>0.878788</td>\n      <td>14.909091</td>\n      <td>45.687500</td>\n      <td>20.735294</td>\n      <td>5</td>\n      <td>-0.085684</td>\n      <td>-8.805643</td>\n      <td>24.952206</td>\n    </tr>\n    <tr>\n      <th>4</th>\n      <td>2003</td>\n      <td>136</td>\n      <td>1143</td>\n      <td>76</td>\n      <td>1301</td>\n      <td>74</td>\n      <td>1</td>\n      <td>8</td>\n      <td>9</td>\n      <td>0.724138</td>\n      <td>4.724138</td>\n      <td>0.600000</td>\n      <td>4.400000</td>\n      <td>36.406250</td>\n      <td>50.312500</td>\n      <td>-1</td>\n      <td>0.124138</td>\n      <td>0.324138</td>\n      <td>-13.906250</td>\n    </tr>\n  </tbody>\n</table>\n</div>"
     },
     "metadata": {},
     "execution_count": 277
    }
   ],
   "source": [
    "df.head()"
   ]
  },
  {
   "source": [
    "TEST  DATA \n",
    "\n",
    "PREPARING"
   ],
   "cell_type": "markdown",
   "metadata": {}
  },
  {
   "cell_type": "code",
   "execution_count": 278,
   "metadata": {},
   "outputs": [],
   "source": [
    "df_test = pd.read_csv(DATA_PATH_M + \"MSampleSubmissionStage1.csv\")"
   ]
  },
  {
   "cell_type": "code",
   "execution_count": 279,
   "metadata": {},
   "outputs": [],
   "source": [
    "df_test['Season'] = df_test['ID'].apply(lambda x: int(x.split('_')[0]))\n",
    "df_test['TeamIdA'] = df_test['ID'].apply(lambda x: int(x.split('_')[1]))\n",
    "df_test['TeamIdB'] = df_test['ID'].apply(lambda x: int(x.split('_')[2]))"
   ]
  },
  {
   "cell_type": "code",
   "execution_count": 280,
   "metadata": {},
   "outputs": [
    {
     "output_type": "execute_result",
     "data": {
      "text/plain": [
       "               ID  Pred  Season  TeamIdA  TeamIdB\n",
       "0  2015_1107_1112   0.5    2015     1107     1112\n",
       "1  2015_1107_1116   0.5    2015     1107     1116\n",
       "2  2015_1107_1124   0.5    2015     1107     1124\n",
       "3  2015_1107_1125   0.5    2015     1107     1125\n",
       "4  2015_1107_1129   0.5    2015     1107     1129"
      ],
      "text/html": "<div>\n<style scoped>\n    .dataframe tbody tr th:only-of-type {\n        vertical-align: middle;\n    }\n\n    .dataframe tbody tr th {\n        vertical-align: top;\n    }\n\n    .dataframe thead th {\n        text-align: right;\n    }\n</style>\n<table border=\"1\" class=\"dataframe\">\n  <thead>\n    <tr style=\"text-align: right;\">\n      <th></th>\n      <th>ID</th>\n      <th>Pred</th>\n      <th>Season</th>\n      <th>TeamIdA</th>\n      <th>TeamIdB</th>\n    </tr>\n  </thead>\n  <tbody>\n    <tr>\n      <th>0</th>\n      <td>2015_1107_1112</td>\n      <td>0.5</td>\n      <td>2015</td>\n      <td>1107</td>\n      <td>1112</td>\n    </tr>\n    <tr>\n      <th>1</th>\n      <td>2015_1107_1116</td>\n      <td>0.5</td>\n      <td>2015</td>\n      <td>1107</td>\n      <td>1116</td>\n    </tr>\n    <tr>\n      <th>2</th>\n      <td>2015_1107_1124</td>\n      <td>0.5</td>\n      <td>2015</td>\n      <td>1107</td>\n      <td>1124</td>\n    </tr>\n    <tr>\n      <th>3</th>\n      <td>2015_1107_1125</td>\n      <td>0.5</td>\n      <td>2015</td>\n      <td>1107</td>\n      <td>1125</td>\n    </tr>\n    <tr>\n      <th>4</th>\n      <td>2015_1107_1129</td>\n      <td>0.5</td>\n      <td>2015</td>\n      <td>1107</td>\n      <td>1129</td>\n    </tr>\n  </tbody>\n</table>\n</div>"
     },
     "metadata": {},
     "execution_count": 280
    }
   ],
   "source": [
    "df_test.head()"
   ]
  },
  {
   "source": [
    "SEEDS"
   ],
   "cell_type": "markdown",
   "metadata": {}
  },
  {
   "cell_type": "code",
   "execution_count": 281,
   "metadata": {},
   "outputs": [],
   "source": [
    "df_test = pd.merge(\n",
    "    df_test,\n",
    "    df_seeds,\n",
    "    how='left',\n",
    "    left_on=['Season', 'TeamIdA'],\n",
    "    right_on=['Season', 'TeamID']\n",
    ").drop('TeamID', axis=1).rename(columns={'Seed': 'SeedA'})"
   ]
  },
  {
   "cell_type": "code",
   "execution_count": 282,
   "metadata": {},
   "outputs": [],
   "source": [
    "df_test = pd.merge(\n",
    "    df_test, \n",
    "    df_seeds, \n",
    "    how='left', \n",
    "    left_on=['Season', 'TeamIdB'], \n",
    "    right_on=['Season', 'TeamID']\n",
    ").drop('TeamID', axis=1).rename(columns={'Seed': 'SeedB'})"
   ]
  },
  {
   "cell_type": "code",
   "execution_count": 283,
   "metadata": {},
   "outputs": [],
   "source": [
    "df_test['SeedA'] = df_test['SeedA'].apply(treat_seed)\n",
    "df_test['SeedB'] = df_test['SeedB'].apply(treat_seed)"
   ]
  },
  {
   "source": [
    "SEASON'S STATS"
   ],
   "cell_type": "markdown",
   "metadata": {}
  },
  {
   "cell_type": "code",
   "execution_count": 284,
   "metadata": {},
   "outputs": [],
   "source": [
    "df_test = pd.merge(\n",
    "    df_test,\n",
    "    df_features_season,\n",
    "    how='left',\n",
    "    left_on=['Season', 'TeamIdA'],\n",
    "    right_on=['Season', 'TeamID']\n",
    ").rename(columns={\n",
    "    'NumWins': 'NumWinsA',\n",
    "    'NumLosses': 'NumLossesA',\n",
    "    'GapWins': 'GapWinsA',\n",
    "    'GapLosses': 'GapLossesA',\n",
    "    'WinRatio': 'WinRatioA',\n",
    "    'GapAvg': 'GapAvgA',\n",
    "}).drop(columns='TeamID', axis=1)"
   ]
  },
  {
   "cell_type": "code",
   "execution_count": 285,
   "metadata": {},
   "outputs": [],
   "source": [
    "df_test = pd.merge(\n",
    "    df_test,\n",
    "    df_features_season,\n",
    "    how='left',\n",
    "    left_on=['Season', 'TeamIdB'],\n",
    "    right_on=['Season', 'TeamID']\n",
    ").rename(columns={\n",
    "    'NumWins': 'NumWinsB',\n",
    "    'NumLosses': 'NumLossesB',\n",
    "    'GapWins': 'GapWinsB',\n",
    "    'GapLosses': 'GapLossesB',\n",
    "    'WinRatio': 'WinRatioB',\n",
    "    'GapAvg': 'GapAvgB',\n",
    "}).drop(columns='TeamID', axis=1)"
   ]
  },
  {
   "source": [
    "RATINGS "
   ],
   "cell_type": "markdown",
   "metadata": {}
  },
  {
   "cell_type": "code",
   "execution_count": 286,
   "metadata": {},
   "outputs": [],
   "source": [
    "df_test = pd.merge(\n",
    "     df_test,\n",
    "     avg_ranking,\n",
    "     how='left',\n",
    "     left_on=['Season', 'TeamIdA'],\n",
    "     right_on=['Season', 'TeamID']\n",
    " ).drop('TeamID', axis=1).rename(columns={'OrdinalRank': 'OrdinalRankA'})"
   ]
  },
  {
   "cell_type": "code",
   "execution_count": 287,
   "metadata": {},
   "outputs": [],
   "source": [
    "df_test = pd.merge(\n",
    "     df_test,\n",
    "     avg_ranking,\n",
    "     how='left',\n",
    "     left_on=['Season', 'TeamIdB'],\n",
    "     right_on=['Season', 'TeamID']\n",
    " ).drop('TeamID', axis=1).rename(columns={'OrdinalRank': 'OrdinalRankB'})"
   ]
  },
  {
   "source": [
    "DIFFERENCES"
   ],
   "cell_type": "markdown",
   "metadata": {}
  },
  {
   "cell_type": "code",
   "execution_count": 288,
   "metadata": {},
   "outputs": [],
   "source": [
    "df_test['SeedDiff'] = df_test['SeedA'] - df_test['SeedB']\n",
    "df_test['WinRatioDiff'] = df_test['WinRatioA'] - df_test['WinRatioB']\n",
    "df_test['GapAvgDiff'] = df_test['GapAvgA'] - df_test['GapAvgB']\n",
    "df_test['OrdinalRankDiff'] = df_test['OrdinalRankA'] - df_test['OrdinalRankB']"
   ]
  },
  {
   "cell_type": "code",
   "execution_count": 289,
   "metadata": {},
   "outputs": [
    {
     "output_type": "execute_result",
     "data": {
      "text/plain": [
       "               ID  Pred  Season  TeamIdA  TeamIdB  SeedA  SeedB  WinRatioA  \\\n",
       "0  2015_1107_1112   0.5    2015     1107     1112     14      2       0.75   \n",
       "1  2015_1107_1116   0.5    2015     1107     1116     14      5       0.75   \n",
       "2  2015_1107_1124   0.5    2015     1107     1124     14      3       0.75   \n",
       "3  2015_1107_1125   0.5    2015     1107     1125     14     15       0.75   \n",
       "4  2015_1107_1129   0.5    2015     1107     1129     14     11       0.75   \n",
       "\n",
       "   GapAvgA  WinRatioB    GapAvgB  OrdinalRankA  OrdinalRankB  SeedDiff  \\\n",
       "0  5.28125   0.911765  17.823529     118.87931      4.209677        12   \n",
       "1  5.28125   0.764706   7.882353     118.87931     22.306452         9   \n",
       "2  5.28125   0.718750   8.812500     118.87931     14.177419        11   \n",
       "3  5.28125   0.677419   3.612903     118.87931    129.724138        -1   \n",
       "4  5.28125   0.741935   8.935484     118.87931     46.700000         3   \n",
       "\n",
       "   WinRatioDiff  GapAvgDiff  OrdinalRankDiff  \n",
       "0     -0.161765  -12.542279       114.669633  \n",
       "1     -0.014706   -2.601103        96.572859  \n",
       "2      0.031250   -3.531250       104.701891  \n",
       "3      0.072581    1.668347       -10.844828  \n",
       "4      0.008065   -3.654234        72.179310  "
      ],
      "text/html": "<div>\n<style scoped>\n    .dataframe tbody tr th:only-of-type {\n        vertical-align: middle;\n    }\n\n    .dataframe tbody tr th {\n        vertical-align: top;\n    }\n\n    .dataframe thead th {\n        text-align: right;\n    }\n</style>\n<table border=\"1\" class=\"dataframe\">\n  <thead>\n    <tr style=\"text-align: right;\">\n      <th></th>\n      <th>ID</th>\n      <th>Pred</th>\n      <th>Season</th>\n      <th>TeamIdA</th>\n      <th>TeamIdB</th>\n      <th>SeedA</th>\n      <th>SeedB</th>\n      <th>WinRatioA</th>\n      <th>GapAvgA</th>\n      <th>WinRatioB</th>\n      <th>GapAvgB</th>\n      <th>OrdinalRankA</th>\n      <th>OrdinalRankB</th>\n      <th>SeedDiff</th>\n      <th>WinRatioDiff</th>\n      <th>GapAvgDiff</th>\n      <th>OrdinalRankDiff</th>\n    </tr>\n  </thead>\n  <tbody>\n    <tr>\n      <th>0</th>\n      <td>2015_1107_1112</td>\n      <td>0.5</td>\n      <td>2015</td>\n      <td>1107</td>\n      <td>1112</td>\n      <td>14</td>\n      <td>2</td>\n      <td>0.75</td>\n      <td>5.28125</td>\n      <td>0.911765</td>\n      <td>17.823529</td>\n      <td>118.87931</td>\n      <td>4.209677</td>\n      <td>12</td>\n      <td>-0.161765</td>\n      <td>-12.542279</td>\n      <td>114.669633</td>\n    </tr>\n    <tr>\n      <th>1</th>\n      <td>2015_1107_1116</td>\n      <td>0.5</td>\n      <td>2015</td>\n      <td>1107</td>\n      <td>1116</td>\n      <td>14</td>\n      <td>5</td>\n      <td>0.75</td>\n      <td>5.28125</td>\n      <td>0.764706</td>\n      <td>7.882353</td>\n      <td>118.87931</td>\n      <td>22.306452</td>\n      <td>9</td>\n      <td>-0.014706</td>\n      <td>-2.601103</td>\n      <td>96.572859</td>\n    </tr>\n    <tr>\n      <th>2</th>\n      <td>2015_1107_1124</td>\n      <td>0.5</td>\n      <td>2015</td>\n      <td>1107</td>\n      <td>1124</td>\n      <td>14</td>\n      <td>3</td>\n      <td>0.75</td>\n      <td>5.28125</td>\n      <td>0.718750</td>\n      <td>8.812500</td>\n      <td>118.87931</td>\n      <td>14.177419</td>\n      <td>11</td>\n      <td>0.031250</td>\n      <td>-3.531250</td>\n      <td>104.701891</td>\n    </tr>\n    <tr>\n      <th>3</th>\n      <td>2015_1107_1125</td>\n      <td>0.5</td>\n      <td>2015</td>\n      <td>1107</td>\n      <td>1125</td>\n      <td>14</td>\n      <td>15</td>\n      <td>0.75</td>\n      <td>5.28125</td>\n      <td>0.677419</td>\n      <td>3.612903</td>\n      <td>118.87931</td>\n      <td>129.724138</td>\n      <td>-1</td>\n      <td>0.072581</td>\n      <td>1.668347</td>\n      <td>-10.844828</td>\n    </tr>\n    <tr>\n      <th>4</th>\n      <td>2015_1107_1129</td>\n      <td>0.5</td>\n      <td>2015</td>\n      <td>1107</td>\n      <td>1129</td>\n      <td>14</td>\n      <td>11</td>\n      <td>0.75</td>\n      <td>5.28125</td>\n      <td>0.741935</td>\n      <td>8.935484</td>\n      <td>118.87931</td>\n      <td>46.700000</td>\n      <td>3</td>\n      <td>0.008065</td>\n      <td>-3.654234</td>\n      <td>72.179310</td>\n    </tr>\n  </tbody>\n</table>\n</div>"
     },
     "metadata": {},
     "execution_count": 289
    }
   ],
   "source": [
    "df_test.head()"
   ]
  },
  {
   "source": [
    "TARGETS"
   ],
   "cell_type": "markdown",
   "metadata": {}
  },
  {
   "cell_type": "code",
   "execution_count": 290,
   "metadata": {},
   "outputs": [],
   "source": [
    "df['ScoreDiff'] = df['ScoreA'] - df['ScoreB']\n",
    "df['WinA'] = (df['ScoreDiff'] > 0).astype(int)"
   ]
  },
  {
   "source": [
    "MODELLING"
   ],
   "cell_type": "markdown",
   "metadata": {}
  },
  {
   "cell_type": "code",
   "execution_count": 291,
   "metadata": {},
   "outputs": [],
   "source": [
    "features = [\n",
    "    'SeedA',\n",
    "    'SeedB',\n",
    "    'WinRatioA',\n",
    "    'GapAvgA',\n",
    "    'WinRatioB',\n",
    "    'GapAvgB',\n",
    "    'OrdinalRankA',\n",
    "    'OrdinalRankB',\n",
    "    'SeedDiff',\n",
    "    'WinRatioDiff',\n",
    "    'GapAvgDiff',\n",
    "    'OrdinalRankDiff',\n",
    "]"
   ]
  },
  {
   "cell_type": "code",
   "execution_count": 292,
   "metadata": {},
   "outputs": [],
   "source": [
    "def rescale(features, df_train, df_val, df_test=None):\n",
    "    min_ = df_train[features].min()\n",
    "    max_ = df_train[features].max()\n",
    "    \n",
    "    df_train[features] = (df_train[features] - min_) / (max_ - min_)\n",
    "    df_val[features] = (df_val[features] - min_) / (max_ - min_)\n",
    "    \n",
    "    if df_test is not None:\n",
    "        df_test[features] = (df_test[features] - min_) / (max_ - min_)\n",
    "        \n",
    "    return df_train, df_val, df_test"
   ]
  },
  {
   "source": [
    "Cross Validation\n",
    "\n",
    "Validate on season n, for n in the 10 last seasons.\n",
    "\n",
    "Train on earlier seasons\n",
    "\n",
    "Pipeline support classification (predict the team that wins) and regression (predict the score gap)"
   ],
   "cell_type": "markdown",
   "metadata": {}
  },
  {
   "cell_type": "code",
   "execution_count": 293,
   "metadata": {},
   "outputs": [],
   "source": [
    "def kfold_reg(df, df_test_=None, plot=False, verbose=0, mode=\"reg\"):\n",
    "    seasons = df['Season'].unique()\n",
    "    cvs = []\n",
    "    pred_tests = []\n",
    "    target = \"ScoreDiff\" if mode == \"reg\" else \"WinA\"\n",
    "    \n",
    "    for season in seasons[10:]:\n",
    "        if verbose:\n",
    "            print(f'\\nValidating on season {season}')\n",
    "        \n",
    "        df_train = df[df['Season'] < season].reset_index(drop=True).copy()\n",
    "        df_val = df[df['Season'] == season].reset_index(drop=True).copy()\n",
    "        df_test = df_test_.copy()\n",
    "        \n",
    "        df_train, df_val, df_test = rescale(features, df_train, df_val, df_test)\n",
    "        \n",
    "        if mode == \"reg\":\n",
    "            model = ElasticNet(alpha=1, l1_ratio=0.5)\n",
    "        else:\n",
    "            model = LogisticRegression(C=10)\n",
    "            \n",
    "        model.fit(df_train[features], df_train[target])\n",
    "        \n",
    "        if mode == \"reg\":\n",
    "            pred = model.predict(df_val[features])\n",
    "            pred = (pred - pred.min()) / (pred.max() - pred.min())\n",
    "        else:\n",
    "            pred = model.predict_proba(df_val[features])[:, 1]\n",
    "        \n",
    "        if df_test is not None:\n",
    "            if mode == \"reg\":\n",
    "                pred_test = model.predict(df_test[features])\n",
    "                pred_test = (pred_test - pred_test.min()) / (pred_test.max() - pred_test.min())\n",
    "            else:\n",
    "                pred_test = model.predict_proba(df_test[features])[:, 1]\n",
    "                \n",
    "            pred_tests.append(pred_test)\n",
    "            \n",
    "        if plot:\n",
    "            plt.figure(figsize=(15, 6))\n",
    "            plt.subplot(1, 2, 1)\n",
    "            plt.scatter(pred, df_val['ScoreDiff'].values, s=5)\n",
    "            plt.grid(True)\n",
    "            plt.subplot(1, 2, 2)\n",
    "            sns.histplot(pred)\n",
    "            plt.show()\n",
    "        \n",
    "        loss = log_loss(df_val['WinA'].values, pred)\n",
    "        cvs.append(loss)\n",
    "\n",
    "        if verbose:\n",
    "            print(f'\\t -> Scored {loss:.3f}')\n",
    "        \n",
    "    print(f'\\n Local CV is {np.mean(cvs):.3f}')\n",
    "    \n",
    "    return pred_tests"
   ]
  },
  {
   "cell_type": "code",
   "execution_count": 294,
   "metadata": {},
   "outputs": [
    {
     "output_type": "stream",
     "name": "stdout",
     "text": [
      "\n",
      "Validating on season 2013\n",
      "\t -> Scored 0.610\n",
      "\n",
      "Validating on season 2014\n",
      "\t -> Scored 0.585\n",
      "\n",
      "Validating on season 2015\n",
      "\t -> Scored 0.522\n",
      "\n",
      "Validating on season 2016\n",
      "\t -> Scored 0.565\n",
      "\n",
      "Validating on season 2017\n",
      "\t -> Scored 0.521\n",
      "\n",
      "Validating on season 2018\n",
      "\t -> Scored 0.610\n",
      "\n",
      "Validating on season 2019\n",
      "\t -> Scored 0.493\n",
      "\n",
      " Local CV is 0.558\n"
     ]
    }
   ],
   "source": [
    "pred_tests = kfold_reg(df, df_test, plot=False, verbose=1, mode=\"cls\")"
   ]
  },
  {
   "source": [
    "Submission\n",
    "\n",
    "Note that this pipeline is leaky during the first stage of the competition : the LB will be underestimated since the last 4\n",
    "\n",
    "models were trained"
   ],
   "cell_type": "markdown",
   "metadata": {}
  },
  {
   "cell_type": "code",
   "execution_count": 295,
   "metadata": {},
   "outputs": [],
   "source": [
    "pred_test = np.mean(pred_tests, 0)"
   ]
  },
  {
   "cell_type": "code",
   "execution_count": 296,
   "metadata": {},
   "outputs": [],
   "source": [
    "sub = df_test[['ID', 'Pred']].copy()\n",
    "sub['Pred'] = pred_test\n",
    "sub.to_csv('submission_Ismail_AbooNaziha.csv', index=False)"
   ]
  },
  {
   "cell_type": "code",
   "execution_count": 297,
   "metadata": {},
   "outputs": [
    {
     "output_type": "execute_result",
     "data": {
      "text/plain": [
       "               ID      Pred\n",
       "0  2015_1107_1112  0.045023\n",
       "1  2015_1107_1116  0.122837\n",
       "2  2015_1107_1124  0.088381\n",
       "3  2015_1107_1125  0.563249\n",
       "4  2015_1107_1129  0.203074"
      ],
      "text/html": "<div>\n<style scoped>\n    .dataframe tbody tr th:only-of-type {\n        vertical-align: middle;\n    }\n\n    .dataframe tbody tr th {\n        vertical-align: top;\n    }\n\n    .dataframe thead th {\n        text-align: right;\n    }\n</style>\n<table border=\"1\" class=\"dataframe\">\n  <thead>\n    <tr style=\"text-align: right;\">\n      <th></th>\n      <th>ID</th>\n      <th>Pred</th>\n    </tr>\n  </thead>\n  <tbody>\n    <tr>\n      <th>0</th>\n      <td>2015_1107_1112</td>\n      <td>0.045023</td>\n    </tr>\n    <tr>\n      <th>1</th>\n      <td>2015_1107_1116</td>\n      <td>0.122837</td>\n    </tr>\n    <tr>\n      <th>2</th>\n      <td>2015_1107_1124</td>\n      <td>0.088381</td>\n    </tr>\n    <tr>\n      <th>3</th>\n      <td>2015_1107_1125</td>\n      <td>0.563249</td>\n    </tr>\n    <tr>\n      <th>4</th>\n      <td>2015_1107_1129</td>\n      <td>0.203074</td>\n    </tr>\n  </tbody>\n</table>\n</div>"
     },
     "metadata": {},
     "execution_count": 297
    }
   ],
   "source": [
    "sub.head()"
   ]
  },
  {
   "cell_type": "code",
   "execution_count": null,
   "metadata": {},
   "outputs": [],
   "source": []
  }
 ]
}