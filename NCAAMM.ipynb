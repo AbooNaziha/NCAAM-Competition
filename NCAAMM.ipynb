{
 "metadata": {
  "language_info": {
   "codemirror_mode": {
    "name": "ipython",
    "version": 3
   },
   "file_extension": ".py",
   "mimetype": "text/x-python",
   "name": "python",
   "nbconvert_exporter": "python",
   "pygments_lexer": "ipython3",
   "version": "3.7.7-final"
  },
  "orig_nbformat": 2,
  "kernelspec": {
   "name": "python3",
   "display_name": "Python 3.7.7 64-bit ('tf': conda)",
   "metadata": {
    "interpreter": {
     "hash": "1b4bd66619e1f63a2810c0f91c748d47860e139f5a175a9a480ebd9d4456bd5e"
    }
   }
  }
 },
 "nbformat": 4,
 "nbformat_minor": 2,
 "cells": [
  {
   "cell_type": "code",
   "execution_count": 1,
   "metadata": {},
   "outputs": [],
   "source": [
    "import os\n",
    "import re\n",
    "import sklearn\n",
    "import numpy as np \n",
    "import pandas as pd\n",
    "import seaborn as sns\n",
    "import matplotlib.pyplot as plt\n",
    "\n",
    "from collections import Counter\n",
    "from sklearn.metrics import *\n",
    "from sklearn.linear_model import *\n",
    "from sklearn.model_selection import *\n",
    "\n",
    "pd.set_option('display.max_columns', None)"
   ]
  },
  {
   "cell_type": "code",
   "execution_count": 6,
   "metadata": {},
   "outputs": [
    {
     "output_type": "stream",
     "name": "stdout",
     "text": [
      "Cities.csv\nConferences.csv\nMConferenceTourneyGames.csv\nMGameCities.csv\nMMasseyOrdinals.csv\nMNCAATourneyCompactResults.csv\nMNCAATourneyDetailedResults.csv\nMNCAATourneySeedRoundSlots.csv\nMNCAATourneySeeds.csv\nMNCAATourneySlots.csv\nMRegularSeasonCompactResults.csv\nMRegularSeasonDetailedResults.csv\nMSampleSubmissionStage1.csv\nMSeasons.csv\nMSecondaryTourneyCompactResults.csv\nMSecondaryTourneyTeams.csv\nMTeamCoaches.csv\nMTeamConferences.csv\nMTeams.csv\nMTeamSpellings.csv\n"
     ]
    }
   ],
   "source": [
    "DATA_PATH_M = 'C:/Users/FLUXNATURE/Desktop/New Kaggle world/NCAAM/'\n",
    "\n",
    "for filename in os.listdir(DATA_PATH_M):\n",
    "    print(filename)"
   ]
  },
  {
   "source": [
    "DATA PREPARATION AND PROCESSING\n",
    "\n",
    "Data: WNCAATourneySeeds.csv\n",
    "\n",
    "\"This file identifies the seeds for all teams in each NCAA® tournament, for all seasons of historical data. Thus, there are exactly 64 rows for each year, since there are no play-in teams in the women's tournament. We will not know the seeds of the respective tournament teams, or even exactly which 64 teams it will be, until Selection Monday on March 16, 2020 (DayNum=133).\n",
    "\n",
    "Season - the year that the tournament was played in Seed - this is a 3-character identifier of the seed, where the first character is either W, X, Y, or Z (identifying the region the team was in) and the next two digits (either 01, 02, ..., 15, or 16) tell you the seed within the region. For example, the first record in the file is seed W01, which means we are looking at the #1 seed in the W region (which we can see from the \"WSeasons.csv\" file was the East region). TeamID - this identifies the id number of the team, as specified in the WTeams.csv file\""
   ],
   "cell_type": "markdown",
   "metadata": {}
  },
  {
   "cell_type": "code",
   "execution_count": 7,
   "metadata": {},
   "outputs": [
    {
     "output_type": "execute_result",
     "data": {
      "text/plain": [
       "   Season Seed  TeamID\n",
       "0    1985  W01    1207\n",
       "1    1985  W02    1210\n",
       "2    1985  W03    1228\n",
       "3    1985  W04    1260\n",
       "4    1985  W05    1374"
      ],
      "text/html": "<div>\n<style scoped>\n    .dataframe tbody tr th:only-of-type {\n        vertical-align: middle;\n    }\n\n    .dataframe tbody tr th {\n        vertical-align: top;\n    }\n\n    .dataframe thead th {\n        text-align: right;\n    }\n</style>\n<table border=\"1\" class=\"dataframe\">\n  <thead>\n    <tr style=\"text-align: right;\">\n      <th></th>\n      <th>Season</th>\n      <th>Seed</th>\n      <th>TeamID</th>\n    </tr>\n  </thead>\n  <tbody>\n    <tr>\n      <th>0</th>\n      <td>1985</td>\n      <td>W01</td>\n      <td>1207</td>\n    </tr>\n    <tr>\n      <th>1</th>\n      <td>1985</td>\n      <td>W02</td>\n      <td>1210</td>\n    </tr>\n    <tr>\n      <th>2</th>\n      <td>1985</td>\n      <td>W03</td>\n      <td>1228</td>\n    </tr>\n    <tr>\n      <th>3</th>\n      <td>1985</td>\n      <td>W04</td>\n      <td>1260</td>\n    </tr>\n    <tr>\n      <th>4</th>\n      <td>1985</td>\n      <td>W05</td>\n      <td>1374</td>\n    </tr>\n  </tbody>\n</table>\n</div>"
     },
     "metadata": {},
     "execution_count": 7
    }
   ],
   "source": [
    " df_seeds = pd.read_csv(DATA_PATH_M + \"MNCAATourneySeeds.csv\")\n",
    " df_seeds.head()"
   ]
  },
  {
   "source": [
    "SEASON'S RESULTS\n",
    "\n",
    "Data: WRegularSeasonCompactResults.csv\n",
    "\n",
    "This file identifies the game-by-game results for many seasons of historical data, starting with the 1998 season. For each season, the file includes all games played from DayNum 0 through 132. It is important to realize that the \"Regular Season\" games are simply defined to be all games played on DayNum=132 or earlier (DayNum=133 is Selection Monday). Thus a game played before Selection Monday will show up here whether it was a pre-season tournament, a non-conference game, a regular conference game, a conference tournament game, or whatever.\n",
    "\n",
    "Season - this is the year of the associated entry in WSeasons.csv (the year in which the final tournament occurs). For example, during the 2016 season, there were regular season games played between November 2015 and March 2016, and all of those games will show up with a Season of 2016.\n",
    "\n",
    "DayNum - this integer always ranges from 0 to 132, and tells you what day the game was played on. It represents an offset from the \"DayZero\" date in the \"WSeasons.csv\" file. For example, the first game in the file was DayNum=18. Combined with the fact from the \"WSeasons.csv\" file that day zero was 10/27/1997 that year, this means the first game was played 18 days later, or 11/14/1997. There are no teams that ever played more than one game on a given date, so you can use this fact if you need a unique key (combining Season and DayNum and WTeamID).\n",
    "\n",
    "WTeamID - this identifies the id number of the team that won the game, as listed in the \"WTeams.csv\" file. No matter whether the game was won by the home team or visiting team, or if it was a neutral-site game, the \"WTeamID\" always identifies the winning team.\n",
    "\n",
    "WScore - this identifies the number of points scored by the winning team.\n",
    "\n",
    "LTeamID - this identifies the id number of the team that lost the game.\n",
    "\n",
    "LScore - this identifies the number of points scored by the losing team. Thus you can be confident that WScore will be greater than LScore for all games listed.\n",
    "\n",
    "NumOT - this indicates the number of overtime periods in the game, an integer 0 or higher.\n",
    "\n",
    "WLoc - this identifies the \"location\" of the winning team. If the winning team was the home team, this value will be \"H\". If the winning team was the visiting team, this value will be \"A\". If it was played on a neutral court, then this value will be \"N\".\n",
    "\n"
   ],
   "cell_type": "markdown",
   "metadata": {}
  },
  {
   "cell_type": "code",
   "execution_count": 9,
   "metadata": {},
   "outputs": [],
   "source": [
    "#dropping NumOT and WLoc from the data \n",
    "df_season_results = pd.read_csv(DATA_PATH_M + \"MRegularSeasonCompactResults.csv\")\n",
    "df_season_results.drop(['NumOT', 'WLoc'], axis=1, inplace=True)"
   ]
  },
  {
   "cell_type": "code",
   "execution_count": 10,
   "metadata": {},
   "outputs": [],
   "source": [
    "df_season_results['ScoreGap'] = df_season_results['WScore'] - df_season_results['LScore']"
   ]
  },
  {
   "cell_type": "code",
   "execution_count": 11,
   "metadata": {},
   "outputs": [
    {
     "output_type": "execute_result",
     "data": {
      "text/plain": [
       "   Season  DayNum  WTeamID  WScore  LTeamID  LScore  ScoreGap\n",
       "0    1985      20     1228      81     1328      64        17\n",
       "1    1985      25     1106      77     1354      70         7\n",
       "2    1985      25     1112      63     1223      56         7\n",
       "3    1985      25     1165      70     1432      54        16"
      ],
      "text/html": "<div>\n<style scoped>\n    .dataframe tbody tr th:only-of-type {\n        vertical-align: middle;\n    }\n\n    .dataframe tbody tr th {\n        vertical-align: top;\n    }\n\n    .dataframe thead th {\n        text-align: right;\n    }\n</style>\n<table border=\"1\" class=\"dataframe\">\n  <thead>\n    <tr style=\"text-align: right;\">\n      <th></th>\n      <th>Season</th>\n      <th>DayNum</th>\n      <th>WTeamID</th>\n      <th>WScore</th>\n      <th>LTeamID</th>\n      <th>LScore</th>\n      <th>ScoreGap</th>\n    </tr>\n  </thead>\n  <tbody>\n    <tr>\n      <th>0</th>\n      <td>1985</td>\n      <td>20</td>\n      <td>1228</td>\n      <td>81</td>\n      <td>1328</td>\n      <td>64</td>\n      <td>17</td>\n    </tr>\n    <tr>\n      <th>1</th>\n      <td>1985</td>\n      <td>25</td>\n      <td>1106</td>\n      <td>77</td>\n      <td>1354</td>\n      <td>70</td>\n      <td>7</td>\n    </tr>\n    <tr>\n      <th>2</th>\n      <td>1985</td>\n      <td>25</td>\n      <td>1112</td>\n      <td>63</td>\n      <td>1223</td>\n      <td>56</td>\n      <td>7</td>\n    </tr>\n    <tr>\n      <th>3</th>\n      <td>1985</td>\n      <td>25</td>\n      <td>1165</td>\n      <td>70</td>\n      <td>1432</td>\n      <td>54</td>\n      <td>16</td>\n    </tr>\n  </tbody>\n</table>\n</div>"
     },
     "metadata": {},
     "execution_count": 11
    }
   ],
   "source": [
    "df_season_results.head(4)"
   ]
  },
  {
   "source": [
    "Features\n",
    "For each team at each season, I compute :\n",
    "\n",
    "Number of wins\n",
    "\n",
    "Number of losses\n",
    "\n",
    "Average score gap of wins\n",
    "\n",
    "Average score gap of losses\n",
    "\n",
    "And use the following features :\n",
    "\n",
    "Win Ratio\n",
    "Average score gap"
   ],
   "cell_type": "markdown",
   "metadata": {}
  },
  {
   "cell_type": "code",
   "execution_count": 12,
   "metadata": {},
   "outputs": [],
   "source": [
    "num_win = df_season_results.groupby(['Season', 'WTeamID']).count()\n",
    "num_win = num_win.reset_index()[['Season', 'WTeamID', 'DayNum']].rename(columns={\"DayNum\": \"NumWins\", \"WTeamID\": \"TeamID\"})"
   ]
  },
  {
   "cell_type": "code",
   "execution_count": 13,
   "metadata": {},
   "outputs": [],
   "source": [
    "num_loss = df_season_results.groupby(['Season', 'LTeamID']).count()\n",
    "num_loss = num_loss.reset_index()[['Season', 'LTeamID', 'DayNum']].rename(columns={\"DayNum\": \"NumLosses\", \"LTeamID\": \"TeamID\"})"
   ]
  },
  {
   "cell_type": "code",
   "execution_count": 14,
   "metadata": {},
   "outputs": [],
   "source": [
    "gap_win = df_season_results.groupby(['Season', 'WTeamID']).mean().reset_index()\n",
    "gap_win = gap_win[['Season', 'WTeamID', 'ScoreGap']].rename(columns={\"ScoreGap\": \"GapWins\", \"WTeamID\": \"TeamID\"})"
   ]
  },
  {
   "cell_type": "code",
   "execution_count": 15,
   "metadata": {},
   "outputs": [],
   "source": [
    "gap_loss = df_season_results.groupby(['Season', 'LTeamID']).mean().reset_index()\n",
    "gap_loss = gap_loss[['Season', 'LTeamID', 'ScoreGap']].rename(columns={\"ScoreGap\": \"GapLosses\", \"LTeamID\": \"TeamID\"})"
   ]
  },
  {
   "source": [
    "MERGE COMPUTATIONS "
   ],
   "cell_type": "markdown",
   "metadata": {}
  },
  {
   "cell_type": "code",
   "execution_count": 16,
   "metadata": {},
   "outputs": [],
   "source": [
    "df_features_season_w = df_season_results.groupby(['Season', 'WTeamID']).count().reset_index()[['Season', 'WTeamID']].rename(columns={\"WTeamID\": \"TeamID\"})\n",
    "df_features_season_l = df_season_results.groupby(['Season', 'LTeamID']).count().reset_index()[['Season', 'LTeamID']].rename(columns={\"LTeamID\": \"TeamID\"})"
   ]
  },
  {
   "cell_type": "code",
   "execution_count": 17,
   "metadata": {},
   "outputs": [],
   "source": [
    "df_features_season = pd.concat([df_features_season_w, df_features_season_l], 0).drop_duplicates().sort_values(['Season', 'TeamID']).reset_index(drop=True)"
   ]
  },
  {
   "cell_type": "code",
   "execution_count": 18,
   "metadata": {},
   "outputs": [],
   "source": [
    "df_features_season = df_features_season.merge(num_win, on=['Season', 'TeamID'], how='left')\n",
    "df_features_season = df_features_season.merge(num_loss, on=['Season', 'TeamID'], how='left')\n",
    "df_features_season = df_features_season.merge(gap_win, on=['Season', 'TeamID'], how='left')\n",
    "df_features_season = df_features_season.merge(gap_loss, on=['Season', 'TeamID'], how='left')"
   ]
  },
  {
   "cell_type": "code",
   "execution_count": 19,
   "metadata": {},
   "outputs": [],
   "source": [
    "df_features_season.fillna(0, inplace=True) "
   ]
  },
  {
   "source": [
    "FEATURES COMPUTATION"
   ],
   "cell_type": "markdown",
   "metadata": {}
  },
  {
   "cell_type": "code",
   "execution_count": 20,
   "metadata": {},
   "outputs": [],
   "source": [
    "df_features_season['WinRatio'] = df_features_season['NumWins'] / (df_features_season['NumWins'] + df_features_season['NumLosses'])\n",
    "df_features_season['GapAvg'] = (\n",
    "    (df_features_season['NumWins'] * df_features_season['GapWins'] - \n",
    "    df_features_season['NumLosses'] * df_features_season['GapLosses'])\n",
    "    / (df_features_season['NumWins'] + df_features_season['NumLosses'])\n",
    ")"
   ]
  },
  {
   "cell_type": "code",
   "execution_count": 21,
   "metadata": {},
   "outputs": [],
   "source": [
    "df_features_season.drop(['NumWins', 'NumLosses', 'GapWins', 'GapLosses'], axis=1, inplace=True)"
   ]
  },
  {
   "source": [
    "TOURNEY\n",
    "\n",
    "Data: WNCAATourneyCompactResults.csv\n",
    "\n",
    "This file identifies the game-by-game NCAA® tournament results for all seasons of historical data. The data is formatted exactly like the WRegularSeasonCompactResults data. Each season you will see 63 games listed, since there are no women's play-in games.\n",
    "\n",
    "Although the scheduling of the men's tournament rounds has been consistent for many years, there has been more variety in the scheduling of the women's rounds. There have been four different schedules over the course of the past 20+ years for the women's tournament, as follows:"
   ],
   "cell_type": "markdown",
   "metadata": {}
  },
  {
   "cell_type": "code",
   "execution_count": 23,
   "metadata": {},
   "outputs": [],
   "source": [
    "df_tourney_results = pd.read_csv(DATA_PATH_M + \"MNCAATourneyCompactResults.csv\")\n",
    "df_tourney_results.drop(['NumOT', 'WLoc'], axis=1, inplace=True)"
   ]
  },
  {
   "source": [
    "The DayNum features can be improved by replacing it by the corresponding round."
   ],
   "cell_type": "markdown",
   "metadata": {}
  },
  {
   "cell_type": "code",
   "execution_count": 24,
   "metadata": {},
   "outputs": [],
   "source": [
    "def get_round(day):\n",
    "    round_dic = {134: 0, 135: 0, 136: 1, 137: 1, 138: 2, 139: 2, 143: 3, 144: 3, 145: 4, 146: 4, 152: 5, 154: 6}\n",
    "    try:\n",
    "        return round_dic[day]\n",
    "    except:\n",
    "        print(f'Unknow day : {day}')\n",
    "        return 0\n"
   ]
  },
  {
   "cell_type": "code",
   "execution_count": 25,
   "metadata": {},
   "outputs": [],
   "source": [
    "df_tourney_results['Round'] = df_tourney_results['DayNum'].apply(get_round)"
   ]
  },
  {
   "cell_type": "code",
   "execution_count": 26,
   "metadata": {},
   "outputs": [
    {
     "output_type": "execute_result",
     "data": {
      "text/plain": [
       "   Season  DayNum  WTeamID  WScore  LTeamID  LScore  Round\n",
       "0    1985     136     1116      63     1234      54      1\n",
       "1    1985     136     1120      59     1345      58      1\n",
       "2    1985     136     1207      68     1250      43      1\n",
       "3    1985     136     1229      58     1425      55      1\n",
       "4    1985     136     1242      49     1325      38      1"
      ],
      "text/html": "<div>\n<style scoped>\n    .dataframe tbody tr th:only-of-type {\n        vertical-align: middle;\n    }\n\n    .dataframe tbody tr th {\n        vertical-align: top;\n    }\n\n    .dataframe thead th {\n        text-align: right;\n    }\n</style>\n<table border=\"1\" class=\"dataframe\">\n  <thead>\n    <tr style=\"text-align: right;\">\n      <th></th>\n      <th>Season</th>\n      <th>DayNum</th>\n      <th>WTeamID</th>\n      <th>WScore</th>\n      <th>LTeamID</th>\n      <th>LScore</th>\n      <th>Round</th>\n    </tr>\n  </thead>\n  <tbody>\n    <tr>\n      <th>0</th>\n      <td>1985</td>\n      <td>136</td>\n      <td>1116</td>\n      <td>63</td>\n      <td>1234</td>\n      <td>54</td>\n      <td>1</td>\n    </tr>\n    <tr>\n      <th>1</th>\n      <td>1985</td>\n      <td>136</td>\n      <td>1120</td>\n      <td>59</td>\n      <td>1345</td>\n      <td>58</td>\n      <td>1</td>\n    </tr>\n    <tr>\n      <th>2</th>\n      <td>1985</td>\n      <td>136</td>\n      <td>1207</td>\n      <td>68</td>\n      <td>1250</td>\n      <td>43</td>\n      <td>1</td>\n    </tr>\n    <tr>\n      <th>3</th>\n      <td>1985</td>\n      <td>136</td>\n      <td>1229</td>\n      <td>58</td>\n      <td>1425</td>\n      <td>55</td>\n      <td>1</td>\n    </tr>\n    <tr>\n      <th>4</th>\n      <td>1985</td>\n      <td>136</td>\n      <td>1242</td>\n      <td>49</td>\n      <td>1325</td>\n      <td>38</td>\n      <td>1</td>\n    </tr>\n  </tbody>\n</table>\n</div>"
     },
     "metadata": {},
     "execution_count": 26
    }
   ],
   "source": [
    "df_tourney_results.head()"
   ]
  },
  {
   "cell_type": "code",
   "execution_count": 27,
   "metadata": {},
   "outputs": [
    {
     "output_type": "execute_result",
     "data": {
      "text/plain": [
       "      Season  DayNum  WTeamID  WScore  LTeamID  LScore  Round\n",
       "2246    2019     146     1120      77     1246      71      4\n",
       "2247    2019     146     1277      68     1181      67      4\n",
       "2248    2019     152     1403      61     1277      51      5\n",
       "2249    2019     152     1438      63     1120      62      5\n",
       "2250    2019     154     1438      85     1403      77      6"
      ],
      "text/html": "<div>\n<style scoped>\n    .dataframe tbody tr th:only-of-type {\n        vertical-align: middle;\n    }\n\n    .dataframe tbody tr th {\n        vertical-align: top;\n    }\n\n    .dataframe thead th {\n        text-align: right;\n    }\n</style>\n<table border=\"1\" class=\"dataframe\">\n  <thead>\n    <tr style=\"text-align: right;\">\n      <th></th>\n      <th>Season</th>\n      <th>DayNum</th>\n      <th>WTeamID</th>\n      <th>WScore</th>\n      <th>LTeamID</th>\n      <th>LScore</th>\n      <th>Round</th>\n    </tr>\n  </thead>\n  <tbody>\n    <tr>\n      <th>2246</th>\n      <td>2019</td>\n      <td>146</td>\n      <td>1120</td>\n      <td>77</td>\n      <td>1246</td>\n      <td>71</td>\n      <td>4</td>\n    </tr>\n    <tr>\n      <th>2247</th>\n      <td>2019</td>\n      <td>146</td>\n      <td>1277</td>\n      <td>68</td>\n      <td>1181</td>\n      <td>67</td>\n      <td>4</td>\n    </tr>\n    <tr>\n      <th>2248</th>\n      <td>2019</td>\n      <td>152</td>\n      <td>1403</td>\n      <td>61</td>\n      <td>1277</td>\n      <td>51</td>\n      <td>5</td>\n    </tr>\n    <tr>\n      <th>2249</th>\n      <td>2019</td>\n      <td>152</td>\n      <td>1438</td>\n      <td>63</td>\n      <td>1120</td>\n      <td>62</td>\n      <td>5</td>\n    </tr>\n    <tr>\n      <th>2250</th>\n      <td>2019</td>\n      <td>154</td>\n      <td>1438</td>\n      <td>85</td>\n      <td>1403</td>\n      <td>77</td>\n      <td>6</td>\n    </tr>\n  </tbody>\n</table>\n</div>"
     },
     "metadata": {},
     "execution_count": 27
    }
   ],
   "source": [
    "df_tourney_results.tail()"
   ]
  },
  {
   "cell_type": "code",
   "execution_count": null,
   "metadata": {},
   "outputs": [],
   "source": [
    "RATINGS \n",
    "\n",
    "Massey Ordinals\n",
    "This file lists out rankings (e.g. #1, #2, #3, ..., #N) of teams going back to the 2002-2003 season, under a large number of different ranking system methodologies.\n",
    "\n",
    "Season - this is the year of the associated entry in MSeasons.csv (the year in which the final tournament occurs)\n",
    "\n",
    "RankingDayNum - First day that it is appropriate to use the rankings for predicting games. Use 133 for the tournament.\n",
    "\n",
    "SystemName - this is the (usually) 3-letter abbreviation for each distinct ranking system.\n",
    "\n",
    "TeamID - this is the ID of the team being ranked, as described in MTeams.csv.\n",
    "\n",
    "OrdinalRank - this is the overall ranking of the team in the underlying system. Most systems from recent seasons provide a \n",
    "\n",
    "complete ranking from #1 through #351, but sometimes there are ties and sometimes only a smaller set of rankings is provided, as with the AP's top 25. This year and last year they will typically go up to #353 because two new teams were added to Division I last year.\n"
   ]
  },
  {
   "cell_type": "code",
   "execution_count": 28,
   "metadata": {},
   "outputs": [],
   "source": [
    " df_massey = pd.read_csv(DATA_PATH_M + \"MMasseyOrdinals.csv\")\n",
    " df_massey = df_massey[df_massey['RankingDayNum'] == 133].drop('RankingDayNum', axis=1).reset_index(drop=True) # use first day of the tournament\n"
   ]
  },
  {
   "cell_type": "code",
   "execution_count": 29,
   "metadata": {},
   "outputs": [
    {
     "output_type": "execute_result",
     "data": {
      "text/plain": [
       "        Season SystemName  TeamID  OrdinalRank\n",
       "291428    2019        ZAM    1462           70\n",
       "291429    2019        ZAM    1463           87\n",
       "291430    2019        ZAM    1464          242\n",
       "291431    2019        ZAM    1465          198\n",
       "291432    2019        ZAM    1466          290"
      ],
      "text/html": "<div>\n<style scoped>\n    .dataframe tbody tr th:only-of-type {\n        vertical-align: middle;\n    }\n\n    .dataframe tbody tr th {\n        vertical-align: top;\n    }\n\n    .dataframe thead th {\n        text-align: right;\n    }\n</style>\n<table border=\"1\" class=\"dataframe\">\n  <thead>\n    <tr style=\"text-align: right;\">\n      <th></th>\n      <th>Season</th>\n      <th>SystemName</th>\n      <th>TeamID</th>\n      <th>OrdinalRank</th>\n    </tr>\n  </thead>\n  <tbody>\n    <tr>\n      <th>291428</th>\n      <td>2019</td>\n      <td>ZAM</td>\n      <td>1462</td>\n      <td>70</td>\n    </tr>\n    <tr>\n      <th>291429</th>\n      <td>2019</td>\n      <td>ZAM</td>\n      <td>1463</td>\n      <td>87</td>\n    </tr>\n    <tr>\n      <th>291430</th>\n      <td>2019</td>\n      <td>ZAM</td>\n      <td>1464</td>\n      <td>242</td>\n    </tr>\n    <tr>\n      <th>291431</th>\n      <td>2019</td>\n      <td>ZAM</td>\n      <td>1465</td>\n      <td>198</td>\n    </tr>\n    <tr>\n      <th>291432</th>\n      <td>2019</td>\n      <td>ZAM</td>\n      <td>1466</td>\n      <td>290</td>\n    </tr>\n  </tbody>\n</table>\n</div>"
     },
     "metadata": {},
     "execution_count": 29
    }
   ],
   "source": [
    "df_massey.tail()"
   ]
  },
  {
   "source": [
    "Processing\n",
    "I keep only systems that are common to all the years."
   ],
   "cell_type": "markdown",
   "metadata": {}
  },
  {
   "cell_type": "code",
   "execution_count": null,
   "metadata": {},
   "outputs": [],
   "source": []
  }
 ]
}