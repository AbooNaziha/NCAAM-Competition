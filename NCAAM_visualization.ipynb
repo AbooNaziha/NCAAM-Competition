{
 "metadata": {
  "language_info": {
   "codemirror_mode": {
    "name": "ipython",
    "version": 3
   },
   "file_extension": ".py",
   "mimetype": "text/x-python",
   "name": "python",
   "nbconvert_exporter": "python",
   "pygments_lexer": "ipython3",
   "version": "3.7.7-final"
  },
  "orig_nbformat": 2,
  "kernelspec": {
   "name": "python3",
   "display_name": "Python 3.7.7 64-bit ('tf': conda)",
   "metadata": {
    "interpreter": {
     "hash": "1b4bd66619e1f63a2810c0f91c748d47860e139f5a175a9a480ebd9d4456bd5e"
    }
   }
  }
 },
 "nbformat": 4,
 "nbformat_minor": 2,
 "cells": [
  {
   "cell_type": "code",
   "execution_count": 83,
   "metadata": {},
   "outputs": [],
   "source": [
    "import os\n",
    "import re\n",
    "import sklearn\n",
    "import numpy as np \n",
    "import pandas as pd\n",
    "import seaborn as sns\n",
    "import matplotlib.pyplot as plt\n",
    "\n",
    "from collections import Counter\n",
    "from sklearn.metrics import *\n",
    "from sklearn.linear_model import *\n",
    "from sklearn.model_selection import *\n",
    "\n",
    "pd.set_option('display.max_columns', None)"
   ]
  },
  {
   "cell_type": "code",
   "execution_count": 84,
   "metadata": {},
   "outputs": [
    {
     "output_type": "stream",
     "name": "stdout",
     "text": [
      "Cities.csv\nConferences.csv\nWGameCities.csv\nWNCAATourneyCompactResults.csv\nWNCAATourneyDetailedResults.csv\nWNCAATourneySeeds.csv\nWNCAATourneySlots.csv\nWRegularSeasonCompactResults.csv\nWRegularSeasonDetailedResults.csv\nWSampleSubmissionStage1.csv\nWSeasons.csv\nWTeamConferences.csv\nWTeams.csv\nWTeamSpellings.csv\n"
     ]
    }
   ],
   "source": [
    "# DATA_PATH = '../input/ncaam-march-mania-2021/'\n",
    "DATA_PATH_W = r'C:\\Users\\FLUXNATURE\\Desktop\\New Kaggle world\\NCAAW'\n",
    "\n",
    "for filename in os.listdir(DATA_PATH_W):\n",
    "    print(filename)"
   ]
  },
  {
   "source": [
    "DATA PREPARATION AND PROCESSING \n",
    "\n",
    "\n",
    "Data: WNCAATourneySeeds.csv\n",
    "\n",
    "\"This file identifies the seeds for all teams in each NCAA® tournament, for all seasons of historical data. Thus, there are exactly 64 rows for each year, since there are no play-in teams in the women's tournament. We will not know the seeds of the respective tournament teams, or even exactly which 64 teams it will be, until Selection Monday on March 16, 2020 (DayNum=133).\n",
    "\n",
    "Season - the year that the tournament was played in\n",
    "Seed - this is a 3-character identifier of the seed, where the first character is either W, X, Y, or Z (identifying the region the team was in) and the next two digits (either 01, 02, ..., 15, or 16) tell you the seed within the region. For example, the first record in the file is seed W01, which means we are looking at the #1 seed in the W region (which we can see from the \"WSeasons.csv\" file was the East region).\n",
    "TeamID - this identifies the id number of the team, as specified in the WTeams.csv file\"\n"
   ],
   "cell_type": "markdown",
   "metadata": {}
  },
  {
   "cell_type": "code",
   "execution_count": 85,
   "metadata": {},
   "outputs": [
    {
     "output_type": "execute_result",
     "data": {
      "text/plain": [
       "   Season Seed  TeamID\n",
       "0    1998  W01    3330\n",
       "1    1998  W02    3163\n",
       "2    1998  W03    3112\n",
       "3    1998  W04    3301\n",
       "4    1998  W05    3272"
      ],
      "text/html": "<div>\n<style scoped>\n    .dataframe tbody tr th:only-of-type {\n        vertical-align: middle;\n    }\n\n    .dataframe tbody tr th {\n        vertical-align: top;\n    }\n\n    .dataframe thead th {\n        text-align: right;\n    }\n</style>\n<table border=\"1\" class=\"dataframe\">\n  <thead>\n    <tr style=\"text-align: right;\">\n      <th></th>\n      <th>Season</th>\n      <th>Seed</th>\n      <th>TeamID</th>\n    </tr>\n  </thead>\n  <tbody>\n    <tr>\n      <th>0</th>\n      <td>1998</td>\n      <td>W01</td>\n      <td>3330</td>\n    </tr>\n    <tr>\n      <th>1</th>\n      <td>1998</td>\n      <td>W02</td>\n      <td>3163</td>\n    </tr>\n    <tr>\n      <th>2</th>\n      <td>1998</td>\n      <td>W03</td>\n      <td>3112</td>\n    </tr>\n    <tr>\n      <th>3</th>\n      <td>1998</td>\n      <td>W04</td>\n      <td>3301</td>\n    </tr>\n    <tr>\n      <th>4</th>\n      <td>1998</td>\n      <td>W05</td>\n      <td>3272</td>\n    </tr>\n  </tbody>\n</table>\n</div>"
     },
     "metadata": {},
     "execution_count": 85
    }
   ],
   "source": [
    "# df_seeds = pd.read_csv(DATA_PATH + \"MNCAATourneySeeds.csv\")\n",
    "df_seeds = pd.read_csv(r\"C:\\Users\\FLUXNATURE\\Desktop\\New Kaggle world\\NCAAW\\WNCAATourneySeeds.csv\")\n",
    "df_seeds.head()"
   ]
  },
  {
   "source": [
    "SEASON'S RESULTS\n",
    "\n",
    "Data: WRegularSeasonCompactResults.csv\n",
    "\n",
    "This file identifies the game-by-game results for many seasons of historical data, starting with the 1998 season. For each season, the file includes all games played from DayNum 0 through 132. It is important to realize that the \"Regular Season\" games are simply defined to be all games played on DayNum=132 or earlier (DayNum=133 is Selection Monday). Thus a game played before Selection Monday will show up here whether it was a pre-season tournament, a non-conference game, a regular conference game, a conference tournament game, or whatever.\n",
    "\n",
    "Season - this is the year of the associated entry in WSeasons.csv (the year in which the final tournament occurs). For example, during the 2016 season, there were regular season games played between November 2015 and March 2016, and all of those games will show up with a Season of 2016.\n",
    "\n",
    "DayNum - this integer always ranges from 0 to 132, and tells you what day the game was played on. It represents an offset from the \"DayZero\" date in the \"WSeasons.csv\" file. For example, the first game in the file was DayNum=18. Combined with the fact from the \"WSeasons.csv\" file that day zero was 10/27/1997 that year, this means the first game was played 18 days later, or 11/14/1997. There are no teams that ever played more than one game on a given date, so you can use this fact if you need a unique key (combining Season and DayNum and WTeamID).\n",
    "\n",
    "WTeamID - this identifies the id number of the team that won the game, as listed in the \"WTeams.csv\" file. No matter whether the game was won by the home team or visiting team, or if it was a neutral-site game, the \"WTeamID\" always identifies the winning team.\n",
    "\n",
    "WScore - this identifies the number of points scored by the winning team.\n",
    "\n",
    "LTeamID - this identifies the id number of the team that lost the game.\n",
    "\n",
    "LScore - this identifies the number of points scored by the losing team. Thus you can be confident that WScore will be greater than LScore for all games listed.\n",
    "\n",
    "NumOT - this indicates the number of overtime periods in the game, an integer 0 or higher.\n",
    "\n",
    "WLoc - this identifies the \"location\" of the winning team. If the winning team was the home team, this value will be \"H\". If the winning team was the visiting team, this value will be \"A\". If it was played on a neutral court, then this value will be \"N\". "
   ],
   "cell_type": "markdown",
   "metadata": {}
  },
  {
   "cell_type": "code",
   "execution_count": 86,
   "metadata": {},
   "outputs": [],
   "source": [
    "#Dropping NumOt and Wloc\n",
    "\n",
    "df_season_results = pd.read_csv(r\"C:\\Users\\FLUXNATURE\\Desktop\\New Kaggle world\\NCAAW\\WRegularSeasonCompactResults.csv\")\n",
    "df_season_results.drop(['NumOT', 'WLoc'], axis=1, inplace=True)"
   ]
  },
  {
   "cell_type": "code",
   "execution_count": 87,
   "metadata": {},
   "outputs": [],
   "source": [
    "df_season_results['ScoreGap'] = df_season_results['WScore'] - df_season_results['LScore']"
   ]
  },
  {
   "cell_type": "code",
   "execution_count": 88,
   "metadata": {},
   "outputs": [
    {
     "output_type": "execute_result",
     "data": {
      "text/plain": [
       "   Season  DayNum  WTeamID  WScore  LTeamID  LScore  ScoreGap\n",
       "0    1998      18     3104      91     3202      41        50\n",
       "1    1998      18     3163      87     3221      76        11\n",
       "2    1998      18     3222      66     3261      59         7\n",
       "3    1998      18     3307      69     3365      62         7\n",
       "4    1998      18     3349     115     3411      35        80"
      ],
      "text/html": "<div>\n<style scoped>\n    .dataframe tbody tr th:only-of-type {\n        vertical-align: middle;\n    }\n\n    .dataframe tbody tr th {\n        vertical-align: top;\n    }\n\n    .dataframe thead th {\n        text-align: right;\n    }\n</style>\n<table border=\"1\" class=\"dataframe\">\n  <thead>\n    <tr style=\"text-align: right;\">\n      <th></th>\n      <th>Season</th>\n      <th>DayNum</th>\n      <th>WTeamID</th>\n      <th>WScore</th>\n      <th>LTeamID</th>\n      <th>LScore</th>\n      <th>ScoreGap</th>\n    </tr>\n  </thead>\n  <tbody>\n    <tr>\n      <th>0</th>\n      <td>1998</td>\n      <td>18</td>\n      <td>3104</td>\n      <td>91</td>\n      <td>3202</td>\n      <td>41</td>\n      <td>50</td>\n    </tr>\n    <tr>\n      <th>1</th>\n      <td>1998</td>\n      <td>18</td>\n      <td>3163</td>\n      <td>87</td>\n      <td>3221</td>\n      <td>76</td>\n      <td>11</td>\n    </tr>\n    <tr>\n      <th>2</th>\n      <td>1998</td>\n      <td>18</td>\n      <td>3222</td>\n      <td>66</td>\n      <td>3261</td>\n      <td>59</td>\n      <td>7</td>\n    </tr>\n    <tr>\n      <th>3</th>\n      <td>1998</td>\n      <td>18</td>\n      <td>3307</td>\n      <td>69</td>\n      <td>3365</td>\n      <td>62</td>\n      <td>7</td>\n    </tr>\n    <tr>\n      <th>4</th>\n      <td>1998</td>\n      <td>18</td>\n      <td>3349</td>\n      <td>115</td>\n      <td>3411</td>\n      <td>35</td>\n      <td>80</td>\n    </tr>\n  </tbody>\n</table>\n</div>"
     },
     "metadata": {},
     "execution_count": 88
    }
   ],
   "source": [
    "df_season_results.head()"
   ]
  },
  {
   "source": [
    "FEATURE ENGINEERING \n",
    "\n",
    "For each team at each season, I compute :\n",
    "\n",
    "Number of wins\n",
    "Number of losses\n",
    "Average score gap of wins\n",
    "Average score gap of losses\n",
    "And use the following features :\n",
    "\n",
    "Win Ratio\n",
    "Average score gap"
   ],
   "cell_type": "markdown",
   "metadata": {}
  },
  {
   "cell_type": "code",
   "execution_count": 89,
   "metadata": {},
   "outputs": [],
   "source": [
    "num_win = df_season_results.groupby(['Season', 'WTeamID']).count()\n",
    "num_win = num_win.reset_index()[['Season', 'WTeamID', 'DayNum']].rename(columns={\"DayNum\": \"NumWins\", \"WTeamID\": \"TeamID\"})"
   ]
  },
  {
   "cell_type": "code",
   "execution_count": 90,
   "metadata": {},
   "outputs": [],
   "source": [
    "num_loss = df_season_results.groupby(['Season', 'LTeamID']).count()\n",
    "num_loss = num_loss.reset_index()[['Season', 'LTeamID', 'DayNum']].rename(columns={\"DayNum\": \"NumLosses\", \"LTeamID\": \"TeamID\"})"
   ]
  },
  {
   "cell_type": "code",
   "execution_count": 91,
   "metadata": {},
   "outputs": [],
   "source": [
    "gap_win = df_season_results.groupby(['Season', 'WTeamID']).mean().reset_index()\n",
    "gap_win = gap_win[['Season', 'WTeamID', 'ScoreGap']].rename(columns={\"ScoreGap\": \"GapWins\", \"WTeamID\": \"TeamID\"})"
   ]
  },
  {
   "cell_type": "code",
   "execution_count": 92,
   "metadata": {},
   "outputs": [],
   "source": [
    "gap_loss = df_season_results.groupby(['Season', 'LTeamID']).mean().reset_index()\n",
    "gap_loss = gap_loss[['Season', 'LTeamID', 'ScoreGap']].rename(columns={\"ScoreGap\": \"GapLosses\", \"LTeamID\": \"TeamID\"})"
   ]
  },
  {
   "source": [
    "MERGE COMPUTATIONS "
   ],
   "cell_type": "markdown",
   "metadata": {}
  },
  {
   "cell_type": "code",
   "execution_count": 93,
   "metadata": {},
   "outputs": [],
   "source": [
    "df_features_season_w = df_season_results.groupby(['Season', 'WTeamID']).count().reset_index()[['Season', 'WTeamID']].rename(columns={\"WTeamID\": \"TeamID\"})\n",
    "df_features_season_l = df_season_results.groupby(['Season', 'LTeamID']).count().reset_index()[['Season', 'LTeamID']].rename(columns={\"LTeamID\": \"TeamID\"})"
   ]
  },
  {
   "cell_type": "code",
   "execution_count": 94,
   "metadata": {},
   "outputs": [],
   "source": [
    "df_features_season = pd.concat([df_features_season_w, df_features_season_l], 0).drop_duplicates().sort_values(['Season', 'TeamID']).reset_index(drop=True)"
   ]
  },
  {
   "cell_type": "code",
   "execution_count": 95,
   "metadata": {},
   "outputs": [],
   "source": [
    "df_features_season = df_features_season.merge(num_win, on=['Season', 'TeamID'], how='left')\n",
    "df_features_season = df_features_season.merge(num_loss, on=['Season', 'TeamID'], how='left')\n",
    "df_features_season = df_features_season.merge(gap_win, on=['Season', 'TeamID'], how='left')\n",
    "df_features_season = df_features_season.merge(gap_loss, on=['Season', 'TeamID'], how='left')"
   ]
  },
  {
   "cell_type": "code",
   "execution_count": 96,
   "metadata": {},
   "outputs": [],
   "source": [
    "df_features_season.fillna(0, inplace=True) "
   ]
  },
  {
   "source": [
    "COMPUTATIONAL FEATURES "
   ],
   "cell_type": "markdown",
   "metadata": {}
  },
  {
   "cell_type": "code",
   "execution_count": 97,
   "metadata": {},
   "outputs": [],
   "source": [
    "df_features_season['WinRatio'] = df_features_season['NumWins'] / (df_features_season['NumWins'] + df_features_season['NumLosses'])\n",
    "df_features_season['GapAvg'] = (\n",
    "    (df_features_season['NumWins'] * df_features_season['GapWins'] - \n",
    "    df_features_season['NumLosses'] * df_features_season['GapLosses'])\n",
    "    / (df_features_season['NumWins'] + df_features_season['NumLosses'])\n",
    ")"
   ]
  },
  {
   "cell_type": "code",
   "execution_count": 98,
   "metadata": {},
   "outputs": [],
   "source": [
    "df_features_season.drop(['NumWins', 'NumLosses', 'GapWins', 'GapLosses'], axis=1, inplace=True)"
   ]
  },
  {
   "source": [
    "TOURNEY \n",
    "\n",
    "Data: WNCAATourneyCompactResults.csv\n",
    "\n",
    "This file identifies the game-by-game NCAA® tournament results for all seasons of historical data. The data is formatted exactly like the WRegularSeasonCompactResults data. Each season you will see 63 games listed, since there are no women's play-in games.\n",
    "\n",
    "Although the scheduling of the men's tournament rounds has been consistent for many years, there has been more variety in the scheduling of the women's rounds. There have been four different schedules over the course of the past 20+ years for the women's tournament, as follows:"
   ],
   "cell_type": "markdown",
   "metadata": {}
  },
  {
   "cell_type": "code",
   "execution_count": 99,
   "metadata": {},
   "outputs": [],
   "source": [
    "#DROPPED NumOT and Wloc\n",
    "df_tourney_results = pd.read_csv(R\"C:\\Users\\FLUXNATURE\\Desktop\\New Kaggle world\\NCAAW\\WNCAATourneyCompactResults.csv\")\n",
    "df_tourney_results.drop(['NumOT', 'WLoc'], axis=1, inplace=True)"
   ]
  },
  {
   "source": [
    "The DayNum features can be improved by replacing it by the corresponding round."
   ],
   "cell_type": "markdown",
   "metadata": {}
  },
  {
   "cell_type": "code",
   "execution_count": 100,
   "metadata": {},
   "outputs": [
    {
     "output_type": "execute_result",
     "data": {
      "text/plain": [
       "   Season  DayNum  WTeamID  WScore  LTeamID  LScore\n",
       "0    1998     137     3104      94     3422      46\n",
       "1    1998     137     3112      75     3365      63\n",
       "2    1998     137     3163      93     3193      52\n",
       "3    1998     137     3198      59     3266      45"
      ],
      "text/html": "<div>\n<style scoped>\n    .dataframe tbody tr th:only-of-type {\n        vertical-align: middle;\n    }\n\n    .dataframe tbody tr th {\n        vertical-align: top;\n    }\n\n    .dataframe thead th {\n        text-align: right;\n    }\n</style>\n<table border=\"1\" class=\"dataframe\">\n  <thead>\n    <tr style=\"text-align: right;\">\n      <th></th>\n      <th>Season</th>\n      <th>DayNum</th>\n      <th>WTeamID</th>\n      <th>WScore</th>\n      <th>LTeamID</th>\n      <th>LScore</th>\n    </tr>\n  </thead>\n  <tbody>\n    <tr>\n      <th>0</th>\n      <td>1998</td>\n      <td>137</td>\n      <td>3104</td>\n      <td>94</td>\n      <td>3422</td>\n      <td>46</td>\n    </tr>\n    <tr>\n      <th>1</th>\n      <td>1998</td>\n      <td>137</td>\n      <td>3112</td>\n      <td>75</td>\n      <td>3365</td>\n      <td>63</td>\n    </tr>\n    <tr>\n      <th>2</th>\n      <td>1998</td>\n      <td>137</td>\n      <td>3163</td>\n      <td>93</td>\n      <td>3193</td>\n      <td>52</td>\n    </tr>\n    <tr>\n      <th>3</th>\n      <td>1998</td>\n      <td>137</td>\n      <td>3198</td>\n      <td>59</td>\n      <td>3266</td>\n      <td>45</td>\n    </tr>\n  </tbody>\n</table>\n</div>"
     },
     "metadata": {},
     "execution_count": 100
    }
   ],
   "source": [
    "df_tourney_results.head(4)"
   ]
  },
  {
   "cell_type": "code",
   "execution_count": 101,
   "metadata": {},
   "outputs": [],
   "source": [
    "def get_round(day):\n",
    "    round_dic = {137: 0, 138: 0, 139: 1, 140: 1, 141: 2, 144: 3, 145: 3, 146: 4, 147: 4, 148: 4, 151:5, 153: 5, 155: 6} # probably wrong but I don't use it anyways\n",
    "    try:\n",
    "        return round_dic[day]\n",
    "    except:\n",
    "        print(f'Unknow day : {day}')\n",
    "        return 0"
   ]
  },
  {
   "cell_type": "code",
   "execution_count": 102,
   "metadata": {},
   "outputs": [],
   "source": [
    "df_tourney_results['Round'] = df_tourney_results['DayNum'].apply(get_round)"
   ]
  },
  {
   "cell_type": "code",
   "execution_count": 103,
   "metadata": {},
   "outputs": [
    {
     "output_type": "execute_result",
     "data": {
      "text/plain": [
       "   Season  DayNum  WTeamID  WScore  LTeamID  LScore  Round\n",
       "0    1998     137     3104      94     3422      46      0\n",
       "1    1998     137     3112      75     3365      63      0\n",
       "2    1998     137     3163      93     3193      52      0\n",
       "3    1998     137     3198      59     3266      45      0\n",
       "4    1998     137     3203      74     3208      72      0"
      ],
      "text/html": "<div>\n<style scoped>\n    .dataframe tbody tr th:only-of-type {\n        vertical-align: middle;\n    }\n\n    .dataframe tbody tr th {\n        vertical-align: top;\n    }\n\n    .dataframe thead th {\n        text-align: right;\n    }\n</style>\n<table border=\"1\" class=\"dataframe\">\n  <thead>\n    <tr style=\"text-align: right;\">\n      <th></th>\n      <th>Season</th>\n      <th>DayNum</th>\n      <th>WTeamID</th>\n      <th>WScore</th>\n      <th>LTeamID</th>\n      <th>LScore</th>\n      <th>Round</th>\n    </tr>\n  </thead>\n  <tbody>\n    <tr>\n      <th>0</th>\n      <td>1998</td>\n      <td>137</td>\n      <td>3104</td>\n      <td>94</td>\n      <td>3422</td>\n      <td>46</td>\n      <td>0</td>\n    </tr>\n    <tr>\n      <th>1</th>\n      <td>1998</td>\n      <td>137</td>\n      <td>3112</td>\n      <td>75</td>\n      <td>3365</td>\n      <td>63</td>\n      <td>0</td>\n    </tr>\n    <tr>\n      <th>2</th>\n      <td>1998</td>\n      <td>137</td>\n      <td>3163</td>\n      <td>93</td>\n      <td>3193</td>\n      <td>52</td>\n      <td>0</td>\n    </tr>\n    <tr>\n      <th>3</th>\n      <td>1998</td>\n      <td>137</td>\n      <td>3198</td>\n      <td>59</td>\n      <td>3266</td>\n      <td>45</td>\n      <td>0</td>\n    </tr>\n    <tr>\n      <th>4</th>\n      <td>1998</td>\n      <td>137</td>\n      <td>3203</td>\n      <td>74</td>\n      <td>3208</td>\n      <td>72</td>\n      <td>0</td>\n    </tr>\n  </tbody>\n</table>\n</div>"
     },
     "metadata": {},
     "execution_count": 103
    }
   ],
   "source": [
    "df_tourney_results.head()"
   ]
  },
  {
   "source": [
    "Feature Engineering\n",
    "\n",
    "Train data"
   ],
   "cell_type": "markdown",
   "metadata": {}
  },
  {
   "cell_type": "code",
   "execution_count": 104,
   "metadata": {},
   "outputs": [
    {
     "output_type": "execute_result",
     "data": {
      "text/plain": [
       "      Season  DayNum  WTeamID  WScore  LTeamID  LScore  Round\n",
       "1382    2019     147     3323      84     3390      68      4\n",
       "1383    2019     151     3124      72     3332      67      5\n",
       "1384    2019     151     3323      81     3163      76      5\n",
       "1385    2019     153     3124      82     3323      81      5"
      ],
      "text/html": "<div>\n<style scoped>\n    .dataframe tbody tr th:only-of-type {\n        vertical-align: middle;\n    }\n\n    .dataframe tbody tr th {\n        vertical-align: top;\n    }\n\n    .dataframe thead th {\n        text-align: right;\n    }\n</style>\n<table border=\"1\" class=\"dataframe\">\n  <thead>\n    <tr style=\"text-align: right;\">\n      <th></th>\n      <th>Season</th>\n      <th>DayNum</th>\n      <th>WTeamID</th>\n      <th>WScore</th>\n      <th>LTeamID</th>\n      <th>LScore</th>\n      <th>Round</th>\n    </tr>\n  </thead>\n  <tbody>\n    <tr>\n      <th>1382</th>\n      <td>2019</td>\n      <td>147</td>\n      <td>3323</td>\n      <td>84</td>\n      <td>3390</td>\n      <td>68</td>\n      <td>4</td>\n    </tr>\n    <tr>\n      <th>1383</th>\n      <td>2019</td>\n      <td>151</td>\n      <td>3124</td>\n      <td>72</td>\n      <td>3332</td>\n      <td>67</td>\n      <td>5</td>\n    </tr>\n    <tr>\n      <th>1384</th>\n      <td>2019</td>\n      <td>151</td>\n      <td>3323</td>\n      <td>81</td>\n      <td>3163</td>\n      <td>76</td>\n      <td>5</td>\n    </tr>\n    <tr>\n      <th>1385</th>\n      <td>2019</td>\n      <td>153</td>\n      <td>3124</td>\n      <td>82</td>\n      <td>3323</td>\n      <td>81</td>\n      <td>5</td>\n    </tr>\n  </tbody>\n</table>\n</div>"
     },
     "metadata": {},
     "execution_count": 104
    }
   ],
   "source": [
    "df_tourney_results.tail(4)"
   ]
  },
  {
   "cell_type": "code",
   "execution_count": 105,
   "metadata": {},
   "outputs": [
    {
     "output_type": "execute_result",
     "data": {
      "text/plain": [
       "   Season  DayNum  WTeamID  WScore  LTeamID  LScore  Round\n",
       "0    2003     138     3130      73     3330      72      0\n",
       "1    2003     138     3160      84     3140      45      0\n",
       "2    2003     138     3208      80     3150      61      0\n",
       "3    2003     138     3261      86     3402      50      0\n",
       "4    2003     138     3278      68     3408      48      0"
      ],
      "text/html": "<div>\n<style scoped>\n    .dataframe tbody tr th:only-of-type {\n        vertical-align: middle;\n    }\n\n    .dataframe tbody tr th {\n        vertical-align: top;\n    }\n\n    .dataframe thead th {\n        text-align: right;\n    }\n</style>\n<table border=\"1\" class=\"dataframe\">\n  <thead>\n    <tr style=\"text-align: right;\">\n      <th></th>\n      <th>Season</th>\n      <th>DayNum</th>\n      <th>WTeamID</th>\n      <th>WScore</th>\n      <th>LTeamID</th>\n      <th>LScore</th>\n      <th>Round</th>\n    </tr>\n  </thead>\n  <tbody>\n    <tr>\n      <th>0</th>\n      <td>2003</td>\n      <td>138</td>\n      <td>3130</td>\n      <td>73</td>\n      <td>3330</td>\n      <td>72</td>\n      <td>0</td>\n    </tr>\n    <tr>\n      <th>1</th>\n      <td>2003</td>\n      <td>138</td>\n      <td>3160</td>\n      <td>84</td>\n      <td>3140</td>\n      <td>45</td>\n      <td>0</td>\n    </tr>\n    <tr>\n      <th>2</th>\n      <td>2003</td>\n      <td>138</td>\n      <td>3208</td>\n      <td>80</td>\n      <td>3150</td>\n      <td>61</td>\n      <td>0</td>\n    </tr>\n    <tr>\n      <th>3</th>\n      <td>2003</td>\n      <td>138</td>\n      <td>3261</td>\n      <td>86</td>\n      <td>3402</td>\n      <td>50</td>\n      <td>0</td>\n    </tr>\n    <tr>\n      <th>4</th>\n      <td>2003</td>\n      <td>138</td>\n      <td>3278</td>\n      <td>68</td>\n      <td>3408</td>\n      <td>48</td>\n      <td>0</td>\n    </tr>\n  </tbody>\n</table>\n</div>"
     },
     "metadata": {},
     "execution_count": 105
    }
   ],
   "source": [
    "df = df_tourney_results.copy()\n",
    "df = df[df['Season'] >= 2003].reset_index(drop=True)\n",
    "\n",
    "df.head()"
   ]
  },
  {
   "cell_type": "code",
   "execution_count": 106,
   "metadata": {},
   "outputs": [
    {
     "output_type": "execute_result",
     "data": {
      "text/plain": [
       "      Season  DayNum  WTeamID  WScore  LTeamID  LScore  Round\n",
       "1066    2019     147     3124      85     3234      53      4\n",
       "1067    2019     147     3323      84     3390      68      4\n",
       "1068    2019     151     3124      72     3332      67      5\n",
       "1069    2019     151     3323      81     3163      76      5\n",
       "1070    2019     153     3124      82     3323      81      5"
      ],
      "text/html": "<div>\n<style scoped>\n    .dataframe tbody tr th:only-of-type {\n        vertical-align: middle;\n    }\n\n    .dataframe tbody tr th {\n        vertical-align: top;\n    }\n\n    .dataframe thead th {\n        text-align: right;\n    }\n</style>\n<table border=\"1\" class=\"dataframe\">\n  <thead>\n    <tr style=\"text-align: right;\">\n      <th></th>\n      <th>Season</th>\n      <th>DayNum</th>\n      <th>WTeamID</th>\n      <th>WScore</th>\n      <th>LTeamID</th>\n      <th>LScore</th>\n      <th>Round</th>\n    </tr>\n  </thead>\n  <tbody>\n    <tr>\n      <th>1066</th>\n      <td>2019</td>\n      <td>147</td>\n      <td>3124</td>\n      <td>85</td>\n      <td>3234</td>\n      <td>53</td>\n      <td>4</td>\n    </tr>\n    <tr>\n      <th>1067</th>\n      <td>2019</td>\n      <td>147</td>\n      <td>3323</td>\n      <td>84</td>\n      <td>3390</td>\n      <td>68</td>\n      <td>4</td>\n    </tr>\n    <tr>\n      <th>1068</th>\n      <td>2019</td>\n      <td>151</td>\n      <td>3124</td>\n      <td>72</td>\n      <td>3332</td>\n      <td>67</td>\n      <td>5</td>\n    </tr>\n    <tr>\n      <th>1069</th>\n      <td>2019</td>\n      <td>151</td>\n      <td>3323</td>\n      <td>81</td>\n      <td>3163</td>\n      <td>76</td>\n      <td>5</td>\n    </tr>\n    <tr>\n      <th>1070</th>\n      <td>2019</td>\n      <td>153</td>\n      <td>3124</td>\n      <td>82</td>\n      <td>3323</td>\n      <td>81</td>\n      <td>5</td>\n    </tr>\n  </tbody>\n</table>\n</div>"
     },
     "metadata": {},
     "execution_count": 106
    }
   ],
   "source": [
    "df.tail()"
   ]
  },
  {
   "source": [
    "Each row corresponds to a match between WTeamID and LTeamID, which was won by WTeamID.\n",
    "\n",
    "I only keep matches after 2003 since I don't have the ratings for the older ones.\n",
    "\n",
    "I start by aggregating features coresponding to each tem."
   ],
   "cell_type": "markdown",
   "metadata": {}
  },
  {
   "source": [
    "Seeds\n",
    "\n",
    "SeedW is the seed of the winning team\n",
    "\n",
    "SeedL is the seed of the losing team"
   ],
   "cell_type": "markdown",
   "metadata": {}
  },
  {
   "cell_type": "code",
   "execution_count": 107,
   "metadata": {},
   "outputs": [],
   "source": [
    "df = pd.merge(\n",
    "    df, \n",
    "    df_seeds, \n",
    "    how='left', \n",
    "    left_on=['Season', 'WTeamID'], \n",
    "    right_on=['Season', 'TeamID']\n",
    ").drop('TeamID', axis=1).rename(columns={'Seed': 'SeedW'})"
   ]
  },
  {
   "cell_type": "code",
   "execution_count": 108,
   "metadata": {},
   "outputs": [],
   "source": [
    "df = pd.merge(\n",
    "    df, \n",
    "    df_seeds, \n",
    "    how='left', \n",
    "    left_on=['Season', 'LTeamID'], \n",
    "    right_on=['Season', 'TeamID']\n",
    ").drop('TeamID', axis=1).rename(columns={'Seed': 'SeedL'})"
   ]
  },
  {
   "cell_type": "code",
   "execution_count": 109,
   "metadata": {},
   "outputs": [],
   "source": [
    "def treat_seed(seed):\n",
    "    return int(re.sub(\"[^0-9]\", \"\", seed))"
   ]
  },
  {
   "cell_type": "code",
   "execution_count": 110,
   "metadata": {},
   "outputs": [],
   "source": [
    "df['SeedW'] = df['SeedW'].apply(treat_seed)\n",
    "df['SeedL'] = df['SeedL'].apply(treat_seed)"
   ]
  },
  {
   "cell_type": "code",
   "execution_count": 111,
   "metadata": {},
   "outputs": [
    {
     "output_type": "execute_result",
     "data": {
      "text/plain": [
       "   Season  DayNum  WTeamID  WScore  LTeamID  LScore  Round  SeedW  SeedL\n",
       "0    2003     138     3130      73     3330      72      0      5     12\n",
       "1    2003     138     3160      84     3140      45      0      6     11\n",
       "2    2003     138     3208      80     3150      61      0      5     12\n",
       "3    2003     138     3261      86     3402      50      0      1     16\n",
       "4    2003     138     3278      68     3408      48      0      6     11"
      ],
      "text/html": "<div>\n<style scoped>\n    .dataframe tbody tr th:only-of-type {\n        vertical-align: middle;\n    }\n\n    .dataframe tbody tr th {\n        vertical-align: top;\n    }\n\n    .dataframe thead th {\n        text-align: right;\n    }\n</style>\n<table border=\"1\" class=\"dataframe\">\n  <thead>\n    <tr style=\"text-align: right;\">\n      <th></th>\n      <th>Season</th>\n      <th>DayNum</th>\n      <th>WTeamID</th>\n      <th>WScore</th>\n      <th>LTeamID</th>\n      <th>LScore</th>\n      <th>Round</th>\n      <th>SeedW</th>\n      <th>SeedL</th>\n    </tr>\n  </thead>\n  <tbody>\n    <tr>\n      <th>0</th>\n      <td>2003</td>\n      <td>138</td>\n      <td>3130</td>\n      <td>73</td>\n      <td>3330</td>\n      <td>72</td>\n      <td>0</td>\n      <td>5</td>\n      <td>12</td>\n    </tr>\n    <tr>\n      <th>1</th>\n      <td>2003</td>\n      <td>138</td>\n      <td>3160</td>\n      <td>84</td>\n      <td>3140</td>\n      <td>45</td>\n      <td>0</td>\n      <td>6</td>\n      <td>11</td>\n    </tr>\n    <tr>\n      <th>2</th>\n      <td>2003</td>\n      <td>138</td>\n      <td>3208</td>\n      <td>80</td>\n      <td>3150</td>\n      <td>61</td>\n      <td>0</td>\n      <td>5</td>\n      <td>12</td>\n    </tr>\n    <tr>\n      <th>3</th>\n      <td>2003</td>\n      <td>138</td>\n      <td>3261</td>\n      <td>86</td>\n      <td>3402</td>\n      <td>50</td>\n      <td>0</td>\n      <td>1</td>\n      <td>16</td>\n    </tr>\n    <tr>\n      <th>4</th>\n      <td>2003</td>\n      <td>138</td>\n      <td>3278</td>\n      <td>68</td>\n      <td>3408</td>\n      <td>48</td>\n      <td>0</td>\n      <td>6</td>\n      <td>11</td>\n    </tr>\n  </tbody>\n</table>\n</div>"
     },
     "metadata": {},
     "execution_count": 111
    }
   ],
   "source": [
    "df.head()"
   ]
  },
  {
   "cell_type": "code",
   "execution_count": 112,
   "metadata": {},
   "outputs": [
    {
     "output_type": "execute_result",
     "data": {
      "text/plain": [
       "      Season  DayNum  WTeamID  WScore  LTeamID  LScore  Round  SeedW  SeedL\n",
       "1066    2019     147     3124      85     3234      53      4      1      2\n",
       "1067    2019     147     3323      84     3390      68      4      1      2\n",
       "1068    2019     151     3124      72     3332      67      5      1      2\n",
       "1069    2019     151     3323      81     3163      76      5      1      2\n",
       "1070    2019     153     3124      82     3323      81      5      1      1"
      ],
      "text/html": "<div>\n<style scoped>\n    .dataframe tbody tr th:only-of-type {\n        vertical-align: middle;\n    }\n\n    .dataframe tbody tr th {\n        vertical-align: top;\n    }\n\n    .dataframe thead th {\n        text-align: right;\n    }\n</style>\n<table border=\"1\" class=\"dataframe\">\n  <thead>\n    <tr style=\"text-align: right;\">\n      <th></th>\n      <th>Season</th>\n      <th>DayNum</th>\n      <th>WTeamID</th>\n      <th>WScore</th>\n      <th>LTeamID</th>\n      <th>LScore</th>\n      <th>Round</th>\n      <th>SeedW</th>\n      <th>SeedL</th>\n    </tr>\n  </thead>\n  <tbody>\n    <tr>\n      <th>1066</th>\n      <td>2019</td>\n      <td>147</td>\n      <td>3124</td>\n      <td>85</td>\n      <td>3234</td>\n      <td>53</td>\n      <td>4</td>\n      <td>1</td>\n      <td>2</td>\n    </tr>\n    <tr>\n      <th>1067</th>\n      <td>2019</td>\n      <td>147</td>\n      <td>3323</td>\n      <td>84</td>\n      <td>3390</td>\n      <td>68</td>\n      <td>4</td>\n      <td>1</td>\n      <td>2</td>\n    </tr>\n    <tr>\n      <th>1068</th>\n      <td>2019</td>\n      <td>151</td>\n      <td>3124</td>\n      <td>72</td>\n      <td>3332</td>\n      <td>67</td>\n      <td>5</td>\n      <td>1</td>\n      <td>2</td>\n    </tr>\n    <tr>\n      <th>1069</th>\n      <td>2019</td>\n      <td>151</td>\n      <td>3323</td>\n      <td>81</td>\n      <td>3163</td>\n      <td>76</td>\n      <td>5</td>\n      <td>1</td>\n      <td>2</td>\n    </tr>\n    <tr>\n      <th>1070</th>\n      <td>2019</td>\n      <td>153</td>\n      <td>3124</td>\n      <td>82</td>\n      <td>3323</td>\n      <td>81</td>\n      <td>5</td>\n      <td>1</td>\n      <td>1</td>\n    </tr>\n  </tbody>\n</table>\n</div>"
     },
     "metadata": {},
     "execution_count": 112
    }
   ],
   "source": [
    "df.tail()"
   ]
  },
  {
   "source": [
    "Season Stats\n",
    "\n",
    "WinRatioW is the win ratio of the winning team during the season\n",
    "\n",
    "WinRatioL is the win ratio of the losing team during the season"
   ],
   "cell_type": "markdown",
   "metadata": {}
  },
  {
   "cell_type": "code",
   "execution_count": 113,
   "metadata": {},
   "outputs": [],
   "source": [
    "df = pd.merge(\n",
    "    df,\n",
    "    df_features_season,\n",
    "    how='left',\n",
    "    left_on=['Season', 'WTeamID'],\n",
    "    right_on=['Season', 'TeamID']\n",
    ").rename(columns={\n",
    "    'NumWins': 'NumWinsW',\n",
    "    'NumLosses': 'NumLossesW',\n",
    "    'GapWins': 'GapWinsW',\n",
    "    'GapLosses': 'GapLossesW',\n",
    "    'WinRatio': 'WinRatioW',\n",
    "    'GapAvg': 'GapAvgW',\n",
    "}).drop(columns='TeamID', axis=1)"
   ]
  },
  {
   "cell_type": "code",
   "execution_count": 114,
   "metadata": {},
   "outputs": [],
   "source": [
    "df = pd.merge(\n",
    "    df,\n",
    "    df_features_season,\n",
    "    how='left',\n",
    "    left_on=['Season', 'LTeamID'],\n",
    "    right_on=['Season', 'TeamID']\n",
    ").rename(columns={\n",
    "    'NumWins': 'NumWinsL',\n",
    "    'NumLosses': 'NumLossesL',\n",
    "    'GapWins': 'GapWinsL',\n",
    "    'GapLosses': 'GapLossesL',\n",
    "    'WinRatio': 'WinRatioL',\n",
    "    'GapAvg': 'GapAvgL',\n",
    "}).drop(columns='TeamID', axis=1)"
   ]
  },
  {
   "cell_type": "code",
   "execution_count": 115,
   "metadata": {},
   "outputs": [
    {
     "output_type": "execute_result",
     "data": {
      "text/plain": [
       "   Season  DayNum  WTeamID  WScore  LTeamID  LScore  Round  SeedW  SeedL  \\\n",
       "0    2003     138     3130      73     3330      72      0      5     12   \n",
       "1    2003     138     3160      84     3140      45      0      6     11   \n",
       "2    2003     138     3208      80     3150      61      0      5     12   \n",
       "3    2003     138     3261      86     3402      50      0      1     16   \n",
       "4    2003     138     3278      68     3408      48      0      6     11   \n",
       "\n",
       "   WinRatioW    GapAvgW  WinRatioL   GapAvgL  \n",
       "0   0.714286  10.821429   0.677419  8.483871  \n",
       "1   0.758621   8.413793   0.633333  6.466667  \n",
       "2   0.678571  12.928571   0.724138  7.034483  \n",
       "3   0.900000  18.500000   0.580645 -0.161290  \n",
       "4   0.821429  14.000000   0.678571  8.821429  "
      ],
      "text/html": "<div>\n<style scoped>\n    .dataframe tbody tr th:only-of-type {\n        vertical-align: middle;\n    }\n\n    .dataframe tbody tr th {\n        vertical-align: top;\n    }\n\n    .dataframe thead th {\n        text-align: right;\n    }\n</style>\n<table border=\"1\" class=\"dataframe\">\n  <thead>\n    <tr style=\"text-align: right;\">\n      <th></th>\n      <th>Season</th>\n      <th>DayNum</th>\n      <th>WTeamID</th>\n      <th>WScore</th>\n      <th>LTeamID</th>\n      <th>LScore</th>\n      <th>Round</th>\n      <th>SeedW</th>\n      <th>SeedL</th>\n      <th>WinRatioW</th>\n      <th>GapAvgW</th>\n      <th>WinRatioL</th>\n      <th>GapAvgL</th>\n    </tr>\n  </thead>\n  <tbody>\n    <tr>\n      <th>0</th>\n      <td>2003</td>\n      <td>138</td>\n      <td>3130</td>\n      <td>73</td>\n      <td>3330</td>\n      <td>72</td>\n      <td>0</td>\n      <td>5</td>\n      <td>12</td>\n      <td>0.714286</td>\n      <td>10.821429</td>\n      <td>0.677419</td>\n      <td>8.483871</td>\n    </tr>\n    <tr>\n      <th>1</th>\n      <td>2003</td>\n      <td>138</td>\n      <td>3160</td>\n      <td>84</td>\n      <td>3140</td>\n      <td>45</td>\n      <td>0</td>\n      <td>6</td>\n      <td>11</td>\n      <td>0.758621</td>\n      <td>8.413793</td>\n      <td>0.633333</td>\n      <td>6.466667</td>\n    </tr>\n    <tr>\n      <th>2</th>\n      <td>2003</td>\n      <td>138</td>\n      <td>3208</td>\n      <td>80</td>\n      <td>3150</td>\n      <td>61</td>\n      <td>0</td>\n      <td>5</td>\n      <td>12</td>\n      <td>0.678571</td>\n      <td>12.928571</td>\n      <td>0.724138</td>\n      <td>7.034483</td>\n    </tr>\n    <tr>\n      <th>3</th>\n      <td>2003</td>\n      <td>138</td>\n      <td>3261</td>\n      <td>86</td>\n      <td>3402</td>\n      <td>50</td>\n      <td>0</td>\n      <td>1</td>\n      <td>16</td>\n      <td>0.900000</td>\n      <td>18.500000</td>\n      <td>0.580645</td>\n      <td>-0.161290</td>\n    </tr>\n    <tr>\n      <th>4</th>\n      <td>2003</td>\n      <td>138</td>\n      <td>3278</td>\n      <td>68</td>\n      <td>3408</td>\n      <td>48</td>\n      <td>0</td>\n      <td>6</td>\n      <td>11</td>\n      <td>0.821429</td>\n      <td>14.000000</td>\n      <td>0.678571</td>\n      <td>8.821429</td>\n    </tr>\n  </tbody>\n</table>\n</div>"
     },
     "metadata": {},
     "execution_count": 115
    }
   ],
   "source": [
    "df.head()"
   ]
  },
  {
   "cell_type": "code",
   "execution_count": 116,
   "metadata": {},
   "outputs": [
    {
     "output_type": "execute_result",
     "data": {
      "text/plain": [
       "      Season  DayNum  WTeamID  WScore  LTeamID  LScore  Round  SeedW  SeedL  \\\n",
       "1069    2019     151     3323      81     3163      76      5      1      2   \n",
       "1070    2019     153     3124      82     3323      81      5      1      1   \n",
       "\n",
       "      WinRatioW  GapAvgW  WinRatioL    GapAvgL  \n",
       "1069   0.909091  25.0000   0.939394  28.030303  \n",
       "1070   0.968750  25.9375   0.909091  25.000000  "
      ],
      "text/html": "<div>\n<style scoped>\n    .dataframe tbody tr th:only-of-type {\n        vertical-align: middle;\n    }\n\n    .dataframe tbody tr th {\n        vertical-align: top;\n    }\n\n    .dataframe thead th {\n        text-align: right;\n    }\n</style>\n<table border=\"1\" class=\"dataframe\">\n  <thead>\n    <tr style=\"text-align: right;\">\n      <th></th>\n      <th>Season</th>\n      <th>DayNum</th>\n      <th>WTeamID</th>\n      <th>WScore</th>\n      <th>LTeamID</th>\n      <th>LScore</th>\n      <th>Round</th>\n      <th>SeedW</th>\n      <th>SeedL</th>\n      <th>WinRatioW</th>\n      <th>GapAvgW</th>\n      <th>WinRatioL</th>\n      <th>GapAvgL</th>\n    </tr>\n  </thead>\n  <tbody>\n    <tr>\n      <th>1069</th>\n      <td>2019</td>\n      <td>151</td>\n      <td>3323</td>\n      <td>81</td>\n      <td>3163</td>\n      <td>76</td>\n      <td>5</td>\n      <td>1</td>\n      <td>2</td>\n      <td>0.909091</td>\n      <td>25.0000</td>\n      <td>0.939394</td>\n      <td>28.030303</td>\n    </tr>\n    <tr>\n      <th>1070</th>\n      <td>2019</td>\n      <td>153</td>\n      <td>3124</td>\n      <td>82</td>\n      <td>3323</td>\n      <td>81</td>\n      <td>5</td>\n      <td>1</td>\n      <td>1</td>\n      <td>0.968750</td>\n      <td>25.9375</td>\n      <td>0.909091</td>\n      <td>25.000000</td>\n    </tr>\n  </tbody>\n</table>\n</div>"
     },
     "metadata": {},
     "execution_count": 116
    }
   ],
   "source": [
    "df.tail(2)"
   ]
  },
  {
   "source": [
    "Add symetrical\n",
    "\n",
    "Right now our data only consists of won matches\n",
    "\n",
    "We duplicate our data, get rid of the winner loser\n"
   ],
   "cell_type": "markdown",
   "metadata": {}
  },
  {
   "cell_type": "code",
   "execution_count": 117,
   "metadata": {},
   "outputs": [],
   "source": [
    "\n",
    "def add_loosing_matches(win_df):\n",
    "    win_rename = {\n",
    "        \"WTeamID\": \"TeamIdA\", \n",
    "        \"WScore\" : \"ScoreA\", \n",
    "        \"LTeamID\" : \"TeamIdB\",\n",
    "        \"LScore\": \"ScoreB\",\n",
    "        \"SeedW\": \"SeedA\", \n",
    "        \"SeedL\": \"SeedB\",\n",
    "        'WinRatioW' : 'WinRatioA',\n",
    "        'WinRatioL' : 'WinRatioB',\n",
    "        'GapAvgW' : 'GapAvgA',\n",
    "        'GapAvgL' : 'GapAvgB',\n",
    "#         \"OrdinalRankW\": \"OrdinalRankA\",\n",
    "#         \"OrdinalRankL\": \"OrdinalRankB\",\n",
    "     }\n",
    "    \n",
    "    lose_rename = {\n",
    "        \"WTeamID\": \"TeamIdB\", \n",
    "        \"WScore\" : \"ScoreB\", \n",
    "        \"LTeamID\" : \"TeamIdA\",\n",
    "        \"LScore\": \"ScoreA\",\n",
    "        \"SeedW\": \"SeedB\", \n",
    "        \"SeedL\": \"SeedA\",\n",
    "        'GapAvgW' : 'GapAvgB',\n",
    "        'GapAvgL' : 'GapAvgA',\n",
    "        'WinRatioW' : 'WinRatioB',\n",
    "        'WinRatioL' : 'WinRatioA',\n",
    "#         \"OrdinalRankW\": \"OrdinalRankB\",\n",
    "#         \"OrdinalRankL\": \"OrdinalRankA\",\n",
    "    }\n",
    "    \n",
    "    win_df = win_df.copy()\n",
    "    lose_df = win_df.copy()\n",
    "    \n",
    "    win_df = win_df.rename(columns=win_rename)\n",
    "    lose_df = lose_df.rename(columns=lose_rename)\n",
    "    \n",
    "    return pd.concat([win_df, lose_df], 0, sort=False)"
   ]
  },
  {
   "cell_type": "code",
   "execution_count": 118,
   "metadata": {},
   "outputs": [],
   "source": [
    "df = add_loosing_matches(df)"
   ]
  },
  {
   "source": [
    "Differences\n",
    "\n",
    "We compute the difference between the team for each feature.\n",
    "\n",
    "This helps further assessing how better (or worse) team A is from team B"
   ],
   "cell_type": "markdown",
   "metadata": {}
  },
  {
   "cell_type": "code",
   "execution_count": 119,
   "metadata": {},
   "outputs": [],
   "source": [
    "df['SeedDiff'] = df['SeedA'] - df['SeedB']\n",
    "df['WinRatioDiff'] = df['WinRatioA'] - df['WinRatioB']\n",
    "df['GapAvgDiff'] = df['GapAvgA'] - df['GapAvgB']\n",
    "# df['OrdinalRankDiff'] = df['OrdinalRankA'] - df['OrdinalRankB']"
   ]
  },
  {
   "cell_type": "code",
   "execution_count": 120,
   "metadata": {},
   "outputs": [
    {
     "output_type": "execute_result",
     "data": {
      "text/plain": [
       "   Season  DayNum  TeamIdA  ScoreA  TeamIdB  ScoreB  Round  SeedA  SeedB  \\\n",
       "0    2003     138     3130      73     3330      72      0      5     12   \n",
       "1    2003     138     3160      84     3140      45      0      6     11   \n",
       "2    2003     138     3208      80     3150      61      0      5     12   \n",
       "3    2003     138     3261      86     3402      50      0      1     16   \n",
       "4    2003     138     3278      68     3408      48      0      6     11   \n",
       "\n",
       "   WinRatioA    GapAvgA  WinRatioB   GapAvgB  SeedDiff  WinRatioDiff  \\\n",
       "0   0.714286  10.821429   0.677419  8.483871        -7      0.036866   \n",
       "1   0.758621   8.413793   0.633333  6.466667        -5      0.125287   \n",
       "2   0.678571  12.928571   0.724138  7.034483        -7     -0.045567   \n",
       "3   0.900000  18.500000   0.580645 -0.161290       -15      0.319355   \n",
       "4   0.821429  14.000000   0.678571  8.821429        -5      0.142857   \n",
       "\n",
       "   GapAvgDiff  \n",
       "0    2.337558  \n",
       "1    1.947126  \n",
       "2    5.894089  \n",
       "3   18.661290  \n",
       "4    5.178571  "
      ],
      "text/html": "<div>\n<style scoped>\n    .dataframe tbody tr th:only-of-type {\n        vertical-align: middle;\n    }\n\n    .dataframe tbody tr th {\n        vertical-align: top;\n    }\n\n    .dataframe thead th {\n        text-align: right;\n    }\n</style>\n<table border=\"1\" class=\"dataframe\">\n  <thead>\n    <tr style=\"text-align: right;\">\n      <th></th>\n      <th>Season</th>\n      <th>DayNum</th>\n      <th>TeamIdA</th>\n      <th>ScoreA</th>\n      <th>TeamIdB</th>\n      <th>ScoreB</th>\n      <th>Round</th>\n      <th>SeedA</th>\n      <th>SeedB</th>\n      <th>WinRatioA</th>\n      <th>GapAvgA</th>\n      <th>WinRatioB</th>\n      <th>GapAvgB</th>\n      <th>SeedDiff</th>\n      <th>WinRatioDiff</th>\n      <th>GapAvgDiff</th>\n    </tr>\n  </thead>\n  <tbody>\n    <tr>\n      <th>0</th>\n      <td>2003</td>\n      <td>138</td>\n      <td>3130</td>\n      <td>73</td>\n      <td>3330</td>\n      <td>72</td>\n      <td>0</td>\n      <td>5</td>\n      <td>12</td>\n      <td>0.714286</td>\n      <td>10.821429</td>\n      <td>0.677419</td>\n      <td>8.483871</td>\n      <td>-7</td>\n      <td>0.036866</td>\n      <td>2.337558</td>\n    </tr>\n    <tr>\n      <th>1</th>\n      <td>2003</td>\n      <td>138</td>\n      <td>3160</td>\n      <td>84</td>\n      <td>3140</td>\n      <td>45</td>\n      <td>0</td>\n      <td>6</td>\n      <td>11</td>\n      <td>0.758621</td>\n      <td>8.413793</td>\n      <td>0.633333</td>\n      <td>6.466667</td>\n      <td>-5</td>\n      <td>0.125287</td>\n      <td>1.947126</td>\n    </tr>\n    <tr>\n      <th>2</th>\n      <td>2003</td>\n      <td>138</td>\n      <td>3208</td>\n      <td>80</td>\n      <td>3150</td>\n      <td>61</td>\n      <td>0</td>\n      <td>5</td>\n      <td>12</td>\n      <td>0.678571</td>\n      <td>12.928571</td>\n      <td>0.724138</td>\n      <td>7.034483</td>\n      <td>-7</td>\n      <td>-0.045567</td>\n      <td>5.894089</td>\n    </tr>\n    <tr>\n      <th>3</th>\n      <td>2003</td>\n      <td>138</td>\n      <td>3261</td>\n      <td>86</td>\n      <td>3402</td>\n      <td>50</td>\n      <td>0</td>\n      <td>1</td>\n      <td>16</td>\n      <td>0.900000</td>\n      <td>18.500000</td>\n      <td>0.580645</td>\n      <td>-0.161290</td>\n      <td>-15</td>\n      <td>0.319355</td>\n      <td>18.661290</td>\n    </tr>\n    <tr>\n      <th>4</th>\n      <td>2003</td>\n      <td>138</td>\n      <td>3278</td>\n      <td>68</td>\n      <td>3408</td>\n      <td>48</td>\n      <td>0</td>\n      <td>6</td>\n      <td>11</td>\n      <td>0.821429</td>\n      <td>14.000000</td>\n      <td>0.678571</td>\n      <td>8.821429</td>\n      <td>-5</td>\n      <td>0.142857</td>\n      <td>5.178571</td>\n    </tr>\n  </tbody>\n</table>\n</div>"
     },
     "metadata": {},
     "execution_count": 120
    }
   ],
   "source": [
    "df.head()"
   ]
  },
  {
   "source": [
    "Test Data\n",
    "\n",
    "Preparing"
   ],
   "cell_type": "markdown",
   "metadata": {}
  },
  {
   "cell_type": "code",
   "execution_count": 121,
   "metadata": {},
   "outputs": [],
   "source": [
    "df_test = pd.read_csv(r\"C:\\Users\\FLUXNATURE\\Desktop\\New Kaggle world\\NCAAW\\WSampleSubmissionStage1.csv\")"
   ]
  },
  {
   "cell_type": "code",
   "execution_count": 122,
   "metadata": {},
   "outputs": [],
   "source": [
    "df_test['Season'] = df_test['ID'].apply(lambda x: int(x.split('_')[0]))\n",
    "df_test['TeamIdA'] = df_test['ID'].apply(lambda x: int(x.split('_')[1]))\n",
    "df_test['TeamIdB'] = df_test['ID'].apply(lambda x: int(x.split('_')[2]))"
   ]
  },
  {
   "cell_type": "code",
   "execution_count": 123,
   "metadata": {},
   "outputs": [
    {
     "output_type": "execute_result",
     "data": {
      "text/plain": [
       "               ID  Pred  Season  TeamIdA  TeamIdB\n",
       "0  2015_3106_3107     0    2015     3106     3107\n",
       "1  2015_3106_3110     0    2015     3106     3110\n",
       "2  2015_3106_3113     0    2015     3106     3113\n",
       "3  2015_3106_3114     0    2015     3106     3114\n",
       "4  2015_3106_3116     0    2015     3106     3116"
      ],
      "text/html": "<div>\n<style scoped>\n    .dataframe tbody tr th:only-of-type {\n        vertical-align: middle;\n    }\n\n    .dataframe tbody tr th {\n        vertical-align: top;\n    }\n\n    .dataframe thead th {\n        text-align: right;\n    }\n</style>\n<table border=\"1\" class=\"dataframe\">\n  <thead>\n    <tr style=\"text-align: right;\">\n      <th></th>\n      <th>ID</th>\n      <th>Pred</th>\n      <th>Season</th>\n      <th>TeamIdA</th>\n      <th>TeamIdB</th>\n    </tr>\n  </thead>\n  <tbody>\n    <tr>\n      <th>0</th>\n      <td>2015_3106_3107</td>\n      <td>0</td>\n      <td>2015</td>\n      <td>3106</td>\n      <td>3107</td>\n    </tr>\n    <tr>\n      <th>1</th>\n      <td>2015_3106_3110</td>\n      <td>0</td>\n      <td>2015</td>\n      <td>3106</td>\n      <td>3110</td>\n    </tr>\n    <tr>\n      <th>2</th>\n      <td>2015_3106_3113</td>\n      <td>0</td>\n      <td>2015</td>\n      <td>3106</td>\n      <td>3113</td>\n    </tr>\n    <tr>\n      <th>3</th>\n      <td>2015_3106_3114</td>\n      <td>0</td>\n      <td>2015</td>\n      <td>3106</td>\n      <td>3114</td>\n    </tr>\n    <tr>\n      <th>4</th>\n      <td>2015_3106_3116</td>\n      <td>0</td>\n      <td>2015</td>\n      <td>3106</td>\n      <td>3116</td>\n    </tr>\n  </tbody>\n</table>\n</div>"
     },
     "metadata": {},
     "execution_count": 123
    }
   ],
   "source": [
    "df_test.head()"
   ]
  },
  {
   "cell_type": "code",
   "execution_count": 124,
   "metadata": {},
   "outputs": [
    {
     "output_type": "execute_result",
     "data": {
      "text/plain": [
       "                   ID  Pred  Season  TeamIdA  TeamIdB\n",
       "10075  2019_3413_3417     0    2019     3413     3417\n",
       "10076  2019_3413_3460     0    2019     3413     3460\n",
       "10077  2019_3416_3417     0    2019     3416     3417\n",
       "10078  2019_3416_3460     0    2019     3416     3460\n",
       "10079  2019_3417_3460     0    2019     3417     3460"
      ],
      "text/html": "<div>\n<style scoped>\n    .dataframe tbody tr th:only-of-type {\n        vertical-align: middle;\n    }\n\n    .dataframe tbody tr th {\n        vertical-align: top;\n    }\n\n    .dataframe thead th {\n        text-align: right;\n    }\n</style>\n<table border=\"1\" class=\"dataframe\">\n  <thead>\n    <tr style=\"text-align: right;\">\n      <th></th>\n      <th>ID</th>\n      <th>Pred</th>\n      <th>Season</th>\n      <th>TeamIdA</th>\n      <th>TeamIdB</th>\n    </tr>\n  </thead>\n  <tbody>\n    <tr>\n      <th>10075</th>\n      <td>2019_3413_3417</td>\n      <td>0</td>\n      <td>2019</td>\n      <td>3413</td>\n      <td>3417</td>\n    </tr>\n    <tr>\n      <th>10076</th>\n      <td>2019_3413_3460</td>\n      <td>0</td>\n      <td>2019</td>\n      <td>3413</td>\n      <td>3460</td>\n    </tr>\n    <tr>\n      <th>10077</th>\n      <td>2019_3416_3417</td>\n      <td>0</td>\n      <td>2019</td>\n      <td>3416</td>\n      <td>3417</td>\n    </tr>\n    <tr>\n      <th>10078</th>\n      <td>2019_3416_3460</td>\n      <td>0</td>\n      <td>2019</td>\n      <td>3416</td>\n      <td>3460</td>\n    </tr>\n    <tr>\n      <th>10079</th>\n      <td>2019_3417_3460</td>\n      <td>0</td>\n      <td>2019</td>\n      <td>3417</td>\n      <td>3460</td>\n    </tr>\n  </tbody>\n</table>\n</div>"
     },
     "metadata": {},
     "execution_count": 124
    }
   ],
   "source": [
    "df_test.tail()"
   ]
  },
  {
   "source": [
    "SEEDS"
   ],
   "cell_type": "markdown",
   "metadata": {}
  },
  {
   "cell_type": "code",
   "execution_count": 125,
   "metadata": {},
   "outputs": [],
   "source": [
    "df_test = pd.merge(\n",
    "    df_test,\n",
    "    df_seeds,\n",
    "    how='left',\n",
    "    left_on=['Season', 'TeamIdA'],\n",
    "    right_on=['Season', 'TeamID']\n",
    ").drop('TeamID', axis=1).rename(columns={'Seed': 'SeedA'})"
   ]
  },
  {
   "cell_type": "code",
   "execution_count": 126,
   "metadata": {},
   "outputs": [],
   "source": [
    "df_test = pd.merge(\n",
    "    df_test, \n",
    "    df_seeds, \n",
    "    how='left', \n",
    "    left_on=['Season', 'TeamIdB'], \n",
    "    right_on=['Season', 'TeamID']\n",
    ").drop('TeamID', axis=1).rename(columns={'Seed': 'SeedB'})"
   ]
  },
  {
   "cell_type": "code",
   "execution_count": 127,
   "metadata": {},
   "outputs": [],
   "source": [
    "df_test['SeedA'] = df_test['SeedA'].apply(treat_seed)\n",
    "df_test['SeedB'] = df_test['SeedB'].apply(treat_seed)"
   ]
  },
  {
   "source": [
    "SEASON'S STATS"
   ],
   "cell_type": "markdown",
   "metadata": {}
  },
  {
   "cell_type": "code",
   "execution_count": 128,
   "metadata": {},
   "outputs": [],
   "source": [
    "\n",
    "df_test = pd.merge(\n",
    "    df_test,\n",
    "    df_features_season,\n",
    "    how='left',\n",
    "    left_on=['Season', 'TeamIdA'],\n",
    "    right_on=['Season', 'TeamID']\n",
    ").rename(columns={\n",
    "    'NumWins': 'NumWinsA',\n",
    "    'NumLosses': 'NumLossesA',\n",
    "    'GapWins': 'GapWinsA',\n",
    "    'GapLosses': 'GapLossesA',\n",
    "    'WinRatio': 'WinRatioA',\n",
    "    'GapAvg': 'GapAvgA',\n",
    "}).drop(columns='TeamID', axis=1)"
   ]
  },
  {
   "cell_type": "code",
   "execution_count": 129,
   "metadata": {},
   "outputs": [],
   "source": [
    "df_test = pd.merge(\n",
    "    df_test,\n",
    "    df_features_season,\n",
    "    how='left',\n",
    "    left_on=['Season', 'TeamIdB'],\n",
    "    right_on=['Season', 'TeamID']\n",
    ").rename(columns={\n",
    "    'NumWins': 'NumWinsB',\n",
    "    'NumLosses': 'NumLossesB',\n",
    "    'GapWins': 'GapWinsB',\n",
    "    'GapLosses': 'GapLossesB',\n",
    "    'WinRatio': 'WinRatioB',\n",
    "    'GapAvg': 'GapAvgB',\n",
    "}).drop(columns='TeamID', axis=1)"
   ]
  },
  {
   "source": [
    "DIFFERENCES "
   ],
   "cell_type": "markdown",
   "metadata": {}
  },
  {
   "cell_type": "code",
   "execution_count": 130,
   "metadata": {},
   "outputs": [],
   "source": [
    "df_test['SeedDiff'] = df_test['SeedA'] - df_test['SeedB']\n",
    "df_test['WinRatioDiff'] = df_test['WinRatioA'] - df_test['WinRatioB']\n",
    "df_test['GapAvgDiff'] = df_test['GapAvgA'] - df_test['GapAvgB']\n",
    "# df_test['OrdinalRankDiff'] = df_test['OrdinalRankA'] - df_test['OrdinalRankB']"
   ]
  },
  {
   "cell_type": "code",
   "execution_count": 131,
   "metadata": {},
   "outputs": [
    {
     "output_type": "execute_result",
     "data": {
      "text/plain": [
       "               ID  Pred  Season  TeamIdA  TeamIdB  SeedA  SeedB  WinRatioA  \\\n",
       "0  2015_3106_3107     0    2015     3106     3107     15     13        0.5   \n",
       "1  2015_3106_3110     0    2015     3106     3110     15     14        0.5   \n",
       "2  2015_3106_3113     0    2015     3106     3113     15      3        0.5   \n",
       "3  2015_3106_3114     0    2015     3106     3114     15     11        0.5   \n",
       "4  2015_3106_3116     0    2015     3106     3116     15     10        0.5   \n",
       "\n",
       "    GapAvgA  WinRatioB   GapAvgB  SeedDiff  WinRatioDiff  GapAvgDiff  \n",
       "0 -0.714286   0.750000  14.15625         2     -0.250000  -14.870536  \n",
       "1 -0.714286   0.750000   6.12500         1     -0.250000   -6.839286  \n",
       "2 -0.714286   0.843750  12.31250        12     -0.343750  -13.026786  \n",
       "3 -0.714286   0.875000  14.25000         4     -0.375000  -14.964286  \n",
       "4 -0.714286   0.566667   4.90000         5     -0.066667   -5.614286  "
      ],
      "text/html": "<div>\n<style scoped>\n    .dataframe tbody tr th:only-of-type {\n        vertical-align: middle;\n    }\n\n    .dataframe tbody tr th {\n        vertical-align: top;\n    }\n\n    .dataframe thead th {\n        text-align: right;\n    }\n</style>\n<table border=\"1\" class=\"dataframe\">\n  <thead>\n    <tr style=\"text-align: right;\">\n      <th></th>\n      <th>ID</th>\n      <th>Pred</th>\n      <th>Season</th>\n      <th>TeamIdA</th>\n      <th>TeamIdB</th>\n      <th>SeedA</th>\n      <th>SeedB</th>\n      <th>WinRatioA</th>\n      <th>GapAvgA</th>\n      <th>WinRatioB</th>\n      <th>GapAvgB</th>\n      <th>SeedDiff</th>\n      <th>WinRatioDiff</th>\n      <th>GapAvgDiff</th>\n    </tr>\n  </thead>\n  <tbody>\n    <tr>\n      <th>0</th>\n      <td>2015_3106_3107</td>\n      <td>0</td>\n      <td>2015</td>\n      <td>3106</td>\n      <td>3107</td>\n      <td>15</td>\n      <td>13</td>\n      <td>0.5</td>\n      <td>-0.714286</td>\n      <td>0.750000</td>\n      <td>14.15625</td>\n      <td>2</td>\n      <td>-0.250000</td>\n      <td>-14.870536</td>\n    </tr>\n    <tr>\n      <th>1</th>\n      <td>2015_3106_3110</td>\n      <td>0</td>\n      <td>2015</td>\n      <td>3106</td>\n      <td>3110</td>\n      <td>15</td>\n      <td>14</td>\n      <td>0.5</td>\n      <td>-0.714286</td>\n      <td>0.750000</td>\n      <td>6.12500</td>\n      <td>1</td>\n      <td>-0.250000</td>\n      <td>-6.839286</td>\n    </tr>\n    <tr>\n      <th>2</th>\n      <td>2015_3106_3113</td>\n      <td>0</td>\n      <td>2015</td>\n      <td>3106</td>\n      <td>3113</td>\n      <td>15</td>\n      <td>3</td>\n      <td>0.5</td>\n      <td>-0.714286</td>\n      <td>0.843750</td>\n      <td>12.31250</td>\n      <td>12</td>\n      <td>-0.343750</td>\n      <td>-13.026786</td>\n    </tr>\n    <tr>\n      <th>3</th>\n      <td>2015_3106_3114</td>\n      <td>0</td>\n      <td>2015</td>\n      <td>3106</td>\n      <td>3114</td>\n      <td>15</td>\n      <td>11</td>\n      <td>0.5</td>\n      <td>-0.714286</td>\n      <td>0.875000</td>\n      <td>14.25000</td>\n      <td>4</td>\n      <td>-0.375000</td>\n      <td>-14.964286</td>\n    </tr>\n    <tr>\n      <th>4</th>\n      <td>2015_3106_3116</td>\n      <td>0</td>\n      <td>2015</td>\n      <td>3106</td>\n      <td>3116</td>\n      <td>15</td>\n      <td>10</td>\n      <td>0.5</td>\n      <td>-0.714286</td>\n      <td>0.566667</td>\n      <td>4.90000</td>\n      <td>5</td>\n      <td>-0.066667</td>\n      <td>-5.614286</td>\n    </tr>\n  </tbody>\n</table>\n</div>"
     },
     "metadata": {},
     "execution_count": 131
    }
   ],
   "source": [
    "df_test.head()"
   ]
  },
  {
   "source": [
    "TARGET"
   ],
   "cell_type": "markdown",
   "metadata": {}
  },
  {
   "cell_type": "code",
   "execution_count": 132,
   "metadata": {},
   "outputs": [],
   "source": [
    "df['ScoreDiff'] = df['ScoreA'] - df['ScoreB']\n",
    "df['WinA'] = (df['ScoreDiff'] > 0).astype(int)"
   ]
  },
  {
   "source": [
    "MODELLING"
   ],
   "cell_type": "markdown",
   "metadata": {}
  },
  {
   "cell_type": "code",
   "execution_count": 133,
   "metadata": {},
   "outputs": [],
   "source": [
    "features = [\n",
    "    'SeedA',\n",
    "    'SeedB',\n",
    "    'WinRatioA',\n",
    "    'GapAvgA',\n",
    "    'WinRatioB',\n",
    "    'GapAvgB',\n",
    "#     'OrdinalRankA',\n",
    "#     'OrdinalRankB',\n",
    "    'SeedDiff',\n",
    "    'WinRatioDiff',\n",
    "    'GapAvgDiff'\n",
    "#     'OrdinalRankDiff',\n",
    "]"
   ]
  },
  {
   "cell_type": "code",
   "execution_count": 134,
   "metadata": {},
   "outputs": [],
   "source": [
    "def rescale(features, df_train, df_val, df_test=None):\n",
    "    min_ = df_train[features].min()\n",
    "    max_ = df_train[features].max()\n",
    "    \n",
    "    df_train[features] = (df_train[features] - min_) / (max_ - min_)\n",
    "    df_val[features] = (df_val[features] - min_) / (max_ - min_)\n",
    "    \n",
    "    if df_test is not None:\n",
    "        df_test[features] = (df_test[features] - min_) / (max_ - min_)\n",
    "        \n",
    "    return df_train, df_val, df_test"
   ]
  },
  {
   "source": [
    "Cross Validation\n",
    "\n",
    "Validate on season n, for n in the 10 last seasons.\n",
    "\n",
    "Train on earlier seasons\n",
    "\n",
    "Pipeline support classification (predict the team that wins) and regression (predict the score gap)"
   ],
   "cell_type": "markdown",
   "metadata": {}
  },
  {
   "cell_type": "code",
   "execution_count": 135,
   "metadata": {},
   "outputs": [],
   "source": [
    "def kfold_reg(df, df_test_=None, plot=False, verbose=0, mode=\"reg\"):\n",
    "    seasons = df['Season'].unique()\n",
    "    cvs = []\n",
    "    pred_tests = []\n",
    "    target = \"ScoreDiff\" if mode == \"reg\" else \"WinA\"\n",
    "    \n",
    "    for season in seasons[10:]:\n",
    "        if verbose:\n",
    "            print(f'\\nValidating on season {season}')\n",
    "        \n",
    "        df_train = df[df['Season'] < season].reset_index(drop=True).copy()\n",
    "        df_val = df[df['Season'] == season].reset_index(drop=True).copy()\n",
    "        df_test = df_test_.copy()\n",
    "        \n",
    "        df_train, df_val, df_test = rescale(features, df_train, df_val, df_test)\n",
    "        \n",
    "        if mode == \"reg\":\n",
    "            model = ElasticNet(alpha=1, l1_ratio=0.5)\n",
    "        else:\n",
    "            model = LogisticRegression(C=10)\n",
    "            \n",
    "        model.fit(df_train[features], df_train[target])\n",
    "        \n",
    "        if mode == \"reg\":\n",
    "            pred = model.predict(df_val[features])\n",
    "            pred = (pred - pred.min()) / (pred.max() - pred.min())\n",
    "        else:\n",
    "            pred = model.predict_proba(df_val[features])[:, 1]\n",
    "        \n",
    "        if df_test is not None:\n",
    "            if mode == \"reg\":\n",
    "                pred_test = model.predict(df_test[features])\n",
    "                pred_test = (pred_test - pred_test.min()) / (pred_test.max() - pred_test.min())\n",
    "            else:\n",
    "                pred_test = model.predict_proba(df_test[features])[:, 1]\n",
    "                \n",
    "            pred_tests.append(pred_test)\n",
    "            \n",
    "        if plot:\n",
    "            plt.figure(figsize=(15, 6))\n",
    "            plt.subplot(1, 2, 1)\n",
    "            plt.scatter(pred, df_val['ScoreDiff'].values, s=5)\n",
    "            plt.grid(True)\n",
    "            plt.subplot(1, 2, 2)\n",
    "            sns.histplot(pred)\n",
    "            plt.show()\n",
    "        \n",
    "        loss = log_loss(df_val['WinA'].values, pred)\n",
    "        cvs.append(loss)\n",
    "\n",
    "        if verbose:\n",
    "            print(f'\\t -> Scored {loss:.3f}')\n",
    "        \n",
    "    print(f'\\n Local CV is {np.mean(cvs):.3f}')\n",
    "    \n",
    "    return pred_tests"
   ]
  },
  {
   "cell_type": "code",
   "execution_count": 136,
   "metadata": {},
   "outputs": [
    {
     "output_type": "stream",
     "name": "stdout",
     "text": [
      "\n",
      "Validating on season 2013\n",
      "\t -> Scored 0.445\n",
      "\n",
      "Validating on season 2014\n",
      "\t -> Scored 0.427\n",
      "\n",
      "Validating on season 2015\n",
      "\t -> Scored 0.371\n",
      "\n",
      "Validating on season 2016\n",
      "\t -> Scored 0.452\n",
      "\n",
      "Validating on season 2017\n",
      "\t -> Scored 0.448\n",
      "\n",
      "Validating on season 2018\n",
      "\t -> Scored 0.500\n",
      "\n",
      "Validating on season 2019\n",
      "\t -> Scored 0.387\n",
      "\n",
      " Local CV is 0.433\n"
     ]
    }
   ],
   "source": [
    "pred_tests = kfold_reg(df, df_test, plot=False, verbose=1, mode=\"cls\")"
   ]
  },
  {
   "source": [
    "Submission\n",
    "\n",
    "Note that this pipeline is leaky during the first stage of the competition : the LB will be underestimated since the last 4 \n",
    "\n",
    "models were trained"
   ],
   "cell_type": "markdown",
   "metadata": {}
  },
  {
   "cell_type": "code",
   "execution_count": 137,
   "metadata": {},
   "outputs": [],
   "source": [
    "pred_test = np.mean(pred_tests, 0)"
   ]
  },
  {
   "cell_type": "code",
   "execution_count": 138,
   "metadata": {},
   "outputs": [],
   "source": [
    "sub = df_test[['ID', 'Pred']].copy()\n",
    "sub['Pred'] = pred_test\n",
    "sub.to_csv('submission_file_Ismail.csv', index=False)"
   ]
  },
  {
   "cell_type": "code",
   "execution_count": 139,
   "metadata": {},
   "outputs": [
    {
     "output_type": "execute_result",
     "data": {
      "text/plain": [
       "               ID      Pred\n",
       "0  2015_3106_3107  0.199036\n",
       "1  2015_3106_3110  0.444855\n",
       "2  2015_3106_3113  0.040559\n",
       "3  2015_3106_3114  0.189242\n",
       "4  2015_3106_3116  0.169350"
      ],
      "text/html": "<div>\n<style scoped>\n    .dataframe tbody tr th:only-of-type {\n        vertical-align: middle;\n    }\n\n    .dataframe tbody tr th {\n        vertical-align: top;\n    }\n\n    .dataframe thead th {\n        text-align: right;\n    }\n</style>\n<table border=\"1\" class=\"dataframe\">\n  <thead>\n    <tr style=\"text-align: right;\">\n      <th></th>\n      <th>ID</th>\n      <th>Pred</th>\n    </tr>\n  </thead>\n  <tbody>\n    <tr>\n      <th>0</th>\n      <td>2015_3106_3107</td>\n      <td>0.199036</td>\n    </tr>\n    <tr>\n      <th>1</th>\n      <td>2015_3106_3110</td>\n      <td>0.444855</td>\n    </tr>\n    <tr>\n      <th>2</th>\n      <td>2015_3106_3113</td>\n      <td>0.040559</td>\n    </tr>\n    <tr>\n      <th>3</th>\n      <td>2015_3106_3114</td>\n      <td>0.189242</td>\n    </tr>\n    <tr>\n      <th>4</th>\n      <td>2015_3106_3116</td>\n      <td>0.169350</td>\n    </tr>\n  </tbody>\n</table>\n</div>"
     },
     "metadata": {},
     "execution_count": 139
    }
   ],
   "source": [
    "sub.head()"
   ]
  },
  {
   "cell_type": "code",
   "execution_count": 140,
   "metadata": {},
   "outputs": [
    {
     "output_type": "execute_result",
     "data": {
      "text/plain": [
       "                   ID      Pred\n",
       "10075  2019_3413_3417  0.174238\n",
       "10076  2019_3413_3460  0.569595\n",
       "10077  2019_3416_3417  0.132373\n",
       "10078  2019_3416_3460  0.488656\n",
       "10079  2019_3417_3460  0.862392"
      ],
      "text/html": "<div>\n<style scoped>\n    .dataframe tbody tr th:only-of-type {\n        vertical-align: middle;\n    }\n\n    .dataframe tbody tr th {\n        vertical-align: top;\n    }\n\n    .dataframe thead th {\n        text-align: right;\n    }\n</style>\n<table border=\"1\" class=\"dataframe\">\n  <thead>\n    <tr style=\"text-align: right;\">\n      <th></th>\n      <th>ID</th>\n      <th>Pred</th>\n    </tr>\n  </thead>\n  <tbody>\n    <tr>\n      <th>10075</th>\n      <td>2019_3413_3417</td>\n      <td>0.174238</td>\n    </tr>\n    <tr>\n      <th>10076</th>\n      <td>2019_3413_3460</td>\n      <td>0.569595</td>\n    </tr>\n    <tr>\n      <th>10077</th>\n      <td>2019_3416_3417</td>\n      <td>0.132373</td>\n    </tr>\n    <tr>\n      <th>10078</th>\n      <td>2019_3416_3460</td>\n      <td>0.488656</td>\n    </tr>\n    <tr>\n      <th>10079</th>\n      <td>2019_3417_3460</td>\n      <td>0.862392</td>\n    </tr>\n  </tbody>\n</table>\n</div>"
     },
     "metadata": {},
     "execution_count": 140
    }
   ],
   "source": [
    "sub.tail()"
   ]
  },
  {
   "cell_type": "code",
   "execution_count": null,
   "metadata": {},
   "outputs": [],
   "source": []
  }
 ]
}